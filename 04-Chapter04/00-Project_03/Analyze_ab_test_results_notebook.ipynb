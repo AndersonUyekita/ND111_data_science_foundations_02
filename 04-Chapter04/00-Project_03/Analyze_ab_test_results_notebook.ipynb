{
 "cells": [
  {
   "cell_type": "markdown",
   "metadata": {},
   "source": [
    "# Project 03 - Analyze A/B Test Results\n",
    "\n",
    "##### Student Tags\n",
    "\n",
    "Author: Anderson Hitoshi Uyekita    \n",
    "Project: Analyze A/B Test Results  \n",
    "Course: Data Science - Foundations II  \n",
    "COD: ND111  \n",
    "Date: 12/01/2019    \n",
    "Version: 1.0\n",
    "\n",
    "***"
   ]
  },
  {
   "cell_type": "markdown",
   "metadata": {},
   "source": [
    "## Analyze A/B Test Results\n",
    "\n",
    "You may either submit your notebook through the workspace here, or you may work from your local machine and submit through the next page.  Either way assure that your code passes the project [RUBRIC](https://review.udacity.com/#!/projects/37e27304-ad47-4eb0-a1ab-8c12f60e43d0/rubric).  **Please save regularly\n",
    "\n",
    "This project will assure you have mastered the subjects covered in the statistics lessons.  The hope is to have this project be as comprehensive of these topics as possible.  Good luck!\n",
    "\n",
    "## Table of Contents\n",
    "- [Introduction](#intro)\n",
    "    - [Part I - Probability](#probability)\n",
    "    - [Part II - A/B Test](#ab_test)\n",
    "    - [Part III - Regression](#regression)\n",
    "- [Conclusions](#conclusions)\n",
    "- [References](#references)\n",
    "\n",
    "\n",
    "<a id='intro'></a>\n",
    "### Introduction\n",
    "\n",
    "A/B tests are very commonly performed by data analysts and data scientists.  It is important that you get some practice working with the difficulties of these \n",
    "\n",
    "For this project, you will be working to understand the results of an A/B test run by an e-commerce website.  Your goal is to work through this notebook to help the company understand if they should implement the new page, keep the old page, or perhaps run the experiment longer to make their decision.\n",
    "\n",
    "**As you work through this notebook, follow along in the classroom and answer the corresponding quiz questions associated with each question.** The labels for each classroom concept are provided for each question.  This will assure you are on the right track as you work through the project, and you can feel more confident in your final submission meeting the criteria.  As a final check, assure you meet all the criteria on the [RUBRIC](https://review.udacity.com/#!/projects/37e27304-ad47-4eb0-a1ab-8c12f60e43d0/rubric).\n",
    "\n",
    "<a id='probability'></a>\n",
    "#### Part I - Probability\n",
    "\n",
    "To get started, let's import our libraries."
   ]
  },
  {
   "cell_type": "code",
   "execution_count": 1,
   "metadata": {},
   "outputs": [],
   "source": [
    "import pandas as pd\n",
    "import numpy as np\n",
    "import random\n",
    "import matplotlib.pyplot as plt\n",
    "%matplotlib inline\n",
    "#We are setting the seed to assure you get the same answers on quizzes as we set up\n",
    "random.seed(42)\n",
    "\n",
    "import seaborn as sns"
   ]
  },
  {
   "cell_type": "markdown",
   "metadata": {},
   "source": [
    "`1.` Now, read in the `ab_data.csv` data. Store it in `df`.  **Use your dataframe to answer the questions in Quiz 1 of the classroom.**\n",
    "\n",
    "a. Read in the dataset and take a look at the top few rows here:"
   ]
  },
  {
   "cell_type": "code",
   "execution_count": 2,
   "metadata": {},
   "outputs": [
    {
     "data": {
      "text/html": [
       "<div>\n",
       "<style scoped>\n",
       "    .dataframe tbody tr th:only-of-type {\n",
       "        vertical-align: middle;\n",
       "    }\n",
       "\n",
       "    .dataframe tbody tr th {\n",
       "        vertical-align: top;\n",
       "    }\n",
       "\n",
       "    .dataframe thead th {\n",
       "        text-align: right;\n",
       "    }\n",
       "</style>\n",
       "<table border=\"1\" class=\"dataframe\">\n",
       "  <thead>\n",
       "    <tr style=\"text-align: right;\">\n",
       "      <th></th>\n",
       "      <th>user_id</th>\n",
       "      <th>timestamp</th>\n",
       "      <th>group</th>\n",
       "      <th>landing_page</th>\n",
       "      <th>converted</th>\n",
       "    </tr>\n",
       "  </thead>\n",
       "  <tbody>\n",
       "    <tr>\n",
       "      <th>0</th>\n",
       "      <td>851104</td>\n",
       "      <td>2017-01-21 22:11:48.556739</td>\n",
       "      <td>control</td>\n",
       "      <td>old_page</td>\n",
       "      <td>0</td>\n",
       "    </tr>\n",
       "    <tr>\n",
       "      <th>1</th>\n",
       "      <td>804228</td>\n",
       "      <td>2017-01-12 08:01:45.159739</td>\n",
       "      <td>control</td>\n",
       "      <td>old_page</td>\n",
       "      <td>0</td>\n",
       "    </tr>\n",
       "    <tr>\n",
       "      <th>2</th>\n",
       "      <td>661590</td>\n",
       "      <td>2017-01-11 16:55:06.154213</td>\n",
       "      <td>treatment</td>\n",
       "      <td>new_page</td>\n",
       "      <td>0</td>\n",
       "    </tr>\n",
       "    <tr>\n",
       "      <th>3</th>\n",
       "      <td>853541</td>\n",
       "      <td>2017-01-08 18:28:03.143765</td>\n",
       "      <td>treatment</td>\n",
       "      <td>new_page</td>\n",
       "      <td>0</td>\n",
       "    </tr>\n",
       "    <tr>\n",
       "      <th>4</th>\n",
       "      <td>864975</td>\n",
       "      <td>2017-01-21 01:52:26.210827</td>\n",
       "      <td>control</td>\n",
       "      <td>old_page</td>\n",
       "      <td>1</td>\n",
       "    </tr>\n",
       "  </tbody>\n",
       "</table>\n",
       "</div>"
      ],
      "text/plain": [
       "   user_id                   timestamp      group landing_page  converted\n",
       "0   851104  2017-01-21 22:11:48.556739    control     old_page          0\n",
       "1   804228  2017-01-12 08:01:45.159739    control     old_page          0\n",
       "2   661590  2017-01-11 16:55:06.154213  treatment     new_page          0\n",
       "3   853541  2017-01-08 18:28:03.143765  treatment     new_page          0\n",
       "4   864975  2017-01-21 01:52:26.210827    control     old_page          1"
      ]
     },
     "execution_count": 2,
     "metadata": {},
     "output_type": "execute_result"
    }
   ],
   "source": [
    "# Loading the ab_data.csv.\n",
    "df = pd.read_csv('01-Dataset/ab_data.csv')\n",
    "\n",
    "# Printing the first 5 rows.\n",
    "df.head()"
   ]
  },
  {
   "cell_type": "markdown",
   "metadata": {},
   "source": [
    "b. Use the below cell to find the number of rows in the dataset."
   ]
  },
  {
   "cell_type": "code",
   "execution_count": 3,
   "metadata": {},
   "outputs": [
    {
     "name": "stdout",
     "output_type": "stream",
     "text": [
      "Number of rows: 294478\n"
     ]
    }
   ],
   "source": [
    "# Number of rows.\n",
    "print(\"Number of rows:\", df.shape[0])"
   ]
  },
  {
   "cell_type": "markdown",
   "metadata": {},
   "source": [
    "c. The number of unique users in the dataset."
   ]
  },
  {
   "cell_type": "code",
   "execution_count": 4,
   "metadata": {},
   "outputs": [
    {
     "name": "stdout",
     "output_type": "stream",
     "text": [
      "Number of unique user_id:  290584\n"
     ]
    }
   ],
   "source": [
    "# Number of unique user_id.\n",
    "print(\"Number of unique user_id: \", len(df.user_id.unique()))"
   ]
  },
  {
   "cell_type": "markdown",
   "metadata": {
    "collapsed": true
   },
   "source": [
    "d. The proportion of users converted."
   ]
  },
  {
   "cell_type": "code",
   "execution_count": 5,
   "metadata": {},
   "outputs": [
    {
     "data": {
      "text/plain": [
       "0.1195695564793657"
      ]
     },
     "execution_count": 5,
     "metadata": {},
     "output_type": "execute_result"
    }
   ],
   "source": [
    "# Copying.\n",
    "df_clean = df.copy()\n",
    "\n",
    "# Subsetting to remove duplicated user_id.\n",
    "df_clean = df_clean[np.logical_not(df_clean.user_id.duplicated())]\n",
    "\n",
    "# Proportion.\n",
    "sum(df_clean.converted)/len(df_clean)"
   ]
  },
  {
   "cell_type": "markdown",
   "metadata": {
    "collapsed": true
   },
   "source": [
    "e. The number of times the `new_page` and `treatment` don't line up."
   ]
  },
  {
   "cell_type": "code",
   "execution_count": 6,
   "metadata": {},
   "outputs": [],
   "source": [
    "# treatment_non_line_up\n",
    "treatment_non_line_up = df.query(\"group == 'treatment'\").landing_page.value_counts()[1]"
   ]
  },
  {
   "cell_type": "code",
   "execution_count": 7,
   "metadata": {},
   "outputs": [],
   "source": [
    "# new_age_non_line_up\n",
    "new_age_non_line_up = df.query(\"landing_page == 'new_page'\").group.value_counts()[1]"
   ]
  },
  {
   "cell_type": "code",
   "execution_count": 8,
   "metadata": {},
   "outputs": [
    {
     "name": "stdout",
     "output_type": "stream",
     "text": [
      "Non line-up:  3893\n"
     ]
    }
   ],
   "source": [
    "# Non line-up\n",
    "print(\"Non line-up: \", treatment_non_line_up + new_age_non_line_up)"
   ]
  },
  {
   "cell_type": "markdown",
   "metadata": {},
   "source": [
    "f. Do any of the rows have missing values?"
   ]
  },
  {
   "cell_type": "code",
   "execution_count": 9,
   "metadata": {},
   "outputs": [
    {
     "name": "stdout",
     "output_type": "stream",
     "text": [
      "<class 'pandas.core.frame.DataFrame'>\n",
      "RangeIndex: 294478 entries, 0 to 294477\n",
      "Data columns (total 5 columns):\n",
      "user_id         294478 non-null int64\n",
      "timestamp       294478 non-null object\n",
      "group           294478 non-null object\n",
      "landing_page    294478 non-null object\n",
      "converted       294478 non-null int64\n",
      "dtypes: int64(2), object(3)\n",
      "memory usage: 7.9+ MB\n"
     ]
    }
   ],
   "source": [
    "df.info()"
   ]
  },
  {
   "cell_type": "markdown",
   "metadata": {},
   "source": [
    "`2.` For the rows where **treatment** is not aligned with **new_page** or **control** is not aligned with **old_page**, we cannot be sure if this row truly received the new or old page.  Use **Quiz 2** in the classroom to provide how we should handle these rows.  \n",
    "\n",
    "a. Now use the answer to the quiz to create a new dataset that meets the specifications from the quiz.  Store your new dataframe in **df2**."
   ]
  },
  {
   "cell_type": "code",
   "execution_count": 10,
   "metadata": {},
   "outputs": [],
   "source": [
    "# Subsetting the non line-up. New Page and Treatment\n",
    "aux_1 = df.query(\"landing_page == 'new_page'\").query(\"group == 'treatment'\")\n",
    "\n",
    "# Subsetting the non line-up. Old Page and Control.\n",
    "aux_2 = df.query(\"landing_page == 'old_page'\").query(\"group == 'control'\")\n",
    "\n",
    "# Appending by rows.\n",
    "df2 = aux_1.append(aux_2)"
   ]
  },
  {
   "cell_type": "code",
   "execution_count": 11,
   "metadata": {},
   "outputs": [
    {
     "data": {
      "text/plain": [
       "0"
      ]
     },
     "execution_count": 11,
     "metadata": {},
     "output_type": "execute_result"
    }
   ],
   "source": [
    "# Double Check all of the correct rows were removed - this should be 0\n",
    "df2[((df2['group'] == 'treatment') == (df2['landing_page'] == 'new_page')) == False].shape[0]"
   ]
  },
  {
   "cell_type": "markdown",
   "metadata": {},
   "source": [
    "`3.` Use **df2** and the cells below to answer questions for **Quiz3** in the classroom."
   ]
  },
  {
   "cell_type": "markdown",
   "metadata": {},
   "source": [
    "a. How many unique **user_id**s are in **df2**?"
   ]
  },
  {
   "cell_type": "code",
   "execution_count": 12,
   "metadata": {},
   "outputs": [
    {
     "name": "stdout",
     "output_type": "stream",
     "text": [
      "Number of Unique user_ids: 290584\n"
     ]
    }
   ],
   "source": [
    "# Number of unique user_ids\n",
    "print(\"Number of Unique user_ids:\", df2.user_id.nunique())"
   ]
  },
  {
   "cell_type": "markdown",
   "metadata": {
    "collapsed": true
   },
   "source": [
    "b. There is one **user_id** repeated in **df2**.  What is it?"
   ]
  },
  {
   "cell_type": "code",
   "execution_count": 13,
   "metadata": {},
   "outputs": [
    {
     "name": "stdout",
     "output_type": "stream",
     "text": [
      "Number of repeated user_id: 1\n"
     ]
    }
   ],
   "source": [
    "# Number of repeated user_id\n",
    "print(\"Number of repeated user_id:\", sum(df2.user_id.duplicated()))"
   ]
  },
  {
   "cell_type": "markdown",
   "metadata": {},
   "source": [
    "c. What is the row information for the repeat **user_id**? "
   ]
  },
  {
   "cell_type": "code",
   "execution_count": 14,
   "metadata": {},
   "outputs": [
    {
     "data": {
      "text/html": [
       "<div>\n",
       "<style scoped>\n",
       "    .dataframe tbody tr th:only-of-type {\n",
       "        vertical-align: middle;\n",
       "    }\n",
       "\n",
       "    .dataframe tbody tr th {\n",
       "        vertical-align: top;\n",
       "    }\n",
       "\n",
       "    .dataframe thead th {\n",
       "        text-align: right;\n",
       "    }\n",
       "</style>\n",
       "<table border=\"1\" class=\"dataframe\">\n",
       "  <thead>\n",
       "    <tr style=\"text-align: right;\">\n",
       "      <th></th>\n",
       "      <th>user_id</th>\n",
       "      <th>timestamp</th>\n",
       "      <th>group</th>\n",
       "      <th>landing_page</th>\n",
       "      <th>converted</th>\n",
       "    </tr>\n",
       "  </thead>\n",
       "  <tbody>\n",
       "    <tr>\n",
       "      <th>2893</th>\n",
       "      <td>773192</td>\n",
       "      <td>2017-01-14 02:55:59.590927</td>\n",
       "      <td>treatment</td>\n",
       "      <td>new_page</td>\n",
       "      <td>0</td>\n",
       "    </tr>\n",
       "  </tbody>\n",
       "</table>\n",
       "</div>"
      ],
      "text/plain": [
       "      user_id                   timestamp      group landing_page  converted\n",
       "2893   773192  2017-01-14 02:55:59.590927  treatment     new_page          0"
      ]
     },
     "execution_count": 14,
     "metadata": {},
     "output_type": "execute_result"
    }
   ],
   "source": [
    "# All information about the duplicated user.\n",
    "df2[df2.user_id.duplicated()].head()"
   ]
  },
  {
   "cell_type": "code",
   "execution_count": 15,
   "metadata": {},
   "outputs": [
    {
     "data": {
      "text/plain": [
       "773192"
      ]
     },
     "execution_count": 15,
     "metadata": {},
     "output_type": "execute_result"
    }
   ],
   "source": [
    "# Repeated User id\n",
    "df2[df2.user_id.duplicated()].user_id.tolist()[0]"
   ]
  },
  {
   "cell_type": "code",
   "execution_count": 16,
   "metadata": {},
   "outputs": [
    {
     "data": {
      "text/plain": [
       "'new_page'"
      ]
     },
     "execution_count": 16,
     "metadata": {},
     "output_type": "execute_result"
    }
   ],
   "source": [
    "# Landing page of the Repeated user\n",
    "df2[df2.user_id.duplicated()].landing_page.tolist()[0]"
   ]
  },
  {
   "cell_type": "code",
   "execution_count": 17,
   "metadata": {},
   "outputs": [
    {
     "data": {
      "text/plain": [
       "'treatment'"
      ]
     },
     "execution_count": 17,
     "metadata": {},
     "output_type": "execute_result"
    }
   ],
   "source": [
    "# Group of the repeated User id\n",
    "df2[df2.user_id.duplicated()].group.tolist()[0]"
   ]
  },
  {
   "cell_type": "code",
   "execution_count": 18,
   "metadata": {},
   "outputs": [
    {
     "data": {
      "text/plain": [
       "0"
      ]
     },
     "execution_count": 18,
     "metadata": {},
     "output_type": "execute_result"
    }
   ],
   "source": [
    "# Converted of the repeated User id\n",
    "df2[df2.user_id.duplicated()].converted.tolist()[0]"
   ]
  },
  {
   "cell_type": "markdown",
   "metadata": {},
   "source": [
    "d. Remove **one** of the rows with a duplicate **user_id**, but keep your dataframe as **df2**."
   ]
  },
  {
   "cell_type": "code",
   "execution_count": 19,
   "metadata": {},
   "outputs": [
    {
     "name": "stdout",
     "output_type": "stream",
     "text": [
      "Number of Duplicated user_id: 0\n"
     ]
    }
   ],
   "source": [
    "# Removing the duplicated user_id\n",
    "df2 = df2[np.logical_not(df2.user_id.duplicated())]\n",
    "\n",
    "# Testing.\n",
    "print(\"Number of Duplicated user_id:\", sum(df2.user_id.duplicated()))"
   ]
  },
  {
   "cell_type": "markdown",
   "metadata": {},
   "source": [
    "`4.` Use **df2** in the below cells to answer the quiz questions related to **Quiz 4** in the classroom.\n",
    "\n",
    "a. What is the probability of an individual converting regardless of the page they receive?"
   ]
  },
  {
   "cell_type": "code",
   "execution_count": 20,
   "metadata": {},
   "outputs": [
    {
     "name": "stdout",
     "output_type": "stream",
     "text": [
      "Probability: 0.11959708724499628\n"
     ]
    }
   ],
   "source": [
    "# Converting proportion regardless the page.\n",
    "p_all = sum(df2.converted)/len(df2.converted)\n",
    "\n",
    "# Printing.\n",
    "print(\"Probability:\", p_all)"
   ]
  },
  {
   "cell_type": "markdown",
   "metadata": {},
   "source": [
    "b. Given that an individual was in the `control` group, what is the probability they converted?"
   ]
  },
  {
   "cell_type": "code",
   "execution_count": 21,
   "metadata": {},
   "outputs": [
    {
     "data": {
      "text/plain": [
       "0.1203863045004612"
      ]
     },
     "execution_count": 21,
     "metadata": {},
     "output_type": "execute_result"
    }
   ],
   "source": [
    "# Given it is the control group. What is the converting proportion.\n",
    "df2.query('group == \"control\"').converted.mean()"
   ]
  },
  {
   "cell_type": "markdown",
   "metadata": {},
   "source": [
    "c. Given that an individual was in the `treatment` group, what is the probability they converted?"
   ]
  },
  {
   "cell_type": "code",
   "execution_count": 22,
   "metadata": {},
   "outputs": [
    {
     "data": {
      "text/plain": [
       "0.11880806551510564"
      ]
     },
     "execution_count": 22,
     "metadata": {},
     "output_type": "execute_result"
    }
   ],
   "source": [
    "# Given it is the treatment group. What is the converting proportion.\n",
    "df2.query('group == \"treatment\"').converted.mean()"
   ]
  },
  {
   "cell_type": "markdown",
   "metadata": {},
   "source": [
    "d. What is the probability that an individual received the new page?"
   ]
  },
  {
   "cell_type": "code",
   "execution_count": 23,
   "metadata": {},
   "outputs": [
    {
     "data": {
      "text/plain": [
       "0.5000619442226688"
      ]
     },
     "execution_count": 23,
     "metadata": {},
     "output_type": "execute_result"
    }
   ],
   "source": [
    "# Calculating the proportion.\n",
    "(df2.landing_page == \"new_page\").mean()"
   ]
  },
  {
   "cell_type": "markdown",
   "metadata": {},
   "source": [
    "e. Use the results in the previous two portions of this question to suggest if you think there is evidence that one page leads to more conversions?  Write your response below."
   ]
  },
  {
   "cell_type": "code",
   "execution_count": 24,
   "metadata": {},
   "outputs": [
    {
     "data": {
      "text/plain": [
       "Timedelta('21 days 23:59:49.081927')"
      ]
     },
     "execution_count": 24,
     "metadata": {},
     "output_type": "execute_result"
    }
   ],
   "source": [
    "# Converting timestamp to date time.\n",
    "df2['timestamp'] = pd.to_datetime(df['timestamp'])\n",
    "\n",
    "# Calculating the elapsed time from the beginning to the end.\n",
    "df2.timestamp.max() - df2.timestamp.min()"
   ]
  },
  {
   "cell_type": "markdown",
   "metadata": {},
   "source": [
    "<a id='answer_probability'></a>\n",
    "\n",
    ">**Answer:** There is no evidence to support that the new version of the homepage drives a higher conversion rate. Even worse, the control group have performed better results of conversion rates in comparison with the treatment group.\n",
    ">\n",
    ">Unfortunately, I do not have much information (a Hypothesis Testing, for instance) only descriptive statistics, but with this preliminary results it is better to keep with the older version.\n",
    ">\n",
    ">Bear in mind, this dataset only have data from 22 days, maybe it is too few days for this kind of study, even more, I do not have information about the type of clients have been accessing the website. The older users could have an aversion of this new version of the website and could sabotage it.\n",
    "\n",
    "***"
   ]
  },
  {
   "cell_type": "markdown",
   "metadata": {},
   "source": [
    "<a id='ab_test'></a>\n",
    "### Part II - A/B Test\n",
    "\n",
    "Notice that because of the time stamp associated with each event, you could technically run a hypothesis test continuously as each observation was observed.  \n",
    "\n",
    "However, then the hard question is do you stop as soon as one page is considered significantly better than another or does it need to happen consistently for a certain amount of time?  How long do you run to render a decision that neither page is better than another?  \n",
    "\n",
    "These questions are the difficult parts associated with A/B tests in general.  \n",
    "\n",
    "\n",
    "`1.` For now, consider you need to make the decision just based on all the data provided.  If you want to assume that the old page is better unless the new page proves to be definitely better at a Type I error rate of 5%, what should your null and alternative hypotheses be?  You can state your hypothesis in terms of words or in terms of **$p_{old}$** and **$p_{new}$**, which are the converted rates for the old and new pages."
   ]
  },
  {
   "cell_type": "markdown",
   "metadata": {},
   "source": [
    "I want to prove the new website has better performance from the older one.\n",
    "\n",
    "* Null Hypothesis: The old version has better or equal performance than the newer version.\n",
    "* Alternative Hypothesis: The newer version is better than the older one.\n",
    "\n",
    "Converting these statments in Hypoteses Testing:\n",
    "\n",
    "$$H_0: p_{new} - p_{old} \\leq 0 $$\n",
    "$$H_1: p_{new} - p_{old} > 0 \\tag{1}$$"
   ]
  },
  {
   "cell_type": "markdown",
   "metadata": {},
   "source": [
    "`2.` Assume under the null hypothesis, $p_{new}$ and $p_{old}$ both have \"true\" success rates equal to the **converted** success rate regardless of page - that is $p_{new}$ and $p_{old}$ are equal. Furthermore, assume they are equal to the **converted** rate in **ab_data.csv** regardless of the page. <br><br>\n",
    "\n",
    "Use a sample size for each page equal to the ones in **ab_data.csv**.  <br><br>\n",
    "\n",
    "Perform the sampling distribution for the difference in **converted** between the two pages over 10,000 iterations of calculating an estimate from the null.  <br><br>\n",
    "\n",
    "Use the cells below to provide the necessary parts of this simulation.  If this doesn't make complete sense right now, don't worry - you are going to work through the problems below to complete this problem.  You can use **Quiz 5** in the classroom to make sure you are on the right track.<br><br>"
   ]
  },
  {
   "cell_type": "markdown",
   "metadata": {},
   "source": [
    "a. What is the **convert rate** for $p_{new}$ under the null? "
   ]
  },
  {
   "cell_type": "code",
   "execution_count": 25,
   "metadata": {},
   "outputs": [
    {
     "name": "stdout",
     "output_type": "stream",
     "text": [
      "p_new:  0.11959708724499628\n"
     ]
    }
   ],
   "source": [
    "# p_new and p_old are equal according to the instructions.\n",
    "p_new = df2.converted.mean()\n",
    "\n",
    "print(\"p_new: \", p_new)"
   ]
  },
  {
   "cell_type": "markdown",
   "metadata": {},
   "source": [
    "b. What is the **convert rate** for $p_{old}$ under the null? <br><br>"
   ]
  },
  {
   "cell_type": "code",
   "execution_count": 26,
   "metadata": {},
   "outputs": [
    {
     "name": "stdout",
     "output_type": "stream",
     "text": [
      "p_old:  0.11959708724499628\n"
     ]
    }
   ],
   "source": [
    "# p_new and p_old are equal according to the instructions.\n",
    "p_old = df2.converted.mean()\n",
    "\n",
    "print(\"p_old: \", p_old)"
   ]
  },
  {
   "cell_type": "markdown",
   "metadata": {},
   "source": [
    "c. What is $n_{new}$?"
   ]
  },
  {
   "cell_type": "code",
   "execution_count": 27,
   "metadata": {},
   "outputs": [
    {
     "name": "stdout",
     "output_type": "stream",
     "text": [
      "n_new:  145310\n"
     ]
    }
   ],
   "source": [
    "# Number of observations when landing_page is equal to new_page.\n",
    "n_new = df2.query('landing_page == \"new_page\"').shape[0]\n",
    "\n",
    "print(\"n_new: \", n_new)"
   ]
  },
  {
   "cell_type": "markdown",
   "metadata": {},
   "source": [
    "d. What is $n_{old}$?"
   ]
  },
  {
   "cell_type": "code",
   "execution_count": 28,
   "metadata": {},
   "outputs": [
    {
     "name": "stdout",
     "output_type": "stream",
     "text": [
      "n_old:  145274\n"
     ]
    }
   ],
   "source": [
    "# Number of observations when landing_page is equal to old_page.\n",
    "n_old = df2.query('landing_page == \"old_page\"').shape[0]\n",
    "\n",
    "print(\"n_old: \", n_old)"
   ]
  },
  {
   "cell_type": "markdown",
   "metadata": {},
   "source": [
    "e. Simulate $n_{new}$ transactions with a convert rate of $p_{new}$ under the null.  Store these $n_{new}$ 1's and 0's in **new_page_converted**."
   ]
  },
  {
   "cell_type": "code",
   "execution_count": 29,
   "metadata": {},
   "outputs": [],
   "source": [
    "# Drawing a sample for the new_page.\n",
    "new_page_converted = np.random.choice([1, 0], size = n_new, p = [p_new, (1 - p_new)])\n",
    "\n",
    "# I have opted to use the np.random.choice, but the np.random.binomial(1, p_new, n_new) will give the same results."
   ]
  },
  {
   "cell_type": "markdown",
   "metadata": {},
   "source": [
    "f. Simulate $n_{old}$ transactions with a convert rate of $p_{old}$ under the null.  Store these $n_{old}$ 1's and 0's in **old_page_converted**."
   ]
  },
  {
   "cell_type": "code",
   "execution_count": 30,
   "metadata": {},
   "outputs": [],
   "source": [
    "# Drawing a sample for the old_page.\n",
    "old_page_converted = np.random.choice([1, 0], size = n_old, p = [p_old, (1 - p_old)])"
   ]
  },
  {
   "cell_type": "code",
   "execution_count": 6,
   "metadata": {},
   "outputs": [
    {
     "ename": "ValueError",
     "evalue": "a and p must have same size",
     "output_type": "error",
     "traceback": [
      "\u001b[1;31m---------------------------------------------------------------------------\u001b[0m",
      "\u001b[1;31mValueError\u001b[0m                                Traceback (most recent call last)",
      "\u001b[1;32m<ipython-input-6-6681051758d4>\u001b[0m in \u001b[0;36m<module>\u001b[1;34m\u001b[0m\n\u001b[0;32m      3\u001b[0m \u001b[0mprobabilidade_B\u001b[0m\u001b[1;33m=\u001b[0m \u001b[1;36m0.5\u001b[0m\u001b[1;33m\u001b[0m\u001b[1;33m\u001b[0m\u001b[0m\n\u001b[0;32m      4\u001b[0m \u001b[1;33m\u001b[0m\u001b[0m\n\u001b[1;32m----> 5\u001b[1;33m \u001b[0mnp\u001b[0m\u001b[1;33m.\u001b[0m\u001b[0mrandom\u001b[0m\u001b[1;33m.\u001b[0m\u001b[0mchoice\u001b[0m\u001b[1;33m(\u001b[0m\u001b[1;33m[\u001b[0m\u001b[1;34m'A'\u001b[0m\u001b[1;33m,\u001b[0m \u001b[1;34m'B'\u001b[0m\u001b[1;33m]\u001b[0m\u001b[1;33m,\u001b[0m \u001b[0msize\u001b[0m \u001b[1;33m=\u001b[0m \u001b[0mtamanho_amostra\u001b[0m\u001b[1;33m,\u001b[0m \u001b[0mp\u001b[0m \u001b[1;33m=\u001b[0m \u001b[1;33m[\u001b[0m\u001b[0mprobabilidade_A\u001b[0m\u001b[1;33m,\u001b[0m \u001b[1;36m0\u001b[0m\u001b[1;33m,\u001b[0m\u001b[1;36m8\u001b[0m\u001b[1;33m]\u001b[0m\u001b[1;33m)\u001b[0m\u001b[1;33m\u001b[0m\u001b[1;33m\u001b[0m\u001b[0m\n\u001b[0m\u001b[0;32m      6\u001b[0m \u001b[1;33m\u001b[0m\u001b[0m\n\u001b[0;32m      7\u001b[0m \u001b[1;33m\u001b[0m\u001b[0m\n",
      "\u001b[1;32mmtrand.pyx\u001b[0m in \u001b[0;36mmtrand.RandomState.choice\u001b[1;34m()\u001b[0m\n",
      "\u001b[1;31mValueError\u001b[0m: a and p must have same size"
     ]
    }
   ],
   "source": [
    "tamanho_amostra = 10\n",
    "probabilidade_A = 0.5\n",
    "probabilidade_B= 0.5\n",
    "\n",
    "np.random.choice(['A', 'B'], size = tamanho_amostra, p = [probabilidade_A, 0,8])\n",
    "\n",
    "\n"
   ]
  },
  {
   "cell_type": "code",
   "execution_count": 2,
   "metadata": {},
   "outputs": [],
   "source": [
    "import numpy as np"
   ]
  },
  {
   "cell_type": "markdown",
   "metadata": {},
   "source": [
    "g. Find $p_{new}$ - $p_{old}$ for your simulated values from part (e) and (f)."
   ]
  },
  {
   "cell_type": "code",
   "execution_count": 31,
   "metadata": {},
   "outputs": [
    {
     "name": "stdout",
     "output_type": "stream",
     "text": [
      "p_new - p_old: 0.0\n"
     ]
    }
   ],
   "source": [
    "# Calculating the difference.\n",
    "print(\"p_new - p_old:\", p_new - p_old)"
   ]
  },
  {
   "cell_type": "markdown",
   "metadata": {},
   "source": [
    "h. Simulate 10,000 $p_{new}$ - $p_{old}$ values using this same process similarly to the one you calculated in parts **a. through g.** above.  Store all 10,000 values in **p_diffs**."
   ]
  },
  {
   "cell_type": "code",
   "execution_count": 32,
   "metadata": {},
   "outputs": [],
   "source": [
    "# Initializing variables\n",
    "p_diffs = []\n",
    "\n",
    "# Loop to generate 10,000 samples.\n",
    "for index in range(10000):\n",
    "    # Sampling the new_page.\n",
    "    new_page_converted = np.random.choice([1, 0], size= n_new, p= [p_new, (1 - p_new)])\n",
    "    \n",
    "    # Sampling the old_page.\n",
    "    old_page_converted = np.random.choice([1, 0], size= n_old, p= [p_old, (1 - p_old)])\n",
    "    \n",
    "    # Calculating the proportion for new_page.\n",
    "    sample_p_new = new_page_converted.mean()\n",
    "    \n",
    "    # Calculating the proportion for old_page.\n",
    "    sample_p_old = old_page_converted.mean()\n",
    "    \n",
    "    # Calculating the difference.\n",
    "    sample_diff = sample_p_new - sample_p_old\n",
    "    \n",
    "    # Appending to the diff vector.\n",
    "    p_diffs.append(sample_diff)"
   ]
  },
  {
   "cell_type": "markdown",
   "metadata": {},
   "source": [
    "i. Plot a histogram of the **p_diffs**.  Does this plot look like what you expected?  Use the matching problem in the classroom to assure you fully understand what was computed here."
   ]
  },
  {
   "cell_type": "code",
   "execution_count": 33,
   "metadata": {},
   "outputs": [
    {
     "name": "stderr",
     "output_type": "stream",
     "text": [
      "C:\\Users\\ander\\AppData\\Local\\Programs\\Python\\Python37-32\\lib\\site-packages\\scipy\\stats\\stats.py:1713: FutureWarning: Using a non-tuple sequence for multidimensional indexing is deprecated; use `arr[tuple(seq)]` instead of `arr[seq]`. In the future this will be interpreted as an array index, `arr[np.array(seq)]`, which will result either in an error or a different result.\n",
      "  return np.add.reduce(sorted[indexer] * weights, axis=axis) / sumval\n"
     ]
    },
    {
     "data": {
      "image/png": "[encoded data removed]",
      "text/plain": [
       "<Figure size 1008x432 with 1 Axes>"
      ]
     },
     "metadata": {
      "needs_background": "light"
     },
     "output_type": "display_data"
    }
   ],
   "source": [
    "# Plotting a histogram.\n",
    "plt.figure(figsize = [14,6]) # Histogram size\n",
    "sns.distplot(p_diffs);          # Using seaborn to plot the Histogram\n",
    "plt.title('Histogram of p_diffd based on 10,000 samples', fontsize = 20) # Histogram Title\n",
    "plt.xlabel('p_diffs', fontsize = 14) # X axis labels\n",
    "plt.ylabel('Frequency', fontsize = 14)      # Y axis labels\n",
    "plt.show()"
   ]
  },
  {
   "cell_type": "markdown",
   "metadata": {},
   "source": [
    "j. What proportion of the **p_diffs** are greater than the actual difference observed in **ab_data.csv**?"
   ]
  },
  {
   "cell_type": "code",
   "execution_count": 34,
   "metadata": {},
   "outputs": [
    {
     "data": {
      "text/plain": [
       "-0.0015782389853555567"
      ]
     },
     "execution_count": 34,
     "metadata": {},
     "output_type": "execute_result"
    }
   ],
   "source": [
    "# What is the difference between control and treatment?\n",
    "p_diff = df2.query('group == \"treatment\"').converted.mean() - df2.query('group == \"control\"').converted.mean()\n",
    "\n",
    "# Priting.\n",
    "p_diff"
   ]
  },
  {
   "cell_type": "code",
   "execution_count": 35,
   "metadata": {},
   "outputs": [
    {
     "name": "stdout",
     "output_type": "stream",
     "text": [
      "p-value: 0.9022\n"
     ]
    }
   ],
   "source": [
    "# Calculating the p-value.\n",
    "p_value = (np.array(p_diffs) > p_diff).mean()\n",
    "\n",
    "# Copying to a future use\n",
    "p_value_j = p_value.copy()\n",
    "\n",
    "# Priting p-value\n",
    "print(\"p-value:\", p_value)"
   ]
  },
  {
   "cell_type": "code",
   "execution_count": 36,
   "metadata": {},
   "outputs": [
    {
     "data": {
      "image/png": "[encoded data removed]",
      "text/plain": [
       "<Figure size 1008x432 with 1 Axes>"
      ]
     },
     "metadata": {
      "needs_background": "light"
     },
     "output_type": "display_data"
    }
   ],
   "source": [
    "# Plotting a histogram.\n",
    "plt.figure(figsize = [14,6]) # Histogram size\n",
    "sns.distplot(p_diffs);          # Using seaborn to plot the Histogram\n",
    "plt.title('Histogram of p_diffd based on 10,000 samples', fontsize = 20) # Histogram Title\n",
    "plt.xlabel('p_diffs', fontsize = 14) # X axis labels\n",
    "plt.ylabel('Frequency', fontsize = 14)      # Y axis labels\n",
    "plt.axvline(p_diff, color = 'red')\n",
    "plt.show()"
   ]
  },
  {
   "cell_type": "markdown",
   "metadata": {},
   "source": [
    "k. In words, explain what you just computed in part **j.**.  What is this value called in scientific studies?  What does this value mean in terms of whether or not there is a difference between the new and old pages?"
   ]
  },
  {
   "cell_type": "markdown",
   "metadata": {},
   "source": [
    ">**Answer:** This proportion is also known as `p-value`, this proportion is the key when you are performing a Hypothesis Testing because it explains if the null hypothesis should be rejected or if we fail to reject the null hypothesis.\n",
    ">\n",
    ">In the above example, the `p-value` is quite high (0.9037) and it is also greater than the $\\alpha$ (0.05).\n",
    ">\n",
    ">Due to `p-value` > $\\alpha$, we have failed to reject the null hypothesis, in other words, **keep the old version of the website, because this one has better performance than the new version**."
   ]
  },
  {
   "cell_type": "markdown",
   "metadata": {},
   "source": [
    "l. We could also use a built-in to achieve similar results.  Though using the built-in might be easier to code, the above portions are a walkthrough of the ideas that are critical to correctly thinking about statistical significance. Fill in the below to calculate the number of conversions for each page, as well as the number of individuals who received each page. Let `n_old` and `n_new` refer the the number of rows associated with the old page and new pages, respectively."
   ]
  },
  {
   "cell_type": "code",
   "execution_count": 37,
   "metadata": {},
   "outputs": [
    {
     "data": {
      "text/plain": [
       "145274"
      ]
     },
     "execution_count": 37,
     "metadata": {},
     "output_type": "execute_result"
    }
   ],
   "source": [
    "len(df2.query('landing_page == \"old_page\"').landing_page)"
   ]
  },
  {
   "cell_type": "code",
   "execution_count": 38,
   "metadata": {},
   "outputs": [],
   "source": [
    "import statsmodels.api as sm\n",
    "\n",
    "# Number of observations with characteristics: landing page equal to old_page and converted flaged 1.\n",
    "convert_old = len(df2.query('landing_page == \"old_page\"').query('converted == 1').converted)\n",
    "# Number of observations with characteristics: landing page equal to new_page and converted flaged 1.\n",
    "convert_new = len(df2.query('landing_page == \"new_page\"').query('converted == 1').converted)\n",
    "# Number of observations with characteristics: landing page equal to old_page.\n",
    "n_old = len(df2.query('landing_page == \"old_page\"').landing_page)\n",
    "# Number of observations with characteristics: landing page equal to new_page.\n",
    "n_new = len(df2.query('landing_page == \"new_page\"').landing_page)"
   ]
  },
  {
   "cell_type": "code",
   "execution_count": 39,
   "metadata": {},
   "outputs": [
    {
     "name": "stdout",
     "output_type": "stream",
     "text": [
      "convert_old: 17489\n",
      "n_old: 145274\n",
      "convert_new: 17264\n",
      "n_new: 145310\n"
     ]
    }
   ],
   "source": [
    "# Priting.\n",
    "print(\"convert_old:\", convert_old)\n",
    "print(\"n_old:\", n_old)\n",
    "print(\"convert_new:\", convert_new)\n",
    "print(\"n_new:\", n_new)"
   ]
  },
  {
   "cell_type": "markdown",
   "metadata": {},
   "source": [
    "m. Now use `stats.proportions_ztest` to compute your test statistic and p-value.  [Here](http://knowledgetack.com/python/statsmodels/proportions_ztest/) is a helpful link on using the built in."
   ]
  },
  {
   "cell_type": "markdown",
   "metadata": {},
   "source": [
    "#### Reading\n",
    "\n",
    "From the [knowledgetack.com][knowledgetack] I have realized the similarities from the Project and the content of this site.\n",
    "\n",
    ">Imagine you run a website and you are comparing two different landing pages. Landing page 1 had 135 successful cart checkout events out of 1,781 visits and landing page 2 had 47 successful cart checkout events out of 1,443 visits. When someone visits either landing page, they either checkout or not. This makes the problem binomial so we can compare the two proportions to see if one landing page might be better than another. --- <cite>[http://knowledgetack.com/][knowledgetack]</cite>\n",
    "\n",
    "Unfortunately, the Hypothesis posed by the knowledgetack author is different of this project.\n",
    "\n",
    "$$H_0: p_{new} - p_{old} \\leq 0 $$\n",
    "$$H_1: p_{new} - p_{old} > 0 \\tag{1}$$  \n",
    "\n",
    "I have read in [statsmodels][url_explanation_alternative] website a explanation in how to use the `stats.proportions_ztest`.\n",
    "\n",
    ">alternative (string in ['two-sided', 'smaller', 'larger']) – The alternative hypothesis can be either two-sided or one of the one- sided tests, smaller means that the alternative hypothesis is prop < value and larger means prop > value. In the two sample test, smaller means that the alternative hypothesis is p1 < p2 and **larger means p1 > p2 where p1 is the proportion of the first sample and p2 of the second one**. --- <cite>[https://www.statsmodels.org/][url_explanation_alternative]</cite>\n",
    "\n",
    "From the above excerpt, I will adopt `larger` to my calculations.\n",
    "\n",
    ">Using the `proportions_ztest` from `statsmodels`, it returns a `z-score` and a `p-value`. By default, `proportions_ztest` has a parameter **alternative= 'two-sided'** which checks for the difference between. --- <cite>[http://knowledgetack.com/][knowledgetack]</cite>\n",
    "\n",
    "#### Preparation\n",
    "\n",
    "The function for `proportions_ztest` is:\n",
    "\n",
    "```\n",
    "proportions_ztest(count, nobs, value=None, alternative= 'larger', prop_var=False)\n",
    "```\n",
    "\n",
    "For this project:\n",
    "\n",
    "* alternative = 'larger';\n",
    "* number of success are: 17264 and 17489 , and;\n",
    "* number of trials: 145310 and 145274.\n",
    "\n",
    "```\n",
    "count = [17264, 17489]\n",
    "nobs = [145310, 145274]\n",
    "```\n",
    "\n",
    "#### Application\n",
    "\n",
    "[knowledgetack]: http://knowledgetack.com/python/statsmodels/proportions_ztest/\n",
    "[url_explanation_alternative]: https://www.statsmodels.org/dev/generated/statsmodels.stats.proportion.proportions_ztest.html"
   ]
  },
  {
   "cell_type": "code",
   "execution_count": 40,
   "metadata": {},
   "outputs": [
    {
     "name": "stdout",
     "output_type": "stream",
     "text": [
      "z_score: -1.3109241984234394\n",
      "p_value: 0.9050583127590245\n"
     ]
    }
   ],
   "source": [
    "# Number of success in convertion.\n",
    "count = [convert_new, convert_old]\n",
    "\n",
    "# Number of trials.\n",
    "nobs = [n_new, n_old]\n",
    "\n",
    "# Type of the hypothesis.\n",
    "alternative = 'larger'\n",
    "\n",
    "# Calculating the z_score and p_values.\n",
    "z_score, p_value = sm.stats.proportions_ztest(count = count, nobs = nobs, alternative = alternative)\n",
    "\n",
    "# Printing.\n",
    "print(\"z_score: {}\\np_value: {}\".format(z_score, p_value))"
   ]
  },
  {
   "cell_type": "markdown",
   "metadata": {},
   "source": [
    "n. What do the z-score and p-value you computed in the previous question mean for the conversion rates of the old and new pages?  Do they agree with the findings in parts **j.** and **k.**?"
   ]
  },
  {
   "cell_type": "markdown",
   "metadata": {},
   "source": [
    "Founded on a significance level of 95% ($\\alpha$ equal to 0.05) and a one-tailed test (right-sided test)."
   ]
  },
  {
   "cell_type": "code",
   "execution_count": 41,
   "metadata": {},
   "outputs": [
    {
     "name": "stdout",
     "output_type": "stream",
     "text": [
      "cdf: 0.09494168724097551\n",
      "ppf: 1.6448536269514722\n"
     ]
    }
   ],
   "source": [
    "from scipy.stats import norm\n",
    "\n",
    "# Tells us how significant our z-score is\n",
    "cdf = norm.cdf(z_score)\n",
    "\n",
    "# For a right sided test test with 95% of confidence level.\n",
    "ppf = norm.ppf(1 - (0.05))\n",
    "\n",
    "print(\"cdf: {}\\nppf: {}\".format(cdf, ppf))"
   ]
  },
  {
   "cell_type": "code",
   "execution_count": 42,
   "metadata": {},
   "outputs": [
    {
     "name": "stdout",
     "output_type": "stream",
     "text": [
      "p_value: 0.9051\n",
      "p_value_j: 0.9022\n"
     ]
    }
   ],
   "source": [
    "# p_value calculated using the proportions_ztest\n",
    "print(\"p_value:\", round(p_value,4))\n",
    "# p_value calculated in item j.\n",
    "print(\"p_value_j:\", p_value_j)"
   ]
  },
  {
   "cell_type": "code",
   "execution_count": 43,
   "metadata": {},
   "outputs": [
    {
     "name": "stdout",
     "output_type": "stream",
     "text": [
      "z_score: -1.3109241984234394\n",
      "ppf: 1.6448536269514722\n",
      "\n",
      "z_score > ppf : False\n"
     ]
    }
   ],
   "source": [
    "print(\"z_score:\", z_score)\n",
    "print(\"ppf:\", ppf) # As expected given alpha = 0.05 the ppf is 1.6448\n",
    "print(\"\\nz_score > ppf :\", z_score > ppf) "
   ]
  },
  {
   "cell_type": "markdown",
   "metadata": {},
   "source": [
    "<a id='answer_abtesting'></a>\n",
    "\n",
    ">**Answer:** In respect to the `p_value` both values (from j and k items) are very similar (0.90) and there is strong evidence that there is no difference between the new page and the old page.\n",
    ">\n",
    ">The `z_score` is smaller than the `ppf` which implies to **fail to reject the null hypothesis** ($H_0$). In other words, there is no evidence that the new page has better performance than the older one.\n",
    ">\n",
    ">Comparing results from the j and k items, all results are aligned with the same conclusions.\n",
    "\n",
    "***"
   ]
  },
  {
   "cell_type": "markdown",
   "metadata": {},
   "source": [
    "<a id='regression'></a>\n",
    "### Part III - A regression approach\n",
    "\n",
    "`1.` In this final part, you will see that the result you achieved in the previous A/B test can also be acheived by performing regression.<br><br>\n",
    "\n",
    "a. Since each row is either a conversion or no conversion, what type of regression should you be performing in this case?"
   ]
  },
  {
   "cell_type": "code",
   "execution_count": 44,
   "metadata": {},
   "outputs": [
    {
     "data": {
      "text/html": [
       "<div>\n",
       "<style scoped>\n",
       "    .dataframe tbody tr th:only-of-type {\n",
       "        vertical-align: middle;\n",
       "    }\n",
       "\n",
       "    .dataframe tbody tr th {\n",
       "        vertical-align: top;\n",
       "    }\n",
       "\n",
       "    .dataframe thead th {\n",
       "        text-align: right;\n",
       "    }\n",
       "</style>\n",
       "<table border=\"1\" class=\"dataframe\">\n",
       "  <thead>\n",
       "    <tr style=\"text-align: right;\">\n",
       "      <th></th>\n",
       "      <th>user_id</th>\n",
       "      <th>timestamp</th>\n",
       "      <th>group</th>\n",
       "      <th>landing_page</th>\n",
       "      <th>converted</th>\n",
       "    </tr>\n",
       "  </thead>\n",
       "  <tbody>\n",
       "    <tr>\n",
       "      <th>2</th>\n",
       "      <td>661590</td>\n",
       "      <td>2017-01-11 16:55:06.154213</td>\n",
       "      <td>treatment</td>\n",
       "      <td>new_page</td>\n",
       "      <td>0</td>\n",
       "    </tr>\n",
       "    <tr>\n",
       "      <th>3</th>\n",
       "      <td>853541</td>\n",
       "      <td>2017-01-08 18:28:03.143765</td>\n",
       "      <td>treatment</td>\n",
       "      <td>new_page</td>\n",
       "      <td>0</td>\n",
       "    </tr>\n",
       "    <tr>\n",
       "      <th>6</th>\n",
       "      <td>679687</td>\n",
       "      <td>2017-01-19 03:26:46.940749</td>\n",
       "      <td>treatment</td>\n",
       "      <td>new_page</td>\n",
       "      <td>1</td>\n",
       "    </tr>\n",
       "    <tr>\n",
       "      <th>8</th>\n",
       "      <td>817355</td>\n",
       "      <td>2017-01-04 17:58:08.979471</td>\n",
       "      <td>treatment</td>\n",
       "      <td>new_page</td>\n",
       "      <td>1</td>\n",
       "    </tr>\n",
       "    <tr>\n",
       "      <th>9</th>\n",
       "      <td>839785</td>\n",
       "      <td>2017-01-15 18:11:06.610965</td>\n",
       "      <td>treatment</td>\n",
       "      <td>new_page</td>\n",
       "      <td>1</td>\n",
       "    </tr>\n",
       "  </tbody>\n",
       "</table>\n",
       "</div>"
      ],
      "text/plain": [
       "   user_id                  timestamp      group landing_page  converted\n",
       "2   661590 2017-01-11 16:55:06.154213  treatment     new_page          0\n",
       "3   853541 2017-01-08 18:28:03.143765  treatment     new_page          0\n",
       "6   679687 2017-01-19 03:26:46.940749  treatment     new_page          1\n",
       "8   817355 2017-01-04 17:58:08.979471  treatment     new_page          1\n",
       "9   839785 2017-01-15 18:11:06.610965  treatment     new_page          1"
      ]
     },
     "execution_count": 44,
     "metadata": {},
     "output_type": "execute_result"
    }
   ],
   "source": [
    "# Printing the first 5 rows.\n",
    "df2.head()"
   ]
  },
  {
   "cell_type": "markdown",
   "metadata": {},
   "source": [
    ">**Answer:** Since the objective is to predict a conversion or not (a classification), the **Logistic Regression** is more appropriate to perform it."
   ]
  },
  {
   "cell_type": "markdown",
   "metadata": {},
   "source": [
    "b. The goal is to use **statsmodels** to fit the regression model you specified in part **a.** to see if there is a significant difference in conversion based on which page a customer receives.  However, you first need to create a column for the intercept, and create a dummy variable column for which page each user received.  Add an **intercept** column, as well as an **ab_page** column, which is 1 when an individual receives the **treatment** and 0 if **control**."
   ]
  },
  {
   "cell_type": "code",
   "execution_count": 45,
   "metadata": {},
   "outputs": [
    {
     "data": {
      "text/html": [
       "<div>\n",
       "<style scoped>\n",
       "    .dataframe tbody tr th:only-of-type {\n",
       "        vertical-align: middle;\n",
       "    }\n",
       "\n",
       "    .dataframe tbody tr th {\n",
       "        vertical-align: top;\n",
       "    }\n",
       "\n",
       "    .dataframe thead th {\n",
       "        text-align: right;\n",
       "    }\n",
       "</style>\n",
       "<table border=\"1\" class=\"dataframe\">\n",
       "  <thead>\n",
       "    <tr style=\"text-align: right;\">\n",
       "      <th></th>\n",
       "      <th>user_id</th>\n",
       "      <th>timestamp</th>\n",
       "      <th>group</th>\n",
       "      <th>landing_page</th>\n",
       "      <th>converted</th>\n",
       "      <th>intercept</th>\n",
       "      <th>control</th>\n",
       "      <th>ab_page</th>\n",
       "    </tr>\n",
       "  </thead>\n",
       "  <tbody>\n",
       "    <tr>\n",
       "      <th>2</th>\n",
       "      <td>661590</td>\n",
       "      <td>2017-01-11 16:55:06.154213</td>\n",
       "      <td>treatment</td>\n",
       "      <td>new_page</td>\n",
       "      <td>0</td>\n",
       "      <td>1</td>\n",
       "      <td>0</td>\n",
       "      <td>1</td>\n",
       "    </tr>\n",
       "    <tr>\n",
       "      <th>3</th>\n",
       "      <td>853541</td>\n",
       "      <td>2017-01-08 18:28:03.143765</td>\n",
       "      <td>treatment</td>\n",
       "      <td>new_page</td>\n",
       "      <td>0</td>\n",
       "      <td>1</td>\n",
       "      <td>0</td>\n",
       "      <td>1</td>\n",
       "    </tr>\n",
       "    <tr>\n",
       "      <th>6</th>\n",
       "      <td>679687</td>\n",
       "      <td>2017-01-19 03:26:46.940749</td>\n",
       "      <td>treatment</td>\n",
       "      <td>new_page</td>\n",
       "      <td>1</td>\n",
       "      <td>1</td>\n",
       "      <td>0</td>\n",
       "      <td>1</td>\n",
       "    </tr>\n",
       "    <tr>\n",
       "      <th>8</th>\n",
       "      <td>817355</td>\n",
       "      <td>2017-01-04 17:58:08.979471</td>\n",
       "      <td>treatment</td>\n",
       "      <td>new_page</td>\n",
       "      <td>1</td>\n",
       "      <td>1</td>\n",
       "      <td>0</td>\n",
       "      <td>1</td>\n",
       "    </tr>\n",
       "    <tr>\n",
       "      <th>9</th>\n",
       "      <td>839785</td>\n",
       "      <td>2017-01-15 18:11:06.610965</td>\n",
       "      <td>treatment</td>\n",
       "      <td>new_page</td>\n",
       "      <td>1</td>\n",
       "      <td>1</td>\n",
       "      <td>0</td>\n",
       "      <td>1</td>\n",
       "    </tr>\n",
       "  </tbody>\n",
       "</table>\n",
       "</div>"
      ],
      "text/plain": [
       "   user_id                  timestamp      group landing_page  converted  \\\n",
       "2   661590 2017-01-11 16:55:06.154213  treatment     new_page          0   \n",
       "3   853541 2017-01-08 18:28:03.143765  treatment     new_page          0   \n",
       "6   679687 2017-01-19 03:26:46.940749  treatment     new_page          1   \n",
       "8   817355 2017-01-04 17:58:08.979471  treatment     new_page          1   \n",
       "9   839785 2017-01-15 18:11:06.610965  treatment     new_page          1   \n",
       "\n",
       "   intercept  control  ab_page  \n",
       "2          1        0        1  \n",
       "3          1        0        1  \n",
       "6          1        0        1  \n",
       "8          1        0        1  \n",
       "9          1        0        1  "
      ]
     },
     "execution_count": 45,
     "metadata": {},
     "output_type": "execute_result"
    }
   ],
   "source": [
    "# Copying df2 to create a dataframe specific to this project part.\n",
    "df_logit = df2.copy()\n",
    "\n",
    "# Adding the Intercept column.\n",
    "df_logit['intercept'] = 1\n",
    "\n",
    "# Converting categorical variables in dummies. Bear in mind, to name treatment as ab_page\n",
    "df_logit[['control','ab_page']] = pd.get_dummies(df_logit['group'])\n",
    "\n",
    "# Printing the first 5 rows.\n",
    "df_logit.head()"
   ]
  },
  {
   "cell_type": "markdown",
   "metadata": {},
   "source": [
    "c. Use **statsmodels** to import your regression model.  Instantiate the model, and fit the model using the two columns you created in part **b.** to predict whether or not an individual converts."
   ]
  },
  {
   "cell_type": "code",
   "execution_count": 46,
   "metadata": {},
   "outputs": [
    {
     "name": "stdout",
     "output_type": "stream",
     "text": [
      "Optimization terminated successfully.\n",
      "         Current function value: 0.366118\n",
      "         Iterations 6\n"
     ]
    }
   ],
   "source": [
    "# Creating an object.\n",
    "lm_logit = sm.Logit(df_logit['converted'],df_logit[['intercept','ab_page']])\n",
    "\n",
    "# Calculating the coefficients/Fitting the model.\n",
    "results = lm_logit.fit()"
   ]
  },
  {
   "cell_type": "markdown",
   "metadata": {},
   "source": [
    "d. Provide the summary of your model below, and use it as necessary to answer the following questions."
   ]
  },
  {
   "cell_type": "code",
   "execution_count": 47,
   "metadata": {},
   "outputs": [
    {
     "data": {
      "text/html": [
       "<table class=\"simpletable\">\n",
       "<caption>Logit Regression Results</caption>\n",
       "<tr>\n",
       "  <th>Dep. Variable:</th>     <td>converted</td>    <th>  No. Observations:  </th>   <td>290584</td>   \n",
       "</tr>\n",
       "<tr>\n",
       "  <th>Model:</th>               <td>Logit</td>      <th>  Df Residuals:      </th>   <td>290582</td>   \n",
       "</tr>\n",
       "<tr>\n",
       "  <th>Method:</th>               <td>MLE</td>       <th>  Df Model:          </th>   <td>     1</td>   \n",
       "</tr>\n",
       "<tr>\n",
       "  <th>Date:</th>          <td>Thu, 17 Jan 2019</td> <th>  Pseudo R-squ.:     </th>  <td>8.077e-06</td> \n",
       "</tr>\n",
       "<tr>\n",
       "  <th>Time:</th>              <td>21:30:09</td>     <th>  Log-Likelihood:    </th> <td>-1.0639e+05</td>\n",
       "</tr>\n",
       "<tr>\n",
       "  <th>converged:</th>           <td>True</td>       <th>  LL-Null:           </th> <td>-1.0639e+05</td>\n",
       "</tr>\n",
       "<tr>\n",
       "  <th> </th>                      <td> </td>        <th>  LLR p-value:       </th>   <td>0.1899</td>   \n",
       "</tr>\n",
       "</table>\n",
       "<table class=\"simpletable\">\n",
       "<tr>\n",
       "      <td></td>         <th>coef</th>     <th>std err</th>      <th>z</th>      <th>P>|z|</th>  <th>[0.025</th>    <th>0.975]</th>  \n",
       "</tr>\n",
       "<tr>\n",
       "  <th>intercept</th> <td>   -1.9888</td> <td>    0.008</td> <td> -246.669</td> <td> 0.000</td> <td>   -2.005</td> <td>   -1.973</td>\n",
       "</tr>\n",
       "<tr>\n",
       "  <th>ab_page</th>   <td>   -0.0150</td> <td>    0.011</td> <td>   -1.311</td> <td> 0.190</td> <td>   -0.037</td> <td>    0.007</td>\n",
       "</tr>\n",
       "</table>"
      ],
      "text/plain": [
       "<class 'statsmodels.iolib.summary.Summary'>\n",
       "\"\"\"\n",
       "                           Logit Regression Results                           \n",
       "==============================================================================\n",
       "Dep. Variable:              converted   No. Observations:               290584\n",
       "Model:                          Logit   Df Residuals:                   290582\n",
       "Method:                           MLE   Df Model:                            1\n",
       "Date:                Thu, 17 Jan 2019   Pseudo R-squ.:               8.077e-06\n",
       "Time:                        21:30:09   Log-Likelihood:            -1.0639e+05\n",
       "converged:                       True   LL-Null:                   -1.0639e+05\n",
       "                                        LLR p-value:                    0.1899\n",
       "==============================================================================\n",
       "                 coef    std err          z      P>|z|      [0.025      0.975]\n",
       "------------------------------------------------------------------------------\n",
       "intercept     -1.9888      0.008   -246.669      0.000      -2.005      -1.973\n",
       "ab_page       -0.0150      0.011     -1.311      0.190      -0.037       0.007\n",
       "==============================================================================\n",
       "\"\"\""
      ]
     },
     "execution_count": 47,
     "metadata": {},
     "output_type": "execute_result"
    }
   ],
   "source": [
    "# Printing the summary.\n",
    "results.summary()"
   ]
  },
  {
   "cell_type": "markdown",
   "metadata": {},
   "source": [
    "e. What is the p-value associated with **ab_page**? Why does it differ from the value you found in the **Part II**?<br><br>  **Hint**: What are the null and alternative hypotheses associated with your regression model, and how do they compare to the null and alternative hypotheses in the **Part II**?"
   ]
  },
  {
   "cell_type": "markdown",
   "metadata": {},
   "source": [
    ">**Answer:** Regarding the `p-value` associate with **ab_page**, unfortunately, the `p-value` is greater than the $\\alpha$ (assuming 0.05) and for this reason we fail to reject the null hypothesis ($H_0$). Put differently, there is no statistical evidence that the new page has better performance than the old version.\n",
    ">\n",
    ">$$\\text{p-value} > \\alpha$$\n",
    ">$$0.190 > 0.05$$\n",
    ">\n",
    ">Recall, in **Part II** I have posed in equation (1) these hypotheses:\n",
    ">\n",
    ">$$H_0: p_{new} - p_{old} \\leq 0 $$\n",
    ">$$H_1: p_{new} - p_{old} > 0 \\tag{1}$$ \n",
    ">\n",
    ">In this case above the hypotheses are **right tailed test**.\n",
    ">\n",
    ">According to Lesson 14, the hypotheses behind the scenes of the OLS/Logit methods are **two-tailed test** as you can see below:\n",
    ">\n",
    ">$$ H_0 : intercept = 0 $$\n",
    ">$$H_1 : intercept \\neq 0 \\tag{2}$$\n",
    ">\n",
    ">Have in mind, the `ab_pages` variable has similar hypotheses.</em>\n",
    ">\n",
    ">$$ H_0 : \\text{ab_pages} = 0 $$\n",
    ">$$H_1 : \\text{ab_pages} \\neq 0 \\tag{3}$$"
   ]
  },
  {
   "cell_type": "markdown",
   "metadata": {},
   "source": [
    "f. Now, you are considering other things that might influence whether or not an individual converts.  Discuss why it is a good idea to consider other factors to add into your regression model.  Are there any disadvantages to adding additional terms into your regression model?"
   ]
  },
  {
   "cell_type": "markdown",
   "metadata": {},
   "source": [
    ">**Answer:** Aggregating new features/variables to the model could be a good idea because this new variable might explain something that is not yet explained, which implies an improvement in the model.\n",
    ">\n",
    ">Although adding new features increase the R-Squared and the overall quality of the model, this action might have some drawback:\n",
    ">\n",
    ">* Perhaps you are improving the overall quality but you are also adding multicollinearity;\n",
    ">\n",
    "> You can also add higher orders terms, which also enhance the overall model. The disadvantages of this approach:\n",
    ">\n",
    ">* Complexity to interpret the model."
   ]
  },
  {
   "cell_type": "markdown",
   "metadata": {},
   "source": [
    "g. Now along with testing if the conversion rate changes for different pages, also add an effect based on which country a user lives. You will need to read in the **countries.csv** dataset and merge together your datasets on the approporiate rows.  [Here](https://pandas.pydata.org/pandas-docs/stable/generated/pandas.DataFrame.join.html) are the docs for joining tables. "
   ]
  },
  {
   "cell_type": "code",
   "execution_count": 48,
   "metadata": {},
   "outputs": [
    {
     "data": {
      "text/html": [
       "<div>\n",
       "<style scoped>\n",
       "    .dataframe tbody tr th:only-of-type {\n",
       "        vertical-align: middle;\n",
       "    }\n",
       "\n",
       "    .dataframe tbody tr th {\n",
       "        vertical-align: top;\n",
       "    }\n",
       "\n",
       "    .dataframe thead th {\n",
       "        text-align: right;\n",
       "    }\n",
       "</style>\n",
       "<table border=\"1\" class=\"dataframe\">\n",
       "  <thead>\n",
       "    <tr style=\"text-align: right;\">\n",
       "      <th></th>\n",
       "      <th>user_id</th>\n",
       "      <th>country</th>\n",
       "    </tr>\n",
       "  </thead>\n",
       "  <tbody>\n",
       "    <tr>\n",
       "      <th>0</th>\n",
       "      <td>834778</td>\n",
       "      <td>UK</td>\n",
       "    </tr>\n",
       "    <tr>\n",
       "      <th>1</th>\n",
       "      <td>928468</td>\n",
       "      <td>US</td>\n",
       "    </tr>\n",
       "    <tr>\n",
       "      <th>2</th>\n",
       "      <td>822059</td>\n",
       "      <td>UK</td>\n",
       "    </tr>\n",
       "    <tr>\n",
       "      <th>3</th>\n",
       "      <td>711597</td>\n",
       "      <td>UK</td>\n",
       "    </tr>\n",
       "    <tr>\n",
       "      <th>4</th>\n",
       "      <td>710616</td>\n",
       "      <td>UK</td>\n",
       "    </tr>\n",
       "  </tbody>\n",
       "</table>\n",
       "</div>"
      ],
      "text/plain": [
       "   user_id country\n",
       "0   834778      UK\n",
       "1   928468      US\n",
       "2   822059      UK\n",
       "3   711597      UK\n",
       "4   710616      UK"
      ]
     },
     "execution_count": 48,
     "metadata": {},
     "output_type": "execute_result"
    }
   ],
   "source": [
    "# Loading the Countries Dataframe.\n",
    "df_countries = pd.read_csv('01-Dataset/countries.csv')\n",
    "\n",
    "# Printing the first 5 rows.\n",
    "df_countries.head()"
   ]
  },
  {
   "cell_type": "markdown",
   "metadata": {},
   "source": [
    "#### Categories of country"
   ]
  },
  {
   "cell_type": "code",
   "execution_count": 49,
   "metadata": {},
   "outputs": [
    {
     "data": {
      "text/plain": [
       "US    203619\n",
       "UK     72466\n",
       "CA     14499\n",
       "Name: country, dtype: int64"
      ]
     },
     "execution_count": 49,
     "metadata": {},
     "output_type": "execute_result"
    }
   ],
   "source": [
    "# How many countries there are in country column?\n",
    "df_countries.country.value_counts()"
   ]
  },
  {
   "cell_type": "markdown",
   "metadata": {},
   "source": [
    "#### Duplicated user_id"
   ]
  },
  {
   "cell_type": "code",
   "execution_count": 50,
   "metadata": {},
   "outputs": [
    {
     "name": "stdout",
     "output_type": "stream",
     "text": [
      "Duplicated user_id: 0\n"
     ]
    }
   ],
   "source": [
    "# No duplicated user_id.\n",
    "print(\"Duplicated user_id:\", sum(df_countries.duplicated()))"
   ]
  },
  {
   "cell_type": "markdown",
   "metadata": {},
   "source": [
    "#### Merging Data Frames\n",
    "\n",
    "Here I will bind the df_logit and df_countries using the `user_id` as a key."
   ]
  },
  {
   "cell_type": "code",
   "execution_count": 51,
   "metadata": {},
   "outputs": [
    {
     "data": {
      "text/html": [
       "<div>\n",
       "<style scoped>\n",
       "    .dataframe tbody tr th:only-of-type {\n",
       "        vertical-align: middle;\n",
       "    }\n",
       "\n",
       "    .dataframe tbody tr th {\n",
       "        vertical-align: top;\n",
       "    }\n",
       "\n",
       "    .dataframe thead th {\n",
       "        text-align: right;\n",
       "    }\n",
       "</style>\n",
       "<table border=\"1\" class=\"dataframe\">\n",
       "  <thead>\n",
       "    <tr style=\"text-align: right;\">\n",
       "      <th></th>\n",
       "      <th>user_id</th>\n",
       "      <th>timestamp</th>\n",
       "      <th>group</th>\n",
       "      <th>landing_page</th>\n",
       "      <th>converted</th>\n",
       "      <th>intercept</th>\n",
       "      <th>control</th>\n",
       "      <th>ab_page</th>\n",
       "      <th>country</th>\n",
       "    </tr>\n",
       "  </thead>\n",
       "  <tbody>\n",
       "    <tr>\n",
       "      <th>0</th>\n",
       "      <td>661590</td>\n",
       "      <td>2017-01-11 16:55:06.154213</td>\n",
       "      <td>treatment</td>\n",
       "      <td>new_page</td>\n",
       "      <td>0</td>\n",
       "      <td>1</td>\n",
       "      <td>0</td>\n",
       "      <td>1</td>\n",
       "      <td>US</td>\n",
       "    </tr>\n",
       "    <tr>\n",
       "      <th>1</th>\n",
       "      <td>853541</td>\n",
       "      <td>2017-01-08 18:28:03.143765</td>\n",
       "      <td>treatment</td>\n",
       "      <td>new_page</td>\n",
       "      <td>0</td>\n",
       "      <td>1</td>\n",
       "      <td>0</td>\n",
       "      <td>1</td>\n",
       "      <td>US</td>\n",
       "    </tr>\n",
       "    <tr>\n",
       "      <th>2</th>\n",
       "      <td>679687</td>\n",
       "      <td>2017-01-19 03:26:46.940749</td>\n",
       "      <td>treatment</td>\n",
       "      <td>new_page</td>\n",
       "      <td>1</td>\n",
       "      <td>1</td>\n",
       "      <td>0</td>\n",
       "      <td>1</td>\n",
       "      <td>CA</td>\n",
       "    </tr>\n",
       "    <tr>\n",
       "      <th>3</th>\n",
       "      <td>817355</td>\n",
       "      <td>2017-01-04 17:58:08.979471</td>\n",
       "      <td>treatment</td>\n",
       "      <td>new_page</td>\n",
       "      <td>1</td>\n",
       "      <td>1</td>\n",
       "      <td>0</td>\n",
       "      <td>1</td>\n",
       "      <td>UK</td>\n",
       "    </tr>\n",
       "    <tr>\n",
       "      <th>4</th>\n",
       "      <td>839785</td>\n",
       "      <td>2017-01-15 18:11:06.610965</td>\n",
       "      <td>treatment</td>\n",
       "      <td>new_page</td>\n",
       "      <td>1</td>\n",
       "      <td>1</td>\n",
       "      <td>0</td>\n",
       "      <td>1</td>\n",
       "      <td>CA</td>\n",
       "    </tr>\n",
       "  </tbody>\n",
       "</table>\n",
       "</div>"
      ],
      "text/plain": [
       "   user_id                  timestamp      group landing_page  converted  \\\n",
       "0   661590 2017-01-11 16:55:06.154213  treatment     new_page          0   \n",
       "1   853541 2017-01-08 18:28:03.143765  treatment     new_page          0   \n",
       "2   679687 2017-01-19 03:26:46.940749  treatment     new_page          1   \n",
       "3   817355 2017-01-04 17:58:08.979471  treatment     new_page          1   \n",
       "4   839785 2017-01-15 18:11:06.610965  treatment     new_page          1   \n",
       "\n",
       "   intercept  control  ab_page country  \n",
       "0          1        0        1      US  \n",
       "1          1        0        1      US  \n",
       "2          1        0        1      CA  \n",
       "3          1        0        1      UK  \n",
       "4          1        0        1      CA  "
      ]
     },
     "execution_count": 51,
     "metadata": {},
     "output_type": "execute_result"
    }
   ],
   "source": [
    "# Using the pandas merge method to bind these two dataframes.\n",
    "df_merge = pd.merge(df_logit, df_countries, on = 'user_id')\n",
    "\n",
    "# Printing the first 5 rows of df_clean_countries\n",
    "df_merge.head()"
   ]
  },
  {
   "cell_type": "markdown",
   "metadata": {},
   "source": [
    "#### Creating the Dummies Variables\n",
    "\n",
    "As you can see the `country` should be converted in two columns.\n",
    "\n",
    "The baseline for the `converted` column is `control`, and I will adopt `US` as baseline for `country`"
   ]
  },
  {
   "cell_type": "code",
   "execution_count": 52,
   "metadata": {},
   "outputs": [
    {
     "data": {
      "text/html": [
       "<div>\n",
       "<style scoped>\n",
       "    .dataframe tbody tr th:only-of-type {\n",
       "        vertical-align: middle;\n",
       "    }\n",
       "\n",
       "    .dataframe tbody tr th {\n",
       "        vertical-align: top;\n",
       "    }\n",
       "\n",
       "    .dataframe thead th {\n",
       "        text-align: right;\n",
       "    }\n",
       "</style>\n",
       "<table border=\"1\" class=\"dataframe\">\n",
       "  <thead>\n",
       "    <tr style=\"text-align: right;\">\n",
       "      <th></th>\n",
       "      <th>user_id</th>\n",
       "      <th>timestamp</th>\n",
       "      <th>group</th>\n",
       "      <th>landing_page</th>\n",
       "      <th>converted</th>\n",
       "      <th>intercept</th>\n",
       "      <th>control</th>\n",
       "      <th>ab_page</th>\n",
       "      <th>country</th>\n",
       "      <th>CA</th>\n",
       "      <th>UK</th>\n",
       "      <th>US</th>\n",
       "    </tr>\n",
       "  </thead>\n",
       "  <tbody>\n",
       "    <tr>\n",
       "      <th>0</th>\n",
       "      <td>661590</td>\n",
       "      <td>2017-01-11 16:55:06.154213</td>\n",
       "      <td>treatment</td>\n",
       "      <td>new_page</td>\n",
       "      <td>0</td>\n",
       "      <td>1</td>\n",
       "      <td>0</td>\n",
       "      <td>1</td>\n",
       "      <td>US</td>\n",
       "      <td>0</td>\n",
       "      <td>0</td>\n",
       "      <td>1</td>\n",
       "    </tr>\n",
       "    <tr>\n",
       "      <th>1</th>\n",
       "      <td>853541</td>\n",
       "      <td>2017-01-08 18:28:03.143765</td>\n",
       "      <td>treatment</td>\n",
       "      <td>new_page</td>\n",
       "      <td>0</td>\n",
       "      <td>1</td>\n",
       "      <td>0</td>\n",
       "      <td>1</td>\n",
       "      <td>US</td>\n",
       "      <td>0</td>\n",
       "      <td>0</td>\n",
       "      <td>1</td>\n",
       "    </tr>\n",
       "    <tr>\n",
       "      <th>2</th>\n",
       "      <td>679687</td>\n",
       "      <td>2017-01-19 03:26:46.940749</td>\n",
       "      <td>treatment</td>\n",
       "      <td>new_page</td>\n",
       "      <td>1</td>\n",
       "      <td>1</td>\n",
       "      <td>0</td>\n",
       "      <td>1</td>\n",
       "      <td>CA</td>\n",
       "      <td>1</td>\n",
       "      <td>0</td>\n",
       "      <td>0</td>\n",
       "    </tr>\n",
       "    <tr>\n",
       "      <th>3</th>\n",
       "      <td>817355</td>\n",
       "      <td>2017-01-04 17:58:08.979471</td>\n",
       "      <td>treatment</td>\n",
       "      <td>new_page</td>\n",
       "      <td>1</td>\n",
       "      <td>1</td>\n",
       "      <td>0</td>\n",
       "      <td>1</td>\n",
       "      <td>UK</td>\n",
       "      <td>0</td>\n",
       "      <td>1</td>\n",
       "      <td>0</td>\n",
       "    </tr>\n",
       "    <tr>\n",
       "      <th>4</th>\n",
       "      <td>839785</td>\n",
       "      <td>2017-01-15 18:11:06.610965</td>\n",
       "      <td>treatment</td>\n",
       "      <td>new_page</td>\n",
       "      <td>1</td>\n",
       "      <td>1</td>\n",
       "      <td>0</td>\n",
       "      <td>1</td>\n",
       "      <td>CA</td>\n",
       "      <td>1</td>\n",
       "      <td>0</td>\n",
       "      <td>0</td>\n",
       "    </tr>\n",
       "  </tbody>\n",
       "</table>\n",
       "</div>"
      ],
      "text/plain": [
       "   user_id                  timestamp      group landing_page  converted  \\\n",
       "0   661590 2017-01-11 16:55:06.154213  treatment     new_page          0   \n",
       "1   853541 2017-01-08 18:28:03.143765  treatment     new_page          0   \n",
       "2   679687 2017-01-19 03:26:46.940749  treatment     new_page          1   \n",
       "3   817355 2017-01-04 17:58:08.979471  treatment     new_page          1   \n",
       "4   839785 2017-01-15 18:11:06.610965  treatment     new_page          1   \n",
       "\n",
       "   intercept  control  ab_page country  CA  UK  US  \n",
       "0          1        0        1      US   0   0   1  \n",
       "1          1        0        1      US   0   0   1  \n",
       "2          1        0        1      CA   1   0   0  \n",
       "3          1        0        1      UK   0   1   0  \n",
       "4          1        0        1      CA   1   0   0  "
      ]
     },
     "execution_count": 52,
     "metadata": {},
     "output_type": "execute_result"
    }
   ],
   "source": [
    "# Creating the Dummies variables for country column.\n",
    "df_merge[['CA','UK','US']] = pd.get_dummies(df_merge['country'])\n",
    "\n",
    "# Printing\n",
    "df_merge.head()"
   ]
  },
  {
   "cell_type": "markdown",
   "metadata": {},
   "source": [
    "#### Converting rates by country"
   ]
  },
  {
   "cell_type": "code",
   "execution_count": 53,
   "metadata": {},
   "outputs": [
    {
     "name": "stdout",
     "output_type": "stream",
     "text": [
      "Conversion US: 0.1195\n",
      "Conversion UK: 0.1206\n",
      "Conversion CA: 0.1153\n"
     ]
    }
   ],
   "source": [
    "# Conversion rating by country.\n",
    "convert_CA = df_merge[df_merge.CA.astype(bool)].converted.mean()\n",
    "convert_UK = df_merge[df_merge.UK.astype(bool)].converted.mean()\n",
    "convert_US = df_merge[df_merge.US.astype(bool)].converted.mean()\n",
    "\n",
    "# Conversion rate by country.\n",
    "print(\"Conversion US:\", round(convert_US,4))\n",
    "print(\"Conversion UK:\", round(convert_UK,4))\n",
    "print(\"Conversion CA:\", round(convert_CA,4))"
   ]
  },
  {
   "cell_type": "markdown",
   "metadata": {},
   "source": [
    "#### Dropping baseline variables"
   ]
  },
  {
   "cell_type": "code",
   "execution_count": 54,
   "metadata": {},
   "outputs": [
    {
     "data": {
      "text/html": [
       "<div>\n",
       "<style scoped>\n",
       "    .dataframe tbody tr th:only-of-type {\n",
       "        vertical-align: middle;\n",
       "    }\n",
       "\n",
       "    .dataframe tbody tr th {\n",
       "        vertical-align: top;\n",
       "    }\n",
       "\n",
       "    .dataframe thead th {\n",
       "        text-align: right;\n",
       "    }\n",
       "</style>\n",
       "<table border=\"1\" class=\"dataframe\">\n",
       "  <thead>\n",
       "    <tr style=\"text-align: right;\">\n",
       "      <th></th>\n",
       "      <th>user_id</th>\n",
       "      <th>timestamp</th>\n",
       "      <th>group</th>\n",
       "      <th>landing_page</th>\n",
       "      <th>converted</th>\n",
       "      <th>intercept</th>\n",
       "      <th>ab_page</th>\n",
       "      <th>CA</th>\n",
       "      <th>UK</th>\n",
       "    </tr>\n",
       "  </thead>\n",
       "  <tbody>\n",
       "    <tr>\n",
       "      <th>0</th>\n",
       "      <td>661590</td>\n",
       "      <td>2017-01-11 16:55:06.154213</td>\n",
       "      <td>treatment</td>\n",
       "      <td>new_page</td>\n",
       "      <td>0</td>\n",
       "      <td>1</td>\n",
       "      <td>1</td>\n",
       "      <td>0</td>\n",
       "      <td>0</td>\n",
       "    </tr>\n",
       "    <tr>\n",
       "      <th>1</th>\n",
       "      <td>853541</td>\n",
       "      <td>2017-01-08 18:28:03.143765</td>\n",
       "      <td>treatment</td>\n",
       "      <td>new_page</td>\n",
       "      <td>0</td>\n",
       "      <td>1</td>\n",
       "      <td>1</td>\n",
       "      <td>0</td>\n",
       "      <td>0</td>\n",
       "    </tr>\n",
       "    <tr>\n",
       "      <th>2</th>\n",
       "      <td>679687</td>\n",
       "      <td>2017-01-19 03:26:46.940749</td>\n",
       "      <td>treatment</td>\n",
       "      <td>new_page</td>\n",
       "      <td>1</td>\n",
       "      <td>1</td>\n",
       "      <td>1</td>\n",
       "      <td>1</td>\n",
       "      <td>0</td>\n",
       "    </tr>\n",
       "    <tr>\n",
       "      <th>3</th>\n",
       "      <td>817355</td>\n",
       "      <td>2017-01-04 17:58:08.979471</td>\n",
       "      <td>treatment</td>\n",
       "      <td>new_page</td>\n",
       "      <td>1</td>\n",
       "      <td>1</td>\n",
       "      <td>1</td>\n",
       "      <td>0</td>\n",
       "      <td>1</td>\n",
       "    </tr>\n",
       "    <tr>\n",
       "      <th>4</th>\n",
       "      <td>839785</td>\n",
       "      <td>2017-01-15 18:11:06.610965</td>\n",
       "      <td>treatment</td>\n",
       "      <td>new_page</td>\n",
       "      <td>1</td>\n",
       "      <td>1</td>\n",
       "      <td>1</td>\n",
       "      <td>1</td>\n",
       "      <td>0</td>\n",
       "    </tr>\n",
       "  </tbody>\n",
       "</table>\n",
       "</div>"
      ],
      "text/plain": [
       "   user_id                  timestamp      group landing_page  converted  \\\n",
       "0   661590 2017-01-11 16:55:06.154213  treatment     new_page          0   \n",
       "1   853541 2017-01-08 18:28:03.143765  treatment     new_page          0   \n",
       "2   679687 2017-01-19 03:26:46.940749  treatment     new_page          1   \n",
       "3   817355 2017-01-04 17:58:08.979471  treatment     new_page          1   \n",
       "4   839785 2017-01-15 18:11:06.610965  treatment     new_page          1   \n",
       "\n",
       "   intercept  ab_page  CA  UK  \n",
       "0          1        1   0   0  \n",
       "1          1        1   0   0  \n",
       "2          1        1   1   0  \n",
       "3          1        1   0   1  \n",
       "4          1        1   1   0  "
      ]
     },
     "execution_count": 54,
     "metadata": {},
     "output_type": "execute_result"
    }
   ],
   "source": [
    "# Dropping unnecessary columns.\n",
    "df_clean = df_merge.drop(['control', 'country', 'US'], axis = 1)\n",
    "\n",
    "# Printing the first 5 rows of the cleaned dataframe.\n",
    "df_clean.head()"
   ]
  },
  {
   "cell_type": "code",
   "execution_count": 55,
   "metadata": {},
   "outputs": [
    {
     "name": "stdout",
     "output_type": "stream",
     "text": [
      "Optimization terminated successfully.\n",
      "         Current function value: 0.366116\n",
      "         Iterations 6\n"
     ]
    },
    {
     "data": {
      "text/html": [
       "<table class=\"simpletable\">\n",
       "<caption>Logit Regression Results</caption>\n",
       "<tr>\n",
       "  <th>Dep. Variable:</th>     <td>converted</td>    <th>  No. Observations:  </th>   <td>290584</td>   \n",
       "</tr>\n",
       "<tr>\n",
       "  <th>Model:</th>               <td>Logit</td>      <th>  Df Residuals:      </th>   <td>290581</td>   \n",
       "</tr>\n",
       "<tr>\n",
       "  <th>Method:</th>               <td>MLE</td>       <th>  Df Model:          </th>   <td>     2</td>   \n",
       "</tr>\n",
       "<tr>\n",
       "  <th>Date:</th>          <td>Thu, 17 Jan 2019</td> <th>  Pseudo R-squ.:     </th>  <td>1.521e-05</td> \n",
       "</tr>\n",
       "<tr>\n",
       "  <th>Time:</th>              <td>21:30:13</td>     <th>  Log-Likelihood:    </th> <td>-1.0639e+05</td>\n",
       "</tr>\n",
       "<tr>\n",
       "  <th>converged:</th>           <td>True</td>       <th>  LL-Null:           </th> <td>-1.0639e+05</td>\n",
       "</tr>\n",
       "<tr>\n",
       "  <th> </th>                      <td> </td>        <th>  LLR p-value:       </th>   <td>0.1984</td>   \n",
       "</tr>\n",
       "</table>\n",
       "<table class=\"simpletable\">\n",
       "<tr>\n",
       "      <td></td>         <th>coef</th>     <th>std err</th>      <th>z</th>      <th>P>|z|</th>  <th>[0.025</th>    <th>0.975]</th>  \n",
       "</tr>\n",
       "<tr>\n",
       "  <th>intercept</th> <td>   -1.9967</td> <td>    0.007</td> <td> -292.314</td> <td> 0.000</td> <td>   -2.010</td> <td>   -1.983</td>\n",
       "</tr>\n",
       "<tr>\n",
       "  <th>CA</th>        <td>   -0.0408</td> <td>    0.027</td> <td>   -1.518</td> <td> 0.129</td> <td>   -0.093</td> <td>    0.012</td>\n",
       "</tr>\n",
       "<tr>\n",
       "  <th>UK</th>        <td>    0.0099</td> <td>    0.013</td> <td>    0.746</td> <td> 0.456</td> <td>   -0.016</td> <td>    0.036</td>\n",
       "</tr>\n",
       "</table>"
      ],
      "text/plain": [
       "<class 'statsmodels.iolib.summary.Summary'>\n",
       "\"\"\"\n",
       "                           Logit Regression Results                           \n",
       "==============================================================================\n",
       "Dep. Variable:              converted   No. Observations:               290584\n",
       "Model:                          Logit   Df Residuals:                   290581\n",
       "Method:                           MLE   Df Model:                            2\n",
       "Date:                Thu, 17 Jan 2019   Pseudo R-squ.:               1.521e-05\n",
       "Time:                        21:30:13   Log-Likelihood:            -1.0639e+05\n",
       "converged:                       True   LL-Null:                   -1.0639e+05\n",
       "                                        LLR p-value:                    0.1984\n",
       "==============================================================================\n",
       "                 coef    std err          z      P>|z|      [0.025      0.975]\n",
       "------------------------------------------------------------------------------\n",
       "intercept     -1.9967      0.007   -292.314      0.000      -2.010      -1.983\n",
       "CA            -0.0408      0.027     -1.518      0.129      -0.093       0.012\n",
       "UK             0.0099      0.013      0.746      0.456      -0.016       0.036\n",
       "==============================================================================\n",
       "\"\"\""
      ]
     },
     "execution_count": 55,
     "metadata": {},
     "output_type": "execute_result"
    }
   ],
   "source": [
    "# Creating the object.\n",
    "lm_logit_country = sm.Logit(df_clean['converted'],df_clean[['intercept','CA','UK']])\n",
    "\n",
    "# Fitting the model/Calculating the coefficients.\n",
    "results_country = lm_logit_country.fit()\n",
    "\n",
    "# Printing the summary.\n",
    "results_country.summary()"
   ]
  },
  {
   "cell_type": "markdown",
   "metadata": {},
   "source": [
    "Founded on the coefficients calculated.\n",
    "\n",
    "$$\\text{logit}(p) = \\log(\\frac{p}{1-p}) = \\beta_0 + \\beta_1 \\cdot UK + \\beta_2 \\cdot CA \\tag{4}$$\n",
    "\n",
    "Where:\n",
    "\n",
    "* $\\beta_0:$ -1.9967\n",
    "* $\\beta_1:$ 0.0099\n",
    "* $\\beta_2:$ -0.0408\n",
    "\n",
    "This coefficients could also be calculated creating Table 1.  \n",
    "\n",
    "<br>\n",
    "\n",
    "<center><strong>Table 1 - Number of conversion by country.</strong></center>\n",
    "\n",
    "|Converted|US|UK|CA|Total|\n",
    "|:-:|:-:|:-:|:-:|:-:|\n",
    "|0|179,277|63,727|12,827|255,831|\n",
    "|1|24,342|8,739|1,672|34,753|\n",
    "|Total|203,619|72,466|14,499|290,584|"
   ]
  },
  {
   "cell_type": "code",
   "execution_count": 56,
   "metadata": {},
   "outputs": [
    {
     "data": {
      "text/html": [
       "<div>\n",
       "<style scoped>\n",
       "    .dataframe tbody tr th:only-of-type {\n",
       "        vertical-align: middle;\n",
       "    }\n",
       "\n",
       "    .dataframe tbody tr th {\n",
       "        vertical-align: top;\n",
       "    }\n",
       "\n",
       "    .dataframe thead th {\n",
       "        text-align: right;\n",
       "    }\n",
       "</style>\n",
       "<table border=\"1\" class=\"dataframe\">\n",
       "  <thead>\n",
       "    <tr style=\"text-align: right;\">\n",
       "      <th></th>\n",
       "      <th>US</th>\n",
       "      <th>UK</th>\n",
       "      <th>CA</th>\n",
       "      <th>Total</th>\n",
       "    </tr>\n",
       "  </thead>\n",
       "  <tbody>\n",
       "    <tr>\n",
       "      <th>0</th>\n",
       "      <td>179277</td>\n",
       "      <td>63727</td>\n",
       "      <td>12827</td>\n",
       "      <td>255831</td>\n",
       "    </tr>\n",
       "    <tr>\n",
       "      <th>1</th>\n",
       "      <td>24342</td>\n",
       "      <td>8739</td>\n",
       "      <td>1672</td>\n",
       "      <td>34753</td>\n",
       "    </tr>\n",
       "    <tr>\n",
       "      <th>Total</th>\n",
       "      <td>203619</td>\n",
       "      <td>72466</td>\n",
       "      <td>14499</td>\n",
       "      <td>290584</td>\n",
       "    </tr>\n",
       "  </tbody>\n",
       "</table>\n",
       "</div>"
      ],
      "text/plain": [
       "           US     UK     CA   Total\n",
       "0      179277  63727  12827  255831\n",
       "1       24342   8739   1672   34753\n",
       "Total  203619  72466  14499  290584"
      ]
     },
     "execution_count": 56,
     "metadata": {},
     "output_type": "execute_result"
    }
   ],
   "source": [
    "#Initializing the table_1\n",
    "table_1 = {}\n",
    "\n",
    "# Printing the values from the Table 1. First Row.\n",
    "row_1 = df_merge.query('converted == \"0\"').country.value_counts()\n",
    "\n",
    "# Printing the values from the Table 1. Seconf Row.\n",
    "row_2 = df_merge.query('converted == \"1\"').country.value_counts()\n",
    "\n",
    "# Adding rows to the table_1\n",
    "table_1['0'] = row_1\n",
    "table_1['1'] = row_2\n",
    "\n",
    "# Converting dictionary to Dataframe.\n",
    "table_1 = pd.DataFrame(table_1)\n",
    "\n",
    "# Adding total column.\n",
    "table_1['Total'] = table_1['0'] + table_1['1']\n",
    "\n",
    "# Transposing to be equal to the Table 1 (above).\n",
    "table_1 = table_1.transpose()\n",
    "\n",
    "# Adding other total column.\n",
    "table_1['Total'] = table_1['US'] + table_1['UK'] + table_1['CA']\n",
    "\n",
    "# Printing.\n",
    "table_1"
   ]
  },
  {
   "cell_type": "markdown",
   "metadata": {},
   "source": [
    "Let's calculate the ratio of converted and non-converted by country.\n",
    "\n",
    "$$ratio_{us} = \\frac{24342}{179277} = 0.135778711$$\n",
    "\n",
    "$$ratio_{uk} = \\frac{8739}{63727} = 0.137131828$$\n",
    "\n",
    "$$ratio_{ca} = \\frac{1672}{12827} = 0.130350043$$\n",
    "\n",
    "Bear in mind, these relations above are different from the `convert_CA`, `convert_US`, and `convert_UK`.\n",
    "\n",
    "The $ratio_{us}$, $ratio_{uk}$, and $ratio_{ca}$ try to explain for each non-converted how many convert it yields. "
   ]
  },
  {
   "cell_type": "code",
   "execution_count": 57,
   "metadata": {},
   "outputs": [
    {
     "name": "stdout",
     "output_type": "stream",
     "text": [
      "ratio_us: 0.13577871115647852\n",
      "ratio_uk: 0.13713182795361464\n",
      "ratio_ca: 0.13035004287830357\n"
     ]
    }
   ],
   "source": [
    "# Calculating the ratio converted/non_converted by country.\n",
    "ratio_us, ratio_uk, ratio_ca = row_2/row_1\n",
    "\n",
    "# Printing.\n",
    "print(\"ratio_us:\", ratio_us)\n",
    "print(\"ratio_uk:\", ratio_uk)\n",
    "print(\"ratio_ca:\", ratio_ca)"
   ]
  },
  {
   "cell_type": "markdown",
   "metadata": {},
   "source": [
    "I have adopt `US` as the baseline, for this reason I will divide the $ratio_{uk}$ and $ratio_{ca}$ by $ratio_{us}$.\n",
    "\n",
    "$$\\beta_0 = \\ln(ratio_{us}) = -1.996728842$$\n",
    "\n",
    "$$\\beta_1 = \\ln \\begin{pmatrix} \\frac{ratio_{uk}}{ratio_{us}} \\end{pmatrix} = 0.009916274$$\n",
    "\n",
    "$$\\beta_2 = \\ln \\begin{pmatrix} \\frac{ratio_{ca}}{ratio_{us}} \\end{pmatrix} = -0.040802967$$\n",
    "\n",
    "[I have consulted this reference to answer this item.][stats_ref]\n",
    "\n",
    "[stats_ref]: https://stats.idre.ucla.edu/other/mult-pkg/faq/general/faq-how-do-i-interpret-odds-ratios-in-logistic-regression/"
   ]
  },
  {
   "cell_type": "code",
   "execution_count": 58,
   "metadata": {},
   "outputs": [
    {
     "name": "stdout",
     "output_type": "stream",
     "text": [
      "beta_0: -1.996728842299227\n",
      "beta_1: 0.00991627431814299\n",
      "beta_2: -0.040802967355976695\n"
     ]
    }
   ],
   "source": [
    "# Calculation of betas.\n",
    "print(\"beta_0:\", np.log(ratio_us))\n",
    "print(\"beta_1:\", np.log(ratio_uk/ratio_us))\n",
    "print(\"beta_2:\", np.log(ratio_ca/ratio_us))"
   ]
  },
  {
   "cell_type": "markdown",
   "metadata": {},
   "source": [
    "Founded on the $ratio_{uk}$, $ratio_{ca}$, and $ratio_{us}$ I can draw some conclusions using the relationship between $ratio_{us}$ (my baseline) and the other."
   ]
  },
  {
   "cell_type": "code",
   "execution_count": 59,
   "metadata": {},
   "outputs": [
    {
     "name": "stdout",
     "output_type": "stream",
     "text": [
      "ratio_uk/ratio_us: 1.01\n",
      "ratio_ca/ratio_us: 0.96\n"
     ]
    }
   ],
   "source": [
    "# Printing.\n",
    "print(\"ratio_uk/ratio_us:\", round(ratio_uk/ratio_us, 4))\n",
    "print(\"ratio_ca/ratio_us:\", round(ratio_ca/ratio_us, 4))"
   ]
  },
  {
   "cell_type": "markdown",
   "metadata": {},
   "source": [
    "#### Interpretation\n",
    "\n",
    "Recall, the baseline is `US`, so all the interpretation is based on the `US`.\n",
    "\n",
    "* This fitted model says that, holding `CA` at a fixed value, the odds of getting into an `converted` (converted = 1) for `UK`(country = UK) over the odds of getting into an non-converted for `US` (country = US) is exp(0.0099) = 1.01. In terms of percent change, we can say that the odds for `UK` are 1% higher than the odds for `US`.\n",
    "\n",
    "* Holding `UK` at a fixed value, the odds of getting into an `converted` (converted = 1) for `CA`(country = CA) over the odds of getting into an non-converted for `US` (country = US) is exp(-0.0408) = 0.96. In terms of percent change, we can say that the odds for `CA` are 4% lower than the odds for `US`.\n",
    "\n",
    "Does it appear that country had an impact on conversion?  Don't forget to create dummy variables for these country columns - **Hint: You will need two columns for the three dummy varaibles.** Provide the statistical output as well as a written response to answer this question.\n",
    "\n",
    ">Assuming $\\alpha$ equal to 0.05.\n",
    ">\n",
    ">**Answer:** Both dummies variables, `CA` and `UK`, are not significant because the `p-value` is greater than the $\\alpha$. For this reason, the model fails to reject the null hypothesis, which reinforces the strong evidence that the country does not affect in conversion rate.\n",
    ">\n",
    ">Despite the fact of being significant or not, the effect of these three variables (`US`, `CA` and `UK`) do not have much influence in the conversion rate. Recall, in a condition of [ceteris paribus][ceteris] the `UK` going to have only 1% more than the odds of `US`. On the other hand, also in [ceteris paribus][ceteris], `CA` going to have 4% less than the odds of `US`.\n",
    "\n",
    "[ceteris]: https://en.wikipedia.org/wiki/Ceteris_paribus"
   ]
  },
  {
   "cell_type": "markdown",
   "metadata": {},
   "source": [
    "h. Though you have now looked at the individual factors of country and page on conversion, we would now like to look at an interaction between page and country to see if there significant effects on conversion.  Create the necessary additional columns, and fit the new model.  \n",
    "\n",
    "Provide the summary results, and your conclusions based on the results."
   ]
  },
  {
   "cell_type": "code",
   "execution_count": 60,
   "metadata": {},
   "outputs": [
    {
     "name": "stdout",
     "output_type": "stream",
     "text": [
      "Optimization terminated successfully.\n",
      "         Current function value: 0.366113\n",
      "         Iterations 6\n"
     ]
    },
    {
     "data": {
      "text/html": [
       "<table class=\"simpletable\">\n",
       "<caption>Logit Regression Results</caption>\n",
       "<tr>\n",
       "  <th>Dep. Variable:</th>     <td>converted</td>    <th>  No. Observations:  </th>   <td>290584</td>   \n",
       "</tr>\n",
       "<tr>\n",
       "  <th>Model:</th>               <td>Logit</td>      <th>  Df Residuals:      </th>   <td>290580</td>   \n",
       "</tr>\n",
       "<tr>\n",
       "  <th>Method:</th>               <td>MLE</td>       <th>  Df Model:          </th>   <td>     3</td>   \n",
       "</tr>\n",
       "<tr>\n",
       "  <th>Date:</th>          <td>Thu, 17 Jan 2019</td> <th>  Pseudo R-squ.:     </th>  <td>2.323e-05</td> \n",
       "</tr>\n",
       "<tr>\n",
       "  <th>Time:</th>              <td>21:30:16</td>     <th>  Log-Likelihood:    </th> <td>-1.0639e+05</td>\n",
       "</tr>\n",
       "<tr>\n",
       "  <th>converged:</th>           <td>True</td>       <th>  LL-Null:           </th> <td>-1.0639e+05</td>\n",
       "</tr>\n",
       "<tr>\n",
       "  <th> </th>                      <td> </td>        <th>  LLR p-value:       </th>   <td>0.1760</td>   \n",
       "</tr>\n",
       "</table>\n",
       "<table class=\"simpletable\">\n",
       "<tr>\n",
       "      <td></td>         <th>coef</th>     <th>std err</th>      <th>z</th>      <th>P>|z|</th>  <th>[0.025</th>    <th>0.975]</th>  \n",
       "</tr>\n",
       "<tr>\n",
       "  <th>intercept</th> <td>   -1.9893</td> <td>    0.009</td> <td> -223.763</td> <td> 0.000</td> <td>   -2.007</td> <td>   -1.972</td>\n",
       "</tr>\n",
       "<tr>\n",
       "  <th>ab_page</th>   <td>   -0.0149</td> <td>    0.011</td> <td>   -1.307</td> <td> 0.191</td> <td>   -0.037</td> <td>    0.007</td>\n",
       "</tr>\n",
       "<tr>\n",
       "  <th>CA</th>        <td>   -0.0408</td> <td>    0.027</td> <td>   -1.516</td> <td> 0.130</td> <td>   -0.093</td> <td>    0.012</td>\n",
       "</tr>\n",
       "<tr>\n",
       "  <th>UK</th>        <td>    0.0099</td> <td>    0.013</td> <td>    0.743</td> <td> 0.457</td> <td>   -0.016</td> <td>    0.036</td>\n",
       "</tr>\n",
       "</table>"
      ],
      "text/plain": [
       "<class 'statsmodels.iolib.summary.Summary'>\n",
       "\"\"\"\n",
       "                           Logit Regression Results                           \n",
       "==============================================================================\n",
       "Dep. Variable:              converted   No. Observations:               290584\n",
       "Model:                          Logit   Df Residuals:                   290580\n",
       "Method:                           MLE   Df Model:                            3\n",
       "Date:                Thu, 17 Jan 2019   Pseudo R-squ.:               2.323e-05\n",
       "Time:                        21:30:16   Log-Likelihood:            -1.0639e+05\n",
       "converged:                       True   LL-Null:                   -1.0639e+05\n",
       "                                        LLR p-value:                    0.1760\n",
       "==============================================================================\n",
       "                 coef    std err          z      P>|z|      [0.025      0.975]\n",
       "------------------------------------------------------------------------------\n",
       "intercept     -1.9893      0.009   -223.763      0.000      -2.007      -1.972\n",
       "ab_page       -0.0149      0.011     -1.307      0.191      -0.037       0.007\n",
       "CA            -0.0408      0.027     -1.516      0.130      -0.093       0.012\n",
       "UK             0.0099      0.013      0.743      0.457      -0.016       0.036\n",
       "==============================================================================\n",
       "\"\"\""
      ]
     },
     "execution_count": 60,
     "metadata": {},
     "output_type": "execute_result"
    }
   ],
   "source": [
    "# Creating the object.\n",
    "lm_logit_complete = sm.Logit(df_clean['converted'],df_clean[['intercept', 'ab_page', 'CA', 'UK']])\n",
    "\n",
    "# Fitting the model/Calculating the coefficients.\n",
    "results_complete = lm_logit_complete.fit()\n",
    "\n",
    "# Printing the summary.\n",
    "results_complete.summary()"
   ]
  },
  {
   "cell_type": "code",
   "execution_count": 61,
   "metadata": {},
   "outputs": [
    {
     "data": {
      "text/plain": [
       "ab_page    0.99\n",
       "CA         0.96\n",
       "UK         1.01\n",
       "dtype: float64"
      ]
     },
     "execution_count": 61,
     "metadata": {},
     "output_type": "execute_result"
    }
   ],
   "source": [
    "# Effect of each variale. Baseline: US and control.\n",
    "round(np.exp(results_complete.params[1:]), 2)"
   ]
  },
  {
   "cell_type": "markdown",
   "metadata": {},
   "source": [
    "#### Interpretation\n",
    "\n",
    "Aggregating a new term in the Logistic Regression have not changed the \"old\" coefficients, for this reason, I will only give only an interpretation of the `ab_page`.\n",
    "\n",
    "* Holding `CA` and `UK` at a fixed value, the odds of getting into an `converted` (converted = 1) for `ab_page` (group = treatment) over the odds of getting into an non-converted for `control` (group = control) is exp(-0.0149) = 0.99. In terms of percent change, we can say that the odds for `ab_page` (group = treatment) are 1% less than the odds for `control` (group = control).\n",
    "\n",
    "<a id='answer_regression'></a>\n",
    "\n",
    ">**Answer:** Since the `p-values` of ab_pages, CA, and UK are greater than $\\alpha$ (adopt as 0.05 or 5%), the model fails to reject the hypotheses null. There is no evidence of interaction between conversion rate and country.\n",
    ">\n",
    ">Even adding new variables the model still failing to reject the null hypothesis. \n",
    "\n",
    "***"
   ]
  },
  {
   "cell_type": "markdown",
   "metadata": {},
   "source": [
    "## Conclusions <a id='conclusions'></a>\n",
    "\n",
    "So far we have performed three short studies, Table 2 shows a summary of answers.\n",
    "\n",
    "<br><center><strong>Table 2 - Summary of answers.</strong></center>\n",
    "\n",
    "|Section|Subject|Result|Link|\n",
    "|:-:|:-:|:-:|:-:|\n",
    "|Part I|Probability|There is no evidence to support that the new<br>version of the homepage drives a higher conversion rate|[Answer](#answer_probability)|\n",
    "|Part II|A/B Testing|Fail to reject null hypotheses|[Answer](#answer_abtesting)|\n",
    "|Part III|Regression|Fail to reject null hypotheses|[Answer](#answer_regression)|\n",
    "\n",
    "Finally, there is no statistical evidence to support a website change. For this reason, I strongly recommend staying with the older version until new evidence from new data.\n",
    "\n",
    "I have to emphasize in all test performed in this document the model **fail to reject the null hypothesis**.\n",
    "***"
   ]
  },
  {
   "cell_type": "markdown",
   "metadata": {},
   "source": [
    "***\n",
    "## Finishing Up\n",
    "\n",
    "> Congratulations!  You have reached the end of the A/B Test Results project!  This is the final project in Term 1.  You should be very proud of all you have accomplished!\n",
    "\n",
    "> **Tip**: Once you are satisfied with your work here, check over your report to make sure that it is satisfies all the areas of the rubric (found on the project submission page at the end of the lesson). You should also probably remove all of the \"Tips\" like this one so that the presentation is as polished as possible.\n",
    "\n",
    "\n",
    "## Directions to Submit\n",
    "\n",
    "> Before you submit your project, you need to create a .html or .pdf version of this notebook in the workspace here. To do that, run the code cell below. If it worked correctly, you should get a return code of 0, and you should see the generated .html file in the workspace directory (click on the orange Jupyter icon in the upper left).\n",
    "\n",
    "> Alternatively, you can download this report as .html via the **File** > **Download as** submenu, and then manually upload it into the workspace directory by clicking on the orange Jupyter icon in the upper left, then using the Upload button.\n",
    "\n",
    "> Once you've done this, you can submit your project by clicking on the \"Submit Project\" button in the lower right here. This will create and submit a zip file with this .ipynb doc and the .html or .pdf version you created. Congratulations!\n",
    "***"
   ]
  },
  {
   "cell_type": "markdown",
   "metadata": {},
   "source": [
    "## References <a id='references'></a>\n",
    "\n",
    "\n",
    "* Pandas Data Frame Join, [website][ref_01];\n",
    "* Two-sample Proportion Hypothesis Testing with Statsmodels, [website][ref_02];\n",
    "* Proportions z-test, [website][ref_03];\n",
    "* HOW DO I INTERPRET ODDS RATIOS IN LOGISTIC REGRESSION?, [website][ref_04];\n",
    "* Ceteris Paribus, Wikipedia, [website][ref_05];\n",
    "* Udacity, ND 111 notebooks, [website][ref_06];\n",
    "* Library Random, Package Documentation, [website][ref_07];\n",
    "\n",
    "\n",
    "\n",
    "\n",
    "[ref_01]: https://pandas.pydata.org/pandas-docs/stable/generated/pandas.DataFrame.join.html\n",
    "[ref_02]: http://knowledgetack.com/python/statsmodels/proportions_ztest/\n",
    "[ref_03]: https://www.statsmodels.org/dev/generated/statsmodels.stats.proportion.proportions_ztest.html\n",
    "[ref_04]: https://stats.idre.ucla.edu/other/mult-pkg/faq/general/faq-how-do-i-interpret-odds-ratios-in-logistic-regression/\n",
    "[ref_05]: https://en.wikipedia.org/wiki/Ceteris_paribus\n",
    "[ref_06]: https://www.udacity.com\n",
    "[ref_07]: https://docs.python.org/2/library/random.html\n",
    "\n",
    "\n",
    "\n",
    "\n",
    "***"
   ]
  },
  {
   "cell_type": "code",
   "execution_count": 62,
   "metadata": {},
   "outputs": [
    {
     "data": {
      "text/plain": [
       "0"
      ]
     },
     "execution_count": 62,
     "metadata": {},
     "output_type": "execute_result"
    }
   ],
   "source": [
    "from subprocess import call\n",
    "call(['python', '-m', 'nbconvert', 'Analyze_ab_test_results_notebook.ipynb'])"
   ]
  }
 ],
 "metadata": {
  "kernelspec": {
   "display_name": "Python 3",
   "language": "python",
   "name": "python3"
  },
  "language_info": {
   "codemirror_mode": {
    "name": "ipython",
    "version": 3
   },
   "file_extension": ".py",
   "mimetype": "text/x-python",
   "name": "python",
   "nbconvert_exporter": "python",
   "pygments_lexer": "ipython3",
   "version": "3.7.1"
  }
 },
 "nbformat": 4,
 "nbformat_minor": 2
}
