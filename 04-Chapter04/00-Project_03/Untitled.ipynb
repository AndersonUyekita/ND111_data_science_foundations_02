{
 "cells": [
  {
   "cell_type": "markdown",
   "metadata": {},
   "source": [
    "# Project 03 - Analyze A/B Test Results\n",
    "\n",
    "##### Student Tags\n",
    "\n",
    "Author: Anderson Hitoshi Uyekita    \n",
    "Project: Wrangle and Analyze Data  \n",
    "Course: Data Science - Foundations II  \n",
    "COD: ND111  \n",
    "Date: 09/01/2019    \n",
    "Version: 1.0\n",
    "\n",
    "***\n",
    "\n",
    "\n",
    "## Table of Contents\n",
    "<ul>\n",
    "<li><a href=\"#intro\">1. Introduction</a></li>\n",
    "<li><a href=\"#gathering\">2. Data Gathering</a></li>\n",
    "<li><a href=\"#assessing\">3. Data Assessing</a></li>\n",
    "<li><a href=\"#cleaning\">4. Data Cleaning</a></li>\n",
    "<li><a href=\"#analysis\">5. Data Analysis and Data Visualization</a></li>\n",
    "<li><a href=\"#conclusions\">6. Conclusions</a></li>\n",
    "<li><a href=\"#references\">7. References</a></li>\n",
    "<li><a href=\"#appendix\">Appendix</a></li>\n",
    "</ul>\n",
    "\n",
    "***"
   ]
  },
  {
   "cell_type": "code",
   "execution_count": 5,
   "metadata": {},
   "outputs": [],
   "source": [
    "import os\n",
    "import requests\n",
    "import zipfile"
   ]
  },
  {
   "cell_type": "code",
   "execution_count": 8,
   "metadata": {},
   "outputs": [],
   "source": [
    "# Creating a folder to store the files.\n",
    "folder = \"01-Dataset\" # Folder's name.\n",
    "\n",
    "# Checking if the folder already exist.\n",
    "if not folder in os.listdir():\n",
    "    os.mkdir(folder)  # Creating the folder when 01-Dataset do not exist.\n",
    "\n",
    "# file URL. Prepare for any other file to be downloaded.\n",
    "list_url = ['https://d17h27t6h515a5.cloudfront.net/topher/2017/December/5a32c9a0_analyzeabtestresults-2/analyzeabtestresults-2.zip']\n",
    "\n",
    "# Loop to download the two files hosted in Udacity website.\n",
    "for url in list_url:\n",
    "    if not url.split('/')[-1].replace('-','_') in os.listdir(folder):                              # Check if the files already exist.\n",
    "        response = requests.get(url)                                                               # Creating an object of the given URL.\n",
    "        with open(os.path.join(folder,url.split('/')[-1].replace('-','_')), mode = 'wb') as file:  # Defining the file name.\n",
    "            file.write(response.content)                                                           # Saving the object."
   ]
  },
  {
   "cell_type": "code",
   "execution_count": 17,
   "metadata": {},
   "outputs": [
    {
     "data": {
      "text/plain": [
       "['analyzeabtestresults_2.zip']"
      ]
     },
     "execution_count": 17,
     "metadata": {},
     "output_type": "execute_result"
    }
   ],
   "source": [
    "os.listdir(path = '01-Dataset')"
   ]
  },
  {
   "cell_type": "code",
   "execution_count": 18,
   "metadata": {},
   "outputs": [],
   "source": [
    "import zipfile"
   ]
  },
  {
   "cell_type": "code",
   "execution_count": 23,
   "metadata": {},
   "outputs": [],
   "source": [
    "with zipfile.ZipFile('01-Dataset/analyzeabtestresults_2.zip', 'r') as zip_ref:\n",
    "    zip_ref.extractall('01-Dataset')"
   ]
  },
  {
   "cell_type": "code",
   "execution_count": 34,
   "metadata": {},
   "outputs": [
    {
     "data": {
      "text/plain": [
       "['.ipynb_checkpoints',\n",
       " 'ab_data.csv',\n",
       " 'Analyze_ab_test_results_notebook.ipynb',\n",
       " 'countries.csv']"
      ]
     },
     "execution_count": 34,
     "metadata": {},
     "output_type": "execute_result"
    }
   ],
   "source": [
    "os.listdir(path = '01-Dataset/analyzeabtestresults 2')"
   ]
  },
  {
   "cell_type": "code",
   "execution_count": 33,
   "metadata": {},
   "outputs": [
    {
     "data": {
      "text/plain": [
       "'a/b'"
      ]
     },
     "execution_count": 33,
     "metadata": {},
     "output_type": "execute_result"
    }
   ],
   "source": []
  }
 ],
 "metadata": {
  "kernelspec": {
   "display_name": "Python 3",
   "language": "python",
   "name": "python3"
  },
  "language_info": {
   "codemirror_mode": {
    "name": "ipython",
    "version": 3
   },
   "file_extension": ".py",
   "mimetype": "text/x-python",
   "name": "python",
   "nbconvert_exporter": "python",
   "pygments_lexer": "ipython3",
   "version": "3.7.1"
  }
 },
 "nbformat": 4,
 "nbformat_minor": 2
}
