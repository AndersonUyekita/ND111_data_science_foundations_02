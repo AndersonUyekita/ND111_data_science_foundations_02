{
 "cells": [
  {
   "cell_type": "markdown",
   "metadata": {},
   "source": [
    "### Confidence Interval - Difference In Means\n",
    "\n",
    "Here you will look through the example from the last video, but you will also go a couple of steps further into what might actually be going on with this data."
   ]
  },
  {
   "cell_type": "code",
   "execution_count": 1,
   "metadata": {},
   "outputs": [],
   "source": [
    "import pandas as pd\n",
    "import numpy as np\n",
    "import matplotlib.pyplot as plt\n",
    "\n",
    "%matplotlib inline\n",
    "np.random.seed(42)\n",
    "\n",
    "full_data = pd.read_csv('coffee_dataset.csv')\n",
    "sample_data = full_data.sample(200)"
   ]
  },
  {
   "cell_type": "code",
   "execution_count": 2,
   "metadata": {},
   "outputs": [
    {
     "data": {
      "text/html": [
       "<div>\n",
       "<style>\n",
       "    .dataframe thead tr:only-child th {\n",
       "        text-align: right;\n",
       "    }\n",
       "\n",
       "    .dataframe thead th {\n",
       "        text-align: left;\n",
       "    }\n",
       "\n",
       "    .dataframe tbody tr th {\n",
       "        vertical-align: top;\n",
       "    }\n",
       "</style>\n",
       "<table border=\"1\" class=\"dataframe\">\n",
       "  <thead>\n",
       "    <tr style=\"text-align: right;\">\n",
       "      <th></th>\n",
       "      <th>user_id</th>\n",
       "      <th>age</th>\n",
       "      <th>drinks_coffee</th>\n",
       "      <th>height</th>\n",
       "    </tr>\n",
       "  </thead>\n",
       "  <tbody>\n",
       "    <tr>\n",
       "      <th>2402</th>\n",
       "      <td>2874</td>\n",
       "      <td>&lt;21</td>\n",
       "      <td>True</td>\n",
       "      <td>64.357154</td>\n",
       "    </tr>\n",
       "    <tr>\n",
       "      <th>2864</th>\n",
       "      <td>3670</td>\n",
       "      <td>&gt;=21</td>\n",
       "      <td>True</td>\n",
       "      <td>66.859636</td>\n",
       "    </tr>\n",
       "    <tr>\n",
       "      <th>2167</th>\n",
       "      <td>7441</td>\n",
       "      <td>&lt;21</td>\n",
       "      <td>False</td>\n",
       "      <td>66.659561</td>\n",
       "    </tr>\n",
       "    <tr>\n",
       "      <th>507</th>\n",
       "      <td>2781</td>\n",
       "      <td>&gt;=21</td>\n",
       "      <td>True</td>\n",
       "      <td>70.166241</td>\n",
       "    </tr>\n",
       "    <tr>\n",
       "      <th>1817</th>\n",
       "      <td>2875</td>\n",
       "      <td>&gt;=21</td>\n",
       "      <td>True</td>\n",
       "      <td>71.369120</td>\n",
       "    </tr>\n",
       "  </tbody>\n",
       "</table>\n",
       "</div>"
      ],
      "text/plain": [
       "      user_id   age  drinks_coffee     height\n",
       "2402     2874   <21           True  64.357154\n",
       "2864     3670  >=21           True  66.859636\n",
       "2167     7441   <21          False  66.659561\n",
       "507      2781  >=21           True  70.166241\n",
       "1817     2875  >=21           True  71.369120"
      ]
     },
     "execution_count": 2,
     "metadata": {},
     "output_type": "execute_result"
    }
   ],
   "source": [
    "# Printing the first 5 rows\n",
    "sample_data.head()"
   ]
  },
  {
   "cell_type": "markdown",
   "metadata": {},
   "source": [
    "`1.` For 10,000 iterations, bootstrap sample your sample data, compute the difference in the average heights for coffee and non-coffee drinkers.  Build a 99% confidence interval using your sampling distribution.  Use your interval to start answering the first quiz question below."
   ]
  },
  {
   "cell_type": "code",
   "execution_count": 3,
   "metadata": {},
   "outputs": [],
   "source": [
    "# Initializing a variable to store the differences.\n",
    "diff_heights = []\n",
    "\n",
    "# Loop to create 10,000 samples of 200.\n",
    "for index in range(10000):\n",
    "    # Sampling 200 \"elements\" of full_data.\n",
    "    sample = full_data.sample(200, replace = True)\n",
    "\n",
    "    # Coffee Drinkers\n",
    "    avg_coffee_drinkers = sample[sample.drinks_coffee].height.mean()\n",
    "\n",
    "    # Non Coffee Drinkers\n",
    "    avg_non_coffee_drinkers = sample[np.logical_not(sample.drinks_coffee)].height.mean()\n",
    "    \n",
    "    # Difference of Heights\n",
    "    diff = avg_coffee_drinkers - avg_non_coffee_drinkers\n",
    "    \n",
    "    # Append diff in the list.\n",
    "    diff_heights.append(diff)"
   ]
  },
  {
   "cell_type": "code",
   "execution_count": 4,
   "metadata": {},
   "outputs": [
    {
     "data": {
      "text/plain": [
       "(0.7804195541448713, 3.1064330970321481)"
      ]
     },
     "execution_count": 4,
     "metadata": {},
     "output_type": "execute_result"
    }
   ],
   "source": [
    "np.percentile(diff_heights, 0.5), np.percentile(diff_heights, 99.5)"
   ]
  },
  {
   "cell_type": "markdown",
   "metadata": {},
   "source": [
    "`2.` For 10,000 iterations, bootstrap sample your sample data, compute the difference in the average heights for those older than 21 and those younger than 21.  Build a 99% confidence interval using your sampling distribution.  Use your interval to finish answering the first quiz question below.  "
   ]
  },
  {
   "cell_type": "code",
   "execution_count": 5,
   "metadata": {},
   "outputs": [],
   "source": [
    "# Initializing a variable to store the differences.\n",
    "diff_heights_age = []\n",
    "\n",
    "# Loop to create 10,000 samples of 200.\n",
    "for index in range(10000):\n",
    "    # Sampling 200 \"elements\" of full_data.\n",
    "    sample = full_data.sample(200, replace = True)\n",
    "\n",
    "    # Older than 21\n",
    "    avg_older_drinkers = sample.query(\"age == '>=21'\").height.mean()\n",
    "\n",
    "    # Younger\n",
    "    avg_young_drinkers = sample.query(\"age == '<21'\").height.mean()\n",
    "    \n",
    "    # Difference of Heights\n",
    "    diff = avg_older_drinkers - avg_young_drinkers\n",
    "    \n",
    "    # Append diff in the list.\n",
    "    diff_heights_age.append(diff)"
   ]
  },
  {
   "cell_type": "code",
   "execution_count": 6,
   "metadata": {},
   "outputs": [
    {
     "data": {
      "text/plain": [
       "(2.9325260716716972, 4.8286362662728539)"
      ]
     },
     "execution_count": 6,
     "metadata": {},
     "output_type": "execute_result"
    }
   ],
   "source": [
    "np.percentile(diff_heights_age, 0.5), np.percentile(diff_heights_age, 99.5)"
   ]
  },
  {
   "cell_type": "markdown",
   "metadata": {},
   "source": [
    "`3.` For 10,000 iterations bootstrap your sample data, compute the **difference** in the average height for coffee drinkers and the average height for non-coffee drinkers for individuals **under** 21 years old.  Using your sampling distribution, build a 95% confidence interval.  Use your interval to start answering question 2 below."
   ]
  },
  {
   "cell_type": "code",
   "execution_count": 13,
   "metadata": {},
   "outputs": [],
   "source": [
    "# Initializing a variable to store the differences.\n",
    "diff_heights_young_drinkers = []\n",
    "\n",
    "# Loop to create 10,000 samples of 200.\n",
    "for index in range(10000):\n",
    "    # Sampling 200 \"elements\" of full_data.\n",
    "    sample = full_data.sample(200, replace = True)\n",
    "\n",
    "    # Older than 21\n",
    "    avg_young_coffee_drinkers = sample.query(\"age == '<21'\").query(\"drinks_coffee == True\").height.mean()\n",
    "\n",
    "    # Younger\n",
    "    avg_young_non_coffee_drinkers = sample.query(\"age == '<21'\").query(\"drinks_coffee == False\").height.mean()\n",
    "    \n",
    "    # Difference of Heights\n",
    "    diff = avg_young_coffee_drinkers - avg_young_non_coffee_drinkers\n",
    "    \n",
    "    # Append diff in the list.\n",
    "    diff_heights_young_drinkers.append(diff)"
   ]
  },
  {
   "cell_type": "code",
   "execution_count": 14,
   "metadata": {},
   "outputs": [
    {
     "data": {
      "text/plain": [
       "(-2.5093540599520616, -0.87117568406003987)"
      ]
     },
     "execution_count": 14,
     "metadata": {},
     "output_type": "execute_result"
    }
   ],
   "source": [
    "np.percentile(diff_heights_young_drinkers, 2.5), np.percentile(diff_heights_young_drinkers, 97.5)"
   ]
  },
  {
   "cell_type": "markdown",
   "metadata": {},
   "source": [
    "`4.` For 10,000 iterations bootstrap your sample data, compute the **difference** in the average height for coffee drinkers and the average height for non-coffee drinkers for individuals **over** 21 years old.  Using your sampling distribution, build a 95% confidence interval. Use your interval to finish answering the second quiz question below. As well as the following questions. "
   ]
  },
  {
   "cell_type": "code",
   "execution_count": 15,
   "metadata": {},
   "outputs": [],
   "source": [
    "# Initializing a variable to store the differences.\n",
    "diff_heights_older_drinkers = []\n",
    "\n",
    "# Loop to create 10,000 samples of 200.\n",
    "for index in range(10000):\n",
    "    # Sampling 200 \"elements\" of full_data.\n",
    "    sample = full_data.sample(200, replace = True)\n",
    "\n",
    "    # Older than 21\n",
    "    avg_old_coffee_drinkers = sample.query(\"age == '>=21'\").query(\"drinks_coffee == True\").height.mean()\n",
    "\n",
    "    # Younger\n",
    "    avg_old_non_coffee_drinkers = sample.query(\"age == '>=21'\").query(\"drinks_coffee == False\").height.mean()\n",
    "    \n",
    "    # Difference of Heights\n",
    "    diff = avg_old_coffee_drinkers - avg_old_non_coffee_drinkers\n",
    "    \n",
    "    # Append diff in the list.\n",
    "    diff_heights_older_drinkers.append(diff)"
   ]
  },
  {
   "cell_type": "code",
   "execution_count": 16,
   "metadata": {},
   "outputs": [
    {
     "data": {
      "text/plain": [
       "(-3.2571469576969361, -0.63907439888661577)"
      ]
     },
     "execution_count": 16,
     "metadata": {},
     "output_type": "execute_result"
    }
   ],
   "source": [
    "np.percentile(diff_heights_older_drinkers, 2.5), np.percentile(diff_heights_older_drinkers, 97.5)"
   ]
  },
  {
   "cell_type": "code",
   "execution_count": null,
   "metadata": {},
   "outputs": [],
   "source": []
  }
 ],
 "metadata": {
  "kernelspec": {
   "display_name": "Python 3",
   "language": "python",
   "name": "python3"
  },
  "language_info": {
   "codemirror_mode": {
    "name": "ipython",
    "version": 3
   },
   "file_extension": ".py",
   "mimetype": "text/x-python",
   "name": "python",
   "nbconvert_exporter": "python",
   "pygments_lexer": "ipython3",
   "version": "3.6.3"
  }
 },
 "nbformat": 4,
 "nbformat_minor": 2
}
