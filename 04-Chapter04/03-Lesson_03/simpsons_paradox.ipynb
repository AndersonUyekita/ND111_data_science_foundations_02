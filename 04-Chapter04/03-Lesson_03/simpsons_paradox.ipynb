{
 "cells": [
  {
   "cell_type": "markdown",
   "metadata": {},
   "source": [
    "# Case Study\n",
    "\n",
    "## Simpson's Paradox\n",
    "\n"
   ]
  },
  {
   "cell_type": "code",
   "execution_count": 1,
   "metadata": {},
   "outputs": [],
   "source": [
    "# Importing Library\n",
    "import pandas as pd\n",
    "import numpy as np"
   ]
  },
  {
   "cell_type": "markdown",
   "metadata": {},
   "source": [
    "### Loading File"
   ]
  },
  {
   "cell_type": "code",
   "execution_count": 2,
   "metadata": {},
   "outputs": [
    {
     "data": {
      "text/html": [
       "<div>\n",
       "<style scoped>\n",
       "    .dataframe tbody tr th:only-of-type {\n",
       "        vertical-align: middle;\n",
       "    }\n",
       "\n",
       "    .dataframe tbody tr th {\n",
       "        vertical-align: top;\n",
       "    }\n",
       "\n",
       "    .dataframe thead th {\n",
       "        text-align: right;\n",
       "    }\n",
       "</style>\n",
       "<table border=\"1\" class=\"dataframe\">\n",
       "  <thead>\n",
       "    <tr style=\"text-align: right;\">\n",
       "      <th></th>\n",
       "      <th>student_id</th>\n",
       "      <th>gender</th>\n",
       "      <th>major</th>\n",
       "      <th>admitted</th>\n",
       "    </tr>\n",
       "  </thead>\n",
       "  <tbody>\n",
       "    <tr>\n",
       "      <th>0</th>\n",
       "      <td>35377</td>\n",
       "      <td>female</td>\n",
       "      <td>Chemistry</td>\n",
       "      <td>False</td>\n",
       "    </tr>\n",
       "    <tr>\n",
       "      <th>1</th>\n",
       "      <td>56105</td>\n",
       "      <td>male</td>\n",
       "      <td>Physics</td>\n",
       "      <td>True</td>\n",
       "    </tr>\n",
       "    <tr>\n",
       "      <th>2</th>\n",
       "      <td>31441</td>\n",
       "      <td>female</td>\n",
       "      <td>Chemistry</td>\n",
       "      <td>False</td>\n",
       "    </tr>\n",
       "    <tr>\n",
       "      <th>3</th>\n",
       "      <td>51765</td>\n",
       "      <td>male</td>\n",
       "      <td>Physics</td>\n",
       "      <td>True</td>\n",
       "    </tr>\n",
       "    <tr>\n",
       "      <th>4</th>\n",
       "      <td>53714</td>\n",
       "      <td>female</td>\n",
       "      <td>Physics</td>\n",
       "      <td>True</td>\n",
       "    </tr>\n",
       "  </tbody>\n",
       "</table>\n",
       "</div>"
      ],
      "text/plain": [
       "   student_id  gender      major  admitted\n",
       "0       35377  female  Chemistry     False\n",
       "1       56105    male    Physics      True\n",
       "2       31441  female  Chemistry     False\n",
       "3       51765    male    Physics      True\n",
       "4       53714  female    Physics      True"
      ]
     },
     "execution_count": 2,
     "metadata": {},
     "output_type": "execute_result"
    }
   ],
   "source": [
    "# Loading data from admission_data.csv\n",
    "df = pd.read_csv('01-Dataset/admission_data.csv')\n",
    "\n",
    "# Printing the first 5 rows.\n",
    "df.head()"
   ]
  },
  {
   "cell_type": "markdown",
   "metadata": {},
   "source": [
    "### Proportion and admission rate for each gender"
   ]
  },
  {
   "cell_type": "code",
   "execution_count": 3,
   "metadata": {},
   "outputs": [
    {
     "name": "stdout",
     "output_type": "stream",
     "text": [
      "female    257\n",
      "male      243\n",
      "Name: gender, dtype: int64\n",
      "\n",
      "Female proportion:  0.514\n"
     ]
    }
   ],
   "source": [
    "# Quantity of each gender.\n",
    "print(df.gender.value_counts())\n",
    "\n",
    "# Proportion of students that are female\n",
    "print('\\nFemale proportion: ',df.gender.value_counts()[0]/sum(df.gender.value_counts()))"
   ]
  },
  {
   "cell_type": "code",
   "execution_count": 4,
   "metadata": {},
   "outputs": [
    {
     "name": "stdout",
     "output_type": "stream",
     "text": [
      "female    257\n",
      "male      243\n",
      "Name: gender, dtype: int64\n",
      "\n",
      "Male proportion:  0.486\n"
     ]
    }
   ],
   "source": [
    "# Quantity of each gender.\n",
    "print(df.gender.value_counts())\n",
    "\n",
    "# Proportion of students that are male\n",
    "print('\\nMale proportion: ',df.gender.value_counts()[1]/sum(df.gender.value_counts()))"
   ]
  },
  {
   "cell_type": "code",
   "execution_count": 5,
   "metadata": {},
   "outputs": [
    {
     "name": "stdout",
     "output_type": "stream",
     "text": [
      "False    183\n",
      "True      74\n",
      "Name: admitted, dtype: int64\n",
      "\n",
      "Female Admission rate: 0.28793774319066145\n"
     ]
    }
   ],
   "source": [
    "# Subsetting the df to filter only female observations.\n",
    "df_female = df[df.gender == 'female']\n",
    "\n",
    "# Quantity of female admitted.\n",
    "print(df_female.admitted.value_counts())\n",
    "\n",
    "# Admission rate for females\n",
    "print('\\nFemale Admission rate:',df_female.admitted.value_counts()[1]/sum(df_female.admitted.value_counts()))"
   ]
  },
  {
   "cell_type": "code",
   "execution_count": 6,
   "metadata": {},
   "outputs": [
    {
     "name": "stdout",
     "output_type": "stream",
     "text": [
      "False    125\n",
      "True     118\n",
      "Name: admitted, dtype: int64\n",
      "\n",
      "Male Admission rate: 0.48559670781893005\n"
     ]
    }
   ],
   "source": [
    "# Subsetting the df to filter only male observations.\n",
    "df_male = df[df.gender == 'male']\n",
    "\n",
    "# Quantity of male admitted.\n",
    "print(df_male.admitted.value_counts())\n",
    "\n",
    "# Admission rate for male\n",
    "print('\\nMale Admission rate:',df_male.admitted.value_counts()[1]/sum(df_male.admitted.value_counts()))"
   ]
  },
  {
   "cell_type": "markdown",
   "metadata": {},
   "source": [
    "### Proportion and admission rate for physics majors of each gender"
   ]
  },
  {
   "cell_type": "code",
   "execution_count": 7,
   "metadata": {},
   "outputs": [
    {
     "name": "stdout",
     "output_type": "stream",
     "text": [
      "male      225\n",
      "female     31\n",
      "Name: gender, dtype: int64\n",
      "\n",
      "Female Student in Physics:  0.12109375\n"
     ]
    }
   ],
   "source": [
    "# Subsetting the Physics students.\n",
    "df_physics = df[df.major == \"Physics\"]\n",
    "\n",
    "# Quantity of student by gender\n",
    "print(df_physics.gender.value_counts())\n",
    "\n",
    "# What proportion of female students are majoring in physics?\n",
    "print('\\nFemale Student in Physics: ',df_physics.gender.value_counts()[1]/sum(df_physics.gender.value_counts()))"
   ]
  },
  {
   "cell_type": "code",
   "execution_count": 8,
   "metadata": {},
   "outputs": [
    {
     "name": "stdout",
     "output_type": "stream",
     "text": [
      "male      225\n",
      "female     31\n",
      "Name: gender, dtype: int64\n",
      "\n",
      "Male Student in Physics:  0.87890625\n"
     ]
    }
   ],
   "source": [
    "# Subsetting the Physics students.\n",
    "df_physics = df[df.major == \"Physics\"]\n",
    "\n",
    "# Quantity of student by gender\n",
    "print(df_physics.gender.value_counts())\n",
    "\n",
    "# What proportion of male students are majoring in physics?\n",
    "print('\\nMale Student in Physics: ',df_physics.gender.value_counts()[0]/sum(df_physics.gender.value_counts()))"
   ]
  },
  {
   "cell_type": "code",
   "execution_count": 9,
   "metadata": {},
   "outputs": [
    {
     "name": "stdout",
     "output_type": "stream",
     "text": [
      "True     23\n",
      "False     8\n",
      "Name: admitted, dtype: int64\n",
      "\n",
      "Number of Female Student Admitted:  0.7419354838709677\n"
     ]
    }
   ],
   "source": [
    "# Number of female physics student admitted.\n",
    "print(df_physics[df_physics.gender == 'female'].admitted.value_counts())\n",
    "\n",
    "# Admission rate for female physics majors\n",
    "print('\\nNumber of Female Student Admitted: ', df_physics[df_physics.gender == 'female'].admitted.value_counts()[1]/len(df_physics[df_physics.gender == 'female'].admitted))"
   ]
  },
  {
   "cell_type": "code",
   "execution_count": 10,
   "metadata": {},
   "outputs": [
    {
     "name": "stdout",
     "output_type": "stream",
     "text": [
      "True     116\n",
      "False    109\n",
      "Name: admitted, dtype: int64\n",
      "\n",
      "Number of Male Student Admitted:  0.5155555555555555\n"
     ]
    }
   ],
   "source": [
    "# Number of male physics student admitted.\n",
    "print(df_physics[df_physics.gender == 'male'].admitted.value_counts())\n",
    "\n",
    "# Admission rate for male physics majors\n",
    "print('\\nNumber of Male Student Admitted: ', df_physics[df_physics.gender == 'male'].admitted.value_counts()[1]/len(df_physics[df_physics.gender == 'male'].admitted))"
   ]
  },
  {
   "cell_type": "markdown",
   "metadata": {},
   "source": [
    "### Who tends to have more physics majors than chemistry majors?"
   ]
  },
  {
   "cell_type": "code",
   "execution_count": 11,
   "metadata": {},
   "outputs": [
    {
     "name": "stdout",
     "output_type": "stream",
     "text": [
      "Female:\n",
      " Chemistry    226\n",
      "Physics       31\n",
      "Name: major, dtype: int64\n",
      "\n",
      "Male:\n",
      "Physics      225\n",
      "Chemistry     18\n",
      "Name: major, dtype: int64\n"
     ]
    }
   ],
   "source": [
    "print('Female:\\n',df[df.gender == 'female'].major.value_counts())\n",
    "print('\\nMale:')\n",
    "print(df[df.gender == 'male'].major.value_counts())"
   ]
  },
  {
   "cell_type": "markdown",
   "metadata": {},
   "source": [
    "### Proportion and admission rate for chemistry majors of each gender"
   ]
  },
  {
   "cell_type": "code",
   "execution_count": 12,
   "metadata": {},
   "outputs": [
    {
     "name": "stdout",
     "output_type": "stream",
     "text": [
      "female    226\n",
      "male       18\n",
      "Name: gender, dtype: int64\n",
      "\n",
      "Female Student in Chemistry:  0.9262295081967213\n"
     ]
    }
   ],
   "source": [
    "# What proportion of female students are majoring in chemistry?\n",
    "df_physics = df[df.major == \"Chemistry\"]\n",
    "\n",
    "# Quantity of student by gender\n",
    "print(df_physics.gender.value_counts())\n",
    "\n",
    "# What proportion of female students are majoring in physics?\n",
    "print('\\nFemale Student in Chemistry: ',df_physics.gender.value_counts()[0]/sum(df_physics.gender.value_counts()))"
   ]
  },
  {
   "cell_type": "code",
   "execution_count": 13,
   "metadata": {},
   "outputs": [
    {
     "name": "stdout",
     "output_type": "stream",
     "text": [
      "female    226\n",
      "male       18\n",
      "Name: gender, dtype: int64\n",
      "\n",
      "Male Student in Chemistry:  0.07377049180327869\n"
     ]
    }
   ],
   "source": [
    "# What proportion of male students are majoring in chemistry?\n",
    "df_chemistry = df[df.major == \"Chemistry\"]\n",
    "\n",
    "# Quantity of student by gender\n",
    "print(df_chemistry.gender.value_counts())\n",
    "\n",
    "# What proportion of female students are majoring in physics?\n",
    "print('\\nMale Student in Chemistry: ',df_chemistry.gender.value_counts()[1]/sum(df_chemistry.gender.value_counts()))"
   ]
  },
  {
   "cell_type": "code",
   "execution_count": 14,
   "metadata": {},
   "outputs": [
    {
     "name": "stdout",
     "output_type": "stream",
     "text": [
      "False    175\n",
      "True      51\n",
      "Name: admitted, dtype: int64\n",
      "\n",
      "Number of Female Student Admitted:  0.22566371681415928\n"
     ]
    }
   ],
   "source": [
    "# Number of female physics student admitted.\n",
    "print(df_chemistry[df_chemistry.gender == 'female'].admitted.value_counts())\n",
    "\n",
    "# Admission rate for female chemistry majors\n",
    "print('\\nNumber of Female Student Admitted: ', df_chemistry[df_chemistry.gender == 'female'].admitted.value_counts()[1]/len(df_chemistry[df_chemistry.gender == 'female'].admitted))"
   ]
  },
  {
   "cell_type": "code",
   "execution_count": 15,
   "metadata": {},
   "outputs": [
    {
     "name": "stdout",
     "output_type": "stream",
     "text": [
      "False    16\n",
      "True      2\n",
      "Name: admitted, dtype: int64\n",
      "\n",
      "Number of Female Student Admitted:  0.1111111111111111\n"
     ]
    }
   ],
   "source": [
    "# Number of female physics student admitted.\n",
    "print(df_chemistry[df_chemistry.gender == 'male'].admitted.value_counts())\n",
    "\n",
    "# Admission rate for male chemistry majors\n",
    "print('\\nNumber of Female Student Admitted: ', df_chemistry[df_chemistry.gender == 'male'].admitted.value_counts()[1]/len(df_chemistry[df_chemistry.gender == 'male'].admitted))"
   ]
  },
  {
   "cell_type": "markdown",
   "metadata": {},
   "source": [
    "### Admission rate for each major"
   ]
  },
  {
   "cell_type": "code",
   "execution_count": 16,
   "metadata": {},
   "outputs": [
    {
     "name": "stdout",
     "output_type": "stream",
     "text": [
      "True     139\n",
      "False    117\n",
      "Name: admitted, dtype: int64\n"
     ]
    },
    {
     "data": {
      "text/plain": [
       "0.54296875"
      ]
     },
     "execution_count": 16,
     "metadata": {},
     "output_type": "execute_result"
    }
   ],
   "source": [
    "print(df[df.major == 'Physics'].admitted.value_counts())\n",
    "\n",
    "# Admission rate for physics majors\n",
    "df[df.major == 'Physics'].admitted.value_counts()[1]/sum(df[df.major == 'Physics'].admitted.value_counts())"
   ]
  },
  {
   "cell_type": "code",
   "execution_count": 17,
   "metadata": {},
   "outputs": [
    {
     "name": "stdout",
     "output_type": "stream",
     "text": [
      "False    191\n",
      "True      53\n",
      "Name: admitted, dtype: int64\n"
     ]
    },
    {
     "data": {
      "text/plain": [
       "0.21721311475409835"
      ]
     },
     "execution_count": 17,
     "metadata": {},
     "output_type": "execute_result"
    }
   ],
   "source": [
    "print(df[df.major == 'Chemistry'].admitted.value_counts())\n",
    "\n",
    "# Admission rate for chemistry majors\n",
    "df[df.major == 'Chemistry'].admitted.value_counts()[1]/sum(df[df.major == 'Chemistry'].admitted.value_counts())"
   ]
  }
 ],
 "metadata": {
  "kernelspec": {
   "display_name": "Python 3",
   "language": "python",
   "name": "python3"
  },
  "language_info": {
   "codemirror_mode": {
    "name": "ipython",
    "version": 3
   },
   "file_extension": ".py",
   "mimetype": "text/x-python",
   "name": "python",
   "nbconvert_exporter": "python",
   "pygments_lexer": "ipython3",
   "version": "3.7.1"
  }
 },
 "nbformat": 4,
 "nbformat_minor": 2
}
