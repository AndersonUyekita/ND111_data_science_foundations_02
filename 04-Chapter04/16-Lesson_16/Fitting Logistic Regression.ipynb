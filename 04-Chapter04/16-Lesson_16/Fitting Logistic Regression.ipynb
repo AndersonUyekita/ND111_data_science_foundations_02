{
 "cells": [
  {
   "cell_type": "markdown",
   "metadata": {},
   "source": [
    "### Fitting Logistic Regression\n",
    "\n",
    "In this first notebook, you will be fitting a logistic regression model to a dataset where we would like to predict if a transaction is fraud or not.\n",
    "\n",
    "To get started let's read in the libraries and take a quick look at the dataset."
   ]
  },
  {
   "cell_type": "code",
   "execution_count": 63,
   "metadata": {},
   "outputs": [
    {
     "data": {
      "text/html": [
       "<div>\n",
       "<style scoped>\n",
       "    .dataframe tbody tr th:only-of-type {\n",
       "        vertical-align: middle;\n",
       "    }\n",
       "\n",
       "    .dataframe tbody tr th {\n",
       "        vertical-align: top;\n",
       "    }\n",
       "\n",
       "    .dataframe thead th {\n",
       "        text-align: right;\n",
       "    }\n",
       "</style>\n",
       "<table border=\"1\" class=\"dataframe\">\n",
       "  <thead>\n",
       "    <tr style=\"text-align: right;\">\n",
       "      <th></th>\n",
       "      <th>transaction_id</th>\n",
       "      <th>duration</th>\n",
       "      <th>day</th>\n",
       "      <th>fraud</th>\n",
       "    </tr>\n",
       "  </thead>\n",
       "  <tbody>\n",
       "    <tr>\n",
       "      <th>0</th>\n",
       "      <td>28891</td>\n",
       "      <td>21.302600</td>\n",
       "      <td>weekend</td>\n",
       "      <td>False</td>\n",
       "    </tr>\n",
       "    <tr>\n",
       "      <th>1</th>\n",
       "      <td>61629</td>\n",
       "      <td>22.932765</td>\n",
       "      <td>weekend</td>\n",
       "      <td>False</td>\n",
       "    </tr>\n",
       "    <tr>\n",
       "      <th>2</th>\n",
       "      <td>53707</td>\n",
       "      <td>32.694992</td>\n",
       "      <td>weekday</td>\n",
       "      <td>False</td>\n",
       "    </tr>\n",
       "    <tr>\n",
       "      <th>3</th>\n",
       "      <td>47812</td>\n",
       "      <td>32.784252</td>\n",
       "      <td>weekend</td>\n",
       "      <td>False</td>\n",
       "    </tr>\n",
       "    <tr>\n",
       "      <th>4</th>\n",
       "      <td>43455</td>\n",
       "      <td>17.756828</td>\n",
       "      <td>weekend</td>\n",
       "      <td>False</td>\n",
       "    </tr>\n",
       "  </tbody>\n",
       "</table>\n",
       "</div>"
      ],
      "text/plain": [
       "   transaction_id   duration      day  fraud\n",
       "0           28891  21.302600  weekend  False\n",
       "1           61629  22.932765  weekend  False\n",
       "2           53707  32.694992  weekday  False\n",
       "3           47812  32.784252  weekend  False\n",
       "4           43455  17.756828  weekend  False"
      ]
     },
     "execution_count": 63,
     "metadata": {},
     "output_type": "execute_result"
    }
   ],
   "source": [
    "import numpy as np\n",
    "import pandas as pd\n",
    "import statsmodels.api as sm\n",
    "\n",
    "\n",
    "df = pd.read_csv('02-Dataset/fraud_dataset.csv')\n",
    "df.head()"
   ]
  },
  {
   "cell_type": "markdown",
   "metadata": {},
   "source": [
    "`1.` As you can see, there are two columns that need to be changed to dummy variables.  Replace each of the current columns to the dummy version.  Use the 1 for `weekday` and `True`, and 0 otherwise.  Use the first quiz to answer a few questions about the dataset."
   ]
  },
  {
   "cell_type": "code",
   "execution_count": 64,
   "metadata": {},
   "outputs": [],
   "source": [
    "# Copying the original df.\n",
    "df_new = df.copy()"
   ]
  },
  {
   "cell_type": "code",
   "execution_count": 72,
   "metadata": {},
   "outputs": [
    {
     "data": {
      "text/html": [
       "<div>\n",
       "<style scoped>\n",
       "    .dataframe tbody tr th:only-of-type {\n",
       "        vertical-align: middle;\n",
       "    }\n",
       "\n",
       "    .dataframe tbody tr th {\n",
       "        vertical-align: top;\n",
       "    }\n",
       "\n",
       "    .dataframe thead th {\n",
       "        text-align: right;\n",
       "    }\n",
       "</style>\n",
       "<table border=\"1\" class=\"dataframe\">\n",
       "  <thead>\n",
       "    <tr style=\"text-align: right;\">\n",
       "      <th></th>\n",
       "      <th>transaction_id</th>\n",
       "      <th>duration</th>\n",
       "      <th>day</th>\n",
       "      <th>fraud</th>\n",
       "      <th>weekday</th>\n",
       "      <th>fraud2</th>\n",
       "      <th>intercept</th>\n",
       "      <th>fraud_bin</th>\n",
       "    </tr>\n",
       "  </thead>\n",
       "  <tbody>\n",
       "    <tr>\n",
       "      <th>0</th>\n",
       "      <td>28891</td>\n",
       "      <td>21.302600</td>\n",
       "      <td>weekend</td>\n",
       "      <td>False</td>\n",
       "      <td>0</td>\n",
       "      <td>0</td>\n",
       "      <td>1</td>\n",
       "      <td>0</td>\n",
       "    </tr>\n",
       "    <tr>\n",
       "      <th>1</th>\n",
       "      <td>61629</td>\n",
       "      <td>22.932765</td>\n",
       "      <td>weekend</td>\n",
       "      <td>False</td>\n",
       "      <td>0</td>\n",
       "      <td>0</td>\n",
       "      <td>1</td>\n",
       "      <td>0</td>\n",
       "    </tr>\n",
       "    <tr>\n",
       "      <th>2</th>\n",
       "      <td>53707</td>\n",
       "      <td>32.694992</td>\n",
       "      <td>weekday</td>\n",
       "      <td>False</td>\n",
       "      <td>1</td>\n",
       "      <td>0</td>\n",
       "      <td>1</td>\n",
       "      <td>0</td>\n",
       "    </tr>\n",
       "    <tr>\n",
       "      <th>3</th>\n",
       "      <td>47812</td>\n",
       "      <td>32.784252</td>\n",
       "      <td>weekend</td>\n",
       "      <td>False</td>\n",
       "      <td>0</td>\n",
       "      <td>0</td>\n",
       "      <td>1</td>\n",
       "      <td>0</td>\n",
       "    </tr>\n",
       "    <tr>\n",
       "      <th>4</th>\n",
       "      <td>43455</td>\n",
       "      <td>17.756828</td>\n",
       "      <td>weekend</td>\n",
       "      <td>False</td>\n",
       "      <td>0</td>\n",
       "      <td>0</td>\n",
       "      <td>1</td>\n",
       "      <td>0</td>\n",
       "    </tr>\n",
       "  </tbody>\n",
       "</table>\n",
       "</div>"
      ],
      "text/plain": [
       "   transaction_id   duration      day  fraud  weekday  fraud2  intercept  \\\n",
       "0           28891  21.302600  weekend  False        0       0          1   \n",
       "1           61629  22.932765  weekend  False        0       0          1   \n",
       "2           53707  32.694992  weekday  False        1       0          1   \n",
       "3           47812  32.784252  weekend  False        0       0          1   \n",
       "4           43455  17.756828  weekend  False        0       0          1   \n",
       "\n",
       "   fraud_bin  \n",
       "0          0  \n",
       "1          0  \n",
       "2          0  \n",
       "3          0  \n",
       "4          0  "
      ]
     },
     "execution_count": 72,
     "metadata": {},
     "output_type": "execute_result"
    }
   ],
   "source": [
    "# Converting day categorical variables in Dummies. \n",
    "df_new[['weekday','weekend']] = pd.get_dummies(df['day'])\n",
    "\n",
    "# Converting fraud categorical variables in Dummies. \n",
    "df_new[['no_fraud','fraud_bin']] = pd.get_dummies(df['fraud'])\n",
    "\n",
    "# Dropping non used dummies.\n",
    "df_new = df_new.drop(['weekend','no_fraud'], axis = 1)\n",
    "\n",
    "# Printing the first 5 rows.\n",
    "df_new.head()"
   ]
  },
  {
   "cell_type": "code",
   "execution_count": 73,
   "metadata": {},
   "outputs": [
    {
     "name": "stdout",
     "output_type": "stream",
     "text": [
      "Proportion of fraudulent transactions: 0.012168770612987604\n"
     ]
    }
   ],
   "source": [
    "# Proportion of Fraudulent Transactions.\n",
    "print(\"Proportion of fraudulent transactions:\", sum(df_new.fraud)/len(df_new.fraud))"
   ]
  },
  {
   "cell_type": "code",
   "execution_count": 74,
   "metadata": {},
   "outputs": [
    {
     "name": "stdout",
     "output_type": "stream",
     "text": [
      "Avg Duration for Fraudulent Transactions:  4.624247370615657\n"
     ]
    }
   ],
   "source": [
    "# Average Duration for fraudulent transactions.\n",
    "print(\"Avg Duration for Fraudulent Transactions: \", df_new[df_new.fraud].duration.mean())"
   ]
  },
  {
   "cell_type": "code",
   "execution_count": 75,
   "metadata": {},
   "outputs": [
    {
     "name": "stdout",
     "output_type": "stream",
     "text": [
      "Proportion Weekday transactions:  0.3452746502900034\n"
     ]
    }
   ],
   "source": [
    "# Proportion of transactions in Weekday.\n",
    "print(\"Proportion Weekday transactions: \", sum(df_new.weekday)/len(df_new.weekday))"
   ]
  },
  {
   "cell_type": "code",
   "execution_count": 76,
   "metadata": {},
   "outputs": [
    {
     "name": "stdout",
     "output_type": "stream",
     "text": [
      "Avg Duration for Non-fraudulent Transactions:  30.013583132522555\n"
     ]
    }
   ],
   "source": [
    "# Average Duration for non fraudulent transactions.\n",
    "print(\"Avg Duration for Non-fraudulent Transactions: \", df_new[np.logical_not(df_new.fraud)].duration.mean())"
   ]
  },
  {
   "cell_type": "code",
   "execution_count": 77,
   "metadata": {},
   "outputs": [
    {
     "name": "stdout",
     "output_type": "stream",
     "text": [
      "Proportion of Fraud in Weekday:  0.7383177570093458\n"
     ]
    }
   ],
   "source": [
    "# Proportion of Fraud in weekdays.\n",
    "print(\"Proportion of Fraud in Weekday: \", sum(df_new[df_new.fraud].weekday)/len(df_new[df_new.fraud].weekday))"
   ]
  },
  {
   "cell_type": "markdown",
   "metadata": {},
   "source": [
    "`2.` Now that you have dummy variables, fit a logistic regression model to predict if a transaction is fraud using both day and duration.  Don't forget an intercept!  Use the second quiz below to assure you fit the model correctly."
   ]
  },
  {
   "cell_type": "code",
   "execution_count": 85,
   "metadata": {},
   "outputs": [
    {
     "name": "stdout",
     "output_type": "stream",
     "text": [
      "Optimization terminated successfully.\n",
      "         Current function value: inf\n",
      "         Iterations 16\n"
     ]
    },
    {
     "name": "stderr",
     "output_type": "stream",
     "text": [
      "C:\\Users\\ander\\AppData\\Local\\Programs\\Python\\Python37-32\\lib\\site-packages\\statsmodels\\discrete\\discrete_model.py:1674: RuntimeWarning: overflow encountered in exp\n",
      "  return 1/(1+np.exp(-X))\n",
      "C:\\Users\\ander\\AppData\\Local\\Programs\\Python\\Python37-32\\lib\\site-packages\\statsmodels\\discrete\\discrete_model.py:1724: RuntimeWarning: divide by zero encountered in log\n",
      "  return np.sum(np.log(self.cdf(q*np.dot(X,params))))\n",
      "C:\\Users\\ander\\AppData\\Local\\Programs\\Python\\Python37-32\\lib\\site-packages\\statsmodels\\base\\model.py:488: HessianInversionWarning: Inverting hessian failed, no bse or cov_params available\n",
      "  'available', HessianInversionWarning)\n",
      "C:\\Users\\ander\\AppData\\Local\\Programs\\Python\\Python37-32\\lib\\site-packages\\statsmodels\\base\\model.py:488: HessianInversionWarning: Inverting hessian failed, no bse or cov_params available\n",
      "  'available', HessianInversionWarning)\n"
     ]
    },
    {
     "data": {
      "text/html": [
       "<table class=\"simpletable\">\n",
       "<caption>Logit Regression Results</caption>\n",
       "<tr>\n",
       "  <th>Dep. Variable:</th>     <td>fraud_bin</td>    <th>  No. Observations:  </th>  <td>  8793</td> \n",
       "</tr>\n",
       "<tr>\n",
       "  <th>Model:</th>               <td>Logit</td>      <th>  Df Residuals:      </th>  <td>  8790</td> \n",
       "</tr>\n",
       "<tr>\n",
       "  <th>Method:</th>               <td>MLE</td>       <th>  Df Model:          </th>  <td>     2</td> \n",
       "</tr>\n",
       "<tr>\n",
       "  <th>Date:</th>          <td>Fri, 11 Jan 2019</td> <th>  Pseudo R-squ.:     </th>  <td>   inf</td> \n",
       "</tr>\n",
       "<tr>\n",
       "  <th>Time:</th>              <td>15:09:00</td>     <th>  Log-Likelihood:    </th> <td>    -inf</td>\n",
       "</tr>\n",
       "<tr>\n",
       "  <th>converged:</th>           <td>True</td>       <th>  LL-Null:           </th> <td>  0.0000</td>\n",
       "</tr>\n",
       "<tr>\n",
       "  <th> </th>                      <td> </td>        <th>  LLR p-value:       </th>  <td> 1.000</td> \n",
       "</tr>\n",
       "</table>\n",
       "<table class=\"simpletable\">\n",
       "<tr>\n",
       "      <td></td>         <th>coef</th>     <th>std err</th>      <th>z</th>      <th>P>|z|</th>  <th>[0.025</th>    <th>0.975]</th>  \n",
       "</tr>\n",
       "<tr>\n",
       "  <th>intercept</th> <td>    9.8709</td> <td>    1.944</td> <td>    5.078</td> <td> 0.000</td> <td>    6.061</td> <td>   13.681</td>\n",
       "</tr>\n",
       "<tr>\n",
       "  <th>duration</th>  <td>   -1.4637</td> <td>    0.290</td> <td>   -5.039</td> <td> 0.000</td> <td>   -2.033</td> <td>   -0.894</td>\n",
       "</tr>\n",
       "<tr>\n",
       "  <th>weekday</th>   <td>    2.5465</td> <td>    0.904</td> <td>    2.816</td> <td> 0.005</td> <td>    0.774</td> <td>    4.319</td>\n",
       "</tr>\n",
       "</table><br/><br/>Possibly complete quasi-separation: A fraction 0.98 of observations can be<br/>perfectly predicted. This might indicate that there is complete<br/>quasi-separation. In this case some parameters will not be identified."
      ],
      "text/plain": [
       "<class 'statsmodels.iolib.summary.Summary'>\n",
       "\"\"\"\n",
       "                           Logit Regression Results                           \n",
       "==============================================================================\n",
       "Dep. Variable:              fraud_bin   No. Observations:                 8793\n",
       "Model:                          Logit   Df Residuals:                     8790\n",
       "Method:                           MLE   Df Model:                            2\n",
       "Date:                Fri, 11 Jan 2019   Pseudo R-squ.:                     inf\n",
       "Time:                        15:09:00   Log-Likelihood:                   -inf\n",
       "converged:                       True   LL-Null:                        0.0000\n",
       "                                        LLR p-value:                     1.000\n",
       "==============================================================================\n",
       "                 coef    std err          z      P>|z|      [0.025      0.975]\n",
       "------------------------------------------------------------------------------\n",
       "intercept      9.8709      1.944      5.078      0.000       6.061      13.681\n",
       "duration      -1.4637      0.290     -5.039      0.000      -2.033      -0.894\n",
       "weekday        2.5465      0.904      2.816      0.005       0.774       4.319\n",
       "==============================================================================\n",
       "\n",
       "Possibly complete quasi-separation: A fraction 0.98 of observations can be\n",
       "perfectly predicted. This might indicate that there is complete\n",
       "quasi-separation. In this case some parameters will not be identified.\n",
       "\"\"\""
      ]
     },
     "execution_count": 85,
     "metadata": {},
     "output_type": "execute_result"
    }
   ],
   "source": [
    "# Adding intercept\n",
    "df_new['intercept'] = 1\n",
    "\n",
    "# Creating the object.\n",
    "lm = sm.Logit(df_new['fraud_bin'], df_new[['intercept','duration', 'weekday']])\n",
    "\n",
    "# Calculating the coefficients.\n",
    "results = lm.fit()\n",
    "\n",
    "# Printing the summary.\n",
    "results.summary()"
   ]
  },
  {
   "cell_type": "markdown",
   "metadata": {},
   "source": [
    "### Interpretation\n",
    "\n",
    "|coef|std err|z  |P>z|0.025 | 0.975|\n",
    "|:-: |:-:    |:-:|:-:|:-:   |:-:   |\n",
    "|intercept|9.8709|1.944|5.078|0.000|6.061|13.681\n",
    "|duration|-1.4637|0.290|-5.039|0.000|-2.033|-0.894\n",
    "|weekday|2.5465|0.904|2.816|0.005|0.774|4.319\n",
    "\n",
    "In Logistic Regression the `coef` must be compared after the exponential."
   ]
  },
  {
   "cell_type": "markdown",
   "metadata": {},
   "source": [
    "On Weekdays, the chance of fraud in 12.76 times more likely than on weekends holding duration constant."
   ]
  },
  {
   "cell_type": "code",
   "execution_count": 101,
   "metadata": {},
   "outputs": [
    {
     "data": {
      "text/plain": [
       "12.762357271496972"
      ]
     },
     "execution_count": 101,
     "metadata": {},
     "output_type": "execute_result"
    }
   ],
   "source": [
    "np.exp(2.5465)"
   ]
  },
  {
   "cell_type": "markdown",
   "metadata": {},
   "source": [
    "For each minute less spent on the transaction, the chance of fraud is 4.32 times more likely holding the day of the week constant."
   ]
  },
  {
   "cell_type": "code",
   "execution_count": 102,
   "metadata": {},
   "outputs": [
    {
     "data": {
      "text/plain": [
       "0.2313785882117941"
      ]
     },
     "execution_count": 102,
     "metadata": {},
     "output_type": "execute_result"
    }
   ],
   "source": [
    "np.exp(-1.4637)"
   ]
  },
  {
   "cell_type": "code",
   "execution_count": 87,
   "metadata": {},
   "outputs": [
    {
     "data": {
      "text/plain": [
       "4.321921089278333"
      ]
     },
     "execution_count": 87,
     "metadata": {},
     "output_type": "execute_result"
    }
   ],
   "source": [
    "1/np.exp(-1.4637)"
   ]
  },
  {
   "cell_type": "code",
   "execution_count": null,
   "metadata": {},
   "outputs": [],
   "source": []
  }
 ],
 "metadata": {
  "kernelspec": {
   "display_name": "Python 3",
   "language": "python",
   "name": "python3"
  },
  "language_info": {
   "codemirror_mode": {
    "name": "ipython",
    "version": 3
   },
   "file_extension": ".py",
   "mimetype": "text/x-python",
   "name": "python",
   "nbconvert_exporter": "python",
   "pygments_lexer": "ipython3",
   "version": "3.7.1"
  }
 },
 "nbformat": 4,
 "nbformat_minor": 2
}
