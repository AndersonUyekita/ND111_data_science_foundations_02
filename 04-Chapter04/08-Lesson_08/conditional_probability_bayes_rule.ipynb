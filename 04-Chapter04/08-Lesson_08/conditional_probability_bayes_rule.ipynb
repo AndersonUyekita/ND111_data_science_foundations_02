{
 "cells": [
  {
   "cell_type": "markdown",
   "metadata": {},
   "source": [
    "# Conditional Probability & Bayes Rule Quiz]\n",
    "In the previous section, you found the following proportions from the cancer results dataset.\n",
    "\n",
    "* Patients with cancer: 0.105\n",
    "* Patients without cancer: 0.895\n",
    "* Patients with cancer who tested positive: 0.905\n",
    "* Patients with cancer who tested negative: 0.095\n",
    "* Patients without cancer who tested positive: 0.204\n",
    "* Patients without cancer who tested negative: 0.796\n",
    "* Based on the above proportions observed in the data, we can assume the following probabilities.\n",
    "\n",
    "|Probability|Meaning|\n",
    "|:-:|:-:|\n",
    "|P(cancer) = 0.105|Probability a patient has cancer\n",
    "|P(~cancer) = 0.895|Probability a patient does not have cancer\n",
    "|P(positive\\|cancer) = 0.905|Probability a patient with cancer tests positive\n",
    "|P(negative\\|cancer) = 0.095|Probability a patient with cancer tests negative\n",
    "|P(positive\\|~cancer) = 0.204|Probability a patient without cancer tests positive\n",
    "|P(negative\\|~cancer) = 0.796|Probability a patient without cancer tests negative"
   ]
  },
  {
   "cell_type": "code",
   "execution_count": 19,
   "metadata": {},
   "outputs": [],
   "source": [
    "P_cancer = 0.105\n",
    "P_not_cancer = 1 - P_cancer\n",
    "P_positive_cancer = 0.905\n",
    "P_negative_cancer = 1 - P_positive_cancer\n",
    "P_positive_not_cancer = 0.204\n",
    "P_negative_not_cancer = 1 - P_positive_not_cancer"
   ]
  },
  {
   "cell_type": "code",
   "execution_count": 20,
   "metadata": {},
   "outputs": [
    {
     "data": {
      "text/plain": [
       "0.277605"
      ]
     },
     "execution_count": 20,
     "metadata": {},
     "output_type": "execute_result"
    }
   ],
   "source": [
    "# Calculating the P_positive\n",
    "P_positive = P_cancer * P_positive_cancer + P_not_cancer * P_positive_not_cancer\n",
    "\n",
    "# P(positive)\n",
    "P_positive"
   ]
  },
  {
   "cell_type": "code",
   "execution_count": 22,
   "metadata": {},
   "outputs": [
    {
     "data": {
      "text/plain": [
       "0.34230291241151994"
      ]
     },
     "execution_count": 22,
     "metadata": {},
     "output_type": "execute_result"
    }
   ],
   "source": [
    "# P(cancer|positive) = P(cancer) * P(positive|cancer)/P(positive)\n",
    "P_cancer_positive = P_cancer * P_positive_cancer / P_positive\n",
    "\n",
    "# P(cancer|positive)\n",
    "P_cancer_positive"
   ]
  },
  {
   "cell_type": "code",
   "execution_count": 25,
   "metadata": {},
   "outputs": [
    {
     "data": {
      "text/plain": [
       "0.65769708758848"
      ]
     },
     "execution_count": 25,
     "metadata": {},
     "output_type": "execute_result"
    }
   ],
   "source": [
    "# P(not cancer|positive) = P(not cancer) * P(positive|cancer)/P(positive)\n",
    "P_not_cancer_positive = P_not_cancer * P_positive_not_cancer / P_positive\n",
    "\n",
    "# P(not cancer|positive)\n",
    "P_not_cancer_positive"
   ]
  },
  {
   "cell_type": "code",
   "execution_count": 26,
   "metadata": {},
   "outputs": [
    {
     "data": {
      "text/plain": [
       "0.722395"
      ]
     },
     "execution_count": 26,
     "metadata": {},
     "output_type": "execute_result"
    }
   ],
   "source": [
    "# Calculating the P_negative\n",
    "P_negative = P_cancer * P_negative_cancer + P_not_cancer * P_negative_not_cancer\n",
    "\n",
    "# P(negative)\n",
    "P_negative"
   ]
  },
  {
   "cell_type": "code",
   "execution_count": 27,
   "metadata": {},
   "outputs": [
    {
     "data": {
      "text/plain": [
       "0.013808235106832129"
      ]
     },
     "execution_count": 27,
     "metadata": {},
     "output_type": "execute_result"
    }
   ],
   "source": [
    "# P(cancer|negative) = P(cancer) * P(negative|cancer)/P(negative)\n",
    "P_cancer_negative = P_cancer * P_negative_cancer / P_negative\n",
    "\n",
    "# P(cancer|positive)\n",
    "P_cancer_negative"
   ]
  },
  {
   "cell_type": "code",
   "execution_count": 28,
   "metadata": {},
   "outputs": [
    {
     "data": {
      "text/plain": [
       "0.986191764893168"
      ]
     },
     "execution_count": 28,
     "metadata": {},
     "output_type": "execute_result"
    }
   ],
   "source": [
    "# P(not cancer|P_negative) = P(not cancer) * P(P_negative|cancer)/P(P_negative)\n",
    "P_not_cancer_P_negative = P_not_cancer * P_negative_not_cancer / P_negative\n",
    "\n",
    "# P(not cancer|P_negative)\n",
    "P_not_cancer_P_negative"
   ]
  },
  {
   "cell_type": "markdown",
   "metadata": {},
   "source": [
    "## Quiz Questions\n",
    "\n",
    "Use the probabilities given above and Bayes rule to compute the following probabilities.\n",
    "\n",
    "* Probability a patient who tested positive has cancer, or P(cancer|positive)\n",
    "* Probability a patient who tested positive doesn't have cancer, or P(~cancer|positive)\n",
    "* Probability a patient who tested negative has cancer, or P(cancer|negative)\n",
    "* Probability a patient who tested negative doesn't have cancer, or P(~cancer|negative)\n",
    "\n",
    "Then, use the Jupyter notebook to compare them to true proportions in the dataset."
   ]
  },
  {
   "cell_type": "markdown",
   "metadata": {},
   "source": [
    "# Conditional Probability & Bayes Rule Quiz"
   ]
  },
  {
   "cell_type": "code",
   "execution_count": 1,
   "metadata": {},
   "outputs": [],
   "source": [
    "# Importing libraries\n",
    "import pandas as pd\n",
    "import numpy as np"
   ]
  },
  {
   "cell_type": "code",
   "execution_count": 4,
   "metadata": {},
   "outputs": [],
   "source": [
    "# load dataset\n",
    "df = pd.read_csv('cancer_test_data.csv')"
   ]
  },
  {
   "cell_type": "code",
   "execution_count": 11,
   "metadata": {},
   "outputs": [
    {
     "data": {
      "text/plain": [
       "0.34282178217821785"
      ]
     },
     "execution_count": 11,
     "metadata": {},
     "output_type": "execute_result"
    }
   ],
   "source": [
    "# What proportion of patients who tested positive has cancer?\n",
    "df[df.test_result == 'Positive'].has_cancer.value_counts()[1]/sum(df[df.test_result == 'Positive'].has_cancer.value_counts())"
   ]
  },
  {
   "cell_type": "code",
   "execution_count": 13,
   "metadata": {},
   "outputs": [
    {
     "data": {
      "text/plain": [
       "0.65717821782178221"
      ]
     },
     "execution_count": 13,
     "metadata": {},
     "output_type": "execute_result"
    }
   ],
   "source": [
    "# What proportion of patients who tested positive doesn't have cancer?\n",
    "df[df.test_result == 'Positive'].has_cancer.value_counts()[0]/sum(df[df.test_result == 'Positive'].has_cancer.value_counts())"
   ]
  },
  {
   "cell_type": "code",
   "execution_count": 16,
   "metadata": {},
   "outputs": [
    {
     "data": {
      "text/plain": [
       "0.013770180436847104"
      ]
     },
     "execution_count": 16,
     "metadata": {},
     "output_type": "execute_result"
    }
   ],
   "source": [
    "# What proportion of patients who tested negative has cancer?\n",
    "df[df.test_result == 'Negative'].has_cancer.value_counts()[1]/sum(df[df.test_result == 'Negative'].has_cancer.value_counts())"
   ]
  },
  {
   "cell_type": "code",
   "execution_count": 17,
   "metadata": {},
   "outputs": [
    {
     "data": {
      "text/plain": [
       "0.98622981956315292"
      ]
     },
     "execution_count": 17,
     "metadata": {},
     "output_type": "execute_result"
    }
   ],
   "source": [
    "# What proportion of patients who tested negative doesn't have cancer?\n",
    "df[df.test_result == 'Negative'].has_cancer.value_counts()[0]/sum(df[df.test_result == 'Negative'].has_cancer.value_counts())"
   ]
  }
 ],
 "metadata": {
  "kernelspec": {
   "display_name": "Python 3",
   "language": "python",
   "name": "python3"
  },
  "language_info": {
   "codemirror_mode": {
    "name": "ipython",
    "version": 3
   },
   "file_extension": ".py",
   "mimetype": "text/x-python",
   "name": "python",
   "nbconvert_exporter": "python",
   "pygments_lexer": "ipython3",
   "version": "3.6.3"
  }
 },
 "nbformat": 4,
 "nbformat_minor": 2
}
