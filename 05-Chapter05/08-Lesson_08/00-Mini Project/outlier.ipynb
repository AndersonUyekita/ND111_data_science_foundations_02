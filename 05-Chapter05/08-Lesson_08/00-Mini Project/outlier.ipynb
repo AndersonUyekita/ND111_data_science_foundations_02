{
 "cells": [
  {
   "cell_type": "markdown",
   "metadata": {},
   "source": [
    "# Mini-Project - Outliers\n",
    "\n",
    "##### Student Tags\n",
    "\n",
    "Author: Anderson Hitoshi Uyekita    \n",
    "Mini-Project: Support Vector Machine  \n",
    "Course: Data Science - Foundations II  \n",
    "COD: ND111  \n",
    "Date: 19/01/2019    \n",
    "\n",
    "***"
   ]
  },
  {
   "cell_type": "markdown",
   "metadata": {},
   "source": [
    "## Table of Contents\n",
    "- [Introduction](#intro)\n",
    "- [Given code 1](#code1)\n",
    "- [Part I](#part_i)\n",
    "    - [Exercise 1](#part_i_1)\n",
    "    - [Exercise 2](#part_i_2)\n",
    "- [Part II](#part_ii)\n",
    "- [Given code 2](#code2)\n",
    "    - [Exercise 1](#part_ii_1)\n",
    "    - [Exercise 2](#part_ii_2)\n",
    "    - [Exercise 3](#part_ii_3)\n",
    "    - [Exercise 4](#part_ii_4)\n",
    "    - [Exercise 5](#part_ii_5)\n",
    "    - [Exercise 6](#part_ii_6)\n",
    "    - [Exercise 7](#part_ii_7)\n",
    "    \n",
    "***"
   ]
  },
  {
   "cell_type": "markdown",
   "metadata": {},
   "source": [
    "### General Information\n",
    "\n",
    "This Jupyter Notebook (in Python 2) aims to create a reproducible archive.\n",
    "\n",
    "## Introduction <a id='intro'></a>\n",
    "\n",
    "This project has two parts. In the first part, you will run a regression, and identify and remove the 10% of points that have the largest residual errors. Then you’ll remove those outliers from the dataset and refit the regression, just like the strategy that Sebastian suggested in the lesson videos.\n",
    "\n",
    "In the second part, you will get acquainted with some of the outliers in the Enron finance data, and learn if/how to remove them.\n",
    "\n",
    "#### Given Code 1 <a id='code1'></a>"
   ]
  },
  {
   "cell_type": "code",
   "execution_count": 1,
   "metadata": {},
   "outputs": [],
   "source": [
    "#!/usr/bin/python\n",
    "\n",
    "import random\n",
    "import numpy\n",
    "import matplotlib.pyplot as plt\n",
    "import pickle\n",
    "\n",
    "from outlier_cleaner import outlierCleaner\n",
    "\n",
    "### load up some practice data with outliers in it\n",
    "ages = pickle.load( open(\"practice_outliers_ages.pkl\", \"r\") )\n",
    "net_worths = pickle.load( open(\"practice_outliers_net_worths.pkl\", \"r\") )\n",
    "\n",
    "### ages and net_worths need to be reshaped into 2D numpy arrays\n",
    "### second argument of reshape command is a tuple of integers: (n_rows, n_columns)\n",
    "### by convention, n_rows is the number of data points\n",
    "### and n_columns is the number of features\n",
    "ages       = numpy.reshape( numpy.array(ages), (len(ages), 1))\n",
    "net_worths = numpy.reshape( numpy.array(net_worths), (len(net_worths), 1))\n",
    "\n",
    "from sklearn.model_selection import train_test_split\n",
    "\n",
    "ages_train, ages_test, net_worths_train, net_worths_test = train_test_split(ages, net_worths, test_size=0.1, random_state=42)"
   ]
  },
  {
   "cell_type": "code",
   "execution_count": 2,
   "metadata": {},
   "outputs": [
    {
     "data": {
      "text/plain": [
       "(array([[5.07793064]]), array([25.21002155]))"
      ]
     },
     "execution_count": 2,
     "metadata": {},
     "output_type": "execute_result"
    }
   ],
   "source": [
    "# Import the library of linear model from Scikit Learn.\n",
    "from sklearn.linear_model import LinearRegression\n",
    "\n",
    "# Creating a Classifier\n",
    "reg = LinearRegression()\n",
    "\n",
    "# Fitting/Training the classifier.\n",
    "reg.fit(ages_train, net_worths_train)\n",
    "\n",
    "# Slope and Intercept\n",
    "reg.coef_, reg.intercept_ "
   ]
  },
  {
   "cell_type": "code",
   "execution_count": 3,
   "metadata": {},
   "outputs": [
    {
     "data": {
      "image/png": "[encoded data removed]",
      "text/plain": [
       "<Figure size 1008x432 with 1 Axes>"
      ]
     },
     "metadata": {
      "needs_background": "light"
     },
     "output_type": "display_data"
    },
    {
     "name": "stdout",
     "output_type": "stream",
     "text": [
      "outlierCleaner() is returning an empty list, no refitting to be done\n"
     ]
    }
   ],
   "source": [
    "plt.figure(figsize = [14, 6])\n",
    "\n",
    "try:\n",
    "    plt.plot(ages, reg.predict(ages), color=\"blue\")\n",
    "except NameError:\n",
    "    pass\n",
    "plt.scatter(ages, net_worths)\n",
    "plt.show()\n",
    "\n",
    "### identify and remove the most outlier-y points\n",
    "cleaned_data = []\n",
    "try:\n",
    "    predictions = reg.predict(ages_train)\n",
    "    cleaned_data = outlierCleaner( predictions, ages_train, net_worths_train )\n",
    "except NameError:\n",
    "    print \"your regression object doesn't exist, or isn't name reg\"\n",
    "    print \"can't make predictions to use in identifying outliers\"\n",
    "\n",
    "### only run this code if cleaned_data is returning data\n",
    "if len(cleaned_data) > 0:\n",
    "    ages, net_worths, errors = zip(*cleaned_data)\n",
    "    ages       = numpy.reshape( numpy.array(ages), (len(ages), 1))\n",
    "    net_worths = numpy.reshape( numpy.array(net_worths), (len(net_worths), 1))\n",
    "\n",
    "    ### refit your cleaned data!\n",
    "    try:\n",
    "        reg.fit(ages, net_worths)\n",
    "        plt.plot(ages, reg.predict(ages), color=\"blue\")\n",
    "    except NameError:\n",
    "        print \"you don't seem to have regression imported/created,\"\n",
    "        print \"   or else your regression object isn't named reg\"\n",
    "        print \"   either way, only draw the scatter plot of the cleaned data\"\n",
    "    plt.scatter(ages, net_worths)\n",
    "    plt.xlabel(\"ages\")\n",
    "    plt.ylabel(\"net worths\")\n",
    "    plt.show()\n",
    "\n",
    "else:\n",
    "    print \"outlierCleaner() is returning an empty list, no refitting to be done\""
   ]
  },
  {
   "cell_type": "markdown",
   "metadata": {},
   "source": [
    "## Part I\n",
    "\n",
    "### Exercise 1 - Slope of Regression with Outliers <a id='part_i_1'></a>\n",
    "\n",
    "Sebastian described to us an algorithm for improving a regression, which you will implement in this project. You will work through it in the next few quizzes. To summarize, what you'll do is fit the regression on all training points discard the 10% of points that have the largest errors between the actual y values, and the regression-predicted y values refit on the remaining points.\n",
    "\n",
    "Start by running the starter code (outliers/outlier_removal_regression.py) and visualizing the points. A few outliers should clearly pop out. Deploy a linear regression, where net worth is the target and the feature being used to predict it is a person’s age (remember to train on the training data!).\n",
    "\n",
    "The “correct” slope for the main body of data points is 6.25 (we know this because we used this value to generate the data)\n",
    "\n",
    ">**What slope does your regression have?**"
   ]
  },
  {
   "cell_type": "code",
   "execution_count": 4,
   "metadata": {},
   "outputs": [
    {
     "data": {
      "text/plain": [
       "array([[5.07793064]])"
      ]
     },
     "execution_count": 4,
     "metadata": {},
     "output_type": "execute_result"
    }
   ],
   "source": [
    "# Slope\n",
    "reg.coef_"
   ]
  },
  {
   "cell_type": "markdown",
   "metadata": {},
   "source": [
    "### Exercise 2 - Score of Regression with Outliers <a id='part_i_2'></a>\n",
    "\n",
    ">**What is the score you get when using your regression to make predictions with the test data?**"
   ]
  },
  {
   "cell_type": "code",
   "execution_count": 5,
   "metadata": {},
   "outputs": [
    {
     "data": {
      "text/plain": [
       "0.8782624703664671"
      ]
     },
     "execution_count": 5,
     "metadata": {},
     "output_type": "execute_result"
    }
   ],
   "source": [
    "# Score using test dataset.\n",
    "reg.score(ages_test, net_worths_test)"
   ]
  },
  {
   "cell_type": "markdown",
   "metadata": {},
   "source": [
    "## Part II\n",
    "\n",
    "### Exercise 1 - Slope After Cleaning <a id='part_ii_1'></a>\n",
    "\n",
    "In outliers/outlier_cleaner.py, you will find the skeleton for a function called outlierCleaner() that you will fill in with a cleaning algorithm. It takes three arguments: predictions is a list of predicted targets that come from your regression, ages is the list of ages in the training set, and net_worths is the actual value of the net worths in the training set. There should be 90 elements in each of these lists (because the training set has 90 points in it). Your job is to return a list called cleaned_data that has only 81 elements in it, which are the 81 training points where the predictions and the actual values (net_worths) have the smallest errors (90 * 0.9 = 81). The format of cleaned_data should be a list of tuples, where each tuple has the form (age, net_worth, error). \n",
    "\n",
    "Once this cleaning function is working, you should see the regression result changes. What is the new slope? Is it closer to the “correct” result of 6.25?\n",
    "\n",
    "#### Given code 2  <a id='code2'></a>"
   ]
  },
  {
   "cell_type": "code",
   "execution_count": 6,
   "metadata": {},
   "outputs": [],
   "source": [
    "#!/usr/bin/python\n",
    "\n",
    "def outlierCleaner(predictions, ages, net_worths):\n",
    "    \"\"\"\n",
    "        Clean away the 10% of points that have the largest\n",
    "        residual errors (difference between the prediction\n",
    "        and the actual net worth).\n",
    "\n",
    "        Return a list of tuples named cleaned_data where \n",
    "        each tuple is of the form (age, net_worth, error).\n",
    "    \"\"\"\n",
    "    \n",
    "    import pandas as pd\n",
    "\n",
    "    # Calculating the errors\n",
    "    error = net_worths - predictions\n",
    "\n",
    "    # Squared errors\n",
    "    error_2 = error * error\n",
    "\n",
    "    # Creating a DataFrame to work with filters.\n",
    "    df = pd.DataFrame(ages, columns = ['ages'])\n",
    "\n",
    "    # Adding columns\n",
    "    df['net_worths'] = net_worths\n",
    "    df['r_2'] = error_2\n",
    "\n",
    "    # Determine the threshold to cut the 10% of outliers.\n",
    "    threshold = df.r_2.sort_values().iloc[[-10]]\n",
    "\n",
    "    # Filtering using the threshold.\n",
    "    cleaned_data = df[df.r_2 <= float(threshold)]\n",
    "\n",
    "    # Returning the tuple.\n",
    "    return zip(cleaned_data.ages, cleaned_data.net_worths, cleaned_data.r_2)"
   ]
  },
  {
   "cell_type": "code",
   "execution_count": 7,
   "metadata": {},
   "outputs": [],
   "source": [
    "# Using the outlierCleaner to remove the outliers.\n",
    "data_train_clean = outlierCleaner(reg.predict(ages_train), ages_train, net_worths_train)\n",
    "\n",
    "# Unzipping the tuples.\n",
    "ages_train_clean, net_worths_train_clean, _ = zip(*data_train_clean)"
   ]
  },
  {
   "cell_type": "markdown",
   "metadata": {},
   "source": [
    "### Exercise 2 - Slope After Cleaning 1 <a id='part_ii_2'></a>\n",
    "\n",
    ">**What is the new slope of your regression, now that the outliers have been cleaned away?**"
   ]
  },
  {
   "cell_type": "code",
   "execution_count": 8,
   "metadata": {},
   "outputs": [
    {
     "name": "stdout",
     "output_type": "stream",
     "text": [
      "Slope: 6.368594806943665\n",
      "Intercept: 25.21002154563587\n"
     ]
    }
   ],
   "source": [
    "# Creating a Classifier\n",
    "reg_2 = LinearRegression()\n",
    "\n",
    "# Fitting/Training the classifier.\n",
    "reg_2.fit(zip(ages_train_clean),zip(net_worths_train_clean))\n",
    "\n",
    "# Slope and Intercept\n",
    "print \"Slope:\", reg_2.coef_[0][0]\n",
    "print \"Intercept:\", reg.intercept_[0]"
   ]
  },
  {
   "cell_type": "markdown",
   "metadata": {},
   "source": [
    "### Exercise 3 - Score After Cleaning 2 <a id='part_ii_3'></a>\n",
    "\n",
    ">**What’s the new score when you use the regression to make predictions on the test set?**"
   ]
  },
  {
   "cell_type": "code",
   "execution_count": 9,
   "metadata": {},
   "outputs": [
    {
     "name": "stdout",
     "output_type": "stream",
     "text": [
      "Score: 0.983189455395532\n"
     ]
    }
   ],
   "source": [
    "# Score using test dataset.\n",
    "print \"Score:\", reg_2.score(ages_test, net_worths_test)"
   ]
  },
  {
   "cell_type": "markdown",
   "metadata": {},
   "source": [
    "### Exercise 4 - Identify the Biggest Enron Outlier <a id='part_ii_4'></a>\n",
    "\n",
    "In the mini-project for the regressions lesson, you used a regression to predict the bonuses for Enron employees. As you saw, even a single outlier can make a big difference on the regression result. There was something we didn’t tell you, though, which was that the dataset we had you use in that project had already been cleaned of some significant outliers. Identifying and cleaning away outliers is something you should always think about when looking at a dataset for the first time, and now you’ll get some hands-on experience with the Enron data.\n",
    "\n",
    "You can find the starter code in outliers/enron_outliers.py, which reads in the data (in dictionary form) and converts it into a sklearn-ready numpy array. Since there are two features being extracted from the dictionary (“salary” and “bonus”), the resulting numpy array will be of dimension N x 2, where N is the number of data points and 2 is the number of features. This is perfect input for a scatterplot; we’ll use the matplotlib.pyplot module to make that plot. (We’ve been using pyplot for all the visualizations in this course.) Add these lines to the bottom of the script to make your scatterplot: \n",
    "\n",
    "```\n",
    "for point in data:\n",
    "    salary = point[0]\n",
    "    bonus = point[1]\n",
    "    matplotlib.pyplot.scatter( salary, bonus )\n",
    "\n",
    "matplotlib.pyplot.xlabel(\"salary\")\n",
    "matplotlib.pyplot.ylabel(\"bonus\")\n",
    "matplotlib.pyplot.show()\n",
    "```"
   ]
  },
  {
   "cell_type": "code",
   "execution_count": 10,
   "metadata": {},
   "outputs": [],
   "source": [
    "#!/usr/bin/python\n",
    "\n",
    "import pickle\n",
    "import sys\n",
    "import matplotlib.pyplot\n",
    "sys.path.append(\"../tools/\")\n",
    "from feature_format import featureFormat, targetFeatureSplit\n",
    "\n",
    "\n",
    "### read in data dictionary, convert to numpy array\n",
    "data_dict = pickle.load( open(\"../final_project/final_project_dataset.pkl\", \"r\") )\n",
    "features = [\"salary\", \"bonus\"]\n",
    "data = featureFormat(data_dict, features)"
   ]
  },
  {
   "cell_type": "markdown",
   "metadata": {},
   "source": [
    "There’s one outlier that should pop out to you immediately. Now the question is to identify the source. We found the original data source to be very helpful for this identification; you can find that PDF in final_project/enron61702insiderpay.pdf \n",
    "What’s the name of the dictionary key of this data point? (e.g. if this is Ken Lay, the answer would be “LAY KENNETH L”)."
   ]
  },
  {
   "cell_type": "code",
   "execution_count": 11,
   "metadata": {},
   "outputs": [],
   "source": [
    "# Using the given code to plot.\n",
    "\n",
    "def plot_graphic(data):\n",
    "    \"\"\"\n",
    "    Plot a graphic using the data dataframe as input.\n",
    "    \n",
    "    data: salary and bonus.\n",
    "    \"\"\"\n",
    "    plt.figure(figsize = [14,6])\n",
    "\n",
    "    for point in data:\n",
    "        salary = point[0]\n",
    "        bonus = point[1]\n",
    "        matplotlib.pyplot.scatter( salary, bonus )\n",
    "\n",
    "    matplotlib.pyplot.xlabel(\"salary\")\n",
    "    matplotlib.pyplot.ylabel(\"bonus\")\n",
    "    matplotlib.pyplot.show()"
   ]
  },
  {
   "cell_type": "code",
   "execution_count": 12,
   "metadata": {},
   "outputs": [
    {
     "data": {
      "image/png": "[encoded data removed]",
      "text/plain": [
       "<Figure size 1008x432 with 1 Axes>"
      ]
     },
     "metadata": {
      "needs_background": "light"
     },
     "output_type": "display_data"
    }
   ],
   "source": [
    "plot_graphic(data)"
   ]
  },
  {
   "cell_type": "markdown",
   "metadata": {},
   "source": [
    ">**What is the dictionary key of the biggest Eron outlier?**"
   ]
  },
  {
   "cell_type": "code",
   "execution_count": 13,
   "metadata": {},
   "outputs": [],
   "source": [
    "def df_keys_bonus_salary(data_dict):\n",
    "    \"\"\"\n",
    "    I have create this function because I will use it twice.\n",
    "    \"\"\"\n",
    "    # Initializing a list to store my desired info.\n",
    "    list_of_interest = []\n",
    "\n",
    "    # Loop to store the info in the list.\n",
    "    for index in data_dict:\n",
    "        list_of_interest.append([str(index), data_dict[index]['bonus'], data_dict[index]['salary']])\n",
    "\n",
    "    # Importing pandas\n",
    "    import pandas as pd\n",
    "\n",
    "    # Converting to DataFrame.\n",
    "    df_key_bonus = pd.DataFrame(list_of_interest, columns = ['keys','bonus', 'salary'])\n",
    "\n",
    "    # Removing NaN values.\n",
    "    df_key_bonus = df_key_bonus[df_key_bonus.bonus != 'NaN']\n",
    "\n",
    "    # Ordering by bonus and printing the first 5 rows.\n",
    "    return df_key_bonus"
   ]
  },
  {
   "cell_type": "code",
   "execution_count": 14,
   "metadata": {},
   "outputs": [
    {
     "data": {
      "text/html": [
       "<div>\n",
       "<style scoped>\n",
       "    .dataframe tbody tr th:only-of-type {\n",
       "        vertical-align: middle;\n",
       "    }\n",
       "\n",
       "    .dataframe tbody tr th {\n",
       "        vertical-align: top;\n",
       "    }\n",
       "\n",
       "    .dataframe thead th {\n",
       "        text-align: right;\n",
       "    }\n",
       "</style>\n",
       "<table border=\"1\" class=\"dataframe\">\n",
       "  <thead>\n",
       "    <tr style=\"text-align: right;\">\n",
       "      <th></th>\n",
       "      <th>keys</th>\n",
       "      <th>bonus</th>\n",
       "      <th>salary</th>\n",
       "    </tr>\n",
       "  </thead>\n",
       "  <tbody>\n",
       "    <tr>\n",
       "      <th>104</th>\n",
       "      <td>TOTAL</td>\n",
       "      <td>97343619</td>\n",
       "      <td>26704229</td>\n",
       "    </tr>\n",
       "    <tr>\n",
       "      <th>43</th>\n",
       "      <td>LAVORATO JOHN J</td>\n",
       "      <td>8000000</td>\n",
       "      <td>339288</td>\n",
       "    </tr>\n",
       "    <tr>\n",
       "      <th>65</th>\n",
       "      <td>LAY KENNETH L</td>\n",
       "      <td>7000000</td>\n",
       "      <td>1072321</td>\n",
       "    </tr>\n",
       "    <tr>\n",
       "      <th>95</th>\n",
       "      <td>SKILLING JEFFREY K</td>\n",
       "      <td>5600000</td>\n",
       "      <td>1111258</td>\n",
       "    </tr>\n",
       "    <tr>\n",
       "      <th>82</th>\n",
       "      <td>BELDEN TIMOTHY N</td>\n",
       "      <td>5249999</td>\n",
       "      <td>213999</td>\n",
       "    </tr>\n",
       "  </tbody>\n",
       "</table>\n",
       "</div>"
      ],
      "text/plain": [
       "                   keys     bonus    salary\n",
       "104               TOTAL  97343619  26704229\n",
       "43      LAVORATO JOHN J   8000000    339288\n",
       "65        LAY KENNETH L   7000000   1072321\n",
       "95   SKILLING JEFFREY K   5600000   1111258\n",
       "82     BELDEN TIMOTHY N   5249999    213999"
      ]
     },
     "execution_count": 14,
     "metadata": {},
     "output_type": "execute_result"
    }
   ],
   "source": [
    "# Using the function df_keys_bonus_salary.\n",
    "df_keys_bonus_salary(data_dict).sort_values(by = ['bonus'], ascending=False).head()"
   ]
  },
  {
   "cell_type": "markdown",
   "metadata": {},
   "source": [
    "Total is the key with the highest value. "
   ]
  },
  {
   "cell_type": "markdown",
   "metadata": {},
   "source": [
    "### Exercise 5 - Remove Enron Outlier? <a id='part_ii_5'></a>\n",
    "\n",
    ">**Does this outlier seem like a data point that we should include when running machine learning on this dataset? Or should we remove it?**\n",
    "\n",
    "Take it out, it is a spreadsheet quirk."
   ]
  },
  {
   "cell_type": "markdown",
   "metadata": {},
   "source": [
    "### Exercise 6 - Any More Outliers? <a id='part_ii_6'></a>\n",
    "\n",
    "A quick way to remove a key-value pair from a dictionary is the following line: dictionary.pop( key, 0 ) Write a line like this (you’ll have to modify the dictionary and key names, of course) and remove the outlier before calling featureFormat(). Now rerun the code, so your scatterplot doesn’t have this outlier anymore. Are all the outliers gone?"
   ]
  },
  {
   "cell_type": "code",
   "execution_count": 15,
   "metadata": {},
   "outputs": [
    {
     "data": {
      "image/png": "[encoded data removed]",
      "text/plain": [
       "<Figure size 1008x432 with 1 Axes>"
      ]
     },
     "metadata": {
      "needs_background": "light"
     },
     "output_type": "display_data"
    }
   ],
   "source": [
    "# Copying the original dictionary.\n",
    "data_dict_clean = data_dict.copy()\n",
    "\n",
    "# Removing only the TOTAL.\n",
    "data_dict_clean.pop('TOTAL');\n",
    "\n",
    "# Defining the features.\n",
    "features = [\"salary\", \"bonus\"]\n",
    "\n",
    "# Cleaning the data.\n",
    "data_clean = featureFormat(data_dict_clean, features)\n",
    "\n",
    "# Plotting the cleaned data.\n",
    "plot_graphic(data_clean)"
   ]
  },
  {
   "cell_type": "code",
   "execution_count": 16,
   "metadata": {},
   "outputs": [
    {
     "data": {
      "text/html": [
       "<div>\n",
       "<style scoped>\n",
       "    .dataframe tbody tr th:only-of-type {\n",
       "        vertical-align: middle;\n",
       "    }\n",
       "\n",
       "    .dataframe tbody tr th {\n",
       "        vertical-align: top;\n",
       "    }\n",
       "\n",
       "    .dataframe thead th {\n",
       "        text-align: right;\n",
       "    }\n",
       "</style>\n",
       "<table border=\"1\" class=\"dataframe\">\n",
       "  <thead>\n",
       "    <tr style=\"text-align: right;\">\n",
       "      <th></th>\n",
       "      <th>keys</th>\n",
       "      <th>bonus</th>\n",
       "      <th>salary</th>\n",
       "    </tr>\n",
       "  </thead>\n",
       "  <tbody>\n",
       "    <tr>\n",
       "      <th>95</th>\n",
       "      <td>SKILLING JEFFREY K</td>\n",
       "      <td>5600000</td>\n",
       "      <td>1111258</td>\n",
       "    </tr>\n",
       "    <tr>\n",
       "      <th>64</th>\n",
       "      <td>LAY KENNETH L</td>\n",
       "      <td>7000000</td>\n",
       "      <td>1072321</td>\n",
       "    </tr>\n",
       "    <tr>\n",
       "      <th>127</th>\n",
       "      <td>FREVERT MARK A</td>\n",
       "      <td>2000000</td>\n",
       "      <td>1060932</td>\n",
       "    </tr>\n",
       "    <tr>\n",
       "      <th>115</th>\n",
       "      <td>PICKERING MARK R</td>\n",
       "      <td>300000</td>\n",
       "      <td>655037</td>\n",
       "    </tr>\n",
       "    <tr>\n",
       "      <th>56</th>\n",
       "      <td>WHALLEY LAWRENCE G</td>\n",
       "      <td>3000000</td>\n",
       "      <td>510364</td>\n",
       "    </tr>\n",
       "  </tbody>\n",
       "</table>\n",
       "</div>"
      ],
      "text/plain": [
       "                   keys    bonus   salary\n",
       "95   SKILLING JEFFREY K  5600000  1111258\n",
       "64        LAY KENNETH L  7000000  1072321\n",
       "127      FREVERT MARK A  2000000  1060932\n",
       "115    PICKERING MARK R   300000   655037\n",
       "56   WHALLEY LAWRENCE G  3000000   510364"
      ]
     },
     "execution_count": 16,
     "metadata": {},
     "output_type": "execute_result"
    }
   ],
   "source": [
    "# Using the df_keys_bonus_salary to create a list of highest bonus.\n",
    "df_keys_bonus_salary(data_dict_clean).sort_values(by = ['salary', 'bonus'], ascending=False).head()"
   ]
  },
  {
   "cell_type": "markdown",
   "metadata": {},
   "source": [
    ">**What are the names associated with the current Enron outliers?**\n",
    "\n",
    "* SKILLING JEFFREY K\n",
    "* LAY KENNETH L"
   ]
  },
  {
   "cell_type": "markdown",
   "metadata": {},
   "source": [
    "### Exercise 7 - Remove These Outliers? <a id='part_ii_7'></a>\n",
    "\n",
    "Would you guess that these are typos or weird spreadsheet lines that we should remove, or that there’s a meaningful reason why \n",
    "these points are different? (In other words, should they be removed before we, say, try to build a POI identifier?)\n",
    "\n",
    ">**Do you think these outliers should be cleaned away, or left in as a data point?**\n",
    "\n",
    "Leave them in, they are valid data points."
   ]
  },
  {
   "cell_type": "markdown",
   "metadata": {},
   "source": [
    "# Copying files"
   ]
  },
  {
   "cell_type": "code",
   "execution_count": 17,
   "metadata": {},
   "outputs": [],
   "source": [
    "# Importing shutil to deal with copy\n",
    "from shutil import copyfile\n",
    "\n",
    "# File name\n",
    "filename = 'outlier.ipynb'\n",
    "\n",
    "# Lesson\n",
    "lesson = '08-Lesson_08'\n",
    "\n",
    "# Directory to make a copy\n",
    "dir_copy = '../../../ND111-Data Science Foundations II/05-Chapter05/' + lesson + '/00-Mini Project/' + filename\n",
    "\n",
    "# Copying file.\n",
    "copyfile(filename, dir_copy)"
   ]
  }
 ],
 "metadata": {
  "kernelspec": {
   "display_name": "Python 2",
   "language": "python",
   "name": "python2"
  },
  "language_info": {
   "codemirror_mode": {
    "name": "ipython",
    "version": 2
   },
   "file_extension": ".py",
   "mimetype": "text/x-python",
   "name": "python",
   "nbconvert_exporter": "python",
   "pygments_lexer": "ipython2",
   "version": "2.7.15"
  }
 },
 "nbformat": 4,
 "nbformat_minor": 2
}
