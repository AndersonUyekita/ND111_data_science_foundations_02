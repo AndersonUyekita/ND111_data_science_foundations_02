{
 "cells": [
  {
   "cell_type": "markdown",
   "metadata": {},
   "source": [
    "# Mini-Project - K-Means Clustering\n",
    "\n",
    "##### Student Tags\n",
    "\n",
    "Author: Anderson Hitoshi Uyekita    \n",
    "Mini-Project: Support Vector Machine  \n",
    "Course: Data Science - Foundations II  \n",
    "COD: ND111  \n",
    "Date: 20/01/2019    \n",
    "\n",
    "***"
   ]
  },
  {
   "cell_type": "markdown",
   "metadata": {},
   "source": [
    "## Table of Contents\n",
    "- [Introduction](#intro)\n",
    "- [Given code 1](#code1)\n",
    "- [Exercise 1](#part_i_1)\n",
    "- [Exercise 2](#part_i_2)\n",
    "- [Exercise 3](#part_i_3)\n",
    "- [Exercise 4](#part_i_4)\n",
    "- [Exercise 5](#part_i_5)\n",
    "- [Exercise 6](#part_i_6)\n",
    "\n",
    "***"
   ]
  },
  {
   "cell_type": "markdown",
   "metadata": {},
   "source": [
    "## General Information\n",
    "\n",
    "This Jupyter Notebook (in Python 2) aims to create a reproducible archive.\n",
    "\n",
    "## Introduction <a id='intro'></a>\n",
    "\n",
    "In this project, we’ll apply k-means clustering to our Enron financial data. Our final goal, of course, is to identify persons of interest; since we have labeled data, this is not a question that particularly calls for an unsupervised approach like k-means clustering.\n",
    "\n",
    "Nonetheless, you’ll get some hands-on practice with k-means in this project, and play around with feature scaling, which will give you a sneak preview of the next lesson’s material.\n",
    "\n",
    "#### Given Code 1 <a id='code1'></a>"
   ]
  },
  {
   "cell_type": "code",
   "execution_count": 1,
   "metadata": {},
   "outputs": [
    {
     "data": {
      "text/plain": [
       "<Figure size 640x480 with 1 Axes>"
      ]
     },
     "metadata": {},
     "output_type": "display_data"
    }
   ],
   "source": [
    "#!/usr/bin/python \n",
    "\n",
    "\"\"\" \n",
    "    Skeleton code for k-means clustering mini-project.\n",
    "\"\"\"\n",
    "\n",
    "import pickle\n",
    "import numpy\n",
    "import matplotlib.pyplot as plt\n",
    "import sys\n",
    "sys.path.append(\"../tools/\")\n",
    "from feature_format import featureFormat, targetFeatureSplit\n",
    "\n",
    "\n",
    "\n",
    "\n",
    "def Draw(pred, features, poi, mark_poi=False, name=\"image.png\", f1_name=\"feature 1\", f2_name=\"feature 2\"):\n",
    "    \"\"\" some plotting code designed to help you visualize your clusters \"\"\"\n",
    "\n",
    "    ### plot each cluster with a different color--add more colors for\n",
    "    ### drawing more than five clusters\n",
    "    colors = [\"b\", \"c\", \"k\", \"m\", \"g\"]\n",
    "    for ii, pp in enumerate(pred):\n",
    "        plt.scatter(features[ii][0], features[ii][1], color = colors[pred[ii]])\n",
    "\n",
    "    ### if you like, place red stars over points that are POIs (just for funsies)\n",
    "    if mark_poi:\n",
    "        for ii, pp in enumerate(pred):\n",
    "            if poi[ii]:\n",
    "                plt.scatter(features[ii][0], features[ii][1], color=\"r\", marker=\"*\")\n",
    "    plt.xlabel(f1_name)\n",
    "    plt.ylabel(f2_name)\n",
    "    plt.savefig(name)\n",
    "    plt.show()\n",
    "\n",
    "\n",
    "\n",
    "### load in the dict of dicts containing all the data on each person in the dataset\n",
    "data_dict = pickle.load( open(\"../final_project/final_project_dataset.pkl\", \"r\") )\n",
    "### there's an outlier--remove it! \n",
    "data_dict.pop(\"TOTAL\", 0)\n",
    "\n",
    "\n",
    "### the input features we want to use \n",
    "### can be any key in the person-level dictionary (salary, director_fees, etc.) \n",
    "feature_1 = \"salary\"\n",
    "feature_2 = \"exercised_stock_options\"\n",
    "poi  = \"poi\"\n",
    "features_list = [poi, feature_1, feature_2]\n",
    "data = featureFormat(data_dict, features_list )\n",
    "poi, finance_features = targetFeatureSplit( data )\n",
    "\n",
    "\n",
    "### in the \"clustering with 3 features\" part of the mini-project,\n",
    "### you'll want to change this line to \n",
    "### for f1, f2, _ in finance_features:\n",
    "### (as it's currently written, the line below assumes 2 features)\n",
    "for f1, f2 in finance_features:\n",
    "    plt.scatter( f1, f2 )\n",
    "plt.show();"
   ]
  },
  {
   "cell_type": "code",
   "execution_count": 2,
   "metadata": {},
   "outputs": [],
   "source": [
    "### cluster here; create predictions of the cluster labels\n",
    "### for the data and store them to a list called pred\n",
    "\n",
    "# Importing the library of K-means from Scikit Learn\n",
    "from sklearn.cluster import KMeans\n",
    "\n",
    "# Creating the classifier.\n",
    "kmeans = KMeans(n_clusters=2, random_state=0)\n",
    "\n",
    "# Fitting/Training the data\n",
    "kmeans.fit(finance_features)\n",
    "\n",
    "#\n",
    "pred = kmeans.predict(finance_features)"
   ]
  },
  {
   "cell_type": "markdown",
   "metadata": {},
   "source": [
    "## Exercise 1 - Clustering Features <a id='part_i_1'></a>\n",
    "\n",
    "The starter code can be found in k_means/k_means_cluster.py, which reads in the email + financial (E+F) dataset and gets us ready for clustering. You’ll start with performing k-means based on just two financial features--take a look at the code, and determine which features the code uses for clustering.\n",
    "\n",
    "Run the code, which will create a scatterplot of the data. Think a little bit about what clusters you would expect to arise if 2 clusters are created.\n",
    "\n",
    ">**What features will your clustering algorithm use?**\n",
    "\n",
    "Reading the given code.\n",
    "\n",
    "```\n",
    "### the input features we want to use \n",
    "### can be any key in the person-level dictionary (salary, director_fees, etc.) \n",
    "feature_1 = \"salary\"\n",
    "feature_2 = \"exercised_stock_options\"\n",
    "```\n",
    "\n",
    "There are two features:\n",
    "\n",
    "* salary\n",
    "* exercised_stock_options"
   ]
  },
  {
   "cell_type": "markdown",
   "metadata": {},
   "source": [
    "## Exercise 2 - Deploying Clustering <a id='part_i_2'></a>\n",
    "\n",
    "Deploy k-means clustering on the financial_features data, with 2 clusters specified as a parameter. Store your cluster predictions to a list called pred, so that the Draw() command at the bottom of the script works properly. In the scatterplot that pops up, are the clusters what you expected?"
   ]
  },
  {
   "cell_type": "code",
   "execution_count": 3,
   "metadata": {},
   "outputs": [
    {
     "data": {
      "image/png": "[encoded data removed]",
      "text/plain": [
       "<Figure size 432x288 with 1 Axes>"
      ]
     },
     "metadata": {
      "needs_background": "light"
     },
     "output_type": "display_data"
    }
   ],
   "source": [
    "### rename the \"name\" parameter when you change the number of features\n",
    "### so that the figure gets saved to a different file\n",
    "try:\n",
    "    Draw(pred, finance_features, poi, mark_poi=False, name=\"clusters.pdf\", f1_name=feature_1, f2_name=feature_2)\n",
    "except NameError:\n",
    "    print \"no predictions object named pred found, no clusters to plot\""
   ]
  },
  {
   "cell_type": "markdown",
   "metadata": {},
   "source": [
    ">**Are the clusters what you expected?**\n",
    "\n",
    "- [ ] Yes, exactly what I expected\n",
    "- [x] Roughly, but there were a few suprises\n",
    "- [ ] No, but they made sense after I saw them\n",
    "- [ ] No, I don't see how those clusters are right"
   ]
  },
  {
   "cell_type": "markdown",
   "metadata": {},
   "source": [
    "## Exercise 3 - Clustering with 3 Features <a id='part_i_3'></a>\n",
    "\n",
    "Add a third feature to features_list, “total_payments\". Now rerun clustering, using 3 input features instead of 2 (obviously we can still only visualize the original 2 dimensions). Compare the plot with the clusterings to the one you obtained with 2 input features. Do any points switch clusters? How many? This new clustering, using 3 features, couldn’t have been guessed by eye--it was the k-means algorithm that identified it.\n",
    "\n",
    "(You'll need to change the code that makes the scatterplot to accommodate 3 features instead of 2, see the comments in the starter code for instructions on how to do this.)"
   ]
  },
  {
   "cell_type": "code",
   "execution_count": 4,
   "metadata": {},
   "outputs": [],
   "source": [
    "### the input features we want to use \n",
    "### can be any key in the person-level dictionary (salary, director_fees, etc.) \n",
    "feature_1 = \"salary\"\n",
    "feature_2 = \"exercised_stock_options\"\n",
    "feature_3 = \"total_payments\"\n",
    "poi  = \"poi\"\n",
    "features_list_2 = [poi, feature_1, feature_2,feature_3]\n",
    "data_2 = featureFormat(data_dict, features_list_2 )\n",
    "poi_2, finance_features_2 = targetFeatureSplit( data_2 )"
   ]
  },
  {
   "cell_type": "code",
   "execution_count": 5,
   "metadata": {},
   "outputs": [
    {
     "data": {
      "image/png": "[encoded data removed]",
      "text/plain": [
       "<Figure size 432x288 with 1 Axes>"
      ]
     },
     "metadata": {
      "needs_background": "light"
     },
     "output_type": "display_data"
    }
   ],
   "source": [
    "for f1, f2, _ in finance_features_2:\n",
    "    plt.scatter( f1, f2 )\n",
    "plt.show()"
   ]
  },
  {
   "cell_type": "code",
   "execution_count": 6,
   "metadata": {},
   "outputs": [],
   "source": [
    "# Creating the classifier.\n",
    "kmeans_2 = KMeans(n_clusters=2, random_state=0)\n",
    "\n",
    "# Fitting/Training the data\n",
    "kmeans_2.fit(finance_features_2)\n",
    "\n",
    "#\n",
    "pred_2 = kmeans_2.predict(finance_features_2)"
   ]
  },
  {
   "cell_type": "code",
   "execution_count": 7,
   "metadata": {},
   "outputs": [
    {
     "data": {
      "image/png": "[encoded data removed]",
      "text/plain": [
       "<Figure size 432x288 with 1 Axes>"
      ]
     },
     "metadata": {
      "needs_background": "light"
     },
     "output_type": "display_data"
    }
   ],
   "source": [
    "### rename the \"name\" parameter when you change the number of features\n",
    "### so that the figure gets saved to a different file\n",
    "try:\n",
    "    Draw(pred_2, finance_features_2, poi_2, mark_poi=False, name=\"clusters2.pdf\", f1_name=feature_1, f2_name=feature_2)\n",
    "except NameError:\n",
    "    print \"no predictions object named pred found, no clusters to plot\""
   ]
  },
  {
   "cell_type": "markdown",
   "metadata": {},
   "source": [
    "## Exercise 4 - Stock Option Range <a id='part_i_4'></a>\n",
    "\n",
    "In the next lesson, we’ll talk about feature scaling. It’s a type of feature preprocessing that you should perform before some classification and regression tasks. Here’s a sneak preview that should call your attention to the general outline of what feature scaling does.\n",
    "\n",
    "What are the maximum and minimum values taken by the “exercised_stock_options” feature used in this example?\n",
    "\n",
    "(NB: if you look at finance_features, there are some \"NaN\" values that have been cleaned away and replaced with zeroes--so while those might look like the minima, it's a bit deceptive because they're more like points for which we don't have information, and just have to put in a number. So for this question, go back to data_dict and look for the maximum and minimum numbers that show up there, ignoring all the \"NaN\" entries.)"
   ]
  },
  {
   "cell_type": "code",
   "execution_count": 8,
   "metadata": {},
   "outputs": [
    {
     "ename": "NameError",
     "evalue": "name 'pd' is not defined",
     "output_type": "error",
     "traceback": [
      "\u001b[1;31m---------------------------------------------------------------------------\u001b[0m",
      "\u001b[1;31mNameError\u001b[0m                                 Traceback (most recent call last)",
      "\u001b[1;32m<ipython-input-8-33221168eaed>\u001b[0m in \u001b[0;36m<module>\u001b[1;34m()\u001b[0m\n\u001b[0;32m      8\u001b[0m \u001b[1;33m\u001b[0m\u001b[0m\n\u001b[0;32m      9\u001b[0m \u001b[1;31m# Converting temp in DataFrame.\u001b[0m\u001b[1;33m\u001b[0m\u001b[1;33m\u001b[0m\u001b[0m\n\u001b[1;32m---> 10\u001b[1;33m \u001b[0mdf_temp\u001b[0m \u001b[1;33m=\u001b[0m \u001b[0mpd\u001b[0m\u001b[1;33m.\u001b[0m\u001b[0mDataFrame\u001b[0m\u001b[1;33m(\u001b[0m\u001b[0mtemp\u001b[0m\u001b[1;33m,\u001b[0m \u001b[0mcolumns\u001b[0m \u001b[1;33m=\u001b[0m \u001b[1;33m[\u001b[0m\u001b[1;34m'exercised_stock_options'\u001b[0m\u001b[1;33m]\u001b[0m\u001b[1;33m)\u001b[0m\u001b[1;33m\u001b[0m\u001b[0m\n\u001b[0m\u001b[0;32m     11\u001b[0m \u001b[1;33m\u001b[0m\u001b[0m\n\u001b[0;32m     12\u001b[0m \u001b[1;31m# Subsetting. Removing all \"NaN\"\u001b[0m\u001b[1;33m\u001b[0m\u001b[1;33m\u001b[0m\u001b[0m\n",
      "\u001b[1;31mNameError\u001b[0m: name 'pd' is not defined"
     ]
    }
   ],
   "source": [
    "# Importing pandas\n",
    "import pandas as pd\n",
    "\n",
    "# Initializing a temporaly list.\n",
    "temp = []\n",
    "\n",
    "# Loop to gather info from the dictionay.\n",
    "for index in data_dict:\n",
    "    # Appending all exercised_stock_options (include NaN values)\n",
    "    temp.append(data_dict[index]['exercised_stock_options'])\n",
    "\n",
    "# Converting temp in DataFrame.\n",
    "df_temp = pd.DataFrame(temp, columns = ['exercised_stock_options'])\n",
    "\n",
    "# Subsetting. Removing all \"NaN\"\n",
    "df_temp_clean = df_temp[df_temp.exercised_stock_options != \"NaN\"]\n",
    "\n",
    "# Summary: max and min.\n",
    "df_temp_clean.max()[0], df_temp_clean.min()[0]"
   ]
  },
  {
   "cell_type": "markdown",
   "metadata": {},
   "source": [
    ">**From querying the data dictionay, what's the maximun and minimum values taken by \"exercised_stock_options\"? (ignore \"NaN\")**\n",
    "\n",
    "* Max: 34348384.0\n",
    "* Min: 3285.0"
   ]
  },
  {
   "cell_type": "markdown",
   "metadata": {},
   "source": [
    "## Exercise 5 - Salary Range <a id='part_i_5'></a>\n",
    "\n",
    "What are the maximum and minimum values taken by “salary”?\n",
    "\n",
    "(NB: same caveat as in the last quiz. If you look at finance_features, there are some \"NaN\" values that have been cleaned away and replaced with zeroes--so while those might look like the minima, it's a bit deceptive because they're more like points for which we don't have information, and just have to put in a number. So for this question, go back to data_dict and look for the maximum and minimum numbers that show up there, ignoring all the \"NaN\" entries.)"
   ]
  },
  {
   "cell_type": "code",
   "execution_count": null,
   "metadata": {},
   "outputs": [],
   "source": [
    "# Initializing the second temporaly list.\n",
    "temp_2 = []\n",
    "\n",
    "# Loop to gather info from the dictionay.\n",
    "for index in data_dict:\n",
    "    # Appending all exercised_stock_options (include NaN values)\n",
    "    temp_2.append(data_dict[index]['salary'])\n",
    "\n",
    "# Converting temp in DataFrame.\n",
    "df_temp_2 = pd.DataFrame(temp_2, columns = ['salary'])\n",
    "\n",
    "# Subsetting. Removing all \"NaN\"\n",
    "df_temp_2_clean = df_temp_2[df_temp_2.salary != \"NaN\"]\n",
    "\n",
    "# Summary: max and min.\n",
    "df_temp_2_clean.max()[0], df_temp_2_clean.min()[0]"
   ]
  },
  {
   "cell_type": "markdown",
   "metadata": {},
   "source": [
    ">**From querying the data dictionay, what's the maximun and minimum values taken by \"exercised_stock_options\"? (ignore \"NaN\")**\n",
    "\n",
    "* Max: 1111258.0\n",
    "* Min: 477.0"
   ]
  },
  {
   "cell_type": "markdown",
   "metadata": {},
   "source": [
    "## Exercise 6 - Clustering Changes <a id='part_i_6'></a>\n",
    "\n",
    "The plot on the next slide shows the exact same clustering code that you just wrote, but in this example we applied feature scaling before performing the clustering.\n",
    "\n",
    "We want you to compare the clustering with scaling (on the next slide) with the first clustering visualization you produced, when you used two features in your clustering algorithm.\n",
    "\n",
    "Notice that now the range of the features has changed to [0.0, 1.0]. That's the only change we've made.\n",
    "\n",
    "In the next lesson you’ll learn a lot more about what feature scaling means, but for now, just look at the effect on the clusters--which point(s) switch their associated cluster?"
   ]
  },
  {
   "cell_type": "markdown",
   "metadata": {},
   "source": [
    "<img src=\"01-img/Figure1.jpg\" alt = \"last_question\" width=\"100%;\">"
   ]
  },
  {
   "cell_type": "markdown",
   "metadata": {},
   "source": [
    "#### Copying files"
   ]
  },
  {
   "cell_type": "code",
   "execution_count": null,
   "metadata": {},
   "outputs": [],
   "source": [
    "# Importing shutil to deal with copy\n",
    "from shutil import copyfile\n",
    "\n",
    "# File name\n",
    "filename = 'k_means_cluster.ipynb'\n",
    "\n",
    "# Lesson\n",
    "lesson = '09-Lesson_09'\n",
    "\n",
    "# Directory to make a copy\n",
    "dir_copy = '../../../ND111-Data Science Foundations II/05-Chapter05/' + lesson + '/00-Mini Project/' + filename\n",
    "\n",
    "# Copying file.\n",
    "copyfile(filename, dir_copy)"
   ]
  }
 ],
 "metadata": {
  "kernelspec": {
   "display_name": "Python 2",
   "language": "python",
   "name": "python2"
  },
  "language_info": {
   "codemirror_mode": {
    "name": "ipython",
    "version": 2
   },
   "file_extension": ".py",
   "mimetype": "text/x-python",
   "name": "python",
   "nbconvert_exporter": "python",
   "pygments_lexer": "ipython2",
   "version": "2.7.15"
  }
 },
 "nbformat": 4,
 "nbformat_minor": 2
}
