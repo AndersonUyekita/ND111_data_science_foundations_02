{
 "cells": [
  {
   "cell_type": "markdown",
   "metadata": {},
   "source": [
    "# Class Notebook\n",
    "\n",
    "This jupyter notebook has only the reason to follow the class calculations and examples."
   ]
  },
  {
   "cell_type": "code",
   "execution_count": 1,
   "metadata": {},
   "outputs": [],
   "source": [
    "# Importing libraries\n",
    "import numpy as np\n",
    "import pandas as pd\n",
    "\n",
    "import matplotlib.pylab as plt\n",
    "%matplotlib inline"
   ]
  },
  {
   "cell_type": "markdown",
   "metadata": {},
   "source": [
    "## Intro to Scikit Learn\n",
    "\n",
    "This notebook aims to introduce the Scikit Learn package in a hands on method calculating some Support Vector Machine."
   ]
  },
  {
   "cell_type": "code",
   "execution_count": 2,
   "metadata": {},
   "outputs": [],
   "source": [
    "# Importing the SVM from Scikit learn package.\n",
    "from sklearn import svm"
   ]
  },
  {
   "cell_type": "markdown",
   "metadata": {},
   "source": [
    "### Support Vector Machine\n",
    "\n",
    "This is a way to turn the things clear for me.\n",
    "\n",
    "The inputs of the Support Vector Machine method from Scikit Learn package: "
   ]
  },
  {
   "cell_type": "code",
   "execution_count": 3,
   "metadata": {},
   "outputs": [],
   "source": [
    "### Inputs.\n",
    "\n",
    "# This is the coordinates of each point.\n",
    "X = np.array([[-1, -1], [-2, -1], [-3, -2], [1, 1], [2, 1], [3, 2]])\n",
    "\n",
    "# This is the outcome of each classification.\n",
    "Y = np.array([1, 1, 1, 2, 2, 2])"
   ]
  },
  {
   "cell_type": "markdown",
   "metadata": {},
   "source": [
    "Have in mind, the X is the coordinates and Y is the results."
   ]
  },
  {
   "cell_type": "code",
   "execution_count": 18,
   "metadata": {},
   "outputs": [
    {
     "data": {
      "image/png": "[encoded data removed]",
      "text/plain": [
       "<Figure size 576x288 with 1 Axes>"
      ]
     },
     "metadata": {
      "needs_background": "light"
     },
     "output_type": "display_data"
    }
   ],
   "source": [
    "# Creating a dataframe to visualize these points.\n",
    "df = pd.DataFrame(X, columns = ['x','y'])\n",
    "\n",
    "# Adding the output colum.\n",
    "df['result'] = Y\n",
    "\n",
    "# Defining a function to plot graph.\n",
    "def plot_graph(x_1, y_1, x_2, y_2, title):\n",
    "    plt.figure(figsize = (8,4));\n",
    "    plt.scatter(x = x_1, y = y_1);\n",
    "    plt.scatter(x = x_2, y = y_2);\n",
    "    plt.xlabel('x axis', fontsize = 14);\n",
    "    plt.ylabel('y axis', fontsize = 14);\n",
    "    plt.title(title, fontsize = 18);\n",
    "    plt.legend(['Type 1','Type 2'])\n",
    "    plt.show()\n",
    "\n",
    "# Plotting the points.\n",
    "plot_graph(x_1 = df.query('result == 1').x,\n",
    "           y_1 = df.query('result == 1').y,\n",
    "           x_2 = df.query('result == 2').x,\n",
    "           y_2 = df.query('result == 2').y,\n",
    "           title = 'Example 1')"
   ]
  },
  {
   "cell_type": "markdown",
   "metadata": {},
   "source": [
    "Visually, I can identify two groups.\n",
    "\n",
    "Let's train our model."
   ]
  },
  {
   "cell_type": "code",
   "execution_count": 5,
   "metadata": {},
   "outputs": [],
   "source": [
    "# Creating the classifier.\n",
    "clf = svm.SVC(kernel = 'linear') # SVC: Support Vector Classification.\n",
    "                                 # kernel: \"linear\" is the type of \"boundry\".\n",
    "    \n",
    "# Calculating the coefficients as known as Fitting/Training the model.\n",
    "clf.fit(X, Y);"
   ]
  },
  {
   "cell_type": "markdown",
   "metadata": {},
   "source": [
    "Given a new point (-0.8, -1), what is the classification of this point?"
   ]
  },
  {
   "cell_type": "code",
   "execution_count": 6,
   "metadata": {},
   "outputs": [
    {
     "data": {
      "image/png": "[encoded data removed]",
      "text/plain": [
       "<Figure size 576x288 with 1 Axes>"
      ]
     },
     "metadata": {
      "needs_background": "light"
     },
     "output_type": "display_data"
    }
   ],
   "source": [
    "# Plotting the points.\n",
    "plt.figure(figsize = (8,4));\n",
    "plt.scatter(x = df.query('result == 1').x, y = df.query('result == 1').y);\n",
    "plt.scatter(x = df.query('result == 2').x, y = df.query('result == 2').y);\n",
    "plt.scatter(x = -0.8, y = -1);\n",
    "plt.xlabel('x axis', fontsize = 14);\n",
    "plt.ylabel('y axis', fontsize = 14);\n",
    "plt.title('Example 1', fontsize = 18);\n",
    "plt.legend(['Type 1','Type 2','New point'])\n",
    "plt.show()"
   ]
  },
  {
   "cell_type": "markdown",
   "metadata": {},
   "source": [
    "Visually, I expect this new point were a type 1.\n",
    "\n",
    "Let's confirm it using the `.predict()` method from the scikit learn package."
   ]
  },
  {
   "cell_type": "code",
   "execution_count": 7,
   "metadata": {},
   "outputs": [
    {
     "name": "stdout",
     "output_type": "stream",
     "text": [
      "Predicted type: [1]\n"
     ]
    }
   ],
   "source": [
    "print(\"Predicted type:\", clf.predict([[-0.8, -1]]))"
   ]
  },
  {
   "cell_type": "code",
   "execution_count": 8,
   "metadata": {},
   "outputs": [
    {
     "name": "stdout",
     "output_type": "stream",
     "text": [
      "Predicted type: [2]\n"
     ]
    }
   ],
   "source": [
    "print(\"Predicted type:\", clf.predict([[-1,1]]))"
   ]
  },
  {
   "cell_type": "markdown",
   "metadata": {},
   "source": [
    "### Accuracy Calculation\n",
    "\n",
    "I will use the same example from the class lesson, for this reason I will copy the function used to create the dataset."
   ]
  },
  {
   "cell_type": "code",
   "execution_count": 9,
   "metadata": {},
   "outputs": [],
   "source": [
    "import random\n",
    "\n",
    "def makeTerrainData(n_points=1000):\n",
    "###############################################################################\n",
    "### make the toy dataset\n",
    "    random.seed(42)\n",
    "    grade = [random.random() for ii in range(0,n_points)]\n",
    "    bumpy = [random.random() for ii in range(0,n_points)]\n",
    "    error = [random.random() for ii in range(0,n_points)]\n",
    "    y = [round(grade[ii]*bumpy[ii]+0.3+0.1*error[ii]) for ii in range(0,n_points)]\n",
    "    for ii in range(0, len(y)):\n",
    "        if grade[ii]>0.8 or bumpy[ii]>0.8:\n",
    "            y[ii] = 1.0\n",
    "\n",
    "### split into train/test sets\n",
    "    X = [[gg, ss] for gg, ss in zip(grade, bumpy)]\n",
    "    split = int(0.75*n_points)\n",
    "    X_train = X[0:split]\n",
    "    X_test  = X[split:]\n",
    "    y_train = y[0:split]\n",
    "    y_test  = y[split:]\n",
    "\n",
    "    grade_sig = [X_train[ii][0] for ii in range(0, len(X_train)) if y_train[ii]==0]\n",
    "    bumpy_sig = [X_train[ii][1] for ii in range(0, len(X_train)) if y_train[ii]==0]\n",
    "    grade_bkg = [X_train[ii][0] for ii in range(0, len(X_train)) if y_train[ii]==1]\n",
    "    bumpy_bkg = [X_train[ii][1] for ii in range(0, len(X_train)) if y_train[ii]==1]\n",
    "\n",
    "#    training_data = {\"fast\":{\"grade\":grade_sig, \"bumpiness\":bumpy_sig}\n",
    "#            , \"slow\":{\"grade\":grade_bkg, \"bumpiness\":bumpy_bkg}}\n",
    "\n",
    "\n",
    "    grade_sig = [X_test[ii][0] for ii in range(0, len(X_test)) if y_test[ii]==0]\n",
    "    bumpy_sig = [X_test[ii][1] for ii in range(0, len(X_test)) if y_test[ii]==0]\n",
    "    grade_bkg = [X_test[ii][0] for ii in range(0, len(X_test)) if y_test[ii]==1]\n",
    "    bumpy_bkg = [X_test[ii][1] for ii in range(0, len(X_test)) if y_test[ii]==1]\n",
    "\n",
    "    test_data = {\"fast\":{\"grade\":grade_sig, \"bumpiness\":bumpy_sig}\n",
    "            , \"slow\":{\"grade\":grade_bkg, \"bumpiness\":bumpy_bkg}}\n",
    "\n",
    "    return X_train, y_train, X_test, y_test\n",
    "#    return training_data, test_data"
   ]
  },
  {
   "cell_type": "code",
   "execution_count": 10,
   "metadata": {},
   "outputs": [],
   "source": [
    "# Creating data to use in my example.\n",
    "features_train, labels_train, features_test, labels_test = makeTerrainData()"
   ]
  },
  {
   "cell_type": "markdown",
   "metadata": {},
   "source": [
    "* `features`: List of coordinates (x, y);\n",
    "* `labels`: Each coordinates has a classification (0 or 1);\n",
    "\n",
    "Bear in mind, there are train and test dataframe.\n",
    "\n",
    "* Training dataframe: Used to fit the model.\n",
    "* Test dataframe: Complete different dataframe from the training dataframe, used to evaluate the model.\n",
    "\n",
    "Let's create the classifier, later train the model and finally predict the labels of the test dataframe."
   ]
  },
  {
   "cell_type": "code",
   "execution_count": 11,
   "metadata": {},
   "outputs": [],
   "source": [
    "# Creating the classifier.\n",
    "clf = svm.SVC(kernel = 'linear')\n",
    "\n",
    "# Training or fitting the model.\n",
    "clf.fit(features_train, labels_train)\n",
    "\n",
    "# Predicting\n",
    "pred = clf.predict(features_test)"
   ]
  },
  {
   "cell_type": "markdown",
   "metadata": {},
   "source": [
    "Now, we have performed the prediction of the `features_test`, as a supervised algorithm we have \"the answer\" of each coordinate of `features_test`. So, let's compare the `pred` with the real/observed outputs.\n",
    "\n",
    "There are two ways in this example.\n",
    "\n",
    "* Using ordinary methods and functions, and;\n",
    "* Built-in method.\n",
    "\n",
    "#### Ordinary coding"
   ]
  },
  {
   "cell_type": "code",
   "execution_count": 12,
   "metadata": {},
   "outputs": [
    {
     "data": {
      "text/plain": [
       "0.92"
      ]
     },
     "execution_count": 12,
     "metadata": {},
     "output_type": "execute_result"
    }
   ],
   "source": [
    "# Using ordinary coding.\n",
    "(pred == labels_test).mean()"
   ]
  },
  {
   "cell_type": "markdown",
   "metadata": {},
   "source": [
    "#### Built-in method from scikit learn"
   ]
  },
  {
   "cell_type": "code",
   "execution_count": 13,
   "metadata": {},
   "outputs": [
    {
     "data": {
      "text/plain": [
       "0.92"
      ]
     },
     "execution_count": 13,
     "metadata": {},
     "output_type": "execute_result"
    }
   ],
   "source": [
    "from sklearn.metrics import accuracy_score\n",
    "\n",
    "# Calculating the accurary using the built-in method.\n",
    "accuracy = accuracy_score(pred, labels_test)\n",
    "\n",
    "# Printing the accurary proportion.\n",
    "accuracy"
   ]
  },
  {
   "cell_type": "markdown",
   "metadata": {},
   "source": [
    "#### Plotting"
   ]
  },
  {
   "cell_type": "code",
   "execution_count": 14,
   "metadata": {},
   "outputs": [
    {
     "data": {
      "text/html": [
       "<div>\n",
       "<style scoped>\n",
       "    .dataframe tbody tr th:only-of-type {\n",
       "        vertical-align: middle;\n",
       "    }\n",
       "\n",
       "    .dataframe tbody tr th {\n",
       "        vertical-align: top;\n",
       "    }\n",
       "\n",
       "    .dataframe thead th {\n",
       "        text-align: right;\n",
       "    }\n",
       "</style>\n",
       "<table border=\"1\" class=\"dataframe\">\n",
       "  <thead>\n",
       "    <tr style=\"text-align: right;\">\n",
       "      <th></th>\n",
       "      <th>x</th>\n",
       "      <th>y</th>\n",
       "      <th>result</th>\n",
       "    </tr>\n",
       "  </thead>\n",
       "  <tbody>\n",
       "    <tr>\n",
       "      <th>0</th>\n",
       "      <td>0.323274</td>\n",
       "      <td>0.325050</td>\n",
       "      <td>0.0</td>\n",
       "    </tr>\n",
       "    <tr>\n",
       "      <th>1</th>\n",
       "      <td>0.970185</td>\n",
       "      <td>0.662227</td>\n",
       "      <td>1.0</td>\n",
       "    </tr>\n",
       "    <tr>\n",
       "      <th>2</th>\n",
       "      <td>0.404175</td>\n",
       "      <td>0.525477</td>\n",
       "      <td>1.0</td>\n",
       "    </tr>\n",
       "    <tr>\n",
       "      <th>3</th>\n",
       "      <td>0.514596</td>\n",
       "      <td>0.313753</td>\n",
       "      <td>0.0</td>\n",
       "    </tr>\n",
       "    <tr>\n",
       "      <th>4</th>\n",
       "      <td>0.988119</td>\n",
       "      <td>0.173182</td>\n",
       "      <td>1.0</td>\n",
       "    </tr>\n",
       "  </tbody>\n",
       "</table>\n",
       "</div>"
      ],
      "text/plain": [
       "          x         y  result\n",
       "0  0.323274  0.325050     0.0\n",
       "1  0.970185  0.662227     1.0\n",
       "2  0.404175  0.525477     1.0\n",
       "3  0.514596  0.313753     0.0\n",
       "4  0.988119  0.173182     1.0"
      ]
     },
     "execution_count": 14,
     "metadata": {},
     "output_type": "execute_result"
    }
   ],
   "source": [
    "# Initializing a Dataframe.\n",
    "df_2 = pd.DataFrame()\n",
    "\n",
    "# Adding the X values.\n",
    "df_2[['x', 'y']] = pd.DataFrame(features_test)\n",
    "\n",
    "# Adding the predicted values.\n",
    "df_2['result'] = pred\n",
    "\n",
    "# Printing the first 5 rows.\n",
    "df_2.head()"
   ]
  },
  {
   "cell_type": "code",
   "execution_count": 15,
   "metadata": {},
   "outputs": [
    {
     "data": {
      "image/png": "[encoded data removed]",
      "text/plain": [
       "<Figure size 576x576 with 1 Axes>"
      ]
     },
     "metadata": {
      "needs_background": "light"
     },
     "output_type": "display_data"
    }
   ],
   "source": [
    "# Plotting the points.\n",
    "plt.figure(figsize = (8, 8));\n",
    "plt.scatter(x = df_2.query('result == 0').x, y = df_2.query('result == 0').y);\n",
    "plt.scatter(x = df_2.query('result == 1').x, y = df_2.query('result == 1').y);\n",
    "plt.xlabel('x axis', fontsize = 14);\n",
    "plt.ylabel('y axis', fontsize = 14);\n",
    "plt.title('Support Vector Machine Example - Only Test Dataframe', fontsize = 18);\n",
    "plt.legend(['Type 0','Type 1'])\n",
    "plt.show()"
   ]
  },
  {
   "cell_type": "markdown",
   "metadata": {},
   "source": [
    "### Kernels, Gamma, etc.\n",
    "\n",
    "Let's tweat some parameters of SVM method."
   ]
  },
  {
   "cell_type": "code",
   "execution_count": null,
   "metadata": {},
   "outputs": [],
   "source": []
  }
 ],
 "metadata": {
  "kernelspec": {
   "display_name": "Python 3",
   "language": "python",
   "name": "python3"
  },
  "language_info": {
   "codemirror_mode": {
    "name": "ipython",
    "version": 3
   },
   "file_extension": ".py",
   "mimetype": "text/x-python",
   "name": "python",
   "nbconvert_exporter": "python",
   "pygments_lexer": "ipython3",
   "version": "3.7.1"
  }
 },
 "nbformat": 4,
 "nbformat_minor": 2
}
