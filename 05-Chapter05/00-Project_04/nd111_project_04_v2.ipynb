{
 "cells": [
  {
   "cell_type": "markdown",
   "metadata": {},
   "source": [
    "# Project 04 - Identify Fraud from Enron Email\n",
    "\n",
    "##### Student Tags\n",
    "\n",
    "Author: Anderson Hitoshi Uyekita    \n",
    "Project: Identify Fraud from Enron Email    \n",
    "Course: Data Science - Foundations II  \n",
    "COD: ND111  \n",
    "Date: 12/02/2019    \n",
    "Version: 2.0\n",
    "\n",
    "***"
   ]
  },
  {
   "cell_type": "markdown",
   "metadata": {},
   "source": [
    "# Synopsis\n",
    "\n",
    "I have tested 6 classifiers and only one has reached the threshold of 0.30 for recall and precision. Using the classifier AdaBoost with two engineered features I have found the following metrics:\n",
    "\n",
    "* Precision: 0.50032;\n",
    "* Recall: 0.38900, and;\n",
    "* Accuracy: 0.85721,\n",
    "\n",
    "For the Features Selection, I have opted to use a non-standard way to select, creating a Genetic Algorithm to perform the selection based on the metrics (Accuracy, Precision, and Recall).\n",
    "\n",
    "***"
   ]
  },
  {
   "cell_type": "markdown",
   "metadata": {},
   "source": [
    "## Table of Contents\n",
    "- [1. Introduction](#intro)\n",
    "- [2. Data Wrangling](#wrangling)\n",
    "    - [2.1. Data Gathering](#gathering)\n",
    "    - [2.2. Data Assessing](#assessing)\n",
    "    - [2.3. Data Cleaning](#cleaning)\n",
    "        - [**Task 2** - Removing Outliers](#task2)    \n",
    "    - [2.4. Exporing to JSON](#exporting)\n",
    "- [3. Exploratory Data Analysis](#eda)\n",
    "    - [3.1. Tableau Public](#story)\n",
    "    - [3.2. Feature Engineering](#feature_engineering)\n",
    "        - [**Task 3** - Creating new features](#task3)    \n",
    "    - [3.3. Feature Scaling](#scaling)\n",
    "    - [3.4. Feature Selection](#selection)\n",
    "        - [**Task 1** - Feature List](#task1)\n",
    "        - [**Task 4** - Try a varity of classifiers](#task4)    \n",
    "    - [3.5. Dimension Reduce](#pca)        \n",
    "- [4. Predicting](#predicting)\n",
    "    - [4.1. Tuning Parameters](#tuning)\n",
    "    - [4.2. Classifier Evaluation - Optimized Parameters](#evaluating_classifiers)\n",
    "        - [**Task 5** - Tune your classifier](#task5)\n",
    "        - [**Task 6** - Dump your classifier, dataset, and features_list](#task6)\n",
    "- [5. Conclusions](#conclusions)\n",
    "- [6. Questions](#questions)\n",
    "- [References](#references)\n",
    "- [Appendix](#appendix)\n",
    "    - [Given code](#code)\n",
    "\n",
    "\n",
    "\n",
    "***"
   ]
  },
  {
   "cell_type": "markdown",
   "metadata": {},
   "source": [
    "# 1. Introduction <a id='intro'></a>\n",
    "\n",
    "I have decided to use the Jupyter Notebook due to several reasons:\n",
    "\n",
    "* Record the data manipulation;\n",
    "* Data Wrangling;\n",
    "* Data Visualization, and;\n",
    "* Perform a Reproducible Research.\n",
    "\n",
    "The original file (`poi_id.py`) was used in several pieces spread all over this document.\n",
    "\n",
    "### 1.1. Reproducibility\n",
    "\n",
    "I have written this report using the Jupyter Notebook, which would allow anyone to reproduce this document in a local computer. I have made a great effort to document every step to turn this document understandable.\n",
    "\n",
    "#### Work envinronment\n",
    "\n",
    "I have performed this project using:\n",
    "\n",
    "* Dell Notebook Inspiron 7348;\n",
    "* Intel(R) Core(TM) i7-5500U CPU @ 2.40GHz 2.40GHz;\n",
    "* 8.00 GB, and;\n",
    "* Windows 10 Pro 64-bits.\n",
    "\n",
    "#### Softwares\n",
    "\n",
    "This report has written using four software:\n",
    "\n",
    "* Python (version 2.7.15);\n",
    "* Jupyter Notebook (version 5.6.0);\n",
    "* Tableau Desktop Public (version 2018.3.2 - 20183.18.1219.1533 - 64-bits);\n",
    "* Opera (version 58.0.3135.47), and;\n",
    "* Atom (version 1.34.1 ia32).\n",
    "\n",
    "I have used the Atom to push it to a Github repository and minor changes.\n",
    "\n",
    "[version_information_github]: https://github.com/jrjohansson/version_information\n",
    "\n",
    "#### Repository\n",
    "\n",
    "I kindly ask you to install each of these packages before you run the next steps.\n",
    "\n",
    "* https://github.com/AndersonUyekita/ND111_data_science_foundations_02\n",
    "\n",
    "#### Path\n",
    "\n",
    "I have written/coded this report inside of the `ud120-projects/final_project` folder.\n",
    "\n",
    "### 1.2. Importing Libraries\n",
    "\n",
    "For this project I will use some libraries to manage data frames, download file, Twitter API Client code, etc.. Let's import these packages to the Jupyter Notebook environment."
   ]
  },
  {
   "cell_type": "code",
   "execution_count": 1,
   "metadata": {},
   "outputs": [],
   "source": [
    "# General \n",
    "import pandas as pd\n",
    "import numpy as np\n",
    "import sklearn\n",
    "import sys\n",
    "import pickle\n",
    "import json\n",
    "from time import time\n",
    "import warnings\n",
    "warnings.filterwarnings(\"ignore\")\n",
    "\n",
    "# Given code\n",
    "sys.path.append(\"../tools/\")\n",
    "from feature_format import featureFormat, targetFeatureSplit\n",
    "from tester import dump_classifier_and_data\n",
    "import tester\n",
    "\n",
    "# Plotting\n",
    "import matplotlib.pylab as plt\n",
    "%matplotlib inline\n",
    "import seaborn as sns\n",
    "\n",
    "\n",
    "# Scikit Learn\n",
    "from sklearn.naive_bayes import GaussianNB\n",
    "from sklearn.model_selection import train_test_split\n",
    "from sklearn.pipeline import Pipeline\n",
    "from sklearn.naive_bayes import GaussianNB\n",
    "from sklearn.metrics import accuracy_score\n",
    "from sklearn.svm import SVC\n",
    "from sklearn import tree\n",
    "from sklearn.ensemble import AdaBoostClassifier\n",
    "from sklearn.metrics import recall_score\n",
    "from sklearn.metrics import precision_score\n",
    "from sklearn.neighbors import KNeighborsClassifier\n",
    "from sklearn.ensemble import AdaBoostClassifier\n",
    "from sklearn.ensemble import RandomForestClassifier\n",
    "from sklearn.decomposition import PCA\n",
    "from sklearn.model_selection import KFold\n",
    "from sklearn.model_selection import GridSearchCV\n",
    "from sklearn.model_selection import StratifiedKFold\n",
    "from sklearn.model_selection import StratifiedShuffleSplit\n",
    "from sklearn.preprocessing import MinMaxScaler"
   ]
  },
  {
   "cell_type": "markdown",
   "metadata": {},
   "source": [
    "### 1.3. Questions\n",
    "\n",
    "Founded on the instructions, I will guide my Jupyter Notebook following the questions posed in the document hosted [here][q_link].\n",
    "\n",
    "### 1.4. Rubric\n",
    "\n",
    "Also following the instructions, I will keep in mind to attend all the requirement pointed out in the [rubric][rubric].  \n",
    "\n",
    "[q_link]: https://docs.google.com/document/d/1NDgi1PrNJP7WTbfSUuRUnz8yzs5nGVTSzpO7oeNTEWA/pub?embedded=true\n",
    "[rubric]: https://review.udacity.com/#!/rubrics/27/view\n",
    "\n",
    "***"
   ]
  },
  {
   "cell_type": "markdown",
   "metadata": {},
   "source": [
    "## 2. Data Wrangling  <a id='wrangling'></a>\n",
    "\n",
    "I have divided the Data Wrangling process into three smaller steps:\n",
    "\n",
    "* Data Gathering;\n",
    "* Data Assessing, and;\n",
    "* Data Cleaning.\n",
    "\n",
    "### 2.1. Data Gathering <a id='gathering'></a>\n",
    "\n",
    "All data from this project, I have forked from the Udacity Github repository. Most parts of the gathering process were already made by the instructor. For this reason, the only task I did was loading the pickle file."
   ]
  },
  {
   "cell_type": "code",
   "execution_count": 2,
   "metadata": {},
   "outputs": [
    {
     "data": {
      "text/plain": [
       "dict"
      ]
     },
     "execution_count": 2,
     "metadata": {},
     "output_type": "execute_result"
    }
   ],
   "source": [
    "# Task 1: Select what features you'll use.  \n",
    "# features_list is a list of strings, each of which is a feature name.  \n",
    "# The first feature must be \"poi\". \n",
    "features_list = ['poi','salary'] # You will need to use more features\n",
    "\n",
    "### Load the dictionary containing the dataset\n",
    "with open(\"final_project_dataset.pkl\", \"r\") as data_file:\n",
    "    data_dict = pickle.load(data_file)\n",
    "    \n",
    "# Data type.\n",
    "type(data_dict)"
   ]
  },
  {
   "cell_type": "markdown",
   "metadata": {},
   "source": [
    "The `data_dict` is a dictionary which has all information about the POI and non-POI employee from Enron.\n",
    "\n",
    "Fortunately, a dictionary is easily converted to Data Frame."
   ]
  },
  {
   "cell_type": "markdown",
   "metadata": {},
   "source": [
    "### 2.2. Data Assessing <a id='assessing'></a>\n",
    "\n",
    "The first step here is to realize what kind of information this dictionary has. So let's extract the keys of this dictionary and later on print the content of each key."
   ]
  },
  {
   "cell_type": "code",
   "execution_count": 3,
   "metadata": {},
   "outputs": [
    {
     "data": {
      "text/plain": [
       "['METTS MARK',\n",
       " 'BAXTER JOHN C',\n",
       " 'ELLIOTT STEVEN',\n",
       " 'CORDES WILLIAM R',\n",
       " 'HANNON KEVIN P']"
      ]
     },
     "execution_count": 3,
     "metadata": {},
     "output_type": "execute_result"
    }
   ],
   "source": [
    "# Initialization of list.\n",
    "names_key = []\n",
    "\n",
    "# Loop to gather the keys of this dictionary.\n",
    "for index in data_dict:\n",
    "    names_key.append(index)\n",
    "\n",
    "# Print the first 5 names_key from data_dict.\n",
    "names_key[:5]"
   ]
  },
  {
   "cell_type": "markdown",
   "metadata": {},
   "source": [
    "The keys are names.\n",
    "\n",
    ">How many names are in this dictionary?"
   ]
  },
  {
   "cell_type": "code",
   "execution_count": 4,
   "metadata": {},
   "outputs": [
    {
     "name": "stdout",
     "output_type": "stream",
     "text": [
      "Number of names:  146\n"
     ]
    }
   ],
   "source": [
    "print \"Number of names: \", len(names_key)"
   ]
  },
  {
   "cell_type": "markdown",
   "metadata": {},
   "source": [
    "Now, I want to investigate the value associated with the first key ('METTS MARK')."
   ]
  },
  {
   "cell_type": "code",
   "execution_count": 5,
   "metadata": {
    "scrolled": false
   },
   "outputs": [
    {
     "data": {
      "text/plain": [
       "{'bonus': 600000,\n",
       " 'deferral_payments': 'NaN',\n",
       " 'deferred_income': 'NaN',\n",
       " 'director_fees': 'NaN',\n",
       " 'email_address': 'mark.metts@enron.com',\n",
       " 'exercised_stock_options': 'NaN',\n",
       " 'expenses': 94299,\n",
       " 'from_messages': 29,\n",
       " 'from_poi_to_this_person': 38,\n",
       " 'from_this_person_to_poi': 1,\n",
       " 'loan_advances': 'NaN',\n",
       " 'long_term_incentive': 'NaN',\n",
       " 'other': 1740,\n",
       " 'poi': False,\n",
       " 'restricted_stock': 585062,\n",
       " 'restricted_stock_deferred': 'NaN',\n",
       " 'salary': 365788,\n",
       " 'shared_receipt_with_poi': 702,\n",
       " 'to_messages': 807,\n",
       " 'total_payments': 1061827,\n",
       " 'total_stock_value': 585062}"
      ]
     },
     "execution_count": 5,
     "metadata": {},
     "output_type": "execute_result"
    }
   ],
   "source": [
    "# Value associated to the names_key.\n",
    "data_dict['METTS MARK']"
   ]
  },
  {
   "cell_type": "markdown",
   "metadata": {},
   "source": [
    "As you can see, there are several variables available to a further study. I will create a dataframe with all the information."
   ]
  },
  {
   "cell_type": "code",
   "execution_count": 6,
   "metadata": {},
   "outputs": [
    {
     "data": {
      "text/html": [
       "<div>\n",
       "<style scoped>\n",
       "    .dataframe tbody tr th:only-of-type {\n",
       "        vertical-align: middle;\n",
       "    }\n",
       "\n",
       "    .dataframe tbody tr th {\n",
       "        vertical-align: top;\n",
       "    }\n",
       "\n",
       "    .dataframe thead th {\n",
       "        text-align: right;\n",
       "    }\n",
       "</style>\n",
       "<table border=\"1\" class=\"dataframe\">\n",
       "  <thead>\n",
       "    <tr style=\"text-align: right;\">\n",
       "      <th></th>\n",
       "      <th>bonus</th>\n",
       "      <th>deferral_payments</th>\n",
       "      <th>deferred_income</th>\n",
       "      <th>director_fees</th>\n",
       "      <th>email_address</th>\n",
       "      <th>exercised_stock_options</th>\n",
       "      <th>expenses</th>\n",
       "      <th>from_messages</th>\n",
       "      <th>from_poi_to_this_person</th>\n",
       "      <th>from_this_person_to_poi</th>\n",
       "      <th>...</th>\n",
       "      <th>long_term_incentive</th>\n",
       "      <th>other</th>\n",
       "      <th>poi</th>\n",
       "      <th>restricted_stock</th>\n",
       "      <th>restricted_stock_deferred</th>\n",
       "      <th>salary</th>\n",
       "      <th>shared_receipt_with_poi</th>\n",
       "      <th>to_messages</th>\n",
       "      <th>total_payments</th>\n",
       "      <th>total_stock_value</th>\n",
       "    </tr>\n",
       "  </thead>\n",
       "  <tbody>\n",
       "    <tr>\n",
       "      <th>ALLEN PHILLIP K</th>\n",
       "      <td>4175000</td>\n",
       "      <td>2869717</td>\n",
       "      <td>-3081055</td>\n",
       "      <td>NaN</td>\n",
       "      <td>phillip.allen@enron.com</td>\n",
       "      <td>1729541</td>\n",
       "      <td>13868</td>\n",
       "      <td>2195</td>\n",
       "      <td>47</td>\n",
       "      <td>65</td>\n",
       "      <td>...</td>\n",
       "      <td>304805</td>\n",
       "      <td>152</td>\n",
       "      <td>False</td>\n",
       "      <td>126027</td>\n",
       "      <td>-126027</td>\n",
       "      <td>201955</td>\n",
       "      <td>1407</td>\n",
       "      <td>2902</td>\n",
       "      <td>4484442</td>\n",
       "      <td>1729541</td>\n",
       "    </tr>\n",
       "    <tr>\n",
       "      <th>BADUM JAMES P</th>\n",
       "      <td>NaN</td>\n",
       "      <td>178980</td>\n",
       "      <td>NaN</td>\n",
       "      <td>NaN</td>\n",
       "      <td>NaN</td>\n",
       "      <td>257817</td>\n",
       "      <td>3486</td>\n",
       "      <td>NaN</td>\n",
       "      <td>NaN</td>\n",
       "      <td>NaN</td>\n",
       "      <td>...</td>\n",
       "      <td>NaN</td>\n",
       "      <td>NaN</td>\n",
       "      <td>False</td>\n",
       "      <td>NaN</td>\n",
       "      <td>NaN</td>\n",
       "      <td>NaN</td>\n",
       "      <td>NaN</td>\n",
       "      <td>NaN</td>\n",
       "      <td>182466</td>\n",
       "      <td>257817</td>\n",
       "    </tr>\n",
       "    <tr>\n",
       "      <th>BANNANTINE JAMES M</th>\n",
       "      <td>NaN</td>\n",
       "      <td>NaN</td>\n",
       "      <td>-5104</td>\n",
       "      <td>NaN</td>\n",
       "      <td>james.bannantine@enron.com</td>\n",
       "      <td>4046157</td>\n",
       "      <td>56301</td>\n",
       "      <td>29</td>\n",
       "      <td>39</td>\n",
       "      <td>0</td>\n",
       "      <td>...</td>\n",
       "      <td>NaN</td>\n",
       "      <td>864523</td>\n",
       "      <td>False</td>\n",
       "      <td>1757552</td>\n",
       "      <td>-560222</td>\n",
       "      <td>477</td>\n",
       "      <td>465</td>\n",
       "      <td>566</td>\n",
       "      <td>916197</td>\n",
       "      <td>5243487</td>\n",
       "    </tr>\n",
       "    <tr>\n",
       "      <th>BAXTER JOHN C</th>\n",
       "      <td>1200000</td>\n",
       "      <td>1295738</td>\n",
       "      <td>-1386055</td>\n",
       "      <td>NaN</td>\n",
       "      <td>NaN</td>\n",
       "      <td>6680544</td>\n",
       "      <td>11200</td>\n",
       "      <td>NaN</td>\n",
       "      <td>NaN</td>\n",
       "      <td>NaN</td>\n",
       "      <td>...</td>\n",
       "      <td>1586055</td>\n",
       "      <td>2660303</td>\n",
       "      <td>False</td>\n",
       "      <td>3942714</td>\n",
       "      <td>NaN</td>\n",
       "      <td>267102</td>\n",
       "      <td>NaN</td>\n",
       "      <td>NaN</td>\n",
       "      <td>5634343</td>\n",
       "      <td>10623258</td>\n",
       "    </tr>\n",
       "    <tr>\n",
       "      <th>BAY FRANKLIN R</th>\n",
       "      <td>400000</td>\n",
       "      <td>260455</td>\n",
       "      <td>-201641</td>\n",
       "      <td>NaN</td>\n",
       "      <td>frank.bay@enron.com</td>\n",
       "      <td>NaN</td>\n",
       "      <td>129142</td>\n",
       "      <td>NaN</td>\n",
       "      <td>NaN</td>\n",
       "      <td>NaN</td>\n",
       "      <td>...</td>\n",
       "      <td>NaN</td>\n",
       "      <td>69</td>\n",
       "      <td>False</td>\n",
       "      <td>145796</td>\n",
       "      <td>-82782</td>\n",
       "      <td>239671</td>\n",
       "      <td>NaN</td>\n",
       "      <td>NaN</td>\n",
       "      <td>827696</td>\n",
       "      <td>63014</td>\n",
       "    </tr>\n",
       "  </tbody>\n",
       "</table>\n",
       "<p>5 rows × 21 columns</p>\n",
       "</div>"
      ],
      "text/plain": [
       "                      bonus deferral_payments deferred_income director_fees  \\\n",
       "ALLEN PHILLIP K     4175000           2869717        -3081055           NaN   \n",
       "BADUM JAMES P           NaN            178980             NaN           NaN   \n",
       "BANNANTINE JAMES M      NaN               NaN           -5104           NaN   \n",
       "BAXTER JOHN C       1200000           1295738        -1386055           NaN   \n",
       "BAY FRANKLIN R       400000            260455         -201641           NaN   \n",
       "\n",
       "                                 email_address exercised_stock_options  \\\n",
       "ALLEN PHILLIP K        phillip.allen@enron.com                 1729541   \n",
       "BADUM JAMES P                              NaN                  257817   \n",
       "BANNANTINE JAMES M  james.bannantine@enron.com                 4046157   \n",
       "BAXTER JOHN C                              NaN                 6680544   \n",
       "BAY FRANKLIN R             frank.bay@enron.com                     NaN   \n",
       "\n",
       "                   expenses from_messages from_poi_to_this_person  \\\n",
       "ALLEN PHILLIP K       13868          2195                      47   \n",
       "BADUM JAMES P          3486           NaN                     NaN   \n",
       "BANNANTINE JAMES M    56301            29                      39   \n",
       "BAXTER JOHN C         11200           NaN                     NaN   \n",
       "BAY FRANKLIN R       129142           NaN                     NaN   \n",
       "\n",
       "                   from_this_person_to_poi        ...         \\\n",
       "ALLEN PHILLIP K                         65        ...          \n",
       "BADUM JAMES P                          NaN        ...          \n",
       "BANNANTINE JAMES M                       0        ...          \n",
       "BAXTER JOHN C                          NaN        ...          \n",
       "BAY FRANKLIN R                         NaN        ...          \n",
       "\n",
       "                   long_term_incentive    other    poi restricted_stock  \\\n",
       "ALLEN PHILLIP K                 304805      152  False           126027   \n",
       "BADUM JAMES P                      NaN      NaN  False              NaN   \n",
       "BANNANTINE JAMES M                 NaN   864523  False          1757552   \n",
       "BAXTER JOHN C                  1586055  2660303  False          3942714   \n",
       "BAY FRANKLIN R                     NaN       69  False           145796   \n",
       "\n",
       "                   restricted_stock_deferred  salary shared_receipt_with_poi  \\\n",
       "ALLEN PHILLIP K                      -126027  201955                    1407   \n",
       "BADUM JAMES P                            NaN     NaN                     NaN   \n",
       "BANNANTINE JAMES M                   -560222     477                     465   \n",
       "BAXTER JOHN C                            NaN  267102                     NaN   \n",
       "BAY FRANKLIN R                        -82782  239671                     NaN   \n",
       "\n",
       "                   to_messages total_payments total_stock_value  \n",
       "ALLEN PHILLIP K           2902        4484442           1729541  \n",
       "BADUM JAMES P              NaN         182466            257817  \n",
       "BANNANTINE JAMES M         566         916197           5243487  \n",
       "BAXTER JOHN C              NaN        5634343          10623258  \n",
       "BAY FRANKLIN R             NaN         827696             63014  \n",
       "\n",
       "[5 rows x 21 columns]"
      ]
     },
     "execution_count": 6,
     "metadata": {},
     "output_type": "execute_result"
    }
   ],
   "source": [
    "# Converting dictionary in dataframe.\n",
    "df_dict = pd.DataFrame(data_dict).transpose()\n",
    "\n",
    "# Printing the first 5 rows.\n",
    "df_dict.head()"
   ]
  },
  {
   "cell_type": "markdown",
   "metadata": {},
   "source": [
    ">How many variables are available?"
   ]
  },
  {
   "cell_type": "code",
   "execution_count": 7,
   "metadata": {},
   "outputs": [
    {
     "name": "stdout",
     "output_type": "stream",
     "text": [
      "Variables:  21\n"
     ]
    }
   ],
   "source": [
    "# Are there how many variables?\n",
    "print \"Variables: \", df_dict.shape[1]"
   ]
  },
  {
   "cell_type": "markdown",
   "metadata": {},
   "source": [
    ">How many observations are available?"
   ]
  },
  {
   "cell_type": "code",
   "execution_count": 8,
   "metadata": {},
   "outputs": [
    {
     "name": "stdout",
     "output_type": "stream",
     "text": [
      "Observations:  146\n"
     ]
    }
   ],
   "source": [
    "# Are there how many observations?\n",
    "print \"Observations: \", df_dict.shape[0]"
   ]
  },
  {
   "cell_type": "markdown",
   "metadata": {},
   "source": [
    ">How many POI?"
   ]
  },
  {
   "cell_type": "code",
   "execution_count": 9,
   "metadata": {},
   "outputs": [
    {
     "name": "stdout",
     "output_type": "stream",
     "text": [
      "POI: 18\n",
      "non-POI: 128\n"
     ]
    }
   ],
   "source": [
    "# POI?\n",
    "print \"POI:\", sum(df_dict.poi)\n",
    "print \"non-POI:\", df_dict.shape[0] - sum(df_dict.poi)"
   ]
  },
  {
   "cell_type": "markdown",
   "metadata": {},
   "source": [
    ">What are the variables?"
   ]
  },
  {
   "cell_type": "code",
   "execution_count": 10,
   "metadata": {},
   "outputs": [
    {
     "data": {
      "text/plain": [
       "['bonus',\n",
       " 'deferral_payments',\n",
       " 'deferred_income',\n",
       " 'director_fees',\n",
       " 'email_address',\n",
       " 'exercised_stock_options',\n",
       " 'expenses',\n",
       " 'from_messages',\n",
       " 'from_poi_to_this_person',\n",
       " 'from_this_person_to_poi',\n",
       " 'loan_advances',\n",
       " 'long_term_incentive',\n",
       " 'other',\n",
       " 'poi',\n",
       " 'restricted_stock',\n",
       " 'restricted_stock_deferred',\n",
       " 'salary',\n",
       " 'shared_receipt_with_poi',\n",
       " 'to_messages',\n",
       " 'total_payments',\n",
       " 'total_stock_value']"
      ]
     },
     "execution_count": 10,
     "metadata": {},
     "output_type": "execute_result"
    }
   ],
   "source": [
    "# All variables available to choose.\n",
    "original_feat = ['poi', 'bonus', 'deferral_payments', 'deferred_income', 'director_fees', 'exercised_stock_options',\n",
    "                 'expenses', 'from_messages', 'from_poi_to_this_person', 'from_this_person_to_poi', 'loan_advances',\n",
    "                 'long_term_incentive', 'other', 'restricted_stock', 'restricted_stock_deferred', 'salary',\n",
    "                 'shared_receipt_with_poi', 'to_messages', 'total_payments', 'total_stock_value']\n",
    "\n",
    "# Priting all variables.\n",
    "df_dict.columns.tolist()"
   ]
  },
  {
   "cell_type": "markdown",
   "metadata": {},
   "source": [
    "These features could be divided into:\n",
    "\n",
    "\n",
    "**Other (1):**\n",
    "* POI.\n",
    "\n",
    "**Email Features (6):**\n",
    "* email_address;\n",
    "* from_messages;\n",
    "* to_messages;\n",
    "* from_poi_to_this_person;\n",
    "* from_this_person_to_poi, and;\n",
    "* shared_receipt_with_poi.\n",
    "\n",
    "**Financial Features (14):**\n",
    "* bonus;\n",
    "* deferral_payments;\n",
    "* deferred_income;\n",
    "* director_fees;\n",
    "* exercised_stock_options;\n",
    "* expenses;\n",
    "* loan_advances;\n",
    "* long_term_incentive;\n",
    "* other;\n",
    "* restricted_stock;\n",
    "* restricted_stock_deferred;\n",
    "* salary;\n",
    "* total_payments, and;\n",
    "* total_stock_value.\n",
    "\n",
    "Clearly, this dataframe has a lot of `NaN`. Let's check it."
   ]
  },
  {
   "cell_type": "code",
   "execution_count": 11,
   "metadata": {},
   "outputs": [
    {
     "data": {
      "text/html": [
       "<div>\n",
       "<style scoped>\n",
       "    .dataframe tbody tr th:only-of-type {\n",
       "        vertical-align: middle;\n",
       "    }\n",
       "\n",
       "    .dataframe tbody tr th {\n",
       "        vertical-align: top;\n",
       "    }\n",
       "\n",
       "    .dataframe thead th {\n",
       "        text-align: right;\n",
       "    }\n",
       "</style>\n",
       "<table border=\"1\" class=\"dataframe\">\n",
       "  <thead>\n",
       "    <tr style=\"text-align: right;\">\n",
       "      <th></th>\n",
       "      <th>nan</th>\n",
       "    </tr>\n",
       "  </thead>\n",
       "  <tbody>\n",
       "    <tr>\n",
       "      <th>poi</th>\n",
       "      <td>0.00</td>\n",
       "    </tr>\n",
       "    <tr>\n",
       "      <th>total_payments</th>\n",
       "      <td>0.14</td>\n",
       "    </tr>\n",
       "    <tr>\n",
       "      <th>total_stock_value</th>\n",
       "      <td>0.14</td>\n",
       "    </tr>\n",
       "    <tr>\n",
       "      <th>email_address</th>\n",
       "      <td>0.24</td>\n",
       "    </tr>\n",
       "    <tr>\n",
       "      <th>restricted_stock</th>\n",
       "      <td>0.25</td>\n",
       "    </tr>\n",
       "    <tr>\n",
       "      <th>exercised_stock_options</th>\n",
       "      <td>0.30</td>\n",
       "    </tr>\n",
       "    <tr>\n",
       "      <th>salary</th>\n",
       "      <td>0.35</td>\n",
       "    </tr>\n",
       "    <tr>\n",
       "      <th>expenses</th>\n",
       "      <td>0.35</td>\n",
       "    </tr>\n",
       "    <tr>\n",
       "      <th>other</th>\n",
       "      <td>0.36</td>\n",
       "    </tr>\n",
       "    <tr>\n",
       "      <th>from_poi_to_this_person</th>\n",
       "      <td>0.41</td>\n",
       "    </tr>\n",
       "    <tr>\n",
       "      <th>from_messages</th>\n",
       "      <td>0.41</td>\n",
       "    </tr>\n",
       "    <tr>\n",
       "      <th>from_this_person_to_poi</th>\n",
       "      <td>0.41</td>\n",
       "    </tr>\n",
       "    <tr>\n",
       "      <th>to_messages</th>\n",
       "      <td>0.41</td>\n",
       "    </tr>\n",
       "    <tr>\n",
       "      <th>shared_receipt_with_poi</th>\n",
       "      <td>0.41</td>\n",
       "    </tr>\n",
       "    <tr>\n",
       "      <th>bonus</th>\n",
       "      <td>0.44</td>\n",
       "    </tr>\n",
       "    <tr>\n",
       "      <th>long_term_incentive</th>\n",
       "      <td>0.55</td>\n",
       "    </tr>\n",
       "    <tr>\n",
       "      <th>deferred_income</th>\n",
       "      <td>0.66</td>\n",
       "    </tr>\n",
       "    <tr>\n",
       "      <th>deferral_payments</th>\n",
       "      <td>0.73</td>\n",
       "    </tr>\n",
       "    <tr>\n",
       "      <th>restricted_stock_deferred</th>\n",
       "      <td>0.88</td>\n",
       "    </tr>\n",
       "    <tr>\n",
       "      <th>director_fees</th>\n",
       "      <td>0.88</td>\n",
       "    </tr>\n",
       "    <tr>\n",
       "      <th>loan_advances</th>\n",
       "      <td>0.97</td>\n",
       "    </tr>\n",
       "  </tbody>\n",
       "</table>\n",
       "</div>"
      ],
      "text/plain": [
       "                            nan\n",
       "poi                        0.00\n",
       "total_payments             0.14\n",
       "total_stock_value          0.14\n",
       "email_address              0.24\n",
       "restricted_stock           0.25\n",
       "exercised_stock_options    0.30\n",
       "salary                     0.35\n",
       "expenses                   0.35\n",
       "other                      0.36\n",
       "from_poi_to_this_person    0.41\n",
       "from_messages              0.41\n",
       "from_this_person_to_poi    0.41\n",
       "to_messages                0.41\n",
       "shared_receipt_with_poi    0.41\n",
       "bonus                      0.44\n",
       "long_term_incentive        0.55\n",
       "deferred_income            0.66\n",
       "deferral_payments          0.73\n",
       "restricted_stock_deferred  0.88\n",
       "director_fees              0.88\n",
       "loan_advances              0.97"
      ]
     },
     "execution_count": 11,
     "metadata": {},
     "output_type": "execute_result"
    }
   ],
   "source": [
    "# Initializing a dictionary to store the NaN proportion.\n",
    "nan_proportion = dict()\n",
    "\n",
    "# Loop to create the proportion of NaN per variable.\n",
    "for index in df_dict.columns.tolist():\n",
    "    nan_proportion[index] = round(sum(df_dict[index] == 'NaN')/float(len(df_dict[index])), 2)\n",
    "    \n",
    "# Converting in pandas DataFrame.\n",
    "nan_proportion = pd.DataFrame.from_dict(nan_proportion, orient='index', columns = ['nan'])\n",
    "\n",
    "# Sorting to show the variables with less NaN in the first rows.\n",
    "nan_proportion = nan_proportion.sort_values('nan')\n",
    "\n",
    "nan_proportion"
   ]
  },
  {
   "cell_type": "markdown",
   "metadata": {},
   "source": [
    "There are some variable with a high rate of `NaN`, but this is totally acceptable because neither all employee has `director_fees`, `long_term_incentive`, etc. All definition of these variables could be found in the `enron61702insiderpay.pdf`, this document is available in the repository project (`ud120-projects/final_project`).\n",
    "\n",
    "The definition of two main variables:\n",
    "\n",
    "* `total_payments`, and;\n",
    "* `total_stock_value`.\n",
    "\n",
    "The `total_payments` is a summation of:\n",
    "\n",
    "* salary;\n",
    "* bonus;\n",
    "* long_term_incentive;\n",
    "* deferred_income;\n",
    "* deferral_payments;\n",
    "* loan_advances;\n",
    "* others;\n",
    "* expenses, and;\n",
    "* director_fees.\n",
    "\n",
    "Figure 1 shows a fragment of the `enron61702insiderpay.pdf` document.  \n",
    "\n",
    "<br>\n",
    "<center>\n",
    "<img src=\"01-img/nd111_project_04_01.png\" alt=\"Figure 1 - Total Payments Composition\" width=\"80%;\" />\n",
    "<em>Figure 1 - Total Payment composition.\n",
    "</em>\n",
    "</center>\n",
    "\n",
    "\n",
    "The `total_stock_value` is a summation of:\n",
    "\n",
    "* exercised_stock_options;\n",
    "* restricted_stock, and;\n",
    "* retricted_stock_deferred.\n",
    "\n",
    "Figure 1 shows a fragment of the `enron61702insiderpay.pdf` document.  \n",
    "\n",
    "<br>\n",
    "<center>\n",
    "<img src=\"01-img/nd111_project_04_02.png\" alt=\"Figure 2 - Total Stock Value Composition\" width=\"40%;\" />\n",
    "<em>Figure 2 - Total Stock Value.\n",
    "</em>\n",
    "</center>"
   ]
  },
  {
   "cell_type": "markdown",
   "metadata": {},
   "source": [
    "As you can see, there are 7 variables without relation with `enron61702insiderpay.pdf`.\n",
    "\n",
    "* poi;\n",
    "* email_address;\n",
    "* from_poi_to_this_person;\n",
    "* from_messages;\n",
    "* from_this_person_to_poi;\n",
    "* to_messages, and;\n",
    "* shared_receipt_with_poi."
   ]
  },
  {
   "cell_type": "markdown",
   "metadata": {},
   "source": [
    "Let's have a look in the features plotting a straightforward scatter plot of `total_payments` and `salary`."
   ]
  },
  {
   "cell_type": "code",
   "execution_count": 12,
   "metadata": {},
   "outputs": [
    {
     "data": {
      "image/png": "[encoded data removed]",
      "text/plain": [
       "<Figure size 1008x432 with 1 Axes>"
      ]
     },
     "metadata": {
      "needs_background": "light"
     },
     "output_type": "display_data"
    }
   ],
   "source": [
    "# Visualizing the data.\n",
    "\n",
    "plt.figure(figsize = [14,6]);                 # Defining the figure size.\n",
    "sns.scatterplot(x = df_dict.salary,           # X axis feature.\n",
    "                y = df_dict.total_payments,   # Y axis feature.\n",
    "                alpha = 0.8);                 # Points transparency.\n",
    "plt.xlabel('Salary [USD]',                    # X axis label.\n",
    "           fontsize = 14);                    \n",
    "plt.ylabel('Total Payments [USD]',            # X axis label.\n",
    "           fontsize = 14);\n",
    "plt.title('Graphic 1 - Salary vs Total Payments', # Graphic Title.\n",
    "          fontsize = 20);"
   ]
  },
  {
   "cell_type": "markdown",
   "metadata": {},
   "source": [
    "Notable, there is a strange point far from the others, it is possible an outlier. Sorting the dataframe by the `salary` it is a good way to understand it."
   ]
  },
  {
   "cell_type": "code",
   "execution_count": 13,
   "metadata": {},
   "outputs": [
    {
     "data": {
      "text/html": [
       "<div>\n",
       "<style scoped>\n",
       "    .dataframe tbody tr th:only-of-type {\n",
       "        vertical-align: middle;\n",
       "    }\n",
       "\n",
       "    .dataframe tbody tr th {\n",
       "        vertical-align: top;\n",
       "    }\n",
       "\n",
       "    .dataframe thead th {\n",
       "        text-align: right;\n",
       "    }\n",
       "</style>\n",
       "<table border=\"1\" class=\"dataframe\">\n",
       "  <thead>\n",
       "    <tr style=\"text-align: right;\">\n",
       "      <th></th>\n",
       "      <th>salary</th>\n",
       "    </tr>\n",
       "  </thead>\n",
       "  <tbody>\n",
       "    <tr>\n",
       "      <th>TOTAL</th>\n",
       "      <td>26704229</td>\n",
       "    </tr>\n",
       "    <tr>\n",
       "      <th>SKILLING JEFFREY K</th>\n",
       "      <td>1111258</td>\n",
       "    </tr>\n",
       "    <tr>\n",
       "      <th>LAY KENNETH L</th>\n",
       "      <td>1072321</td>\n",
       "    </tr>\n",
       "    <tr>\n",
       "      <th>FREVERT MARK A</th>\n",
       "      <td>1060932</td>\n",
       "    </tr>\n",
       "    <tr>\n",
       "      <th>PICKERING MARK R</th>\n",
       "      <td>655037</td>\n",
       "    </tr>\n",
       "  </tbody>\n",
       "</table>\n",
       "</div>"
      ],
      "text/plain": [
       "                      salary\n",
       "TOTAL               26704229\n",
       "SKILLING JEFFREY K   1111258\n",
       "LAY KENNETH L        1072321\n",
       "FREVERT MARK A       1060932\n",
       "PICKERING MARK R      655037"
      ]
     },
     "execution_count": 13,
     "metadata": {},
     "output_type": "execute_result"
    }
   ],
   "source": [
    "# Sorting the salary, only the first 5 rows.\n",
    "df_dict.query('salary != \"NaN\"').sort_values('salary', ascending = False)[['salary']].head()"
   ]
  },
  {
   "cell_type": "markdown",
   "metadata": {},
   "source": [
    "Bear in mind, one of this observation is the `TOTAL`, which I should remove from the DataFrame because it is not an observation, it is an aggregate value.\n",
    "\n",
    "Table 1 shows the problems to be fixed in Data Cleaning.\n",
    "\n",
    "<br><center><strong>Table 1 - Table of Issues.</strong>\n",
    "\n",
    "|Issue ID|Issue Type|Dimension|Method|Description|\n",
    "|:-:|:-:|:-:|:-:|:-:|\n",
    "|1|Quality|Validity|Visual|Remove the `TOTAL` observation because it is an aggregate information|\n",
    "\n",
    "</center>"
   ]
  },
  {
   "cell_type": "markdown",
   "metadata": {},
   "source": [
    "I will check all in features from each employee to compute how many `NaN` are. If any the number of `NaN` reach 20 means that there is no information record for the given employee."
   ]
  },
  {
   "cell_type": "code",
   "execution_count": 14,
   "metadata": {},
   "outputs": [],
   "source": [
    "# List to store the values of NaN for each employee. \n",
    "employee_nan = []\n",
    "\n",
    "for index in df_dict.transpose():\n",
    "    employee_nan.append([index, sum(df_dict.transpose()[index] == 'NaN')])"
   ]
  },
  {
   "cell_type": "code",
   "execution_count": 15,
   "metadata": {},
   "outputs": [
    {
     "data": {
      "text/html": [
       "<div>\n",
       "<style scoped>\n",
       "    .dataframe tbody tr th:only-of-type {\n",
       "        vertical-align: middle;\n",
       "    }\n",
       "\n",
       "    .dataframe tbody tr th {\n",
       "        vertical-align: top;\n",
       "    }\n",
       "\n",
       "    .dataframe thead th {\n",
       "        text-align: right;\n",
       "    }\n",
       "</style>\n",
       "<table border=\"1\" class=\"dataframe\">\n",
       "  <thead>\n",
       "    <tr style=\"text-align: right;\">\n",
       "      <th></th>\n",
       "      <th>Employee</th>\n",
       "      <th># NaN</th>\n",
       "    </tr>\n",
       "  </thead>\n",
       "  <tbody>\n",
       "    <tr>\n",
       "      <th>84</th>\n",
       "      <td>LOCKHART EUGENE E</td>\n",
       "      <td>20</td>\n",
       "    </tr>\n",
       "    <tr>\n",
       "      <th>138</th>\n",
       "      <td>WHALEY DAVID A</td>\n",
       "      <td>18</td>\n",
       "    </tr>\n",
       "    <tr>\n",
       "      <th>56</th>\n",
       "      <td>GRAMM WENDY L</td>\n",
       "      <td>18</td>\n",
       "    </tr>\n",
       "    <tr>\n",
       "      <th>127</th>\n",
       "      <td>THE TRAVEL AGENCY IN THE PARK</td>\n",
       "      <td>18</td>\n",
       "    </tr>\n",
       "    <tr>\n",
       "      <th>143</th>\n",
       "      <td>WROBEL BRUCE</td>\n",
       "      <td>18</td>\n",
       "    </tr>\n",
       "    <tr>\n",
       "      <th>53</th>\n",
       "      <td>GILLIS JOHN</td>\n",
       "      <td>17</td>\n",
       "    </tr>\n",
       "    <tr>\n",
       "      <th>142</th>\n",
       "      <td>WODRASKA JOHN</td>\n",
       "      <td>17</td>\n",
       "    </tr>\n",
       "    <tr>\n",
       "      <th>25</th>\n",
       "      <td>CLINE KENNETH W</td>\n",
       "      <td>17</td>\n",
       "    </tr>\n",
       "    <tr>\n",
       "      <th>133</th>\n",
       "      <td>WAKEHAM JOHN</td>\n",
       "      <td>17</td>\n",
       "    </tr>\n",
       "    <tr>\n",
       "      <th>114</th>\n",
       "      <td>SAVAGE FRANK</td>\n",
       "      <td>17</td>\n",
       "    </tr>\n",
       "  </tbody>\n",
       "</table>\n",
       "</div>"
      ],
      "text/plain": [
       "                          Employee  # NaN\n",
       "84               LOCKHART EUGENE E     20\n",
       "138                 WHALEY DAVID A     18\n",
       "56                   GRAMM WENDY L     18\n",
       "127  THE TRAVEL AGENCY IN THE PARK     18\n",
       "143                   WROBEL BRUCE     18\n",
       "53                     GILLIS JOHN     17\n",
       "142                  WODRASKA JOHN     17\n",
       "25                 CLINE KENNETH W     17\n",
       "133                   WAKEHAM JOHN     17\n",
       "114                   SAVAGE FRANK     17"
      ]
     },
     "execution_count": 15,
     "metadata": {},
     "output_type": "execute_result"
    }
   ],
   "source": [
    "# Converting the List in DataFrame.\n",
    "employee_nan = pd.DataFrame(employee_nan, columns = ['Employee','# NaN']).sort_values('# NaN', ascending = False)\n",
    "\n",
    "# Printing the first 10 rows.\n",
    "employee_nan.head(10)"
   ]
  },
  {
   "cell_type": "markdown",
   "metadata": {},
   "source": [
    "Without no doubt, the employee `LOCKHART EUGENE E` do not have any information."
   ]
  },
  {
   "cell_type": "code",
   "execution_count": 16,
   "metadata": {},
   "outputs": [
    {
     "data": {
      "text/html": [
       "<div>\n",
       "<style scoped>\n",
       "    .dataframe tbody tr th:only-of-type {\n",
       "        vertical-align: middle;\n",
       "    }\n",
       "\n",
       "    .dataframe tbody tr th {\n",
       "        vertical-align: top;\n",
       "    }\n",
       "\n",
       "    .dataframe thead th {\n",
       "        text-align: right;\n",
       "    }\n",
       "</style>\n",
       "<table border=\"1\" class=\"dataframe\">\n",
       "  <thead>\n",
       "    <tr style=\"text-align: right;\">\n",
       "      <th></th>\n",
       "      <th>bonus</th>\n",
       "      <th>deferral_payments</th>\n",
       "      <th>deferred_income</th>\n",
       "      <th>director_fees</th>\n",
       "      <th>email_address</th>\n",
       "      <th>exercised_stock_options</th>\n",
       "      <th>expenses</th>\n",
       "      <th>from_messages</th>\n",
       "      <th>from_poi_to_this_person</th>\n",
       "      <th>from_this_person_to_poi</th>\n",
       "      <th>...</th>\n",
       "      <th>long_term_incentive</th>\n",
       "      <th>other</th>\n",
       "      <th>poi</th>\n",
       "      <th>restricted_stock</th>\n",
       "      <th>restricted_stock_deferred</th>\n",
       "      <th>salary</th>\n",
       "      <th>shared_receipt_with_poi</th>\n",
       "      <th>to_messages</th>\n",
       "      <th>total_payments</th>\n",
       "      <th>total_stock_value</th>\n",
       "    </tr>\n",
       "  </thead>\n",
       "  <tbody>\n",
       "    <tr>\n",
       "      <th>LOCKHART EUGENE E</th>\n",
       "      <td>NaN</td>\n",
       "      <td>NaN</td>\n",
       "      <td>NaN</td>\n",
       "      <td>NaN</td>\n",
       "      <td>NaN</td>\n",
       "      <td>NaN</td>\n",
       "      <td>NaN</td>\n",
       "      <td>NaN</td>\n",
       "      <td>NaN</td>\n",
       "      <td>NaN</td>\n",
       "      <td>...</td>\n",
       "      <td>NaN</td>\n",
       "      <td>NaN</td>\n",
       "      <td>False</td>\n",
       "      <td>NaN</td>\n",
       "      <td>NaN</td>\n",
       "      <td>NaN</td>\n",
       "      <td>NaN</td>\n",
       "      <td>NaN</td>\n",
       "      <td>NaN</td>\n",
       "      <td>NaN</td>\n",
       "    </tr>\n",
       "  </tbody>\n",
       "</table>\n",
       "<p>1 rows × 21 columns</p>\n",
       "</div>"
      ],
      "text/plain": [
       "                  bonus deferral_payments deferred_income director_fees  \\\n",
       "LOCKHART EUGENE E   NaN               NaN             NaN           NaN   \n",
       "\n",
       "                  email_address exercised_stock_options expenses  \\\n",
       "LOCKHART EUGENE E           NaN                     NaN      NaN   \n",
       "\n",
       "                  from_messages from_poi_to_this_person  \\\n",
       "LOCKHART EUGENE E           NaN                     NaN   \n",
       "\n",
       "                  from_this_person_to_poi        ...         \\\n",
       "LOCKHART EUGENE E                     NaN        ...          \n",
       "\n",
       "                  long_term_incentive other    poi restricted_stock  \\\n",
       "LOCKHART EUGENE E                 NaN   NaN  False              NaN   \n",
       "\n",
       "                  restricted_stock_deferred salary shared_receipt_with_poi  \\\n",
       "LOCKHART EUGENE E                       NaN    NaN                     NaN   \n",
       "\n",
       "                  to_messages total_payments total_stock_value  \n",
       "LOCKHART EUGENE E         NaN            NaN               NaN  \n",
       "\n",
       "[1 rows x 21 columns]"
      ]
     },
     "execution_count": 16,
     "metadata": {},
     "output_type": "execute_result"
    }
   ],
   "source": [
    "# Printing the info from LOCKHART EUGENE E.\n",
    "df_dict.loc[['LOCKHART EUGENE E']]"
   ]
  },
  {
   "cell_type": "markdown",
   "metadata": {},
   "source": [
    "Probably the `THE TRAVEL AGENCY IN THE PARK` is not an employee, and for this reason, I also will remove it.\n",
    "\n",
    "There are some employees, which needs some further investigation as you can see in the query below."
   ]
  },
  {
   "cell_type": "code",
   "execution_count": 17,
   "metadata": {},
   "outputs": [
    {
     "data": {
      "text/html": [
       "<div>\n",
       "<style scoped>\n",
       "    .dataframe tbody tr th:only-of-type {\n",
       "        vertical-align: middle;\n",
       "    }\n",
       "\n",
       "    .dataframe tbody tr th {\n",
       "        vertical-align: top;\n",
       "    }\n",
       "\n",
       "    .dataframe thead th {\n",
       "        text-align: right;\n",
       "    }\n",
       "</style>\n",
       "<table border=\"1\" class=\"dataframe\">\n",
       "  <thead>\n",
       "    <tr style=\"text-align: right;\">\n",
       "      <th></th>\n",
       "      <th>bonus</th>\n",
       "      <th>deferral_payments</th>\n",
       "      <th>deferred_income</th>\n",
       "      <th>director_fees</th>\n",
       "      <th>email_address</th>\n",
       "      <th>exercised_stock_options</th>\n",
       "      <th>expenses</th>\n",
       "      <th>from_messages</th>\n",
       "      <th>from_poi_to_this_person</th>\n",
       "      <th>from_this_person_to_poi</th>\n",
       "      <th>...</th>\n",
       "      <th>long_term_incentive</th>\n",
       "      <th>other</th>\n",
       "      <th>poi</th>\n",
       "      <th>restricted_stock</th>\n",
       "      <th>restricted_stock_deferred</th>\n",
       "      <th>salary</th>\n",
       "      <th>shared_receipt_with_poi</th>\n",
       "      <th>to_messages</th>\n",
       "      <th>total_payments</th>\n",
       "      <th>total_stock_value</th>\n",
       "    </tr>\n",
       "  </thead>\n",
       "  <tbody>\n",
       "    <tr>\n",
       "      <th>LOCKHART EUGENE E</th>\n",
       "      <td>NaN</td>\n",
       "      <td>NaN</td>\n",
       "      <td>NaN</td>\n",
       "      <td>NaN</td>\n",
       "      <td>NaN</td>\n",
       "      <td>NaN</td>\n",
       "      <td>NaN</td>\n",
       "      <td>NaN</td>\n",
       "      <td>NaN</td>\n",
       "      <td>NaN</td>\n",
       "      <td>...</td>\n",
       "      <td>NaN</td>\n",
       "      <td>NaN</td>\n",
       "      <td>False</td>\n",
       "      <td>NaN</td>\n",
       "      <td>NaN</td>\n",
       "      <td>NaN</td>\n",
       "      <td>NaN</td>\n",
       "      <td>NaN</td>\n",
       "      <td>NaN</td>\n",
       "      <td>NaN</td>\n",
       "    </tr>\n",
       "    <tr>\n",
       "      <th>GRAMM WENDY L</th>\n",
       "      <td>NaN</td>\n",
       "      <td>NaN</td>\n",
       "      <td>NaN</td>\n",
       "      <td>119292</td>\n",
       "      <td>NaN</td>\n",
       "      <td>NaN</td>\n",
       "      <td>NaN</td>\n",
       "      <td>NaN</td>\n",
       "      <td>NaN</td>\n",
       "      <td>NaN</td>\n",
       "      <td>...</td>\n",
       "      <td>NaN</td>\n",
       "      <td>NaN</td>\n",
       "      <td>False</td>\n",
       "      <td>NaN</td>\n",
       "      <td>NaN</td>\n",
       "      <td>NaN</td>\n",
       "      <td>NaN</td>\n",
       "      <td>NaN</td>\n",
       "      <td>119292</td>\n",
       "      <td>NaN</td>\n",
       "    </tr>\n",
       "    <tr>\n",
       "      <th>THE TRAVEL AGENCY IN THE PARK</th>\n",
       "      <td>NaN</td>\n",
       "      <td>NaN</td>\n",
       "      <td>NaN</td>\n",
       "      <td>NaN</td>\n",
       "      <td>NaN</td>\n",
       "      <td>NaN</td>\n",
       "      <td>NaN</td>\n",
       "      <td>NaN</td>\n",
       "      <td>NaN</td>\n",
       "      <td>NaN</td>\n",
       "      <td>...</td>\n",
       "      <td>NaN</td>\n",
       "      <td>362096</td>\n",
       "      <td>False</td>\n",
       "      <td>NaN</td>\n",
       "      <td>NaN</td>\n",
       "      <td>NaN</td>\n",
       "      <td>NaN</td>\n",
       "      <td>NaN</td>\n",
       "      <td>362096</td>\n",
       "      <td>NaN</td>\n",
       "    </tr>\n",
       "    <tr>\n",
       "      <th>WODRASKA JOHN</th>\n",
       "      <td>NaN</td>\n",
       "      <td>NaN</td>\n",
       "      <td>NaN</td>\n",
       "      <td>NaN</td>\n",
       "      <td>john.wodraska@enron.com</td>\n",
       "      <td>NaN</td>\n",
       "      <td>NaN</td>\n",
       "      <td>NaN</td>\n",
       "      <td>NaN</td>\n",
       "      <td>NaN</td>\n",
       "      <td>...</td>\n",
       "      <td>NaN</td>\n",
       "      <td>189583</td>\n",
       "      <td>False</td>\n",
       "      <td>NaN</td>\n",
       "      <td>NaN</td>\n",
       "      <td>NaN</td>\n",
       "      <td>NaN</td>\n",
       "      <td>NaN</td>\n",
       "      <td>189583</td>\n",
       "      <td>NaN</td>\n",
       "    </tr>\n",
       "    <tr>\n",
       "      <th>WAKEHAM JOHN</th>\n",
       "      <td>NaN</td>\n",
       "      <td>NaN</td>\n",
       "      <td>NaN</td>\n",
       "      <td>109298</td>\n",
       "      <td>NaN</td>\n",
       "      <td>NaN</td>\n",
       "      <td>103773</td>\n",
       "      <td>NaN</td>\n",
       "      <td>NaN</td>\n",
       "      <td>NaN</td>\n",
       "      <td>...</td>\n",
       "      <td>NaN</td>\n",
       "      <td>NaN</td>\n",
       "      <td>False</td>\n",
       "      <td>NaN</td>\n",
       "      <td>NaN</td>\n",
       "      <td>NaN</td>\n",
       "      <td>NaN</td>\n",
       "      <td>NaN</td>\n",
       "      <td>213071</td>\n",
       "      <td>NaN</td>\n",
       "    </tr>\n",
       "    <tr>\n",
       "      <th>SAVAGE FRANK</th>\n",
       "      <td>NaN</td>\n",
       "      <td>NaN</td>\n",
       "      <td>-121284</td>\n",
       "      <td>125034</td>\n",
       "      <td>NaN</td>\n",
       "      <td>NaN</td>\n",
       "      <td>NaN</td>\n",
       "      <td>NaN</td>\n",
       "      <td>NaN</td>\n",
       "      <td>NaN</td>\n",
       "      <td>...</td>\n",
       "      <td>NaN</td>\n",
       "      <td>NaN</td>\n",
       "      <td>False</td>\n",
       "      <td>NaN</td>\n",
       "      <td>NaN</td>\n",
       "      <td>NaN</td>\n",
       "      <td>NaN</td>\n",
       "      <td>NaN</td>\n",
       "      <td>3750</td>\n",
       "      <td>NaN</td>\n",
       "    </tr>\n",
       "  </tbody>\n",
       "</table>\n",
       "<p>6 rows × 21 columns</p>\n",
       "</div>"
      ],
      "text/plain": [
       "                              bonus deferral_payments deferred_income  \\\n",
       "LOCKHART EUGENE E               NaN               NaN             NaN   \n",
       "GRAMM WENDY L                   NaN               NaN             NaN   \n",
       "THE TRAVEL AGENCY IN THE PARK   NaN               NaN             NaN   \n",
       "WODRASKA JOHN                   NaN               NaN             NaN   \n",
       "WAKEHAM JOHN                    NaN               NaN             NaN   \n",
       "SAVAGE FRANK                    NaN               NaN         -121284   \n",
       "\n",
       "                              director_fees            email_address  \\\n",
       "LOCKHART EUGENE E                       NaN                      NaN   \n",
       "GRAMM WENDY L                        119292                      NaN   \n",
       "THE TRAVEL AGENCY IN THE PARK           NaN                      NaN   \n",
       "WODRASKA JOHN                           NaN  john.wodraska@enron.com   \n",
       "WAKEHAM JOHN                         109298                      NaN   \n",
       "SAVAGE FRANK                         125034                      NaN   \n",
       "\n",
       "                              exercised_stock_options expenses from_messages  \\\n",
       "LOCKHART EUGENE E                                 NaN      NaN           NaN   \n",
       "GRAMM WENDY L                                     NaN      NaN           NaN   \n",
       "THE TRAVEL AGENCY IN THE PARK                     NaN      NaN           NaN   \n",
       "WODRASKA JOHN                                     NaN      NaN           NaN   \n",
       "WAKEHAM JOHN                                      NaN   103773           NaN   \n",
       "SAVAGE FRANK                                      NaN      NaN           NaN   \n",
       "\n",
       "                              from_poi_to_this_person from_this_person_to_poi  \\\n",
       "LOCKHART EUGENE E                                 NaN                     NaN   \n",
       "GRAMM WENDY L                                     NaN                     NaN   \n",
       "THE TRAVEL AGENCY IN THE PARK                     NaN                     NaN   \n",
       "WODRASKA JOHN                                     NaN                     NaN   \n",
       "WAKEHAM JOHN                                      NaN                     NaN   \n",
       "SAVAGE FRANK                                      NaN                     NaN   \n",
       "\n",
       "                                     ...        long_term_incentive   other  \\\n",
       "LOCKHART EUGENE E                    ...                        NaN     NaN   \n",
       "GRAMM WENDY L                        ...                        NaN     NaN   \n",
       "THE TRAVEL AGENCY IN THE PARK        ...                        NaN  362096   \n",
       "WODRASKA JOHN                        ...                        NaN  189583   \n",
       "WAKEHAM JOHN                         ...                        NaN     NaN   \n",
       "SAVAGE FRANK                         ...                        NaN     NaN   \n",
       "\n",
       "                                 poi restricted_stock  \\\n",
       "LOCKHART EUGENE E              False              NaN   \n",
       "GRAMM WENDY L                  False              NaN   \n",
       "THE TRAVEL AGENCY IN THE PARK  False              NaN   \n",
       "WODRASKA JOHN                  False              NaN   \n",
       "WAKEHAM JOHN                   False              NaN   \n",
       "SAVAGE FRANK                   False              NaN   \n",
       "\n",
       "                              restricted_stock_deferred salary  \\\n",
       "LOCKHART EUGENE E                                   NaN    NaN   \n",
       "GRAMM WENDY L                                       NaN    NaN   \n",
       "THE TRAVEL AGENCY IN THE PARK                       NaN    NaN   \n",
       "WODRASKA JOHN                                       NaN    NaN   \n",
       "WAKEHAM JOHN                                        NaN    NaN   \n",
       "SAVAGE FRANK                                        NaN    NaN   \n",
       "\n",
       "                              shared_receipt_with_poi to_messages  \\\n",
       "LOCKHART EUGENE E                                 NaN         NaN   \n",
       "GRAMM WENDY L                                     NaN         NaN   \n",
       "THE TRAVEL AGENCY IN THE PARK                     NaN         NaN   \n",
       "WODRASKA JOHN                                     NaN         NaN   \n",
       "WAKEHAM JOHN                                      NaN         NaN   \n",
       "SAVAGE FRANK                                      NaN         NaN   \n",
       "\n",
       "                              total_payments total_stock_value  \n",
       "LOCKHART EUGENE E                        NaN               NaN  \n",
       "GRAMM WENDY L                         119292               NaN  \n",
       "THE TRAVEL AGENCY IN THE PARK         362096               NaN  \n",
       "WODRASKA JOHN                         189583               NaN  \n",
       "WAKEHAM JOHN                          213071               NaN  \n",
       "SAVAGE FRANK                            3750               NaN  \n",
       "\n",
       "[6 rows x 21 columns]"
      ]
     },
     "execution_count": 17,
     "metadata": {},
     "output_type": "execute_result"
    }
   ],
   "source": [
    "# Employees without salary and total_stock_value.\n",
    "df_dict.loc[employee_nan.Employee[:10].tolist()].query('salary == \"NaN\"').query('total_stock_value == \"NaN\"')"
   ]
  },
  {
   "cell_type": "markdown",
   "metadata": {},
   "source": [
    "Although I have a strong reason to remove them, I can not discard it due to the lack of observations.\n",
    "\n",
    "Table 2 shows all the issues I have found in the dataset.\n",
    "\n",
    "<br><center><strong>Table 2 - Table of Issues.</strong>\n",
    "\n",
    "|Issue ID|Issue Type|Dimension|Method|Description|\n",
    "|:-:|:-:|:-:|:-:|:-:|\n",
    "|1|Quality|Validity|Visual|Remove the `TOTAL` observation because it is a aggregate information.|\n",
    "|2|Quality|Validity|Programmatic|Remove the `LOCKHART EUGENE E` observation because it only has `NaN`.|\n",
    "|3|Quality|Validity|Programmatic|Remove the `THE TRAVEL AGENCY IN THE PARK` observation because it is not an employee.|\n",
    "\n",
    "</center>"
   ]
  },
  {
   "cell_type": "markdown",
   "metadata": {},
   "source": [
    "### 2.3. Data Cleaning <a id='cleaning'></a>\n",
    "\n",
    "Fortunately, there is only one problem pointed out in Data Assessing.\n",
    "\n",
    "#### Issue ID 1\n",
    "\n",
    ">**Issue:** Remove the observation `TOTAL`.\n",
    "\n",
    "**Define**\n",
    "\n",
    "* Remove from the `data_dict` the key `TOTAL`.\n",
    "\n",
    "**Code**"
   ]
  },
  {
   "cell_type": "code",
   "execution_count": 18,
   "metadata": {},
   "outputs": [],
   "source": [
    "# Copying the original dictionary.\n",
    "data_dict_clean = data_dict.copy()\n",
    "\n",
    "# Removing the TOTAL key.\n",
    "data_dict_clean.pop('TOTAL');"
   ]
  },
  {
   "cell_type": "markdown",
   "metadata": {},
   "source": [
    "**Test**\n",
    "\n",
    "Visually I can assure the `TOTAL` removal plotting the `salary` by `total_payments`."
   ]
  },
  {
   "cell_type": "code",
   "execution_count": 19,
   "metadata": {},
   "outputs": [
    {
     "data": {
      "image/png": "[encoded data removed]",
      "text/plain": [
       "<Figure size 1008x432 with 1 Axes>"
      ]
     },
     "metadata": {
      "needs_background": "light"
     },
     "output_type": "display_data"
    }
   ],
   "source": [
    "# Creating a dataframe to be used to plot the graphic. This is a temporaly variable.\n",
    "df_clean = pd.DataFrame(data_dict_clean).transpose()\n",
    "\n",
    "# Visualizing the data.\n",
    "\n",
    "plt.figure(figsize = [14,6]);                 # Defining the figure size.\n",
    "sns.scatterplot(x = df_clean.salary,           # X axis feature.\n",
    "                y = df_clean.total_payments,   # Y axis feature.\n",
    "                alpha = 0.8);                 # Points transparency.\n",
    "plt.xlabel('Salary [USD]',                    # X axis label.\n",
    "           fontsize = 14);                    \n",
    "plt.ylabel('Total Payments [USD]',            # X axis label.\n",
    "           fontsize = 14);\n",
    "plt.title('Graphic 2 - Salary vs Total Payments without Outlier', # Graphic Title.\n",
    "          fontsize = 20);"
   ]
  },
  {
   "cell_type": "markdown",
   "metadata": {},
   "source": [
    "Programmatically I can confirm the exclusion of the `TOTAL` checking the existence in the index."
   ]
  },
  {
   "cell_type": "code",
   "execution_count": 20,
   "metadata": {},
   "outputs": [
    {
     "data": {
      "text/plain": [
       "0"
      ]
     },
     "execution_count": 20,
     "metadata": {},
     "output_type": "execute_result"
    }
   ],
   "source": [
    "# Confirming the exclusion of TOTAL from the dataframe.\n",
    "sum(df_clean.index == 'TOTAL') # 0: removed; 1: Not removed"
   ]
  },
  {
   "cell_type": "markdown",
   "metadata": {},
   "source": [
    "#### Issue ID 2\n",
    "\n",
    ">**Issue:** Remove the observation `LOCKHART EUGENE E`.\n",
    "\n",
    "**Define**\n",
    "\n",
    "* Remove from the `data_dict` the key `LOCKHART EUGENE E`.\n",
    "\n",
    "**Code**"
   ]
  },
  {
   "cell_type": "code",
   "execution_count": 21,
   "metadata": {},
   "outputs": [],
   "source": [
    "# Removing the key LOCKHART EUGENE E.\n",
    "data_dict_clean.pop('LOCKHART EUGENE E');"
   ]
  },
  {
   "cell_type": "markdown",
   "metadata": {},
   "source": [
    "**Test**"
   ]
  },
  {
   "cell_type": "code",
   "execution_count": 22,
   "metadata": {},
   "outputs": [
    {
     "data": {
      "text/plain": [
       "0"
      ]
     },
     "execution_count": 22,
     "metadata": {},
     "output_type": "execute_result"
    }
   ],
   "source": [
    "# Temporaly variable only to justify this test.\n",
    "df_clean = pd.DataFrame(data_dict_clean).transpose()\n",
    "\n",
    "# Confirming the exclusion of TOTAL from the dataframe.\n",
    "sum(df_clean.index == 'LOCKHART EUGENE E') # 0: removed; 1: Not removed"
   ]
  },
  {
   "cell_type": "markdown",
   "metadata": {},
   "source": [
    "#### Issue ID 3\n",
    "\n",
    ">**Issue:** Remove the observation `THE TRAVEL AGENCY IN THE PARK`.\n",
    "\n",
    "**Define**\n",
    "\n",
    "* Remove from the `data_dict` the key `THE TRAVEL AGENCY IN THE PARK`.\n",
    "\n",
    "**Code**"
   ]
  },
  {
   "cell_type": "code",
   "execution_count": 23,
   "metadata": {},
   "outputs": [],
   "source": [
    "# Removing the key THE TRAVEL AGENCY IN THE PARK.\n",
    "data_dict_clean.pop('THE TRAVEL AGENCY IN THE PARK');"
   ]
  },
  {
   "cell_type": "markdown",
   "metadata": {},
   "source": [
    "**Test**"
   ]
  },
  {
   "cell_type": "code",
   "execution_count": 24,
   "metadata": {},
   "outputs": [
    {
     "data": {
      "text/plain": [
       "0"
      ]
     },
     "execution_count": 24,
     "metadata": {},
     "output_type": "execute_result"
    }
   ],
   "source": [
    "# Temporaly variable only to justify this test.\n",
    "df_clean = pd.DataFrame(data_dict_clean).transpose()\n",
    "\n",
    "# Confirming the exclusion of TOTAL from the dataframe.\n",
    "sum(df_clean.index == 'THE TRAVEL AGENCY IN THE PARK') # 0: removed; 1: Not removed"
   ]
  },
  {
   "cell_type": "markdown",
   "metadata": {},
   "source": [
    "#### Checking Dataframe\n",
    "\n",
    "I expect to have 143 observations after the cleaning process."
   ]
  },
  {
   "cell_type": "code",
   "execution_count": 25,
   "metadata": {},
   "outputs": [
    {
     "name": "stdout",
     "output_type": "stream",
     "text": [
      "Number of observations:  143\n"
     ]
    }
   ],
   "source": [
    "# Number of valid observations. \n",
    "print \"Number of observations: \", df_clean.shape[0]"
   ]
  },
  {
   "cell_type": "markdown",
   "metadata": {},
   "source": [
    "### Task 2 - Removing Outliers <a id='task2'></a>\n",
    "\n",
    ">**Remove outliers**\n",
    "\n",
    "I have removed the `TOTAL` observation because it is an aggregation. The reason to keep the extreme values from `LAY KENNETH L`, `LAVORATO JOHN J`, `SKILLING JEFFREY K`, and others are due to removing I them I will lose information and its still valid points.\n",
    "\n",
    "I also have removed `LOCKHART EUGENE E` and `THE TRAVEL AGENCY IN THE PARK` because they were not good observations and only will insert noise. The latter has only `NaN` and the former is not an employee."
   ]
  },
  {
   "cell_type": "markdown",
   "metadata": {},
   "source": [
    "### 2.4. Exporting to JSON <a id='exporting'></a>\n",
    "\n",
    "I have decided to export the `data_dict_clean` dictionary to a JSON file to use it in the [Tableau Public][tableau_public_url].\n",
    "\n",
    "[tableau_public_url]: https://public.tableau.com/en-us/s/"
   ]
  },
  {
   "cell_type": "code",
   "execution_count": 26,
   "metadata": {},
   "outputs": [],
   "source": [
    "# Copying\n",
    "df_export = df_clean.copy()\n",
    "\n",
    "# Converting features to float. \n",
    "df_export.deferral_payments = df_clean.deferral_payments.astype(float)\n",
    "df_export.deferred_income = df_clean.deferred_income.astype(float)\n",
    "df_export.director_fees = df_clean.director_fees.astype(float)\n",
    "df_export.exercised_stock_options = df_clean.exercised_stock_options.astype(float)\n",
    "df_export.loan_advances= df_clean.loan_advances.astype(float)\n",
    "df_export.long_term_incentive= df_clean.long_term_incentive.astype(float)\n",
    "df_export.restricted_stock_deferred= df_clean.restricted_stock_deferred.astype(float)\n",
    "\n",
    "# Adding an extra columns with names.\n",
    "df_export['name'] = df_export.index\n",
    "\n",
    "# Creating a dictionary.\n",
    "dict_export = df_export.to_json(orient='records')\n",
    "\n",
    "# Writing the df_dict_clean.json in the root folder.\n",
    "with open('df_dict_clean.json', mode = 'w') as file:\n",
    "    file.write(dict_export)"
   ]
  },
  {
   "cell_type": "markdown",
   "metadata": {},
   "source": [
    "***"
   ]
  },
  {
   "cell_type": "markdown",
   "metadata": {},
   "source": [
    "## 3. Exploratory Data Analysis  <a id='eda'></a>\n",
    "\n",
    "In consonance with the Part 6 Data Visualisation of this course, I will perform the EDA using the [Tableau Public][tableau_public_url], although this is not a requirement I will push myself to use this project as an opportunity put it in practice.\n",
    "\n",
    "[tableau_public_url]: https://public.tableau.com/en-us/s/\n",
    "\n",
    "The file `df_dict_clean.json` exported in [2.4. Exporting to JSON](#exporting) was used as input of Tableau Public.\n",
    "\n",
    "### 3.1. Tableau Public <a id='story'></a>\n",
    "\n",
    "I have created a Story to explain the EDA process."
   ]
  },
  {
   "cell_type": "code",
   "execution_count": 27,
   "metadata": {},
   "outputs": [
    {
     "data": {
      "text/html": [
       "<div class='tableauPlaceholder' id='viz1548537594428' style='position: relative'><noscript><a href='#'><img alt=' ' src='https:&#47;&#47;public.tableau.com&#47;static&#47;images&#47;nd&#47;nd111_project_04&#47;EDA&#47;1_rss.png' style='border: none' /></a></noscript><object class='tableauViz'  style='display:none;'><param name='host_url' value='https%3A%2F%2Fpublic.tableau.com%2F' /> <param name='embed_code_version' value='3' /> <param name='site_root' value='' /><param name='name' value='nd111_project_04&#47;EDA' /><param name='tabs' value='no' /><param name='toolbar' value='yes' /><param name='static_image' value='https:&#47;&#47;public.tableau.com&#47;static&#47;images&#47;nd&#47;nd111_project_04&#47;EDA&#47;1.png' /> <param name='animate_transition' value='yes' /><param name='display_static_image' value='yes' /><param name='display_spinner' value='yes' /><param name='display_overlay' value='yes' /><param name='display_count' value='yes' /></object></div>                <script type='text/javascript'>                    var divElement = document.getElementById('viz1548537594428');                    var vizElement = divElement.getElementsByTagName('object')[0];                    vizElement.style.width='100%';vizElement.style.height=(divElement.offsetWidth*0.75)+'px';                    var scriptElement = document.createElement('script');                    scriptElement.src = 'https://public.tableau.com/javascripts/api/viz_v1.js';                    vizElement.parentNode.insertBefore(scriptElement, vizElement);                </script>"
      ],
      "text/plain": [
       "<IPython.core.display.HTML object>"
      ]
     },
     "metadata": {},
     "output_type": "display_data"
    }
   ],
   "source": [
    "%%HTML\n",
    "<div class='tableauPlaceholder' id='viz1548537594428' style='position: relative'><noscript><a href='#'><img alt=' ' src='https:&#47;&#47;public.tableau.com&#47;static&#47;images&#47;nd&#47;nd111_project_04&#47;EDA&#47;1_rss.png' style='border: none' /></a></noscript><object class='tableauViz'  style='display:none;'><param name='host_url' value='https%3A%2F%2Fpublic.tableau.com%2F' /> <param name='embed_code_version' value='3' /> <param name='site_root' value='' /><param name='name' value='nd111_project_04&#47;EDA' /><param name='tabs' value='no' /><param name='toolbar' value='yes' /><param name='static_image' value='https:&#47;&#47;public.tableau.com&#47;static&#47;images&#47;nd&#47;nd111_project_04&#47;EDA&#47;1.png' /> <param name='animate_transition' value='yes' /><param name='display_static_image' value='yes' /><param name='display_spinner' value='yes' /><param name='display_overlay' value='yes' /><param name='display_count' value='yes' /></object></div>                <script type='text/javascript'>                    var divElement = document.getElementById('viz1548537594428');                    var vizElement = divElement.getElementsByTagName('object')[0];                    vizElement.style.width='100%';vizElement.style.height=(divElement.offsetWidth*0.75)+'px';                    var scriptElement = document.createElement('script');                    scriptElement.src = 'https://public.tableau.com/javascripts/api/viz_v1.js';                    vizElement.parentNode.insertBefore(scriptElement, vizElement);                </script>"
   ]
  },
  {
   "cell_type": "markdown",
   "metadata": {},
   "source": [
    "### 3.2. Feature Engineering <a id='feature_engineering'></a>\n",
    "\n",
    "Have in mind, to avoid the [Data Leakage][data_leakage] I have used only features with low rate of `NaN`.\n",
    "\n",
    "[data_leakage]: https://machinelearningmastery.com/data-leakage-machine-learning/"
   ]
  },
  {
   "cell_type": "code",
   "execution_count": 28,
   "metadata": {},
   "outputs": [
    {
     "data": {
      "text/html": [
       "<div>\n",
       "<style scoped>\n",
       "    .dataframe tbody tr th:only-of-type {\n",
       "        vertical-align: middle;\n",
       "    }\n",
       "\n",
       "    .dataframe tbody tr th {\n",
       "        vertical-align: top;\n",
       "    }\n",
       "\n",
       "    .dataframe thead th {\n",
       "        text-align: right;\n",
       "    }\n",
       "</style>\n",
       "<table border=\"1\" class=\"dataframe\">\n",
       "  <thead>\n",
       "    <tr style=\"text-align: right;\">\n",
       "      <th></th>\n",
       "      <th>nan</th>\n",
       "    </tr>\n",
       "  </thead>\n",
       "  <tbody>\n",
       "    <tr>\n",
       "      <th>poi</th>\n",
       "      <td>0.00</td>\n",
       "    </tr>\n",
       "    <tr>\n",
       "      <th>total_payments</th>\n",
       "      <td>0.14</td>\n",
       "    </tr>\n",
       "    <tr>\n",
       "      <th>total_stock_value</th>\n",
       "      <td>0.14</td>\n",
       "    </tr>\n",
       "    <tr>\n",
       "      <th>email_address</th>\n",
       "      <td>0.24</td>\n",
       "    </tr>\n",
       "    <tr>\n",
       "      <th>restricted_stock</th>\n",
       "      <td>0.25</td>\n",
       "    </tr>\n",
       "    <tr>\n",
       "      <th>exercised_stock_options</th>\n",
       "      <td>0.30</td>\n",
       "    </tr>\n",
       "    <tr>\n",
       "      <th>salary</th>\n",
       "      <td>0.35</td>\n",
       "    </tr>\n",
       "    <tr>\n",
       "      <th>expenses</th>\n",
       "      <td>0.35</td>\n",
       "    </tr>\n",
       "    <tr>\n",
       "      <th>other</th>\n",
       "      <td>0.36</td>\n",
       "    </tr>\n",
       "  </tbody>\n",
       "</table>\n",
       "</div>"
      ],
      "text/plain": [
       "                          nan\n",
       "poi                      0.00\n",
       "total_payments           0.14\n",
       "total_stock_value        0.14\n",
       "email_address            0.24\n",
       "restricted_stock         0.25\n",
       "exercised_stock_options  0.30\n",
       "salary                   0.35\n",
       "expenses                 0.35\n",
       "other                    0.36"
      ]
     },
     "execution_count": 28,
     "metadata": {},
     "output_type": "execute_result"
    }
   ],
   "source": [
    "# Printing features with less than 40% of observation with NaN.\n",
    "nan_proportion.sort_values('nan').query('nan < .40')"
   ]
  },
  {
   "cell_type": "markdown",
   "metadata": {},
   "source": [
    "The problem underlying the Data Leakage is an overly optimistic and unrealistically good predictions, which probably yields a useless model.\n",
    "\n",
    "Defining a function to create the new features."
   ]
  },
  {
   "cell_type": "code",
   "execution_count": 29,
   "metadata": {},
   "outputs": [],
   "source": [
    "# Copying the df_clean, because I need a backup.\n",
    "df_eda = df_clean.copy()"
   ]
  },
  {
   "cell_type": "code",
   "execution_count": 30,
   "metadata": {},
   "outputs": [],
   "source": [
    "# Defining a function to create the feature engineering.\n",
    "def feature_engineering(df, ratio_name, variable_numerator, variable_denominator):\n",
    "    \"\"\"\n",
    "    +--------------------------------------------------------------------------------------------------+\n",
    "    |DESCRIPTION:                                                                                      |\n",
    "    |                                                                                                  |\n",
    "    |    This function creates the ratio/fraction between two variables and store to a dataframe.               |\n",
    "    |                                                                                                  |\n",
    "    +--------------------------------------------------------------------------------------------------+\n",
    "    |INPUT:                                                                                            |\n",
    "    |                                                                                                  |\n",
    "    |    VARIABLE:                                                                                     |\n",
    "    |                                                                                                  |\n",
    "    |    df: Dataframe to insert the new ratio.                                                        |\n",
    "    |                                                                                                  |\n",
    "    |    ratio_name: Ratio's name.                                                                     |\n",
    "    |                                                                                                  |\n",
    "    |    variable_numerator: The feature to be divided by the numerator.                               |\n",
    "    |                                                                                                  |\n",
    "    |    variable_denominator: The feature to divide the denominator.                                  |\n",
    "    |                                                                                                  |\n",
    "    +--------------------------------------------------------------------------------------------------+\n",
    "    |OUTPUT:                                                                                           |\n",
    "    |                                                                                                  |\n",
    "    |    VARIABLE:                                                                                     |\n",
    "    |                                                                                                  |\n",
    "    |    df: Dataframe with the ratio stored as a new column.                                          |\n",
    "    |                                                                                                  |\n",
    "    +--------------------------------------------------------------------------------------------------+\n",
    "    \"\"\"\n",
    "    # Temporaly variable.\n",
    "    temp = []\n",
    "    \n",
    "    # Loop to create the ratio.\n",
    "    for num,den in zip(variable_numerator, variable_denominator):\n",
    "        # For each value will analise if is a NaN or not.\n",
    "        if den == 0:\n",
    "            temp.append(0.)\n",
    "        elif (num != 'NaN') & (den != 'NaN'):\n",
    "            temp.append(num/float(den))\n",
    "        else:\n",
    "            temp.append(0.)\n",
    "\n",
    "    # Adding the new column.\n",
    "    df[str(ratio_name)] = temp\n",
    "    \n",
    "    return df"
   ]
  },
  {
   "cell_type": "markdown",
   "metadata": {},
   "source": [
    "### Task 3 - Creating new features <a id='task3'></a>\n",
    "\n",
    ">**Create new feature(s)**\n",
    "\n",
    "Based on equations (1), (2), and (3) and using the function `feature_engineering`, I have added to the dataset three new features.\n",
    "\n",
    "Thefore, aware of Data Leakage and aiming to engineer new features. I have decided to create three new features.\n",
    "\n",
    "* **ratio_salary_total_payments**\n",
    "\n",
    "$$\\text{ratio_salary_total_payments} = \\frac{\\text{salary}}{\\text{total_payments}} \\tag{1}$$"
   ]
  },
  {
   "cell_type": "code",
   "execution_count": 31,
   "metadata": {},
   "outputs": [],
   "source": [
    "# 1. Adding the ratio_from_poi.\n",
    "feature_engineering(df = df_eda,\n",
    "                    ratio_name = 'ratio_salary_total_payments',\n",
    "                    variable_numerator = df_eda.salary,\n",
    "                    variable_denominator = df_eda.total_payments);"
   ]
  },
  {
   "cell_type": "code",
   "execution_count": 32,
   "metadata": {},
   "outputs": [
    {
     "data": {
      "image/png": "[encoded data removed]",
      "text/plain": [
       "<Figure size 1008x432 with 1 Axes>"
      ]
     },
     "metadata": {
      "needs_background": "light"
     },
     "output_type": "display_data"
    }
   ],
   "source": [
    "# Plotting a simple graphic to visualise.\n",
    "plt.figure(figsize = [14, 6])\n",
    "sns.scatterplot(y = 'ratio_salary_total_payments', x = df_eda.exercised_stock_options.astype(float)/df_eda.exercised_stock_options.astype(float).max(), hue = 'poi', data = df_eda)\n",
    "plt.title('Graphic 3 - Salary/Total Payments vs Exercised Stock Options.', fontsize = 20)\n",
    "plt.xlabel('Exercised Stock Options', fontsize = 14)\n",
    "plt.ylabel('Salary/Total Payments', fontsize = 14);"
   ]
  },
  {
   "cell_type": "markdown",
   "metadata": {},
   "source": [
    "* **total_income**\n",
    "\n",
    "$$\\text{total_income} = \\text{total_payments} + \\text{total_stock_value} \\tag{2}$$"
   ]
  },
  {
   "cell_type": "code",
   "execution_count": 33,
   "metadata": {},
   "outputs": [],
   "source": [
    "# Creating new feature.\n",
    "df_eda['total_income'] = df_eda.total_payments.astype(float) + df_eda.total_stock_value.astype(float)"
   ]
  },
  {
   "cell_type": "code",
   "execution_count": 34,
   "metadata": {},
   "outputs": [
    {
     "data": {
      "image/png": "[encoded data removed]",
      "text/plain": [
       "<Figure size 1008x432 with 1 Axes>"
      ]
     },
     "metadata": {
      "needs_background": "light"
     },
     "output_type": "display_data"
    }
   ],
   "source": [
    "# Plotting a simple graphic to visualise.\n",
    "plt.figure(figsize = [14, 6])\n",
    "sns.scatterplot(y = 'total_income', x = df_eda.salary.astype(float)/df_eda.salary.astype(float).max(), hue = 'poi', data = df_eda)\n",
    "plt.title('Graphic 4 - Total Income vs Salary.', fontsize = 20)\n",
    "plt.xlabel('Salary', fontsize = 14)\n",
    "plt.ylabel('Total Income', fontsize = 14);"
   ]
  },
  {
   "cell_type": "markdown",
   "metadata": {},
   "source": [
    "* **ratio_stock_payments**\n",
    "\n",
    "$$\\text{ratio_stock_payments} = \\frac{\\text{total_stock_value}}{\\text{total_payments}} \\tag{3}$$"
   ]
  },
  {
   "cell_type": "code",
   "execution_count": 35,
   "metadata": {},
   "outputs": [],
   "source": [
    "# 1. Adding the ratio_from_poi.\n",
    "feature_engineering(df = df_eda,\n",
    "                    ratio_name = 'ratio_stock_total_payments',\n",
    "                    variable_numerator = df_eda.total_stock_value,\n",
    "                    variable_denominator = df_eda.total_payments);"
   ]
  },
  {
   "cell_type": "code",
   "execution_count": 36,
   "metadata": {},
   "outputs": [
    {
     "data": {
      "image/png": "[encoded data removed]",
      "text/plain": [
       "<Figure size 1008x432 with 1 Axes>"
      ]
     },
     "metadata": {
      "needs_background": "light"
     },
     "output_type": "display_data"
    }
   ],
   "source": [
    "# Plotting a simple graphic to visualise.\n",
    "plt.figure(figsize = [14, 6])\n",
    "sns.scatterplot(y = df_eda.total_income/df_eda.total_income.max(), x = df_eda.expenses.astype(float)/df_eda.expenses.astype(float).max(), hue = 'poi', data = df_eda.query('ratio_stock_total_payments < 1000'))\n",
    "plt.title('Graphic 5 - Total Stock Value/Total Payments vs Expenses', fontsize = 20)\n",
    "plt.xlabel('Expenses', fontsize = 14)\n",
    "plt.ylabel('Total Stock Value/Total Payments', fontsize = 14);"
   ]
  },
  {
   "cell_type": "markdown",
   "metadata": {},
   "source": [
    "Unfortunately, I could not create any new features using data from email, mainly because these features has a lot of NaN values which could drive in Data Leakage.\n",
    "\n",
    "Later in Feature Selection item, I will analyse each of these new features, if it is relevant to the model I will use it, if not I just need to drop out."
   ]
  },
  {
   "cell_type": "markdown",
   "metadata": {},
   "source": [
    "**Summary:** I have created 3 news features.\n",
    "\n",
    "* ratio_salary_total_payments;\n",
    "* total_income, and;\n",
    "* ratio_stock_total_payments."
   ]
  },
  {
   "cell_type": "code",
   "execution_count": 37,
   "metadata": {},
   "outputs": [],
   "source": [
    "# Storing the list of engineered features.\n",
    "engineered_features = ['ratio_salary_total_payments', 'total_income', 'ratio_stock_total_payments']"
   ]
  },
  {
   "cell_type": "code",
   "execution_count": 38,
   "metadata": {},
   "outputs": [
    {
     "data": {
      "text/html": [
       "<div>\n",
       "<style scoped>\n",
       "    .dataframe tbody tr th:only-of-type {\n",
       "        vertical-align: middle;\n",
       "    }\n",
       "\n",
       "    .dataframe tbody tr th {\n",
       "        vertical-align: top;\n",
       "    }\n",
       "\n",
       "    .dataframe thead th {\n",
       "        text-align: right;\n",
       "    }\n",
       "</style>\n",
       "<table border=\"1\" class=\"dataframe\">\n",
       "  <thead>\n",
       "    <tr style=\"text-align: right;\">\n",
       "      <th></th>\n",
       "      <th>to_messages</th>\n",
       "      <th>from_messages</th>\n",
       "      <th>ratio_salary_total_payments</th>\n",
       "      <th>total_income</th>\n",
       "      <th>ratio_stock_total_payments</th>\n",
       "    </tr>\n",
       "  </thead>\n",
       "  <tbody>\n",
       "    <tr>\n",
       "      <th>ALLEN PHILLIP K</th>\n",
       "      <td>2902</td>\n",
       "      <td>2195</td>\n",
       "      <td>0.045035</td>\n",
       "      <td>6213983.0</td>\n",
       "      <td>0.385676</td>\n",
       "    </tr>\n",
       "    <tr>\n",
       "      <th>BADUM JAMES P</th>\n",
       "      <td>NaN</td>\n",
       "      <td>NaN</td>\n",
       "      <td>0.000000</td>\n",
       "      <td>440283.0</td>\n",
       "      <td>1.412959</td>\n",
       "    </tr>\n",
       "    <tr>\n",
       "      <th>BANNANTINE JAMES M</th>\n",
       "      <td>566</td>\n",
       "      <td>29</td>\n",
       "      <td>0.000521</td>\n",
       "      <td>6159684.0</td>\n",
       "      <td>5.723100</td>\n",
       "    </tr>\n",
       "    <tr>\n",
       "      <th>BAXTER JOHN C</th>\n",
       "      <td>NaN</td>\n",
       "      <td>NaN</td>\n",
       "      <td>0.047406</td>\n",
       "      <td>16257601.0</td>\n",
       "      <td>1.885448</td>\n",
       "    </tr>\n",
       "    <tr>\n",
       "      <th>BAY FRANKLIN R</th>\n",
       "      <td>NaN</td>\n",
       "      <td>NaN</td>\n",
       "      <td>0.289564</td>\n",
       "      <td>890710.0</td>\n",
       "      <td>0.076132</td>\n",
       "    </tr>\n",
       "    <tr>\n",
       "      <th>BAZELIDES PHILIP J</th>\n",
       "      <td>NaN</td>\n",
       "      <td>NaN</td>\n",
       "      <td>0.093960</td>\n",
       "      <td>2459777.0</td>\n",
       "      <td>1.859754</td>\n",
       "    </tr>\n",
       "    <tr>\n",
       "      <th>BECK SALLY W</th>\n",
       "      <td>7315</td>\n",
       "      <td>4343</td>\n",
       "      <td>0.238714</td>\n",
       "      <td>1095095.0</td>\n",
       "      <td>0.130050</td>\n",
       "    </tr>\n",
       "    <tr>\n",
       "      <th>BELDEN TIMOTHY N</th>\n",
       "      <td>7991</td>\n",
       "      <td>484</td>\n",
       "      <td>0.038897</td>\n",
       "      <td>6612335.0</td>\n",
       "      <td>0.201887</td>\n",
       "    </tr>\n",
       "    <tr>\n",
       "      <th>BELFER ROBERT</th>\n",
       "      <td>NaN</td>\n",
       "      <td>NaN</td>\n",
       "      <td>0.000000</td>\n",
       "      <td>58407.0</td>\n",
       "      <td>-0.430176</td>\n",
       "    </tr>\n",
       "    <tr>\n",
       "      <th>BERBERIAN DAVID</th>\n",
       "      <td>NaN</td>\n",
       "      <td>NaN</td>\n",
       "      <td>0.947950</td>\n",
       "      <td>2722090.0</td>\n",
       "      <td>10.914222</td>\n",
       "    </tr>\n",
       "  </tbody>\n",
       "</table>\n",
       "</div>"
      ],
      "text/plain": [
       "                   to_messages from_messages  ratio_salary_total_payments  \\\n",
       "ALLEN PHILLIP K           2902          2195                     0.045035   \n",
       "BADUM JAMES P              NaN           NaN                     0.000000   \n",
       "BANNANTINE JAMES M         566            29                     0.000521   \n",
       "BAXTER JOHN C              NaN           NaN                     0.047406   \n",
       "BAY FRANKLIN R             NaN           NaN                     0.289564   \n",
       "BAZELIDES PHILIP J         NaN           NaN                     0.093960   \n",
       "BECK SALLY W              7315          4343                     0.238714   \n",
       "BELDEN TIMOTHY N          7991           484                     0.038897   \n",
       "BELFER ROBERT              NaN           NaN                     0.000000   \n",
       "BERBERIAN DAVID            NaN           NaN                     0.947950   \n",
       "\n",
       "                    total_income  ratio_stock_total_payments  \n",
       "ALLEN PHILLIP K        6213983.0                    0.385676  \n",
       "BADUM JAMES P           440283.0                    1.412959  \n",
       "BANNANTINE JAMES M     6159684.0                    5.723100  \n",
       "BAXTER JOHN C         16257601.0                    1.885448  \n",
       "BAY FRANKLIN R          890710.0                    0.076132  \n",
       "BAZELIDES PHILIP J     2459777.0                    1.859754  \n",
       "BECK SALLY W           1095095.0                    0.130050  \n",
       "BELDEN TIMOTHY N       6612335.0                    0.201887  \n",
       "BELFER ROBERT            58407.0                   -0.430176  \n",
       "BERBERIAN DAVID        2722090.0                   10.914222  "
      ]
     },
     "execution_count": 38,
     "metadata": {},
     "output_type": "execute_result"
    }
   ],
   "source": [
    "# Printing some features from df_clean. First 10 rows.\n",
    "df_eda[['to_messages','from_messages','ratio_salary_total_payments', 'total_income','ratio_stock_total_payments']].head(10)"
   ]
  },
  {
   "cell_type": "markdown",
   "metadata": {},
   "source": [
    "I have noticed the necessity to convert the `NaN` values to zero. The function `str_nan_to_0` will deal with the string one."
   ]
  },
  {
   "cell_type": "code",
   "execution_count": 39,
   "metadata": {},
   "outputs": [],
   "source": [
    "def str_nan_to_0(df, variable):\n",
    "    \"\"\"\n",
    "    +--------------------------------------------------------------------------------------------------+\n",
    "    |DESCRIPTION:                                                                                      |\n",
    "    |                                                                                                  |\n",
    "    |    This function converts the string NaN to zero.                                                |\n",
    "    |                                                                                                  |\n",
    "    +--------------------------------------------------------------------------------------------------+\n",
    "    |INPUT:                                                                                            |\n",
    "    |                                                                                                  |\n",
    "    |    VARIABLE:                                                                                     |\n",
    "    |                                                                                                  |\n",
    "    |    df: Dataframe to perform the conversion.                                                      |\n",
    "    |                                                                                                  |\n",
    "    |    variable: The columns name to be converted.                                                   |\n",
    "    |                                                                                                  |\n",
    "    +--------------------------------------------------------------------------------------------------+\n",
    "    |OUTPUT:                                                                                           |\n",
    "    |                                                                                                  |\n",
    "    |    VARIABLE:                                                                                     |\n",
    "    |                                                                                                  |\n",
    "    |    df: Dataframe with the converted columns.                                                     |\n",
    "    |                                                                                                  |\n",
    "    +--------------------------------------------------------------------------------------------------+\n",
    "    \"\"\"\n",
    "    # Temporaly list\n",
    "    temp = []\n",
    "\n",
    "    # When the NaN is a string.\n",
    "    # Loop to fix the NaN values.\n",
    "    for index in df[variable]:\n",
    "        if index == 'NaN':\n",
    "            temp.append(0)\n",
    "        else:\n",
    "            temp.append(float(index))\n",
    "            \n",
    "    # Updatind the columns with NaN with list with 0.\n",
    "    df[variable] = temp\n",
    "    \n",
    "    return df"
   ]
  },
  {
   "cell_type": "markdown",
   "metadata": {},
   "source": [
    "Let's convert all the `NaN` to zero."
   ]
  },
  {
   "cell_type": "code",
   "execution_count": 40,
   "metadata": {},
   "outputs": [],
   "source": [
    "# Loop to convert all columns from df_eda.\n",
    "for index in df_eda:\n",
    "    # These two features do not need this conversion.\n",
    "    if index in ['email_address']:\n",
    "        continue\n",
    "    else:\n",
    "        # Convert String NaN to 0.\n",
    "        str_nan_to_0(df = df_eda, variable = index);\n",
    "        \n",
    "        # Convert float NaN to 0.\n",
    "        df_eda[index] = df_eda[index].fillna(0)"
   ]
  },
  {
   "cell_type": "code",
   "execution_count": 41,
   "metadata": {},
   "outputs": [],
   "source": [
    "# Saving the dataset in dictionary type.\n",
    "dict_eda = df_eda.to_dict(orient = 'index')"
   ]
  },
  {
   "cell_type": "markdown",
   "metadata": {},
   "source": [
    "### 3.3. `featureFormat` and `targetFeatureSplit`\n",
    "\n",
    "These two functions are given from the project template. I have coded a function to bundle them."
   ]
  },
  {
   "cell_type": "code",
   "execution_count": 42,
   "metadata": {},
   "outputs": [],
   "source": [
    "# Following the instructions.\n",
    "my_dataset = dict_eda\n",
    "\n",
    "# This is\n",
    "def wrapper_featureformatsplit(my_dataset, features_list):\n",
    "    \"\"\"\n",
    "    +--------------------------------------------------------------------------------------------------+\n",
    "    |DESCRIPTION:                                                                                      |\n",
    "    |                                                                                                  |\n",
    "    |    This function runs two scripts: featureFormat and targetFeatureSplit.                         |\n",
    "    |                                                                                                  |\n",
    "    +--------------------------------------------------------------------------------------------------+\n",
    "    |INPUT:                                                                                            |\n",
    "    |                                                                                                  |\n",
    "    |    VARIABLE:                                                                                     |\n",
    "    |                                                                                                  |\n",
    "    |    my_dataset: This is a dictionary.                                                             |\n",
    "    |                                                                                                  |\n",
    "    |    features_list: List of variable to be gathered from my_dataset.                               |\n",
    "    |                                                                                                  |\n",
    "    +--------------------------------------------------------------------------------------------------+\n",
    "    |OUTPUT:                                                                                           |\n",
    "    |                                                                                                  |\n",
    "    |    VARIABLE:                                                                                     |\n",
    "    |                                                                                                  |\n",
    "    |    labels: This is the POI feature from my_dataset.                                              |\n",
    "    |                                                                                                  |\n",
    "    |    features: This is an array with the features_list values.                                     |\n",
    "    |                                                                                                  |\n",
    "    +--------------------------------------------------------------------------------------------------+\n",
    "    \"\"\"\n",
    "    # Creating data ACCORDING to the features_list, which is input of targetFeatureSplit.\n",
    "    data = featureFormat(my_dataset, features_list, sort_keys = True)\n",
    "\n",
    "    # Using data to create labels and features.\n",
    "    labels, features = targetFeatureSplit(data)\n",
    "    \n",
    "    # Returning the labels and features.\n",
    "    return labels, features"
   ]
  },
  {
   "cell_type": "code",
   "execution_count": 43,
   "metadata": {},
   "outputs": [],
   "source": [
    "# Using the defined wrapper_feat_form_split function.\n",
    "labels, features = wrapper_featureformatsplit(my_dataset, original_feat)"
   ]
  },
  {
   "cell_type": "markdown",
   "metadata": {},
   "source": [
    "The `labels` are the values `POI` and `non-POI`. This is what I want to predict."
   ]
  },
  {
   "cell_type": "code",
   "execution_count": 44,
   "metadata": {},
   "outputs": [
    {
     "data": {
      "text/plain": [
       "[0.0, 0.0, 0.0, 0.0, 0.0]"
      ]
     },
     "execution_count": 44,
     "metadata": {},
     "output_type": "execute_result"
    }
   ],
   "source": [
    "# Printing the first labels.\n",
    "labels[:5]"
   ]
  },
  {
   "cell_type": "markdown",
   "metadata": {},
   "source": [
    "The feature is a numpy array where most of the variables from `dict_eda` are stored in a list.\n",
    "\n",
    "$$features = [observation_1, \\dots, observation_n]$$\n",
    "\n",
    "Where:\n",
    "\n",
    "$$observation_1 = [variable_1, variable_2, \\dots, variable_{m}] $$"
   ]
  },
  {
   "cell_type": "code",
   "execution_count": 45,
   "metadata": {},
   "outputs": [
    {
     "data": {
      "text/plain": [
       "array([ 4.175000e+06,  2.869717e+06, -3.081055e+06,  0.000000e+00,\n",
       "        1.729541e+06,  1.386800e+04,  2.195000e+03,  4.700000e+01,\n",
       "        6.500000e+01,  0.000000e+00,  3.048050e+05,  1.520000e+02,\n",
       "        1.260270e+05, -1.260270e+05,  2.019550e+05,  1.407000e+03,\n",
       "        2.902000e+03,  4.484442e+06,  1.729541e+06])"
      ]
     },
     "execution_count": 45,
     "metadata": {},
     "output_type": "execute_result"
    }
   ],
   "source": [
    "# Printing the first row of features.\n",
    "features[0]"
   ]
  },
  {
   "cell_type": "markdown",
   "metadata": {},
   "source": [
    "### 3.3. Feature Scaling <a id='scaling'></a>\n",
    "\n",
    "Due to the financial values varying from zero to a million dollar, these values could be dominant over the number of emails. For this reason, it is necessary to scale all the features. I will use the `MinMaxScaler` because this is the one used during the class."
   ]
  },
  {
   "cell_type": "code",
   "execution_count": 46,
   "metadata": {},
   "outputs": [],
   "source": [
    "# Function to scale.\n",
    "def feat_scale(feat):\n",
    "    \"\"\"\n",
    "    +--------------------------------------------------------------------------------------------------+\n",
    "    |DESCRIPTION:                                                                                      |\n",
    "    |                                                                                                  |\n",
    "    |    Scale the matrix using the MinMaxScaler module from Scikit Learn.                             |\n",
    "    |                                                                                                  |\n",
    "    +--------------------------------------------------------------------------------------------------+\n",
    "    |INPUT:                                                                                            |\n",
    "    |                                                                                                  |\n",
    "    |    VARIABLE:                                                                                     |\n",
    "    |                                                                                                  |\n",
    "    |    feat: Matrix/DataFrame to be scaled.                                                          |\n",
    "    |                                                                                                  |\n",
    "    +--------------------------------------------------------------------------------------------------+\n",
    "    |OUTPUT:                                                                                           |\n",
    "    |                                                                                                  |\n",
    "    |    VARIABLE:                                                                                     |\n",
    "    |                                                                                                  |\n",
    "    |    feat: Scaled dataframe.                                                                       |\n",
    "    |                                                                                                  |\n",
    "    +--------------------------------------------------------------------------------------------------+\n",
    "    \"\"\"\n",
    "    # Importing library.\n",
    "    from sklearn.preprocessing import MinMaxScaler\n",
    "\n",
    "    # Creating the classifier to scale.\n",
    "    #scaler = MinMaxScaler()\n",
    "    scaler = MinMaxScaler(feature_range=(-1, 1))\n",
    "\n",
    "    \n",
    "    # Fitting the classifier.\n",
    "    scaler.fit(feat)\n",
    "\n",
    "    # Transform the data. It means: Scale the data.\n",
    "    feat = scaler.transform(feat)\n",
    "\n",
    "    # Printing the scaled data.\n",
    "    return feat"
   ]
  },
  {
   "cell_type": "code",
   "execution_count": 47,
   "metadata": {},
   "outputs": [
    {
     "data": {
      "text/plain": [
       "array([ 0.04375   , -0.0896021 , -0.75839933, -1.        , -0.89929419,\n",
       "       -0.87875662, -0.69445991, -0.8219697 , -0.7865353 , -1.        ,\n",
       "       -0.88152409, -0.99997066, -0.68553633, -0.80730865, -0.63652905,\n",
       "       -0.49030973, -0.6168724 , -0.91339415, -0.92783384])"
      ]
     },
     "execution_count": 47,
     "metadata": {},
     "output_type": "execute_result"
    }
   ],
   "source": [
    "# Scaling the features dataframe.\n",
    "features = feat_scale(features)\n",
    "\n",
    "# Printing the first row of features.\n",
    "features[0]"
   ]
  },
  {
   "cell_type": "markdown",
   "metadata": {},
   "source": [
    "### 3.4. Feature Selection <a id='selection'></a>\n",
    "\n",
    "Due to the several features available, I have decided to use the `SelectKBest` from Scikit Learn package to perform the Feature Selection.\n",
    "\n",
    "The reasons to opt to feature selection:\n",
    "\n",
    "* Reduce the overfitting, and;\n",
    "* Reduce the computational processing time due to a simpler model, it also provides an easier model to interpret.\n",
    "\n",
    "_Read more about it in this reference:_ [Feature Selection][lasso]\n",
    "\n",
    "[lasso]: https://beta.vu.nl/nl/Images/werkstuk-fonti_tcm235-836234.pdf\n",
    "\n",
    "The function below has calculated the \"K Best Features\"."
   ]
  },
  {
   "cell_type": "code",
   "execution_count": 48,
   "metadata": {},
   "outputs": [],
   "source": [
    "# General purpose function.\n",
    "def feat_selection(k , feat, lab, feat_list, f_classif = 'f_classif'):\n",
    "    \"\"\"\n",
    "    Performs the SelectionKBest from a given feat and lab.\n",
    "    \n",
    "    Uses the f_classif to rank/score the features.\n",
    "    \"\"\"\n",
    "    # Importing the modules SelectKBest and f_classif\n",
    "    from sklearn.feature_selection import SelectKBest, f_classif\n",
    "\n",
    "    # Creating the classifier.\n",
    "    selector = SelectKBest(f_classif, k = k)\n",
    "\n",
    "    # Fitting the data.\n",
    "    selector.fit(feat, lab)\n",
    "\n",
    "    # Printing the scores.\n",
    "    selector.scores_ \n",
    "    \n",
    "    # Create a DataFrame to ease the Comparison.\n",
    "    comparison = pd.DataFrame(zip(feat_list[1:],selector.scores_,selector.pvalues_), columns = ['feature','scores','p_values'])\n",
    "    \n",
    "    # Sorting the DataFrame by scores.\n",
    "    comparison.sort_values('scores', ascending = False, inplace = True)\n",
    "    \n",
    "    # Multiple values to return.\n",
    "    return comparison"
   ]
  },
  {
   "cell_type": "markdown",
   "metadata": {},
   "source": [
    "I have used, for this example, all features available from `data_dict`.\n",
    "\n",
    "The `wrapper_featureformatsplit` function has created labels and features."
   ]
  },
  {
   "cell_type": "code",
   "execution_count": 49,
   "metadata": {},
   "outputs": [],
   "source": [
    "# Creating the label vector and features dataframe.\n",
    "lab_original, feat_original = wrapper_featureformatsplit(my_dataset = my_dataset, features_list = original_feat)"
   ]
  },
  {
   "cell_type": "markdown",
   "metadata": {},
   "source": [
    "##### Original Features"
   ]
  },
  {
   "cell_type": "code",
   "execution_count": 50,
   "metadata": {},
   "outputs": [
    {
     "data": {
      "text/plain": [
       "['poi',\n",
       " 'bonus',\n",
       " 'deferral_payments',\n",
       " 'deferred_income',\n",
       " 'director_fees',\n",
       " 'exercised_stock_options',\n",
       " 'expenses',\n",
       " 'from_messages',\n",
       " 'from_poi_to_this_person',\n",
       " 'from_this_person_to_poi',\n",
       " 'loan_advances',\n",
       " 'long_term_incentive',\n",
       " 'other',\n",
       " 'restricted_stock',\n",
       " 'restricted_stock_deferred',\n",
       " 'salary',\n",
       " 'shared_receipt_with_poi',\n",
       " 'to_messages',\n",
       " 'total_payments',\n",
       " 'total_stock_value']"
      ]
     },
     "execution_count": 50,
     "metadata": {},
     "output_type": "execute_result"
    }
   ],
   "source": [
    "# Original features.\n",
    "original_feat"
   ]
  },
  {
   "cell_type": "code",
   "execution_count": 51,
   "metadata": {},
   "outputs": [
    {
     "data": {
      "text/html": [
       "<div>\n",
       "<style scoped>\n",
       "    .dataframe tbody tr th:only-of-type {\n",
       "        vertical-align: middle;\n",
       "    }\n",
       "\n",
       "    .dataframe tbody tr th {\n",
       "        vertical-align: top;\n",
       "    }\n",
       "\n",
       "    .dataframe thead th {\n",
       "        text-align: right;\n",
       "    }\n",
       "</style>\n",
       "<table border=\"1\" class=\"dataframe\">\n",
       "  <thead>\n",
       "    <tr style=\"text-align: right;\">\n",
       "      <th></th>\n",
       "      <th>feature</th>\n",
       "      <th>scores</th>\n",
       "      <th>p_values</th>\n",
       "    </tr>\n",
       "  </thead>\n",
       "  <tbody>\n",
       "    <tr>\n",
       "      <th>4</th>\n",
       "      <td>exercised_stock_options</td>\n",
       "      <td>24.815080</td>\n",
       "      <td>0.000002</td>\n",
       "    </tr>\n",
       "    <tr>\n",
       "      <th>18</th>\n",
       "      <td>total_stock_value</td>\n",
       "      <td>24.182899</td>\n",
       "      <td>0.000002</td>\n",
       "    </tr>\n",
       "    <tr>\n",
       "      <th>0</th>\n",
       "      <td>bonus</td>\n",
       "      <td>20.792252</td>\n",
       "      <td>0.000011</td>\n",
       "    </tr>\n",
       "    <tr>\n",
       "      <th>14</th>\n",
       "      <td>salary</td>\n",
       "      <td>18.289684</td>\n",
       "      <td>0.000035</td>\n",
       "    </tr>\n",
       "    <tr>\n",
       "      <th>2</th>\n",
       "      <td>deferred_income</td>\n",
       "      <td>11.458477</td>\n",
       "      <td>0.000922</td>\n",
       "    </tr>\n",
       "    <tr>\n",
       "      <th>10</th>\n",
       "      <td>long_term_incentive</td>\n",
       "      <td>9.922186</td>\n",
       "      <td>0.001994</td>\n",
       "    </tr>\n",
       "    <tr>\n",
       "      <th>12</th>\n",
       "      <td>restricted_stock</td>\n",
       "      <td>9.212811</td>\n",
       "      <td>0.002863</td>\n",
       "    </tr>\n",
       "    <tr>\n",
       "      <th>17</th>\n",
       "      <td>total_payments</td>\n",
       "      <td>8.772778</td>\n",
       "      <td>0.003589</td>\n",
       "    </tr>\n",
       "    <tr>\n",
       "      <th>15</th>\n",
       "      <td>shared_receipt_with_poi</td>\n",
       "      <td>8.589421</td>\n",
       "      <td>0.003946</td>\n",
       "    </tr>\n",
       "    <tr>\n",
       "      <th>9</th>\n",
       "      <td>loan_advances</td>\n",
       "      <td>7.184056</td>\n",
       "      <td>0.008232</td>\n",
       "    </tr>\n",
       "    <tr>\n",
       "      <th>5</th>\n",
       "      <td>expenses</td>\n",
       "      <td>6.094173</td>\n",
       "      <td>0.014758</td>\n",
       "    </tr>\n",
       "    <tr>\n",
       "      <th>7</th>\n",
       "      <td>from_poi_to_this_person</td>\n",
       "      <td>5.243450</td>\n",
       "      <td>0.023514</td>\n",
       "    </tr>\n",
       "    <tr>\n",
       "      <th>11</th>\n",
       "      <td>other</td>\n",
       "      <td>4.187478</td>\n",
       "      <td>0.042582</td>\n",
       "    </tr>\n",
       "  </tbody>\n",
       "</table>\n",
       "</div>"
      ],
      "text/plain": [
       "                    feature     scores  p_values\n",
       "4   exercised_stock_options  24.815080  0.000002\n",
       "18        total_stock_value  24.182899  0.000002\n",
       "0                     bonus  20.792252  0.000011\n",
       "14                   salary  18.289684  0.000035\n",
       "2           deferred_income  11.458477  0.000922\n",
       "10      long_term_incentive   9.922186  0.001994\n",
       "12         restricted_stock   9.212811  0.002863\n",
       "17           total_payments   8.772778  0.003589\n",
       "15  shared_receipt_with_poi   8.589421  0.003946\n",
       "9             loan_advances   7.184056  0.008232\n",
       "5                  expenses   6.094173  0.014758\n",
       "7   from_poi_to_this_person   5.243450  0.023514\n",
       "11                    other   4.187478  0.042582"
      ]
     },
     "execution_count": 51,
     "metadata": {},
     "output_type": "execute_result"
    }
   ],
   "source": [
    "# Using the function feat_selection() and show the first 5 best scored variables.\n",
    "feat_sel_results = feat_selection(k = 'all', feat = feat_original, lab = lab_original, feat_list = original_feat)\n",
    "\n",
    "# Printing.\n",
    "feat_sel_results.query('p_values < 0.05')"
   ]
  },
  {
   "cell_type": "markdown",
   "metadata": {},
   "source": [
    "I have configured the `SelectKBest` to use the `f_classif`, which means I want to calculate the ANOVA (Analysis of Variance) to rank the features.\n",
    "\n",
    "$$\\text{F value} = \\frac{\\text{Mean Square Between}}{\\text{Mean Squared Error}}$$\n",
    "\n",
    "Where: `F values` is the same of `scores`.\n",
    "\n",
    "The Hypothesis test behind the scenes is:\n",
    "\n",
    ">Is the variance between the means of two populations significantly different?\n",
    "\n",
    "<img src=\"01-img/f-table.jpg\">\n",
    "\n",
    "<center><em>Figure 1 - F-distribution example.</em></center>\n",
    "\n",
    "[Source][statisticshowto]\n",
    "\n",
    "[statisticshowto]: https://www.statisticshowto.datasciencecentral.com/probability-and-statistics/f-statistic-value-test/"
   ]
  },
  {
   "cell_type": "code",
   "execution_count": 52,
   "metadata": {},
   "outputs": [
    {
     "data": {
      "image/png": "[encoded data removed]",
      "text/plain": [
       "<Figure size 1008x432 with 1 Axes>"
      ]
     },
     "metadata": {
      "needs_background": "light"
     },
     "output_type": "display_data"
    }
   ],
   "source": [
    "# Adding the hue to be comparable to the next graphic.\n",
    "feat_sel_results['hue'] = 'Original'\n",
    "\n",
    "# Ploting the graphic.\n",
    "plt.figure(figsize = [14, 6])\n",
    "ax = sns.barplot(x = feat_sel_results.query('p_values < 0.05').feature,\n",
    "                 y = feat_sel_results.query('p_values < 0.05').scores,\n",
    "                 hue = feat_sel_results.hue);\n",
    "plt.title('Graphic 6 - Original variables with p-values lower than 5% excluding Engineered Features.', fontsize = 20)\n",
    "plt.ylabel('Score', fontsize = 14)\n",
    "plt.xlabel('Features', fontsize = 14)\n",
    "plt.legend();\n",
    "plt.setp(ax.get_xticklabels(), rotation=45,  # 45 degrees labels on X axis\n",
    "         ha=\"right\", rotation_mode=\"anchor\")\n",
    "plt.show()"
   ]
  },
  {
   "cell_type": "markdown",
   "metadata": {},
   "source": [
    "Assuming the $\\alpha$ equal to 0.05, there are 13 features with p-values lower than $\\alpha$, which means when adding these features its somehow changes the output (there is statistical significance).\n",
    "\n",
    "I have adopted a strategy to remove some features with greater potential to insert Data Leakage the model.\n",
    "\n",
    "* Features with `nan` proportion lower than 0.4, and;\n",
    "* Features with `p_values` lower than $\\alpha$ (0.05)."
   ]
  },
  {
   "cell_type": "code",
   "execution_count": 53,
   "metadata": {
    "scrolled": true
   },
   "outputs": [
    {
     "data": {
      "text/html": [
       "<div>\n",
       "<style scoped>\n",
       "    .dataframe tbody tr th:only-of-type {\n",
       "        vertical-align: middle;\n",
       "    }\n",
       "\n",
       "    .dataframe tbody tr th {\n",
       "        vertical-align: top;\n",
       "    }\n",
       "\n",
       "    .dataframe thead th {\n",
       "        text-align: right;\n",
       "    }\n",
       "</style>\n",
       "<table border=\"1\" class=\"dataframe\">\n",
       "  <thead>\n",
       "    <tr style=\"text-align: right;\">\n",
       "      <th></th>\n",
       "      <th>scores</th>\n",
       "      <th>p_values</th>\n",
       "      <th>nan</th>\n",
       "    </tr>\n",
       "  </thead>\n",
       "  <tbody>\n",
       "    <tr>\n",
       "      <th>exercised_stock_options</th>\n",
       "      <td>24.815080</td>\n",
       "      <td>0.000002</td>\n",
       "      <td>0.30</td>\n",
       "    </tr>\n",
       "    <tr>\n",
       "      <th>total_stock_value</th>\n",
       "      <td>24.182899</td>\n",
       "      <td>0.000002</td>\n",
       "      <td>0.14</td>\n",
       "    </tr>\n",
       "    <tr>\n",
       "      <th>salary</th>\n",
       "      <td>18.289684</td>\n",
       "      <td>0.000035</td>\n",
       "      <td>0.35</td>\n",
       "    </tr>\n",
       "    <tr>\n",
       "      <th>restricted_stock</th>\n",
       "      <td>9.212811</td>\n",
       "      <td>0.002863</td>\n",
       "      <td>0.25</td>\n",
       "    </tr>\n",
       "    <tr>\n",
       "      <th>total_payments</th>\n",
       "      <td>8.772778</td>\n",
       "      <td>0.003589</td>\n",
       "      <td>0.14</td>\n",
       "    </tr>\n",
       "    <tr>\n",
       "      <th>expenses</th>\n",
       "      <td>6.094173</td>\n",
       "      <td>0.014758</td>\n",
       "      <td>0.35</td>\n",
       "    </tr>\n",
       "    <tr>\n",
       "      <th>other</th>\n",
       "      <td>4.187478</td>\n",
       "      <td>0.042582</td>\n",
       "      <td>0.36</td>\n",
       "    </tr>\n",
       "  </tbody>\n",
       "</table>\n",
       "</div>"
      ],
      "text/plain": [
       "                            scores  p_values   nan\n",
       "exercised_stock_options  24.815080  0.000002  0.30\n",
       "total_stock_value        24.182899  0.000002  0.14\n",
       "salary                   18.289684  0.000035  0.35\n",
       "restricted_stock          9.212811  0.002863  0.25\n",
       "total_payments            8.772778  0.003589  0.14\n",
       "expenses                  6.094173  0.014758  0.35\n",
       "other                     4.187478  0.042582  0.36"
      ]
     },
     "execution_count": 53,
     "metadata": {},
     "output_type": "execute_result"
    }
   ],
   "source": [
    "# Copying.\n",
    "original_feature = feat_sel_results.copy()\n",
    "\n",
    "# Defining new index names.\n",
    "original_feature.index = original_feature.feature.tolist()\n",
    "\n",
    "# Dropping the features columns.\n",
    "original_feature.drop(columns = ['feature', 'hue'], inplace = True)\n",
    "\n",
    "# Merging and filtering\n",
    "original_feature = original_feature.join(nan_proportion[1:]).query('nan < .40').query('p_values < 0.05')\n",
    "\n",
    "original_feature"
   ]
  },
  {
   "cell_type": "markdown",
   "metadata": {},
   "source": [
    "The set of features selected using only original features are seven (excluding the `poi`):\n",
    "\n",
    "* poi;\n",
    "* exercised_stock_options;\n",
    "* total_stock_value;\n",
    "* salary;\n",
    "* restricted_stock;\n",
    "* total_payments;\n",
    "* expenses, and;\n",
    "* other."
   ]
  },
  {
   "cell_type": "markdown",
   "metadata": {},
   "source": [
    "##### Original plus Engineered Features"
   ]
  },
  {
   "cell_type": "markdown",
   "metadata": {},
   "source": [
    "Let's use the `SelectedKBest` but now using all features (original and the engineered features)."
   ]
  },
  {
   "cell_type": "code",
   "execution_count": 54,
   "metadata": {},
   "outputs": [
    {
     "data": {
      "text/plain": [
       "['poi',\n",
       " 'bonus',\n",
       " 'deferral_payments',\n",
       " 'deferred_income',\n",
       " 'director_fees',\n",
       " 'exercised_stock_options',\n",
       " 'expenses',\n",
       " 'from_messages',\n",
       " 'from_poi_to_this_person',\n",
       " 'from_this_person_to_poi',\n",
       " 'loan_advances',\n",
       " 'long_term_incentive',\n",
       " 'other',\n",
       " 'restricted_stock',\n",
       " 'restricted_stock_deferred',\n",
       " 'salary',\n",
       " 'shared_receipt_with_poi',\n",
       " 'to_messages',\n",
       " 'total_payments',\n",
       " 'total_stock_value',\n",
       " 'ratio_salary_total_payments',\n",
       " 'total_income',\n",
       " 'ratio_stock_total_payments']"
      ]
     },
     "execution_count": 54,
     "metadata": {},
     "output_type": "execute_result"
    }
   ],
   "source": [
    "# Adding to the original_feat list the engineered features.\n",
    "complete_feat = original_feat + engineered_features\n",
    "\n",
    "# Printing.\n",
    "complete_feat"
   ]
  },
  {
   "cell_type": "markdown",
   "metadata": {},
   "source": [
    "Creating the labels and features using the wrapper function."
   ]
  },
  {
   "cell_type": "code",
   "execution_count": 55,
   "metadata": {},
   "outputs": [],
   "source": [
    "# Creating the label vector and features dataframe.\n",
    "lab_complete, feat_complete = wrapper_featureformatsplit(my_dataset = my_dataset, features_list = complete_feat)"
   ]
  },
  {
   "cell_type": "markdown",
   "metadata": {},
   "source": [
    "Calculating the `scores`."
   ]
  },
  {
   "cell_type": "code",
   "execution_count": 56,
   "metadata": {},
   "outputs": [
    {
     "data": {
      "text/html": [
       "<div>\n",
       "<style scoped>\n",
       "    .dataframe tbody tr th:only-of-type {\n",
       "        vertical-align: middle;\n",
       "    }\n",
       "\n",
       "    .dataframe tbody tr th {\n",
       "        vertical-align: top;\n",
       "    }\n",
       "\n",
       "    .dataframe thead th {\n",
       "        text-align: right;\n",
       "    }\n",
       "</style>\n",
       "<table border=\"1\" class=\"dataframe\">\n",
       "  <thead>\n",
       "    <tr style=\"text-align: right;\">\n",
       "      <th></th>\n",
       "      <th>feature</th>\n",
       "      <th>scores</th>\n",
       "      <th>p_values</th>\n",
       "    </tr>\n",
       "  </thead>\n",
       "  <tbody>\n",
       "    <tr>\n",
       "      <th>4</th>\n",
       "      <td>exercised_stock_options</td>\n",
       "      <td>24.815080</td>\n",
       "      <td>0.000002</td>\n",
       "    </tr>\n",
       "    <tr>\n",
       "      <th>18</th>\n",
       "      <td>total_stock_value</td>\n",
       "      <td>24.182899</td>\n",
       "      <td>0.000002</td>\n",
       "    </tr>\n",
       "    <tr>\n",
       "      <th>0</th>\n",
       "      <td>bonus</td>\n",
       "      <td>20.792252</td>\n",
       "      <td>0.000011</td>\n",
       "    </tr>\n",
       "    <tr>\n",
       "      <th>14</th>\n",
       "      <td>salary</td>\n",
       "      <td>18.289684</td>\n",
       "      <td>0.000035</td>\n",
       "    </tr>\n",
       "    <tr>\n",
       "      <th>20</th>\n",
       "      <td>total_income</td>\n",
       "      <td>17.808791</td>\n",
       "      <td>0.000044</td>\n",
       "    </tr>\n",
       "    <tr>\n",
       "      <th>2</th>\n",
       "      <td>deferred_income</td>\n",
       "      <td>11.458477</td>\n",
       "      <td>0.000922</td>\n",
       "    </tr>\n",
       "    <tr>\n",
       "      <th>10</th>\n",
       "      <td>long_term_incentive</td>\n",
       "      <td>9.922186</td>\n",
       "      <td>0.001994</td>\n",
       "    </tr>\n",
       "    <tr>\n",
       "      <th>12</th>\n",
       "      <td>restricted_stock</td>\n",
       "      <td>9.212811</td>\n",
       "      <td>0.002863</td>\n",
       "    </tr>\n",
       "    <tr>\n",
       "      <th>17</th>\n",
       "      <td>total_payments</td>\n",
       "      <td>8.772778</td>\n",
       "      <td>0.003589</td>\n",
       "    </tr>\n",
       "    <tr>\n",
       "      <th>15</th>\n",
       "      <td>shared_receipt_with_poi</td>\n",
       "      <td>8.589421</td>\n",
       "      <td>0.003946</td>\n",
       "    </tr>\n",
       "    <tr>\n",
       "      <th>9</th>\n",
       "      <td>loan_advances</td>\n",
       "      <td>7.184056</td>\n",
       "      <td>0.008232</td>\n",
       "    </tr>\n",
       "    <tr>\n",
       "      <th>5</th>\n",
       "      <td>expenses</td>\n",
       "      <td>6.094173</td>\n",
       "      <td>0.014758</td>\n",
       "    </tr>\n",
       "    <tr>\n",
       "      <th>7</th>\n",
       "      <td>from_poi_to_this_person</td>\n",
       "      <td>5.243450</td>\n",
       "      <td>0.023514</td>\n",
       "    </tr>\n",
       "    <tr>\n",
       "      <th>11</th>\n",
       "      <td>other</td>\n",
       "      <td>4.187478</td>\n",
       "      <td>0.042582</td>\n",
       "    </tr>\n",
       "  </tbody>\n",
       "</table>\n",
       "</div>"
      ],
      "text/plain": [
       "                    feature     scores  p_values\n",
       "4   exercised_stock_options  24.815080  0.000002\n",
       "18        total_stock_value  24.182899  0.000002\n",
       "0                     bonus  20.792252  0.000011\n",
       "14                   salary  18.289684  0.000035\n",
       "20             total_income  17.808791  0.000044\n",
       "2           deferred_income  11.458477  0.000922\n",
       "10      long_term_incentive   9.922186  0.001994\n",
       "12         restricted_stock   9.212811  0.002863\n",
       "17           total_payments   8.772778  0.003589\n",
       "15  shared_receipt_with_poi   8.589421  0.003946\n",
       "9             loan_advances   7.184056  0.008232\n",
       "5                  expenses   6.094173  0.014758\n",
       "7   from_poi_to_this_person   5.243450  0.023514\n",
       "11                    other   4.187478  0.042582"
      ]
     },
     "execution_count": 56,
     "metadata": {},
     "output_type": "execute_result"
    }
   ],
   "source": [
    "# Using the function feat_selection() and show the first 5 best scored variables.\n",
    "feat_sel_results_complete = feat_selection(k = 'all', feat = feat_complete, lab = lab_complete, feat_list = complete_feat)\n",
    "\n",
    "# Printing.\n",
    "feat_sel_results_complete.query('p_values < 0.05')"
   ]
  },
  {
   "cell_type": "code",
   "execution_count": 57,
   "metadata": {},
   "outputs": [
    {
     "data": {
      "image/png": "[encoded data removed]",
      "text/plain": [
       "<Figure size 1008x432 with 1 Axes>"
      ]
     },
     "metadata": {
      "needs_background": "light"
     },
     "output_type": "display_data"
    }
   ],
   "source": [
    "# Adding a new columns to use as hue in the graphic.\n",
    "\n",
    "# Temporaly variable only to store if this is a feature engineered or not.\n",
    "my_hue = []\n",
    "\n",
    "# Loop to check it.\n",
    "for feat_name in feat_sel_results_complete.feature:\n",
    "    if feat_name in engineered_features:\n",
    "        my_hue.append('Created')\n",
    "    else:\n",
    "        my_hue.append('Original')\n",
    "\n",
    "feat_sel_results_complete['hue'] = my_hue\n",
    "        \n",
    "# Ploting the graphic.\n",
    "plt.figure(figsize = [14, 6])\n",
    "ax = sns.barplot(x = feat_sel_results_complete.query('p_values < 0.05').feature,\n",
    "                 y = feat_sel_results_complete.query('p_values < 0.05').scores,\n",
    "                 hue = feat_sel_results_complete.hue, dodge = False);\n",
    "plt.title('Graphic 7 - All Variables with p-values lower than 5% including Engineered Features.', fontsize = 20)\n",
    "plt.ylabel('Score', fontsize = 14)\n",
    "plt.xlabel('Features', fontsize = 14)\n",
    "plt.legend();\n",
    "plt.setp(ax.get_xticklabels(), rotation=45,  # 45 degrees labels on X axis\n",
    "         ha=\"right\", rotation_mode=\"anchor\")\n",
    "plt.show()"
   ]
  },
  {
   "cell_type": "markdown",
   "metadata": {},
   "source": [
    "Assuming the $\\alpha$ equal to 0.05, there are 14 features with p-values lower than $\\alpha$. One engineered features has aggregated."
   ]
  },
  {
   "cell_type": "code",
   "execution_count": 58,
   "metadata": {},
   "outputs": [
    {
     "data": {
      "text/html": [
       "<div>\n",
       "<style scoped>\n",
       "    .dataframe tbody tr th:only-of-type {\n",
       "        vertical-align: middle;\n",
       "    }\n",
       "\n",
       "    .dataframe tbody tr th {\n",
       "        vertical-align: top;\n",
       "    }\n",
       "\n",
       "    .dataframe thead th {\n",
       "        text-align: right;\n",
       "    }\n",
       "</style>\n",
       "<table border=\"1\" class=\"dataframe\">\n",
       "  <thead>\n",
       "    <tr style=\"text-align: right;\">\n",
       "      <th></th>\n",
       "      <th>scores</th>\n",
       "      <th>p_values</th>\n",
       "      <th>nan</th>\n",
       "    </tr>\n",
       "  </thead>\n",
       "  <tbody>\n",
       "    <tr>\n",
       "      <th>exercised_stock_options</th>\n",
       "      <td>24.815080</td>\n",
       "      <td>0.000002</td>\n",
       "      <td>0.29</td>\n",
       "    </tr>\n",
       "    <tr>\n",
       "      <th>total_stock_value</th>\n",
       "      <td>24.182899</td>\n",
       "      <td>0.000002</td>\n",
       "      <td>0.13</td>\n",
       "    </tr>\n",
       "    <tr>\n",
       "      <th>salary</th>\n",
       "      <td>18.289684</td>\n",
       "      <td>0.000035</td>\n",
       "      <td>0.34</td>\n",
       "    </tr>\n",
       "    <tr>\n",
       "      <th>total_income</th>\n",
       "      <td>17.808791</td>\n",
       "      <td>0.000044</td>\n",
       "      <td>0.25</td>\n",
       "    </tr>\n",
       "    <tr>\n",
       "      <th>restricted_stock</th>\n",
       "      <td>9.212811</td>\n",
       "      <td>0.002863</td>\n",
       "      <td>0.24</td>\n",
       "    </tr>\n",
       "    <tr>\n",
       "      <th>total_payments</th>\n",
       "      <td>8.772778</td>\n",
       "      <td>0.003589</td>\n",
       "      <td>0.14</td>\n",
       "    </tr>\n",
       "    <tr>\n",
       "      <th>expenses</th>\n",
       "      <td>6.094173</td>\n",
       "      <td>0.014758</td>\n",
       "      <td>0.34</td>\n",
       "    </tr>\n",
       "    <tr>\n",
       "      <th>other</th>\n",
       "      <td>4.187478</td>\n",
       "      <td>0.042582</td>\n",
       "      <td>0.36</td>\n",
       "    </tr>\n",
       "  </tbody>\n",
       "</table>\n",
       "</div>"
      ],
      "text/plain": [
       "                            scores  p_values   nan\n",
       "exercised_stock_options  24.815080  0.000002  0.29\n",
       "total_stock_value        24.182899  0.000002  0.13\n",
       "salary                   18.289684  0.000035  0.34\n",
       "total_income             17.808791  0.000044  0.25\n",
       "restricted_stock          9.212811  0.002863  0.24\n",
       "total_payments            8.772778  0.003589  0.14\n",
       "expenses                  6.094173  0.014758  0.34\n",
       "other                     4.187478  0.042582  0.36"
      ]
     },
     "execution_count": 58,
     "metadata": {},
     "output_type": "execute_result"
    }
   ],
   "source": [
    "# Initializing a dictionary to store the NaN proportion.\n",
    "nan_proportion_complete = dict()\n",
    "\n",
    "# Loop to create the proportion of NaN per variable.\n",
    "for index in df_eda.columns.tolist():\n",
    "    nan_proportion_complete[index] = round(sum(df_eda[index] == 0)/float(len(df_eda[index])), 2)\n",
    "    \n",
    "# Converting in pandas DataFrame.\n",
    "nan_proportion_complete = pd.DataFrame.from_dict(nan_proportion_complete, orient='index', columns = ['nan'])\n",
    "\n",
    "# Copying.\n",
    "complete_feature = feat_sel_results_complete.copy()\n",
    "\n",
    "# Defining new index names.\n",
    "complete_feature.index = complete_feature.feature.tolist()\n",
    "\n",
    "# Dropping the features columns.\n",
    "complete_feature.drop(columns = ['feature','hue'], inplace = True)\n",
    "\n",
    "# Merging and filtering\n",
    "complete_feature = complete_feature.join(nan_proportion_complete).query('p_values < 0.05').query('nan < 0.40')\n",
    "\n",
    "complete_feature"
   ]
  },
  {
   "cell_type": "markdown",
   "metadata": {},
   "source": [
    "The set of features selected using only original features are eight (excluding the `poi`):\n",
    "\n",
    "* poi;\n",
    "* exercised_stock_options;\n",
    "* total_stock_value;\n",
    "* salary;\n",
    "* total_income (engineered features);\n",
    "* restricted_stock;\n",
    "* total_payments;\n",
    "* expenses, and;\n",
    "* other.\n",
    "\n",
    "\n",
    "I have created two lists of features:\n",
    "\n",
    "* `features_significant_original`;\n",
    "    * Only original features with significance lower than 0.05 and `nan` lower than 0.40;\n",
    "* `features_significant_complete`;\n",
    "    * Original features plus engineered features with significance lower than 0.05 and `nan` lower than 0.40."
   ]
  },
  {
   "cell_type": "code",
   "execution_count": 59,
   "metadata": {},
   "outputs": [],
   "source": [
    "# Saving the lists of features.\n",
    "features_significant_original = ['poi'] + original_feature.index.tolist()\n",
    "features_significant_complete = ['poi'] + complete_feature.index.tolist()"
   ]
  },
  {
   "cell_type": "markdown",
   "metadata": {},
   "source": [
    "### Task 1 - Feature List <a id='task1'></a>\n",
    "\n",
    ">**Select what features you'll use.**"
   ]
  },
  {
   "cell_type": "code",
   "execution_count": 60,
   "metadata": {
    "scrolled": false
   },
   "outputs": [
    {
     "data": {
      "text/plain": [
       "['poi',\n",
       " 'exercised_stock_options',\n",
       " 'total_stock_value',\n",
       " 'salary',\n",
       " 'total_income',\n",
       " 'restricted_stock',\n",
       " 'total_payments',\n",
       " 'expenses',\n",
       " 'other']"
      ]
     },
     "execution_count": 60,
     "metadata": {},
     "output_type": "execute_result"
    }
   ],
   "source": [
    "# Definition of feature_list\n",
    "feature_list = features_significant_complete\n",
    "\n",
    "# Printing.\n",
    "feature_list"
   ]
  },
  {
   "cell_type": "markdown",
   "metadata": {},
   "source": [
    "Let's plot the correlation map for the `features_significant_original`."
   ]
  },
  {
   "cell_type": "code",
   "execution_count": 61,
   "metadata": {},
   "outputs": [],
   "source": [
    "# Creating a function to calculate the correlation between variables.\n",
    "def calc_correlation(df, feat_list):\n",
    "    \"\"\"\n",
    "    Calculates the correlation between variables from df DataFrame which is\n",
    "    in the feat_list.\n",
    "    \"\"\"\n",
    "    # Temporaly variable. List to store the columns values.\n",
    "    temp = []\n",
    "\n",
    "    # Loop to subset the dataframe.\n",
    "    for index in feat_list:\n",
    "        temp.append(df[index])\n",
    "\n",
    "    # Correlation Calculation.\n",
    "    return pd.DataFrame(np.corrcoef(temp), columns = feat_list, index = feat_list)"
   ]
  },
  {
   "cell_type": "code",
   "execution_count": 62,
   "metadata": {},
   "outputs": [],
   "source": [
    "# Creating a function to plot a heatmap.\n",
    "def heatmap(df_corr, title):\n",
    "    \"\"\"\n",
    "    Based on the df_corr (it is a list) creates a \"heatmap\" of correlations.\n",
    "    \"\"\"\n",
    "    plt.figure(figsize = [8,6])                  # Graph/Figure size\n",
    "    ax = sns.heatmap(df_corr, linewidth=0.5)     # Heatmap\n",
    "    ax.set_xticklabels(df_corr.index)            # X ticks labels\n",
    "    ax.set_yticklabels(df_corr.columns)          # Y ticks labels\n",
    "    plt.setp(ax.get_xticklabels(), rotation=45,  # 45 degrees labels on X axis\n",
    "             ha=\"right\", rotation_mode=\"anchor\")\n",
    "    plt.setp(ax.get_yticklabels(), rotation=0,   # 0 degree labels on Y axis\n",
    "             ha=\"right\", rotation_mode=\"anchor\")\n",
    "    plt.title(title,\n",
    "              fontsize = 20);\n",
    "    plt.show()"
   ]
  },
  {
   "cell_type": "code",
   "execution_count": 63,
   "metadata": {},
   "outputs": [
    {
     "data": {
      "image/png": "[encoded data removed]",
      "text/plain": [
       "<Figure size 576x432 with 2 Axes>"
      ]
     },
     "metadata": {
      "needs_background": "light"
     },
     "output_type": "display_data"
    }
   ],
   "source": [
    "# Priting the heatmap.\n",
    "heatmap(calc_correlation(df_eda, feat_list = features_significant_original[1:]),\n",
    "        title = \"Graphic 8a - Correlation Map - Original Features.\")"
   ]
  },
  {
   "cell_type": "code",
   "execution_count": 64,
   "metadata": {},
   "outputs": [
    {
     "data": {
      "image/png": "[encoded data removed]",
      "text/plain": [
       "<Figure size 576x432 with 2 Axes>"
      ]
     },
     "metadata": {
      "needs_background": "light"
     },
     "output_type": "display_data"
    }
   ],
   "source": [
    "# Priting the heatmap.\n",
    "heatmap(calc_correlation(df_eda, feat_list = feature_list[1:]),\n",
    "        title = \"Graphic 8b - Correlation Map - Original Features + Engineered Features.\")"
   ]
  },
  {
   "cell_type": "markdown",
   "metadata": {},
   "source": [
    "As you can see, there are variables with high correlation such as:\n",
    "\n",
    "* `exercised_stock_options` and `total_stock_value`, and;\n",
    "* `expenses`which do not have relationship with any variable."
   ]
  },
  {
   "cell_type": "markdown",
   "metadata": {},
   "source": [
    "#### 3.4.1. Evaluating the Classifiers <a id='classifier_evaluation'></a>\n",
    "\n",
    "Let's evaluate the lists of features `feature_list` and `features_significant_original` using standards configuration of several classifiers.\n",
    "\n",
    "The reason to do it is to make a sensible analysis of features selected to the final model.\n",
    "\n",
    "Have in mind, I have employed to this task the simplest way to divide a dataset into training and testing applying the `train_test_split` module from Scikit Learn. In future chapters, I will use more sophisticated methods to split the dataset according to the complex of the task and necessity."
   ]
  },
  {
   "cell_type": "markdown",
   "metadata": {},
   "source": [
    "I have created a function to bundle code lines because it could be repetitive."
   ]
  },
  {
   "cell_type": "code",
   "execution_count": 65,
   "metadata": {},
   "outputs": [],
   "source": [
    "# Function to create the dataset of features according to the features selected.\n",
    "def create_traintest(my_data_dict, feat_list):\n",
    "    \"\"\"\n",
    "    This function apply the function wrapper_featureformatsplit to create the\n",
    "    labels vector and features matrix, then scale it and finally create the training\n",
    "    and testing dataframes.\n",
    "    \"\"\"\n",
    "    from sklearn.model_selection import train_test_split\n",
    "    \n",
    "    # Create the Labels vector and Features Matrix.\n",
    "    lab, feat = wrapper_featureformatsplit(my_dataset = my_data_dict, features_list = feat_list)\n",
    "    \n",
    "    # Scaling the Feature Matrix due to the extreme values.\n",
    "    feat = feat_scale(feat)\n",
    "    \n",
    "    # Spliting the data into training and testing.\n",
    "    features_train, features_test, labels_train, labels_test = train_test_split(feat, lab, test_size=0.3, random_state=42)\n",
    "    \n",
    "    # Returning a list.\n",
    "    return features_train, features_test, labels_train, labels_test"
   ]
  },
  {
   "cell_type": "markdown",
   "metadata": {},
   "source": [
    "Unfortunately, I have not tuned/calibrated the classifier so I will use the regular/default values as a starter. This function is a straightforward way to evaluate each set of features."
   ]
  },
  {
   "cell_type": "code",
   "execution_count": 66,
   "metadata": {},
   "outputs": [],
   "source": [
    "def select_fit_evaluate(classifier, train_test_data):\n",
    "    \"\"\"\n",
    "    This function calculates the accuracy, recall, and precision given the training, testing\n",
    "    dataset, and classifier.\n",
    "    \"\"\"\n",
    "    # Unzipping the list from the create_traintest funciton.\n",
    "    feat_train, feat_test, lab_train, lab_test = train_test_data\n",
    "    \n",
    "    # List of Classifier and parameters.\n",
    "    list_class = {'ada':('ada', AdaBoostClassifier(n_estimators=100)),\n",
    "                  'svc':('svc', SVC(gamma='auto')),\n",
    "                  'tree':('tree', tree.DecisionTreeClassifier()),\n",
    "                  'gauss':('gauss', GaussianNB()),\n",
    "                  'knn':('knn', KNeighborsClassifier(n_neighbors=5)),\n",
    "                  'random':('rand', RandomForestClassifier(n_estimators = 100))}\n",
    "    \n",
    "    # Creating the Pipeline.\n",
    "    pipeline_ = Pipeline([list_class[classifier]])\n",
    "    \n",
    "    # Fitting.\n",
    "    pipeline_.fit(feat_train,lab_train)\n",
    "    \n",
    "    # Predicting.\n",
    "    pred_t = pipeline_.predict(np.array(feat_test))\n",
    "        \n",
    "    # Calculating the accuracy.\n",
    "    acc = accuracy_score(lab_test, pred_t)\n",
    "    \n",
    "    # Calculating the recall. It is an array of (recall non-POI, recall POI)\n",
    "    recall = recall_score(y_true = lab_test, y_pred = pred_t, average = None)\n",
    "\n",
    "    # Calculating the precision. It is an array of (precision non-POI, precision POI)\n",
    "    precision = precision_score(y_true = lab_test, y_pred = pred_t, average = None)\n",
    "    \n",
    "    # Return the accuracy.\n",
    "    return acc, recall.tolist(), precision.tolist()"
   ]
  },
  {
   "cell_type": "markdown",
   "metadata": {},
   "source": [
    "So far I have created 2 lists of features.\n",
    "\n",
    "* `features_significant_original`;\n",
    "* `feature_list`.\n",
    "\n",
    "However, I have used the opportunity to evaluate more two set of features:\n",
    "\n",
    "* `original_feat`: All 20 features from the original source;\n",
    "* `complete_feat`: All 20 features from the original source plus 3 Engineered Features;"
   ]
  },
  {
   "cell_type": "code",
   "execution_count": 67,
   "metadata": {},
   "outputs": [
    {
     "name": "stdout",
     "output_type": "stream",
     "text": [
      "features_significant_original 8\n",
      "feature_list 9\n",
      "original_feat 20\n",
      "complete_feat 23\n"
     ]
    }
   ],
   "source": [
    "# Considering the 'POI'.\n",
    "print \"features_significant_original\", len(features_significant_original)\n",
    "print \"feature_list\", len(feature_list)\n",
    "print \"original_feat\", len(original_feat)\n",
    "print \"complete_feat\", len(complete_feat)"
   ]
  },
  {
   "cell_type": "code",
   "execution_count": 68,
   "metadata": {},
   "outputs": [],
   "source": [
    "# All list I have created so far.\n",
    "all_list = [original_feat, complete_feat, features_significant_original, feature_list]"
   ]
  },
  {
   "cell_type": "markdown",
   "metadata": {},
   "source": [
    "The follow function will create a table of comparison of a given list of features."
   ]
  },
  {
   "cell_type": "code",
   "execution_count": 69,
   "metadata": {},
   "outputs": [],
   "source": [
    "# Creates a table of comparison.\n",
    "def comparison_metrics(classifier, list_of_list):\n",
    "    \"\"\"\n",
    "    Creates a dataframe with the values of accuracy, recall, and precision for all\n",
    "    set of features in list_of_list.\n",
    "    \"\"\"\n",
    "    import warnings\n",
    "    warnings.filterwarnings(\"ignore\")\n",
    "    \n",
    "    # Compute the time consuming.\n",
    "    import time\n",
    "    \n",
    "    # Tracking the time.\n",
    "    t_start = time.time()\n",
    "    \n",
    "    # Temporaly variables to store the values of accuracy, recall and precision.\n",
    "    acc = [] # Accuracy\n",
    "    recall = [] # recall from poi and non-poi\n",
    "    precision = [] # precision from poi and non-poi\n",
    "\n",
    "    # Loop to calculate for each list of features the accuracy, precision and recall.\n",
    "    for index in list_of_list:\n",
    "        # Unloading the values calculated by select_fit_evaluate function. \n",
    "        i_acc,\\\n",
    "        i_recall,\\\n",
    "        i_precision = select_fit_evaluate(classifier = classifier,\n",
    "                                          train_test_data = create_traintest(my_dataset,\n",
    "                                                                             feat_list = index))\n",
    "        \n",
    "        # Appending the values in the list.\n",
    "        acc.append(i_acc)\n",
    "        recall.append(i_recall)\n",
    "        precision.append(i_precision)\n",
    "\n",
    "    # Converting to DataFrame.\n",
    "    acc = pd.DataFrame(acc, columns = ['accuracy'])\n",
    "    recall = pd.DataFrame(recall, columns = ['recall_non_poi','recal_poi'])\n",
    "    precision = pd.DataFrame(precision, columns = ['precision_non_poi','precision_poi'])\n",
    "\n",
    "    # Merging.\n",
    "    comparison = acc.join(recall).join(precision)\n",
    "\n",
    "    # Renaming the rows.\n",
    "    comparison.index = ['original_feat','complete_feat','features_significant_original','feature_list']\n",
    "\n",
    "    # Tracking the time\n",
    "    t_end = time.time()\n",
    "    \n",
    "    print \"Duration:\", round((t_end - t_start)/60, 4), \"minutes\"\n",
    "    \n",
    "    # Printing the results.\n",
    "    return comparison"
   ]
  },
  {
   "cell_type": "markdown",
   "metadata": {},
   "source": [
    "Let's compare each set of features using different classifiers.\n",
    "\n",
    "### Task 4 - Try a varity of classifiers <a id='task4'></a>\n",
    "\n",
    ">**Try a varity of classifiers**\n",
    "\n",
    "I have used 4 different set of features for each classifier.\n",
    "\n",
    "Bear in mind, the comparison takes into account the recall and precision for both labels (0 and 1). "
   ]
  },
  {
   "cell_type": "code",
   "execution_count": 70,
   "metadata": {},
   "outputs": [
    {
     "name": "stdout",
     "output_type": "stream",
     "text": [
      "Duration: 0.0007 minutes\n"
     ]
    },
    {
     "data": {
      "text/html": [
       "<div>\n",
       "<style scoped>\n",
       "    .dataframe tbody tr th:only-of-type {\n",
       "        vertical-align: middle;\n",
       "    }\n",
       "\n",
       "    .dataframe tbody tr th {\n",
       "        vertical-align: top;\n",
       "    }\n",
       "\n",
       "    .dataframe thead th {\n",
       "        text-align: right;\n",
       "    }\n",
       "</style>\n",
       "<table border=\"1\" class=\"dataframe\">\n",
       "  <thead>\n",
       "    <tr style=\"text-align: right;\">\n",
       "      <th></th>\n",
       "      <th>accuracy</th>\n",
       "      <th>recall_non_poi</th>\n",
       "      <th>recal_poi</th>\n",
       "      <th>precision_non_poi</th>\n",
       "      <th>precision_poi</th>\n",
       "    </tr>\n",
       "  </thead>\n",
       "  <tbody>\n",
       "    <tr>\n",
       "      <th>original_feat</th>\n",
       "      <td>0.395349</td>\n",
       "      <td>0.342105</td>\n",
       "      <td>0.800000</td>\n",
       "      <td>0.928571</td>\n",
       "      <td>0.137931</td>\n",
       "    </tr>\n",
       "    <tr>\n",
       "      <th>complete_feat</th>\n",
       "      <td>0.581395</td>\n",
       "      <td>0.552632</td>\n",
       "      <td>0.800000</td>\n",
       "      <td>0.954545</td>\n",
       "      <td>0.190476</td>\n",
       "    </tr>\n",
       "    <tr>\n",
       "      <th>features_significant_original</th>\n",
       "      <td>0.860465</td>\n",
       "      <td>0.972222</td>\n",
       "      <td>0.285714</td>\n",
       "      <td>0.875000</td>\n",
       "      <td>0.666667</td>\n",
       "    </tr>\n",
       "    <tr>\n",
       "      <th>feature_list</th>\n",
       "      <td>0.860465</td>\n",
       "      <td>0.972222</td>\n",
       "      <td>0.285714</td>\n",
       "      <td>0.875000</td>\n",
       "      <td>0.666667</td>\n",
       "    </tr>\n",
       "  </tbody>\n",
       "</table>\n",
       "</div>"
      ],
      "text/plain": [
       "                               accuracy  recall_non_poi  recal_poi  \\\n",
       "original_feat                  0.395349        0.342105   0.800000   \n",
       "complete_feat                  0.581395        0.552632   0.800000   \n",
       "features_significant_original  0.860465        0.972222   0.285714   \n",
       "feature_list                   0.860465        0.972222   0.285714   \n",
       "\n",
       "                               precision_non_poi  precision_poi  \n",
       "original_feat                           0.928571       0.137931  \n",
       "complete_feat                           0.954545       0.190476  \n",
       "features_significant_original           0.875000       0.666667  \n",
       "feature_list                            0.875000       0.666667  "
      ]
     },
     "execution_count": 70,
     "metadata": {},
     "output_type": "execute_result"
    }
   ],
   "source": [
    "# Naïve Bayes.\n",
    "comparison_metrics(classifier = 'gauss', list_of_list = all_list)"
   ]
  },
  {
   "cell_type": "code",
   "execution_count": 71,
   "metadata": {},
   "outputs": [
    {
     "name": "stdout",
     "output_type": "stream",
     "text": [
      "Duration: 0.0271 minutes\n"
     ]
    },
    {
     "data": {
      "text/html": [
       "<div>\n",
       "<style scoped>\n",
       "    .dataframe tbody tr th:only-of-type {\n",
       "        vertical-align: middle;\n",
       "    }\n",
       "\n",
       "    .dataframe tbody tr th {\n",
       "        vertical-align: top;\n",
       "    }\n",
       "\n",
       "    .dataframe thead th {\n",
       "        text-align: right;\n",
       "    }\n",
       "</style>\n",
       "<table border=\"1\" class=\"dataframe\">\n",
       "  <thead>\n",
       "    <tr style=\"text-align: right;\">\n",
       "      <th></th>\n",
       "      <th>accuracy</th>\n",
       "      <th>recall_non_poi</th>\n",
       "      <th>recal_poi</th>\n",
       "      <th>precision_non_poi</th>\n",
       "      <th>precision_poi</th>\n",
       "    </tr>\n",
       "  </thead>\n",
       "  <tbody>\n",
       "    <tr>\n",
       "      <th>original_feat</th>\n",
       "      <td>0.906977</td>\n",
       "      <td>1.0</td>\n",
       "      <td>0.2</td>\n",
       "      <td>0.904762</td>\n",
       "      <td>1.0</td>\n",
       "    </tr>\n",
       "    <tr>\n",
       "      <th>complete_feat</th>\n",
       "      <td>0.906977</td>\n",
       "      <td>1.0</td>\n",
       "      <td>0.2</td>\n",
       "      <td>0.904762</td>\n",
       "      <td>1.0</td>\n",
       "    </tr>\n",
       "    <tr>\n",
       "      <th>features_significant_original</th>\n",
       "      <td>0.837209</td>\n",
       "      <td>1.0</td>\n",
       "      <td>0.0</td>\n",
       "      <td>0.837209</td>\n",
       "      <td>0.0</td>\n",
       "    </tr>\n",
       "    <tr>\n",
       "      <th>feature_list</th>\n",
       "      <td>0.837209</td>\n",
       "      <td>1.0</td>\n",
       "      <td>0.0</td>\n",
       "      <td>0.837209</td>\n",
       "      <td>0.0</td>\n",
       "    </tr>\n",
       "  </tbody>\n",
       "</table>\n",
       "</div>"
      ],
      "text/plain": [
       "                               accuracy  recall_non_poi  recal_poi  \\\n",
       "original_feat                  0.906977             1.0        0.2   \n",
       "complete_feat                  0.906977             1.0        0.2   \n",
       "features_significant_original  0.837209             1.0        0.0   \n",
       "feature_list                   0.837209             1.0        0.0   \n",
       "\n",
       "                               precision_non_poi  precision_poi  \n",
       "original_feat                           0.904762            1.0  \n",
       "complete_feat                           0.904762            1.0  \n",
       "features_significant_original           0.837209            0.0  \n",
       "feature_list                            0.837209            0.0  "
      ]
     },
     "execution_count": 71,
     "metadata": {},
     "output_type": "execute_result"
    }
   ],
   "source": [
    "# Random Forest.\n",
    "comparison_metrics(classifier = 'random', list_of_list = all_list)"
   ]
  },
  {
   "cell_type": "code",
   "execution_count": 72,
   "metadata": {},
   "outputs": [
    {
     "name": "stdout",
     "output_type": "stream",
     "text": [
      "Duration: 0.0249 minutes\n"
     ]
    },
    {
     "data": {
      "text/html": [
       "<div>\n",
       "<style scoped>\n",
       "    .dataframe tbody tr th:only-of-type {\n",
       "        vertical-align: middle;\n",
       "    }\n",
       "\n",
       "    .dataframe tbody tr th {\n",
       "        vertical-align: top;\n",
       "    }\n",
       "\n",
       "    .dataframe thead th {\n",
       "        text-align: right;\n",
       "    }\n",
       "</style>\n",
       "<table border=\"1\" class=\"dataframe\">\n",
       "  <thead>\n",
       "    <tr style=\"text-align: right;\">\n",
       "      <th></th>\n",
       "      <th>accuracy</th>\n",
       "      <th>recall_non_poi</th>\n",
       "      <th>recal_poi</th>\n",
       "      <th>precision_non_poi</th>\n",
       "      <th>precision_poi</th>\n",
       "    </tr>\n",
       "  </thead>\n",
       "  <tbody>\n",
       "    <tr>\n",
       "      <th>original_feat</th>\n",
       "      <td>0.813953</td>\n",
       "      <td>0.894737</td>\n",
       "      <td>0.200000</td>\n",
       "      <td>0.894737</td>\n",
       "      <td>0.2</td>\n",
       "    </tr>\n",
       "    <tr>\n",
       "      <th>complete_feat</th>\n",
       "      <td>0.813953</td>\n",
       "      <td>0.894737</td>\n",
       "      <td>0.200000</td>\n",
       "      <td>0.894737</td>\n",
       "      <td>0.2</td>\n",
       "    </tr>\n",
       "    <tr>\n",
       "      <th>features_significant_original</th>\n",
       "      <td>0.837209</td>\n",
       "      <td>0.972222</td>\n",
       "      <td>0.142857</td>\n",
       "      <td>0.853659</td>\n",
       "      <td>0.5</td>\n",
       "    </tr>\n",
       "    <tr>\n",
       "      <th>feature_list</th>\n",
       "      <td>0.837209</td>\n",
       "      <td>1.000000</td>\n",
       "      <td>0.000000</td>\n",
       "      <td>0.837209</td>\n",
       "      <td>0.0</td>\n",
       "    </tr>\n",
       "  </tbody>\n",
       "</table>\n",
       "</div>"
      ],
      "text/plain": [
       "                               accuracy  recall_non_poi  recal_poi  \\\n",
       "original_feat                  0.813953        0.894737   0.200000   \n",
       "complete_feat                  0.813953        0.894737   0.200000   \n",
       "features_significant_original  0.837209        0.972222   0.142857   \n",
       "feature_list                   0.837209        1.000000   0.000000   \n",
       "\n",
       "                               precision_non_poi  precision_poi  \n",
       "original_feat                           0.894737            0.2  \n",
       "complete_feat                           0.894737            0.2  \n",
       "features_significant_original           0.853659            0.5  \n",
       "feature_list                            0.837209            0.0  "
      ]
     },
     "execution_count": 72,
     "metadata": {},
     "output_type": "execute_result"
    }
   ],
   "source": [
    "# AdaBoost.\n",
    "comparison_metrics(classifier = 'ada', list_of_list = all_list)"
   ]
  },
  {
   "cell_type": "code",
   "execution_count": 73,
   "metadata": {},
   "outputs": [
    {
     "name": "stdout",
     "output_type": "stream",
     "text": [
      "Duration: 0.0009 minutes\n"
     ]
    },
    {
     "data": {
      "text/html": [
       "<div>\n",
       "<style scoped>\n",
       "    .dataframe tbody tr th:only-of-type {\n",
       "        vertical-align: middle;\n",
       "    }\n",
       "\n",
       "    .dataframe tbody tr th {\n",
       "        vertical-align: top;\n",
       "    }\n",
       "\n",
       "    .dataframe thead th {\n",
       "        text-align: right;\n",
       "    }\n",
       "</style>\n",
       "<table border=\"1\" class=\"dataframe\">\n",
       "  <thead>\n",
       "    <tr style=\"text-align: right;\">\n",
       "      <th></th>\n",
       "      <th>accuracy</th>\n",
       "      <th>recall_non_poi</th>\n",
       "      <th>recal_poi</th>\n",
       "      <th>precision_non_poi</th>\n",
       "      <th>precision_poi</th>\n",
       "    </tr>\n",
       "  </thead>\n",
       "  <tbody>\n",
       "    <tr>\n",
       "      <th>original_feat</th>\n",
       "      <td>0.837209</td>\n",
       "      <td>0.921053</td>\n",
       "      <td>0.200000</td>\n",
       "      <td>0.897436</td>\n",
       "      <td>0.25</td>\n",
       "    </tr>\n",
       "    <tr>\n",
       "      <th>complete_feat</th>\n",
       "      <td>0.837209</td>\n",
       "      <td>0.921053</td>\n",
       "      <td>0.200000</td>\n",
       "      <td>0.897436</td>\n",
       "      <td>0.25</td>\n",
       "    </tr>\n",
       "    <tr>\n",
       "      <th>features_significant_original</th>\n",
       "      <td>0.813953</td>\n",
       "      <td>0.916667</td>\n",
       "      <td>0.285714</td>\n",
       "      <td>0.868421</td>\n",
       "      <td>0.40</td>\n",
       "    </tr>\n",
       "    <tr>\n",
       "      <th>feature_list</th>\n",
       "      <td>0.837209</td>\n",
       "      <td>0.916667</td>\n",
       "      <td>0.428571</td>\n",
       "      <td>0.891892</td>\n",
       "      <td>0.50</td>\n",
       "    </tr>\n",
       "  </tbody>\n",
       "</table>\n",
       "</div>"
      ],
      "text/plain": [
       "                               accuracy  recall_non_poi  recal_poi  \\\n",
       "original_feat                  0.837209        0.921053   0.200000   \n",
       "complete_feat                  0.837209        0.921053   0.200000   \n",
       "features_significant_original  0.813953        0.916667   0.285714   \n",
       "feature_list                   0.837209        0.916667   0.428571   \n",
       "\n",
       "                               precision_non_poi  precision_poi  \n",
       "original_feat                           0.897436           0.25  \n",
       "complete_feat                           0.897436           0.25  \n",
       "features_significant_original           0.868421           0.40  \n",
       "feature_list                            0.891892           0.50  "
      ]
     },
     "execution_count": 73,
     "metadata": {},
     "output_type": "execute_result"
    }
   ],
   "source": [
    "# Decision Tree.\n",
    "comparison_metrics(classifier = 'tree', list_of_list = all_list)"
   ]
  },
  {
   "cell_type": "code",
   "execution_count": 74,
   "metadata": {},
   "outputs": [
    {
     "name": "stdout",
     "output_type": "stream",
     "text": [
      "Duration: 0.0007 minutes\n"
     ]
    },
    {
     "data": {
      "text/html": [
       "<div>\n",
       "<style scoped>\n",
       "    .dataframe tbody tr th:only-of-type {\n",
       "        vertical-align: middle;\n",
       "    }\n",
       "\n",
       "    .dataframe tbody tr th {\n",
       "        vertical-align: top;\n",
       "    }\n",
       "\n",
       "    .dataframe thead th {\n",
       "        text-align: right;\n",
       "    }\n",
       "</style>\n",
       "<table border=\"1\" class=\"dataframe\">\n",
       "  <thead>\n",
       "    <tr style=\"text-align: right;\">\n",
       "      <th></th>\n",
       "      <th>accuracy</th>\n",
       "      <th>recall_non_poi</th>\n",
       "      <th>recal_poi</th>\n",
       "      <th>precision_non_poi</th>\n",
       "      <th>precision_poi</th>\n",
       "    </tr>\n",
       "  </thead>\n",
       "  <tbody>\n",
       "    <tr>\n",
       "      <th>original_feat</th>\n",
       "      <td>0.837209</td>\n",
       "      <td>0.947368</td>\n",
       "      <td>0.0</td>\n",
       "      <td>0.878049</td>\n",
       "      <td>0.0</td>\n",
       "    </tr>\n",
       "    <tr>\n",
       "      <th>complete_feat</th>\n",
       "      <td>0.790698</td>\n",
       "      <td>0.894737</td>\n",
       "      <td>0.0</td>\n",
       "      <td>0.871795</td>\n",
       "      <td>0.0</td>\n",
       "    </tr>\n",
       "    <tr>\n",
       "      <th>features_significant_original</th>\n",
       "      <td>0.837209</td>\n",
       "      <td>1.000000</td>\n",
       "      <td>0.0</td>\n",
       "      <td>0.837209</td>\n",
       "      <td>0.0</td>\n",
       "    </tr>\n",
       "    <tr>\n",
       "      <th>feature_list</th>\n",
       "      <td>0.837209</td>\n",
       "      <td>1.000000</td>\n",
       "      <td>0.0</td>\n",
       "      <td>0.837209</td>\n",
       "      <td>0.0</td>\n",
       "    </tr>\n",
       "  </tbody>\n",
       "</table>\n",
       "</div>"
      ],
      "text/plain": [
       "                               accuracy  recall_non_poi  recal_poi  \\\n",
       "original_feat                  0.837209        0.947368        0.0   \n",
       "complete_feat                  0.790698        0.894737        0.0   \n",
       "features_significant_original  0.837209        1.000000        0.0   \n",
       "feature_list                   0.837209        1.000000        0.0   \n",
       "\n",
       "                               precision_non_poi  precision_poi  \n",
       "original_feat                           0.878049            0.0  \n",
       "complete_feat                           0.871795            0.0  \n",
       "features_significant_original           0.837209            0.0  \n",
       "feature_list                            0.837209            0.0  "
      ]
     },
     "execution_count": 74,
     "metadata": {},
     "output_type": "execute_result"
    }
   ],
   "source": [
    "# K Nearest Neighbor.\n",
    "comparison_metrics(classifier = 'knn', list_of_list = all_list)"
   ]
  },
  {
   "cell_type": "code",
   "execution_count": 75,
   "metadata": {},
   "outputs": [
    {
     "name": "stdout",
     "output_type": "stream",
     "text": [
      "Duration: 0.0005 minutes\n"
     ]
    },
    {
     "data": {
      "text/html": [
       "<div>\n",
       "<style scoped>\n",
       "    .dataframe tbody tr th:only-of-type {\n",
       "        vertical-align: middle;\n",
       "    }\n",
       "\n",
       "    .dataframe tbody tr th {\n",
       "        vertical-align: top;\n",
       "    }\n",
       "\n",
       "    .dataframe thead th {\n",
       "        text-align: right;\n",
       "    }\n",
       "</style>\n",
       "<table border=\"1\" class=\"dataframe\">\n",
       "  <thead>\n",
       "    <tr style=\"text-align: right;\">\n",
       "      <th></th>\n",
       "      <th>accuracy</th>\n",
       "      <th>recall_non_poi</th>\n",
       "      <th>recal_poi</th>\n",
       "      <th>precision_non_poi</th>\n",
       "      <th>precision_poi</th>\n",
       "    </tr>\n",
       "  </thead>\n",
       "  <tbody>\n",
       "    <tr>\n",
       "      <th>original_feat</th>\n",
       "      <td>0.883721</td>\n",
       "      <td>1.0</td>\n",
       "      <td>0.0</td>\n",
       "      <td>0.883721</td>\n",
       "      <td>0.0</td>\n",
       "    </tr>\n",
       "    <tr>\n",
       "      <th>complete_feat</th>\n",
       "      <td>0.883721</td>\n",
       "      <td>1.0</td>\n",
       "      <td>0.0</td>\n",
       "      <td>0.883721</td>\n",
       "      <td>0.0</td>\n",
       "    </tr>\n",
       "    <tr>\n",
       "      <th>features_significant_original</th>\n",
       "      <td>0.837209</td>\n",
       "      <td>1.0</td>\n",
       "      <td>0.0</td>\n",
       "      <td>0.837209</td>\n",
       "      <td>0.0</td>\n",
       "    </tr>\n",
       "    <tr>\n",
       "      <th>feature_list</th>\n",
       "      <td>0.837209</td>\n",
       "      <td>1.0</td>\n",
       "      <td>0.0</td>\n",
       "      <td>0.837209</td>\n",
       "      <td>0.0</td>\n",
       "    </tr>\n",
       "  </tbody>\n",
       "</table>\n",
       "</div>"
      ],
      "text/plain": [
       "                               accuracy  recall_non_poi  recal_poi  \\\n",
       "original_feat                  0.883721             1.0        0.0   \n",
       "complete_feat                  0.883721             1.0        0.0   \n",
       "features_significant_original  0.837209             1.0        0.0   \n",
       "feature_list                   0.837209             1.0        0.0   \n",
       "\n",
       "                               precision_non_poi  precision_poi  \n",
       "original_feat                           0.883721            0.0  \n",
       "complete_feat                           0.883721            0.0  \n",
       "features_significant_original           0.837209            0.0  \n",
       "feature_list                            0.837209            0.0  "
      ]
     },
     "execution_count": 75,
     "metadata": {},
     "output_type": "execute_result"
    }
   ],
   "source": [
    "# Support Vector Machine.\n",
    "comparison_metrics(classifier = 'svc', list_of_list = all_list)"
   ]
  },
  {
   "cell_type": "markdown",
   "metadata": {},
   "source": [
    "So far no one of the simulations has precision and recall greater than 0.3.\n",
    "\n",
    "For this reason, I have decided to perform the parameters tuning."
   ]
  },
  {
   "cell_type": "markdown",
   "metadata": {},
   "source": [
    "### 3.5. Dimension Reduction <a id='pca'></a>\n",
    "\n",
    "Due to the few features of this model (8 in `features_significant_original` and 9 in `feature_list`), I will not use the PCA because I do not see any advantages to reduce the number of features, the trade-off between computational performance and information-loss it is in favour to keep the features as is.\n",
    "\n",
    "***"
   ]
  },
  {
   "cell_type": "markdown",
   "metadata": {},
   "source": [
    "# 4. Predicting <a id='predicting'></a>"
   ]
  },
  {
   "cell_type": "markdown",
   "metadata": {},
   "source": [
    "So far I have used non-tuned classifiers, the next step of this project is to adjust the parameters to find a better solution. Remember, the main objective of this project is to create a model capable to classify an employee (in POI or non-POI) based on past experiences (database).\n",
    "\n",
    "##### Cross-validation\n",
    "\n",
    "For this step, I have used the [StratifiedShuffleSplit][sk_learn_sss] cross-validation model to aid in the process of model selection. It is necessary to evaluate the model using an independent dataset (the so-called test dataset) to avoid the overfitting the model. The `StratifiedShuffleSplit` function runs several times (`n_split`) the same model using the same parameters but varying the datasets of training and test (shuffling the observations). All this preserving the proportion of each label.\n",
    "\n",
    "[sk_learn_sss]: https://scikit-learn.org/stable/modules/generated/sklearn.model_selection.StratifiedShuffleSplit.html"
   ]
  },
  {
   "cell_type": "markdown",
   "metadata": {},
   "source": [
    "## 4.1. Tuning Parameters <a id='tuning'></a>\n",
    "\n",
    "In this chapter I have performed the parameters' tuning from several classifiers, due to the so many different parameters combination and the difficult to create a function to automize it, I have done it manually.\n",
    "\n",
    "The general setup for each calibration:\n",
    "\n",
    "* Training and Test dataset based on `feature_list`;\n",
    "* The metric to evaluate (scoring) each simulation elect was the 'f1';\n",
    "* Cross-validation using `StratifiedShuffleSplit` and `n_split` equal to 20, and;\n",
    "* Random State = 42.\n",
    "\n",
    "Let's create a dedicated dataset for tuning."
   ]
  },
  {
   "cell_type": "code",
   "execution_count": 76,
   "metadata": {},
   "outputs": [],
   "source": [
    "# Creating Datasets to be used in tuning.\n",
    "lab_tuning, feat_tuning = wrapper_featureformatsplit(my_dataset = my_dataset, features_list = feature_list)\n",
    "\n",
    "# Scaling.\n",
    "feat_tuning = feat_scale(feat_tuning)"
   ]
  },
  {
   "cell_type": "markdown",
   "metadata": {},
   "source": [
    "To avoid repetition in the report, I have created a function to bundle some code lines. The output of this function is the classifier, the reason to return a classifier is due to the flexibility provided using it. I could use all methods of `GridSearchCV`, for instance:\n",
    "\n",
    "* `.best_estimator_`;\n",
    "* `.cv_results_`, and etc."
   ]
  },
  {
   "cell_type": "code",
   "execution_count": 77,
   "metadata": {},
   "outputs": [],
   "source": [
    "# Function to encapsulate some code lines.\n",
    "def tuning(parameters, classifier, feat = feat_tuning, lab = lab_tuning, scoring = 'f1', n_splits = 20, random_state = None):\n",
    "    \"\"\"\n",
    "    This function ensemble the GridSearchCV and Pipeline to run several types of classifiers\n",
    "    and several values of parameters.\n",
    "    \"\"\"\n",
    "    \n",
    "    import warnings\n",
    "    warnings.filterwarnings(\"ignore\")\n",
    "    \n",
    "    \n",
    "    # Dictionary of Classifiers and Constructors.\n",
    "    list_class = {'ada':('ada', AdaBoostClassifier()),\n",
    "                  'svc':('svc', SVC()),\n",
    "                  'tree':('tree', tree.DecisionTreeClassifier()),\n",
    "                  'gauss':('gauss', GaussianNB()),\n",
    "                  'knn':('knn', KNeighborsClassifier()),\n",
    "                  'rand':('rand', RandomForestClassifier())}\n",
    "    \n",
    "    # Creating the Pipeline.\n",
    "    pipeline = Pipeline([list_class[classifier]])\n",
    "\n",
    "    # Creating the GridSearch Object.\n",
    "    clf = GridSearchCV(estimator = pipeline,                         # Pipeline\n",
    "                       param_grid = parameters,                      # Parameters to be tested.\n",
    "                       cv = StratifiedShuffleSplit(n_splits = n_splits,    # Number of splits.\n",
    "                                                   test_size = 0.25, # Test Dataset size\n",
    "                                                   random_state = random_state), # Set the random seed.\n",
    "                            scoring = scoring)                       # Metric to evaluate.\n",
    "    \n",
    "    # Fitting.\n",
    "    clf.fit(feat, lab)\n",
    "    \n",
    "    # Printing recall. It is the MEAN of 20 instances/n_splits.\n",
    "    print \"F1:\", round(100 * clf.cv_results_['mean_test_score'].max(), 2), \"%\"\n",
    "    \n",
    "    # Creating a vector to select the best value.\n",
    "    select_best = clf.cv_results_['mean_test_score'] == clf.cv_results_['mean_test_score'].max()\n",
    "    \n",
    "    print \"F1 Standard Deviation:\", round( 100 * clf.cv_results_['std_test_score'][select_best][0], 2), \"%\"\n",
    "    \n",
    "    # Return the classifier.\n",
    "    return clf"
   ]
  },
  {
   "cell_type": "markdown",
   "metadata": {},
   "source": [
    "Sadly, I have not found an easy way to implement a heuristic to guide me to find good values of parameters (I got traumatized coding a Genetic Algorithm, for this reason, I have performed it manually). Thus, I adopted these concepts to drive through the optimized parameters.\n",
    "\n",
    "- Best first search;\n",
    "- Divide-and-conquer.\n",
    "\n",
    "#### Best First Search\n",
    "\n",
    "Generally, classifiers have a lot of parameters. I have defined the following strategy:\n",
    "\n",
    "* Start by the Scalar parameters;\n",
    "    * Integer;\n",
    "    * Floats;\n",
    "* Categorical parameters.\n",
    "\n",
    "I will take the most promising node for each tree level, it means, I will find the optimized value for parameter_1 and keep all the other parameters constant then I move to the next parameter and repeat the same concept.\n",
    "\n",
    "[Source][best_first_search]\n",
    "\n",
    "[best_first_search]: https://en.wikipedia.org/wiki/Best-first_search\n",
    "\n",
    "#### Divide-and-conquer\n",
    "\n",
    "As a first step, I take 2 reasonable values (using intuition or the default values from the Scikit Learn) for each level of the tree (in this case the same of a parameter) and calculate the mean, which I will use as a parameter candidate.\n",
    "\n",
    "$$\\text{paramater}_1 = [value_1, mean, value_2]$$\n",
    "\n",
    "After calculating the evaluation metric using these three values, it is possible to determine in which of the two parts the optimized value is much closed. Suppose the `value_1` is the one with a better evaluation metric.\n",
    "\n",
    "$$\\text{paramater}_1 = [value_1, \\frac{value_1 + mean}{2},mean]$$\n",
    "\n",
    "So the cycle restarts.\n",
    "\n",
    "Have in mind, there are other situations, and this is just a brief explanation of how I have conducted the calibration.\n",
    "\n",
    "[Source][divide_and_conquer]\n",
    "\n",
    "[divide_and_conquer]: https://en.wikipedia.org/wiki/Divide-and-conquer_algorithm\n",
    "\n",
    "#### Caveat\n",
    "\n",
    "There are several caveats in this approach one of them is I could fall in a local maximum (mostly because I do not use backtracking)."
   ]
  },
  {
   "cell_type": "markdown",
   "metadata": {},
   "source": [
    "### 4.1.1. Support Vector Machine (SVM) Tuning\n",
    "\n",
    "Optimized parameters:\n",
    "\n",
    "* kernel: rbf;\n",
    "* C: 1000;\n",
    "* degree: 1;\n",
    "* gamma: 4.3, and;\n",
    "* F1 (mean): 18.72%."
   ]
  },
  {
   "cell_type": "code",
   "execution_count": 78,
   "metadata": {},
   "outputs": [
    {
     "name": "stdout",
     "output_type": "stream",
     "text": [
      "F1: 18.72 %\n",
      "F1 Standard Deviation: 17.59 %\n"
     ]
    },
    {
     "data": {
      "text/plain": [
       "Pipeline(memory=None,\n",
       "     steps=[('svc', SVC(C=1000.0, cache_size=200, class_weight=None, coef0=0.0,\n",
       "  decision_function_shape='ovr', degree=1, gamma=4.3, kernel='rbf',\n",
       "  max_iter=-1, probability=False, random_state=None, shrinking=True,\n",
       "  tol=0.001, verbose=False))])"
      ]
     },
     "execution_count": 78,
     "metadata": {},
     "output_type": "execute_result"
    }
   ],
   "source": [
    "# Defining possible parameters.\n",
    "parameters = {'svc__kernel':['rbf','linear'],\n",
    "              'svc__C':[1000.,1010, 990],\n",
    "              'svc__degree':[1,2],\n",
    "              'svc__gamma':[4.2, 4.3, 4.1]}\n",
    "\n",
    "# Creating the classifier using the function tuning.\n",
    "clf = tuning(parameters, 'svc', feat_tuning, lab_tuning, 'f1', random_state = 42)\n",
    "\n",
    "# Printing the optimized estimator.\n",
    "clf.best_estimator_"
   ]
  },
  {
   "cell_type": "markdown",
   "metadata": {},
   "source": [
    "Creating a classifier with optimized parameters."
   ]
  },
  {
   "cell_type": "code",
   "execution_count": 79,
   "metadata": {},
   "outputs": [],
   "source": [
    "# Creating a classifier with the optimized parameters.\n",
    "clf_svm = SVC(kernel = 'rbf', C = 1000, degree = 1, gamma = 4.3)"
   ]
  },
  {
   "cell_type": "markdown",
   "metadata": {},
   "source": [
    "### 4.1.2. Naïve Bayes Tuning\n",
    "\n",
    "The Naïve Bayes does not have any parameter to calibrate.\n",
    "\n",
    "* F1 (mean): 24.00%."
   ]
  },
  {
   "cell_type": "code",
   "execution_count": 80,
   "metadata": {},
   "outputs": [
    {
     "name": "stdout",
     "output_type": "stream",
     "text": [
      "F1: 24.0 %\n",
      "F1 Standard Deviation: 17.12 %\n"
     ]
    },
    {
     "data": {
      "text/plain": [
       "Pipeline(memory=None, steps=[('gauss', GaussianNB(priors=None))])"
      ]
     },
     "execution_count": 80,
     "metadata": {},
     "output_type": "execute_result"
    }
   ],
   "source": [
    "# import warnings\n",
    "# warnings.filterwarnings(\"ignore\")\n",
    "\n",
    "# Defining parameters.\n",
    "parameters = {}\n",
    "\n",
    "# Creating classifier and training. Bear in mind, the random state.\n",
    "clf = tuning(parameters, 'gauss', feat_tuning, lab_tuning, 'f1', random_state = 42)\n",
    "\n",
    "# Printing optimized estimators.\n",
    "clf.best_estimator_"
   ]
  },
  {
   "cell_type": "markdown",
   "metadata": {},
   "source": [
    "Creating a classifier with optimized parameters."
   ]
  },
  {
   "cell_type": "code",
   "execution_count": 81,
   "metadata": {},
   "outputs": [],
   "source": [
    "# Creating a classifier with the optimized parameters.\n",
    "clf_gauss = GaussianNB()"
   ]
  },
  {
   "cell_type": "markdown",
   "metadata": {},
   "source": [
    "### 4.1.3. AdaBoost Tuning\n",
    "\n",
    "Optimized parameters:\n",
    "\n",
    "* n_estimators: 67;\n",
    "* learning_rate: 1, and;\n",
    "* F1 (mean): 25.24%."
   ]
  },
  {
   "cell_type": "code",
   "execution_count": 82,
   "metadata": {},
   "outputs": [
    {
     "name": "stdout",
     "output_type": "stream",
     "text": [
      "F1: 25.24 %\n",
      "F1 Standard Deviation: 20.93 %\n"
     ]
    },
    {
     "data": {
      "text/plain": [
       "Pipeline(memory=None,\n",
       "     steps=[('ada', AdaBoostClassifier(algorithm='SAMME.R', base_estimator=None,\n",
       "          learning_rate=1.0, n_estimators=67, random_state=None))])"
      ]
     },
     "execution_count": 82,
     "metadata": {},
     "output_type": "execute_result"
    }
   ],
   "source": [
    "# Defining parameters.\n",
    "parameters = {'ada__n_estimators':[68, 67, 66],\n",
    "              'ada__learning_rate':[0.9, 1.0, 1.1]}\n",
    "\n",
    "# Creating classifier and training. Bear in mind, the random state.\n",
    "clf  = tuning(parameters, 'ada', feat_tuning, lab_tuning, 'f1', random_state = 42)\n",
    "\n",
    "# Printing optimized estimators.\n",
    "clf.best_estimator_"
   ]
  },
  {
   "cell_type": "markdown",
   "metadata": {},
   "source": [
    "Creating a classifier with optimized parameters."
   ]
  },
  {
   "cell_type": "code",
   "execution_count": 83,
   "metadata": {},
   "outputs": [],
   "source": [
    "# Creating a classifier with the optimized parameters.\n",
    "clf_ada = AdaBoostClassifier(learning_rate = 1.0, n_estimators = 67)"
   ]
  },
  {
   "cell_type": "markdown",
   "metadata": {},
   "source": [
    "### 4.1.4. K-Nearest Neighbors Tuning\n",
    "\n",
    "Optimized parameters:\n",
    "\n",
    "* n_neighbors: 1;\n",
    "* algorithm: auto;\n",
    "* leaf_size: 1;\n",
    "* p: 2, and;\n",
    "* F1 (mean): 24.43%."
   ]
  },
  {
   "cell_type": "code",
   "execution_count": 84,
   "metadata": {},
   "outputs": [
    {
     "name": "stdout",
     "output_type": "stream",
     "text": [
      "F1: 24.43 %\n",
      "F1 Standard Deviation: 21.79 %\n"
     ]
    },
    {
     "data": {
      "text/plain": [
       "Pipeline(memory=None,\n",
       "     steps=[('knn', KNeighborsClassifier(algorithm='auto', leaf_size=1, metric='minkowski',\n",
       "           metric_params=None, n_jobs=1, n_neighbors=1, p=2,\n",
       "           weights='uniform'))])"
      ]
     },
     "execution_count": 84,
     "metadata": {},
     "output_type": "execute_result"
    }
   ],
   "source": [
    "# Defining parameters.\n",
    "parameters = {'knn__n_neighbors': [1, 2,3],\n",
    "              'knn__algorithm':['auto', 'ball_tree', 'kd_tree', 'brute'],\n",
    "              'knn__leaf_size':[1, 2,3],\n",
    "              'knn__p':[1, 2,3]}\n",
    "\n",
    "# Creating classifier and training. Bear in mind, the random state.\n",
    "clf  = tuning(parameters, 'knn', feat_tuning, lab_tuning, 'f1', random_state = 42)\n",
    "\n",
    "# Printing optimized estimators.\n",
    "clf.best_estimator_"
   ]
  },
  {
   "cell_type": "markdown",
   "metadata": {},
   "source": [
    "Creating a classifier with optimized parameters."
   ]
  },
  {
   "cell_type": "code",
   "execution_count": 85,
   "metadata": {},
   "outputs": [],
   "source": [
    "# Creating a classifier with the optimized parameters.\n",
    "clf_knn = KNeighborsClassifier(n_neighbors = 1, algorithm = 'auto', leaf_size = 1, p = 2)"
   ]
  },
  {
   "cell_type": "markdown",
   "metadata": {},
   "source": [
    "### 4.1.5. Decision Trees Tuning\n",
    "\n",
    "Optimized parameters:\n",
    "\n",
    "* class_weight: 'balanced';\n",
    "* criterion: 'entropy';\n",
    "* max_leaf_nodes: 3;\n",
    "* min_samples_leaf: 1;\n",
    "* min_samples_split: 2;\n",
    "* splitter: 'best';\n",
    "* max_depth: 5, and;\n",
    "* Recall (mean): 75%."
   ]
  },
  {
   "cell_type": "code",
   "execution_count": 86,
   "metadata": {},
   "outputs": [
    {
     "name": "stdout",
     "output_type": "stream",
     "text": [
      "F1: 49.71 %\n",
      "F1 Standard Deviation: 11.58 %\n"
     ]
    },
    {
     "data": {
      "text/plain": [
       "Pipeline(memory=None,\n",
       "     steps=[('tree', DecisionTreeClassifier(class_weight='balanced', criterion='gini', max_depth=5,\n",
       "            max_features=None, max_leaf_nodes=4, min_impurity_decrease=0.0,\n",
       "            min_impurity_split=None, min_samples_leaf=1,\n",
       "            min_samples_split=2, min_weight_fraction_leaf=0.0,\n",
       "            presort=False, random_state=None, splitter='best'))])"
      ]
     },
     "execution_count": 86,
     "metadata": {},
     "output_type": "execute_result"
    }
   ],
   "source": [
    "# Defining parameters.\n",
    "parameters = {'tree__class_weight':[None,'balanced'],\n",
    "              'tree__criterion': ['gini', 'entropy'],\n",
    "              'tree__max_depth': [5, 6 , 4],\n",
    "              'tree__splitter':['best', 'random'],\n",
    "              'tree__max_leaf_nodes':[None, 2, 3, 4],\n",
    "              'tree__min_samples_leaf':[1, 2, 3],\n",
    "              'tree__min_samples_split': [2, 3, 4]}\n",
    "\n",
    "# Creating classifier and training. Bear in mind, the random state.\n",
    "clf  = tuning(parameters, 'tree', feat_tuning, lab_tuning, 'f1', random_state = 42)\n",
    "\n",
    "# Printing optimized estimators.\n",
    "clf.best_estimator_"
   ]
  },
  {
   "cell_type": "markdown",
   "metadata": {},
   "source": [
    "Creating a classifier with optimized parameters."
   ]
  },
  {
   "cell_type": "code",
   "execution_count": 87,
   "metadata": {},
   "outputs": [],
   "source": [
    "# Creating a classifier with the optimized parameters.\n",
    "clf_tree = tree.DecisionTreeClassifier(splitter = 'best',\n",
    "                                       criterion = 'gini',\n",
    "                                       class_weight = 'balanced',\n",
    "                                       min_samples_leaf = 1,\n",
    "                                       min_samples_split = 2,\n",
    "                                       max_depth = 5,\n",
    "                                       max_leaf_nodes = 4)"
   ]
  },
  {
   "cell_type": "markdown",
   "metadata": {},
   "source": [
    "### 4.1.6. Random Forest Tuning\n",
    "\n",
    "Optimized parameters:\n",
    "\n",
    "* class_weight: 'balanced';\n",
    "* criterion: 'gini';\n",
    "* max_leaf_nodes: 2;\n",
    "* min_samples_leaf: 2;\n",
    "* min_samples_split: 3;\n",
    "* max_depth: 5, and;\n",
    "* Recall (mean): 61.25%."
   ]
  },
  {
   "cell_type": "code",
   "execution_count": 88,
   "metadata": {},
   "outputs": [
    {
     "name": "stdout",
     "output_type": "stream",
     "text": [
      "F1: 46.58 %\n",
      "F1 Standard Deviation: 12.46 %\n"
     ]
    },
    {
     "data": {
      "text/plain": [
       "Pipeline(memory=None,\n",
       "     steps=[('rand', RandomForestClassifier(bootstrap=True, class_weight='balanced',\n",
       "            criterion='gini', max_depth=3, max_features='auto',\n",
       "            max_leaf_nodes=3, min_impurity_decrease=0.0,\n",
       "            min_impurity_split=None, min_samples_leaf=1,\n",
       "            min_samples_split=2, min_weight_fraction_leaf=0.0,\n",
       "            n_estimators=5, n_jobs=1, oob_score=False, random_state=None,\n",
       "            verbose=0, warm_start=False))])"
      ]
     },
     "execution_count": 88,
     "metadata": {},
     "output_type": "execute_result"
    }
   ],
   "source": [
    "# Ensure the reproducibility.\n",
    "np.random.seed(42)\n",
    "\n",
    "# Defining parameters.\n",
    "parameters = {'rand__class_weight':['balanced'],\n",
    "              'rand__criterion': ['gini', 'entropy'],\n",
    "              'rand__n_estimators':[5, 4, 3],\n",
    "              'rand__max_depth': [5, 3, 4],\n",
    "              'rand__max_leaf_nodes':[3, 2],\n",
    "              'rand__min_samples_leaf':[3, 2, 1],\n",
    "              'rand__min_samples_split':[3, 2]}\n",
    "\n",
    "# Creating classifier and training. Bear in mind, the random state.\n",
    "clf  = tuning(parameters, 'rand', feat_tuning, lab_tuning, 'f1')\n",
    "\n",
    "# Printing optimized estimators.\n",
    "clf.best_estimator_"
   ]
  },
  {
   "cell_type": "markdown",
   "metadata": {},
   "source": [
    "Creating a classifier with optimized parameters."
   ]
  },
  {
   "cell_type": "code",
   "execution_count": 89,
   "metadata": {},
   "outputs": [],
   "source": [
    "# Creating a classifier with the optimized parameters.\n",
    "clf_rand = RandomForestClassifier(n_estimators = 5,\n",
    "                                  class_weight = 'balanced',\n",
    "                                  criterion = 'gini', \n",
    "                                  max_depth = 5, \n",
    "                                  max_leaf_nodes = 3, \n",
    "                                  min_samples_leaf = 3, \n",
    "                                  min_samples_split = 3)"
   ]
  },
  {
   "cell_type": "markdown",
   "metadata": {},
   "source": [
    "### 4.1.7. Optimized Parameters Output Comparison\n",
    "\n",
    "Table 5 compares the F1 (mean of 20 stratified shuffle split F1 metric) from the process of tuning.\n",
    "\n",
    "<strong><center>Table 5 - F1 Performance of Tuning Process.</center></strong>\n",
    "\n",
    "|Classifier|F1 \\[%\\]|Standard Deviation \\[%\\]|\n",
    "|:-:|:-:|:-:|\n",
    "|SVM|18.72|17.59|\n",
    "|Naïve Bayes|24.00|17.12|\n",
    "|AdaBoost|25.24|20.93|\n",
    "|K-Nearest Neighbor|24.43|21.79|\n",
    "|Decision Trees|49.71|11.58|\n",
    "|Random Forest|39.54|13.02|\n",
    "\n",
    "Decision Tree and Random Forest has better metrics and seems to have a more stable model due to the lower standard deviation. Equation (4) shows how to calculate the F1 score.\n",
    "\n",
    "$$\\text{F1} = 2 \\cdot \\frac{precision \\cdot recall}{precision + recall} \\tag{4}$$\n",
    "\n",
    "Have in mind, to maximize F1 it is necessary to have balanced values of Recall and Precision.\n",
    "\n",
    "Due to the very poor performance shown in the tuning process, I have discarded the Support Vector Machine (SVM) classifier."
   ]
  },
  {
   "cell_type": "markdown",
   "metadata": {},
   "source": [
    "## 4.2. Evaluating Classifiers after Tuning  <a id='evaluating_classifiers'></a>\n",
    "\n",
    "Here, I have used the `test_classifier` function provided in the `tester.py` file.\n",
    "\n",
    "Although all classifiers have been trained using the `feature_list`. I have also evaluated the set of features `features_significant_original` to make a simple comparison, both sets of features are quite equal, the difference stay in one engineered features in `feature_list`."
   ]
  },
  {
   "cell_type": "markdown",
   "metadata": {},
   "source": [
    "### 4.2.1. Naïve Bayes Evaluation"
   ]
  },
  {
   "cell_type": "code",
   "execution_count": 90,
   "metadata": {},
   "outputs": [
    {
     "name": "stdout",
     "output_type": "stream",
     "text": [
      "GaussianNB(priors=None)\n",
      "\tAccuracy: 0.84927\tPrecision: 0.37342\tRecall: 0.19250\tF1: 0.25404\tF2: 0.21315\n",
      "\tTotal predictions: 15000\tTrue positives:  385\tFalse positives:  646\tFalse negatives: 1615\tTrue negatives: 12354\n",
      "\n"
     ]
    }
   ],
   "source": [
    "# Testing the classifier.\n",
    "tester.test_classifier(clf = clf_gauss,\n",
    "                       dataset = my_dataset,\n",
    "                       feature_list = features_significant_original)"
   ]
  },
  {
   "cell_type": "code",
   "execution_count": 91,
   "metadata": {},
   "outputs": [
    {
     "name": "stdout",
     "output_type": "stream",
     "text": [
      "GaussianNB(priors=None)\n",
      "\tAccuracy: 0.85313\tPrecision: 0.40343\tRecall: 0.21200\tF1: 0.27794\tF2: 0.23423\n",
      "\tTotal predictions: 15000\tTrue positives:  424\tFalse positives:  627\tFalse negatives: 1576\tTrue negatives: 12373\n",
      "\n"
     ]
    }
   ],
   "source": [
    "# Testing the classifier.\n",
    "tester.test_classifier(clf = clf_gauss,\n",
    "                       dataset = my_dataset,\n",
    "                       feature_list = feature_list)"
   ]
  },
  {
   "cell_type": "markdown",
   "metadata": {},
   "source": [
    "##### Conclusion\n",
    "\n",
    "Discard this classifier because it did not reach a minimum of 30% for recall. The F1 metric obtained from the tester is very close to the mean observed in Table 5."
   ]
  },
  {
   "cell_type": "markdown",
   "metadata": {},
   "source": [
    "### 4.2.2. AdaBoost Evaluation"
   ]
  },
  {
   "cell_type": "code",
   "execution_count": 92,
   "metadata": {},
   "outputs": [
    {
     "name": "stdout",
     "output_type": "stream",
     "text": [
      "AdaBoostClassifier(algorithm='SAMME.R', base_estimator=None,\n",
      "          learning_rate=1.0, n_estimators=67, random_state=None)\n",
      "\tAccuracy: 0.84407\tPrecision: 0.38986\tRecall: 0.30000\tF1: 0.33908\tF2: 0.31450\n",
      "\tTotal predictions: 15000\tTrue positives:  600\tFalse positives:  939\tFalse negatives: 1400\tTrue negatives: 12061\n",
      "\n"
     ]
    }
   ],
   "source": [
    "# Testing the classifier.\n",
    "tester.test_classifier(clf = clf_ada,\n",
    "                       dataset = my_dataset,\n",
    "                       feature_list = features_significant_original)"
   ]
  },
  {
   "cell_type": "code",
   "execution_count": 93,
   "metadata": {
    "scrolled": true
   },
   "outputs": [
    {
     "name": "stdout",
     "output_type": "stream",
     "text": [
      "AdaBoostClassifier(algorithm='SAMME.R', base_estimator=None,\n",
      "          learning_rate=1.0, n_estimators=67, random_state=None)\n",
      "\tAccuracy: 0.85273\tPrecision: 0.43111\tRecall: 0.32700\tF1: 0.37191\tF2: 0.34360\n",
      "\tTotal predictions: 15000\tTrue positives:  654\tFalse positives:  863\tFalse negatives: 1346\tTrue negatives: 12137\n",
      "\n"
     ]
    }
   ],
   "source": [
    "# Testing the classifier.\n",
    "tester.test_classifier(clf = clf_ada,\n",
    "                       dataset = my_dataset,\n",
    "                       feature_list = feature_list)"
   ]
  },
  {
   "cell_type": "markdown",
   "metadata": {},
   "source": [
    "##### Conclusion\n",
    "\n",
    "To the set of features of `feature_list`, both metrics have outperformed the threshold of 30%.\n",
    "\n",
    "This classifier should be picked as a candidate."
   ]
  },
  {
   "cell_type": "markdown",
   "metadata": {},
   "source": [
    "### 4.2.3. K-Nearest Neighbors Evaluation"
   ]
  },
  {
   "cell_type": "code",
   "execution_count": 94,
   "metadata": {},
   "outputs": [
    {
     "name": "stdout",
     "output_type": "stream",
     "text": [
      "KNeighborsClassifier(algorithm='auto', leaf_size=1, metric='minkowski',\n",
      "           metric_params=None, n_jobs=1, n_neighbors=1, p=2,\n",
      "           weights='uniform')\n",
      "\tAccuracy: 0.81607\tPrecision: 0.24950\tRecall: 0.18900\tF1: 0.21508\tF2: 0.19863\n",
      "\tTotal predictions: 15000\tTrue positives:  378\tFalse positives: 1137\tFalse negatives: 1622\tTrue negatives: 11863\n",
      "\n"
     ]
    }
   ],
   "source": [
    "# Testing the classifier.\n",
    "tester.test_classifier(clf = clf_knn,\n",
    "                       dataset = my_dataset,\n",
    "                       feature_list = features_significant_original)"
   ]
  },
  {
   "cell_type": "code",
   "execution_count": 95,
   "metadata": {
    "scrolled": true
   },
   "outputs": [
    {
     "name": "stdout",
     "output_type": "stream",
     "text": [
      "KNeighborsClassifier(algorithm='auto', leaf_size=1, metric='minkowski',\n",
      "           metric_params=None, n_jobs=1, n_neighbors=1, p=2,\n",
      "           weights='uniform')\n",
      "\tAccuracy: 0.80993\tPrecision: 0.26216\tRecall: 0.23450\tF1: 0.24756\tF2: 0.23955\n",
      "\tTotal predictions: 15000\tTrue positives:  469\tFalse positives: 1320\tFalse negatives: 1531\tTrue negatives: 11680\n",
      "\n"
     ]
    }
   ],
   "source": [
    "# Testing the classifier.\n",
    "tester.test_classifier(clf = clf_knn,\n",
    "                       dataset = my_dataset,\n",
    "                       feature_list = feature_list)"
   ]
  },
  {
   "cell_type": "markdown",
   "metadata": {},
   "source": [
    "##### Conclusion\n",
    "\n",
    "I have discarded this classifier because the recall metric did not reach 30%."
   ]
  },
  {
   "cell_type": "markdown",
   "metadata": {},
   "source": [
    "### 4.2.4. Decision Trees Evaluation"
   ]
  },
  {
   "cell_type": "code",
   "execution_count": 96,
   "metadata": {},
   "outputs": [
    {
     "name": "stdout",
     "output_type": "stream",
     "text": [
      "DecisionTreeClassifier(class_weight='balanced', criterion='gini', max_depth=5,\n",
      "            max_features=None, max_leaf_nodes=4, min_impurity_decrease=0.0,\n",
      "            min_impurity_split=None, min_samples_leaf=1,\n",
      "            min_samples_split=2, min_weight_fraction_leaf=0.0,\n",
      "            presort=False, random_state=None, splitter='best')\n",
      "\tAccuracy: 0.76160\tPrecision: 0.31793\tRecall: 0.68800\tF1: 0.43489\tF2: 0.55808\n",
      "\tTotal predictions: 15000\tTrue positives: 1376\tFalse positives: 2952\tFalse negatives:  624\tTrue negatives: 10048\n",
      "\n"
     ]
    }
   ],
   "source": [
    "# Testing the classifier.\n",
    "tester.test_classifier(clf = clf_tree,\n",
    "                       dataset = my_dataset,\n",
    "                       feature_list = features_significant_original)"
   ]
  },
  {
   "cell_type": "code",
   "execution_count": 97,
   "metadata": {},
   "outputs": [
    {
     "name": "stdout",
     "output_type": "stream",
     "text": [
      "DecisionTreeClassifier(class_weight='balanced', criterion='gini', max_depth=5,\n",
      "            max_features=None, max_leaf_nodes=4, min_impurity_decrease=0.0,\n",
      "            min_impurity_split=None, min_samples_leaf=1,\n",
      "            min_samples_split=2, min_weight_fraction_leaf=0.0,\n",
      "            presort=False, random_state=None, splitter='best')\n",
      "\tAccuracy: 0.80673\tPrecision: 0.39290\tRecall: 0.82450\tF1: 0.53219\tF2: 0.67599\n",
      "\tTotal predictions: 15000\tTrue positives: 1649\tFalse positives: 2548\tFalse negatives:  351\tTrue negatives: 10452\n",
      "\n"
     ]
    }
   ],
   "source": [
    "# Testing the classifier.\n",
    "tester.test_classifier(clf = clf_tree,\n",
    "                       dataset = my_dataset,\n",
    "                       feature_list = feature_list)"
   ]
  },
  {
   "cell_type": "markdown",
   "metadata": {},
   "source": [
    "##### Conclusion\n",
    "\n",
    "To the set of features of `feature_list` and `features_significant_original`, both metrics have outperformed the threshold of 30%.\n",
    "\n",
    "This classifier should be picked as a candidate."
   ]
  },
  {
   "cell_type": "markdown",
   "metadata": {},
   "source": [
    "### 4.2.5. Random Forest Evaluation"
   ]
  },
  {
   "cell_type": "code",
   "execution_count": 98,
   "metadata": {},
   "outputs": [
    {
     "name": "stdout",
     "output_type": "stream",
     "text": [
      "RandomForestClassifier(bootstrap=True, class_weight='balanced',\n",
      "            criterion='gini', max_depth=5, max_features='auto',\n",
      "            max_leaf_nodes=3, min_impurity_decrease=0.0,\n",
      "            min_impurity_split=None, min_samples_leaf=3,\n",
      "            min_samples_split=3, min_weight_fraction_leaf=0.0,\n",
      "            n_estimators=5, n_jobs=1, oob_score=False, random_state=None,\n",
      "            verbose=0, warm_start=False)\n",
      "\tAccuracy: 0.76067\tPrecision: 0.29955\tRecall: 0.59400\tF1: 0.39826\tF2: 0.49641\n",
      "\tTotal predictions: 15000\tTrue positives: 1188\tFalse positives: 2778\tFalse negatives:  812\tTrue negatives: 10222\n",
      "\n"
     ]
    }
   ],
   "source": [
    "# Testing the classifier.\n",
    "tester.test_classifier(clf = clf_rand,\n",
    "                       dataset = my_dataset,\n",
    "                       feature_list = features_significant_original)"
   ]
  },
  {
   "cell_type": "code",
   "execution_count": 99,
   "metadata": {},
   "outputs": [
    {
     "name": "stdout",
     "output_type": "stream",
     "text": [
      "RandomForestClassifier(bootstrap=True, class_weight='balanced',\n",
      "            criterion='gini', max_depth=5, max_features='auto',\n",
      "            max_leaf_nodes=3, min_impurity_decrease=0.0,\n",
      "            min_impurity_split=None, min_samples_leaf=3,\n",
      "            min_samples_split=3, min_weight_fraction_leaf=0.0,\n",
      "            n_estimators=5, n_jobs=1, oob_score=False, random_state=None,\n",
      "            verbose=0, warm_start=False)\n",
      "\tAccuracy: 0.76360\tPrecision: 0.31220\tRecall: 0.64250\tF1: 0.42021\tF2: 0.53029\n",
      "\tTotal predictions: 15000\tTrue positives: 1285\tFalse positives: 2831\tFalse negatives:  715\tTrue negatives: 10169\n",
      "\n"
     ]
    }
   ],
   "source": [
    "# Testing the classifier.\n",
    "tester.test_classifier(clf = clf_rand,\n",
    "                       dataset = my_dataset,\n",
    "                       feature_list = feature_list)"
   ]
  },
  {
   "cell_type": "markdown",
   "metadata": {},
   "source": [
    "##### Conclusion\n",
    "\n",
    "To the set of features of `feature_list`, both metrics have outperformed the threshold of 30%.\n",
    "\n",
    "This classifier should be picked as a candidate."
   ]
  },
  {
   "cell_type": "markdown",
   "metadata": {},
   "source": [
    "### 4.2.6. Final Classifier\n",
    "\n",
    "Table 6 shows the output from `tester.py`.\n",
    "\n",
    "<strong><center>Table 6 - Accuracy, Precision, and Recall from `tester.py` using the `feature_list`.</center></strong>\n",
    "\n",
    "|Classifier|Accuracy|Precision|Recall|F1|\n",
    "|:-:|:-:|:-:|:-:|:-:|\n",
    "|Naïve Bayes|0.84927|0.37342|0.19250|0.25404|\n",
    "|AdaBoost|0.85313|0.43327|0.32950|0.37433|\n",
    "|K-Nearest Neighbor|0.80993|0.26216|0.23450|0.24756|\n",
    "|Decision Trees|0.80647|0.39237|0.82300|0.53140|\n",
    "|Random Forest|0.76500|0.31307|0.63850|0.42013|\n",
    "\n",
    "The selected classifier is the `Decision Trees`."
   ]
  },
  {
   "cell_type": "markdown",
   "metadata": {},
   "source": [
    "### Task 5 -  Tune your classifier <a id='task5'></a>\n",
    "\n",
    ">**Tune your classifier to achieve better than .3 precision and recall using our testing script.**\n",
    "\n",
    "The best classifier according to the chosen `list_features` is the **Decision Trees**.\n",
    "\n",
    "```\n",
    "DecisionTreeClassifier(class_weight='balanced', criterion='gini', max_depth=5,\n",
    "            max_features=None, max_leaf_nodes=4, min_impurity_decrease=0.0,\n",
    "            min_impurity_split=None, min_samples_leaf=1,\n",
    "            min_samples_split=2, min_weight_fraction_leaf=0.0,\n",
    "            presort=False, random_state=None, splitter='best')\n",
    "\tAccuracy: 0.80707\tPrecision: 0.39342\tRecall: 0.82500\tF1: 0.53277\tF2: 0.67656\n",
    "\tTotal predictions: 15000\tTrue positives: 1650\tFalse positives: 2544\tFalse negatives:  350\tTrue negatives: 10456\n",
    "```"
   ]
  },
  {
   "cell_type": "code",
   "execution_count": 100,
   "metadata": {},
   "outputs": [
    {
     "data": {
      "text/plain": [
       "DecisionTreeClassifier(class_weight='balanced', criterion='gini', max_depth=5,\n",
       "            max_features=None, max_leaf_nodes=4, min_impurity_decrease=0.0,\n",
       "            min_impurity_split=None, min_samples_leaf=1,\n",
       "            min_samples_split=2, min_weight_fraction_leaf=0.0,\n",
       "            presort=False, random_state=None, splitter='best')"
      ]
     },
     "execution_count": 100,
     "metadata": {},
     "output_type": "execute_result"
    }
   ],
   "source": [
    "# Select Classifier.\n",
    "clf_tree"
   ]
  },
  {
   "cell_type": "markdown",
   "metadata": {},
   "source": [
    "### Task 6 - Dump your classifier, dataset, and `features_list` <a id='task6'></a>\n",
    "\n",
    ">**Dump your classifier, dataset, and features_list so anyone can check your results.**"
   ]
  },
  {
   "cell_type": "code",
   "execution_count": 101,
   "metadata": {},
   "outputs": [],
   "source": [
    "# Task 5 - Dumping classifier, my_dataset, and the list of features.\n",
    "dump_classifier_and_data(clf = clf_tree, dataset = my_dataset, feature_list = feature_list)"
   ]
  },
  {
   "cell_type": "markdown",
   "metadata": {},
   "source": [
    "***"
   ]
  },
  {
   "cell_type": "markdown",
   "metadata": {},
   "source": [
    "# 5. Conclusions <a id='conclusions'></a>\n"
   ]
  },
  {
   "cell_type": "markdown",
   "metadata": {},
   "source": [
    "The aim of this project is to create a Machine Learning Classification Algorithm using a \"raw\" database (of Enron).\n",
    "\n",
    "Along the report, I have tested several classifiers (Support Vector Machine, Naïve Bayes, AdaBoost, K-Nearest Neighbors, Decision Trees, and Random Forest) and I have ended-up selecting the **Decision Trees**, which have yielded:\n",
    "\n",
    "* Precision: 0.39342;\n",
    "* Recall: 0.82500, and;\n",
    "* Accuracy: 0.80707.\n",
    "\n",
    "The `feature_list` has the following features:\n",
    "\n",
    "* poi;\n",
    "* exercised_stock_options;\n",
    "* total_stock_value;\n",
    "* salary;\n",
    "* total_income (this one a engineered feature);\n",
    "* restricted_stock;\n",
    "* total_payments;\n",
    "* expenses, and;\n",
    "* other."
   ]
  },
  {
   "cell_type": "markdown",
   "metadata": {},
   "source": [
    "# 6. Questions <a id='questions'></a>\n"
   ]
  },
  {
   "cell_type": "markdown",
   "metadata": {},
   "source": [
    ">## Question 1\n",
    ">Summarize for us the goal of this project and how machine learning is useful in trying to accomplish it. As part of your answer, give some background on the dataset and how it can be used to answer the project question. Were there any outliers in the data when you got it, and how did you handle those?  [relevant rubric items: “data exploration”, “outlier investigation”]"
   ]
  },
  {
   "cell_type": "markdown",
   "metadata": {},
   "source": [
    "The project is about the ENRON Dataset, but only using a small part of the Dataset tailored to this project which has 146 observations and 21 features (divided into an email and financial features). ENRON was a company of energy based in Houston, USA, this company crashed after the fraud committed by the directors became public.\n",
    "\n",
    "The main goal of this project is the proper understanding of all process/steps of a Machine Learning model and how to apply it in a real case of prediction. I have divided this Machine Learning Project into:\n",
    "\n",
    "##### Gathering data\n",
    "\n",
    "Downloading the data forking/cloning it from the Github.\n",
    "\n",
    "##### Assessing and Cleaning data\n",
    "\n",
    "Assessing the data to identify any problems in the 146 observations overall 21 features. I have found some problems like:\n",
    "\n",
    "* Aggregated observation such as TOTAL;\n",
    "* Non-standard employee such as THE TRAVEL AGENCY IN THE PARK, and;\n",
    "* NaN values.\n",
    "\n",
    "In this step, to fix these problems I have removed the TOTAL and THE TRAVEL AGENCY IN THE PARK. In the case of NaN, I have filled it with 0.\n",
    "\n",
    "##### Selecting features\n",
    "\n",
    "Due to a large number of features, I have used the `SelectKBest` module to filter the features with statistical significance, later I have used a Genetic Algorithm to find which set of features has the most promising/up-and-coming metrics.\n",
    "\n",
    "##### Selecting classifier\n",
    "\n",
    "This step is crucial and for this reason, I have tested several kinds of classifiers/algorithms:\n",
    "\n",
    "* Support Vector Machine;\n",
    "* AdaBoost;\n",
    "* K Neighbor; \n",
    "* Decision Tree;\n",
    "* Naïve Bayes, and;\n",
    "* Random Forest.\n",
    "\n",
    "I have created a function to bundle all these classifiers with its parameters, for this reason, I have used a \"generic\" approach to analyze each classifier.\n",
    "\n",
    "The main aspect which has driven the selection decision was the balance between recall and precision, but with a preference model with a higher level of recall. Model with high recall tends to miss less the POI, this is crucial because there are few of them. In other words, I want to avoid false negatives.\n",
    "\n",
    "##### Tuning classifier\n",
    "\n",
    "Calibrating the values of each parameter from the classifier. This task could be done easily using `GridSearchCV`.\n",
    "\n",
    "##### Evaluating results\n",
    "\n",
    "Try to evaluate the stability of the results running several tests and assessing the metrics. This is a way to evaluate the capacity of the generalization of the model.\n",
    "\n",
    "##### Drawing conclusion.\n",
    "\n",
    "Finally, after all, the steps above mentioned the classifiers select is the **Decision Trees** with the following metrics:\n",
    "\n",
    "* Precision: 0.39342;\n",
    "* Recall: 0.82500;\n",
    "* Accuracy: 0.80707, and;\n",
    "* Number of predictions: 15000.\n",
    "\n",
    "These metrics met with the threshold established by the project requirements.\n",
    "\n",
    "As a result of it, the model based on ENRON dataset will be able to predict with a good margin of confidence, if an employee from ENRON is a Person of Interest (POI) or not."
   ]
  },
  {
   "cell_type": "markdown",
   "metadata": {},
   "source": [
    ">## Question 2 \n",
    ">What features did you end up using in your POI identifier, and what selection process did you use to pick them? Did you have to do any scaling? Why or why not? As part of the assignment, you should attempt to engineer your own feature that does not come ready-made in the dataset -- explain what feature you tried to make, and the rationale behind it. (You do not necessarily have to use it in the final analysis, only engineer and test it.) In your feature selection step, if you used an algorithm like a decision tree, please also give the feature importances of the features that you use, and if you used an automated feature selection function like SelectKBest, please report the feature scores and reasons for your choice of parameter values.  [relevant rubric items: “create new features”, “intelligently select features”, “properly scale features”]\n"
   ]
  },
  {
   "cell_type": "markdown",
   "metadata": {},
   "source": [
    "Initially, I have used the `SelectKBest` as the first step of my selection features process, as a result of this step I have selected 13 features with statistical significance. In the second step I have compared these 13 features with the presence of `NaN`, my strategy was to remove any feature with more than 40% of `NaN`. Finally, analysing only the original features (without any engineered feature) I have ended up with 7 features.\n",
    "\n",
    "##### Using only Original Features"
   ]
  },
  {
   "cell_type": "code",
   "execution_count": 102,
   "metadata": {},
   "outputs": [
    {
     "data": {
      "text/html": [
       "<div>\n",
       "<style scoped>\n",
       "    .dataframe tbody tr th:only-of-type {\n",
       "        vertical-align: middle;\n",
       "    }\n",
       "\n",
       "    .dataframe tbody tr th {\n",
       "        vertical-align: top;\n",
       "    }\n",
       "\n",
       "    .dataframe thead th {\n",
       "        text-align: right;\n",
       "    }\n",
       "</style>\n",
       "<table border=\"1\" class=\"dataframe\">\n",
       "  <thead>\n",
       "    <tr style=\"text-align: right;\">\n",
       "      <th></th>\n",
       "      <th>scores</th>\n",
       "      <th>p_values</th>\n",
       "      <th>nan</th>\n",
       "    </tr>\n",
       "  </thead>\n",
       "  <tbody>\n",
       "    <tr>\n",
       "      <th>exercised_stock_options</th>\n",
       "      <td>24.815080</td>\n",
       "      <td>0.000002</td>\n",
       "      <td>0.30</td>\n",
       "    </tr>\n",
       "    <tr>\n",
       "      <th>total_stock_value</th>\n",
       "      <td>24.182899</td>\n",
       "      <td>0.000002</td>\n",
       "      <td>0.14</td>\n",
       "    </tr>\n",
       "    <tr>\n",
       "      <th>salary</th>\n",
       "      <td>18.289684</td>\n",
       "      <td>0.000035</td>\n",
       "      <td>0.35</td>\n",
       "    </tr>\n",
       "    <tr>\n",
       "      <th>restricted_stock</th>\n",
       "      <td>9.212811</td>\n",
       "      <td>0.002863</td>\n",
       "      <td>0.25</td>\n",
       "    </tr>\n",
       "    <tr>\n",
       "      <th>total_payments</th>\n",
       "      <td>8.772778</td>\n",
       "      <td>0.003589</td>\n",
       "      <td>0.14</td>\n",
       "    </tr>\n",
       "    <tr>\n",
       "      <th>expenses</th>\n",
       "      <td>6.094173</td>\n",
       "      <td>0.014758</td>\n",
       "      <td>0.35</td>\n",
       "    </tr>\n",
       "    <tr>\n",
       "      <th>other</th>\n",
       "      <td>4.187478</td>\n",
       "      <td>0.042582</td>\n",
       "      <td>0.36</td>\n",
       "    </tr>\n",
       "  </tbody>\n",
       "</table>\n",
       "</div>"
      ],
      "text/plain": [
       "                            scores  p_values   nan\n",
       "exercised_stock_options  24.815080  0.000002  0.30\n",
       "total_stock_value        24.182899  0.000002  0.14\n",
       "salary                   18.289684  0.000035  0.35\n",
       "restricted_stock          9.212811  0.002863  0.25\n",
       "total_payments            8.772778  0.003589  0.14\n",
       "expenses                  6.094173  0.014758  0.35\n",
       "other                     4.187478  0.042582  0.36"
      ]
     },
     "execution_count": 102,
     "metadata": {},
     "output_type": "execute_result"
    }
   ],
   "source": [
    "# Features with p_value lower than alpha and nan lower than 0.40\n",
    "original_feature"
   ]
  },
  {
   "cell_type": "markdown",
   "metadata": {},
   "source": [
    "##### Engineered Features\n",
    "\n",
    "Taking into account the possibility to create features with the problematic of Data Leakage, I have avoided using features with a high frequency of `NaN`.\n",
    "\n",
    "I have created three new features:\n",
    "\n",
    "* **ratio_salary_total_payments**\n",
    "\n",
    "$$\\text{ratio_salary_total_payments} = \\frac{\\text{salary}}{\\text{total_payments}}$$\n",
    "\n",
    "Perhaps, the fraction of salary and total payments would show a different pattern between POI and non-POI.\n",
    "\n",
    "* **total_income**\n",
    "\n",
    "$$\\text{total_income} = \\text{total_payments} + \\text{total_stock_value}$$\n",
    "\n",
    "Creating the total income, which would show a new pattern in the POI\n",
    "\n",
    "* **ratio_stock_payments**\n",
    "\n",
    "$$\\text{ratio_stock_payments} = \\frac{\\text{total_stock_value}}{\\text{total_payments}}$$\n",
    "\n",
    "I expect the POI has received much more stocks than a regular employee, so it could be a good feature to help the classification model.\n",
    "\n",
    "From these three engineered features, only `total_income` has selected."
   ]
  },
  {
   "cell_type": "code",
   "execution_count": 103,
   "metadata": {},
   "outputs": [
    {
     "data": {
      "text/html": [
       "<div>\n",
       "<style scoped>\n",
       "    .dataframe tbody tr th:only-of-type {\n",
       "        vertical-align: middle;\n",
       "    }\n",
       "\n",
       "    .dataframe tbody tr th {\n",
       "        vertical-align: top;\n",
       "    }\n",
       "\n",
       "    .dataframe thead th {\n",
       "        text-align: right;\n",
       "    }\n",
       "</style>\n",
       "<table border=\"1\" class=\"dataframe\">\n",
       "  <thead>\n",
       "    <tr style=\"text-align: right;\">\n",
       "      <th></th>\n",
       "      <th>scores</th>\n",
       "      <th>p_values</th>\n",
       "      <th>nan</th>\n",
       "    </tr>\n",
       "  </thead>\n",
       "  <tbody>\n",
       "    <tr>\n",
       "      <th>exercised_stock_options</th>\n",
       "      <td>24.815080</td>\n",
       "      <td>0.000002</td>\n",
       "      <td>0.29</td>\n",
       "    </tr>\n",
       "    <tr>\n",
       "      <th>total_stock_value</th>\n",
       "      <td>24.182899</td>\n",
       "      <td>0.000002</td>\n",
       "      <td>0.13</td>\n",
       "    </tr>\n",
       "    <tr>\n",
       "      <th>salary</th>\n",
       "      <td>18.289684</td>\n",
       "      <td>0.000035</td>\n",
       "      <td>0.34</td>\n",
       "    </tr>\n",
       "    <tr>\n",
       "      <th>total_income</th>\n",
       "      <td>17.808791</td>\n",
       "      <td>0.000044</td>\n",
       "      <td>0.25</td>\n",
       "    </tr>\n",
       "    <tr>\n",
       "      <th>restricted_stock</th>\n",
       "      <td>9.212811</td>\n",
       "      <td>0.002863</td>\n",
       "      <td>0.24</td>\n",
       "    </tr>\n",
       "    <tr>\n",
       "      <th>total_payments</th>\n",
       "      <td>8.772778</td>\n",
       "      <td>0.003589</td>\n",
       "      <td>0.14</td>\n",
       "    </tr>\n",
       "    <tr>\n",
       "      <th>expenses</th>\n",
       "      <td>6.094173</td>\n",
       "      <td>0.014758</td>\n",
       "      <td>0.34</td>\n",
       "    </tr>\n",
       "    <tr>\n",
       "      <th>other</th>\n",
       "      <td>4.187478</td>\n",
       "      <td>0.042582</td>\n",
       "      <td>0.36</td>\n",
       "    </tr>\n",
       "  </tbody>\n",
       "</table>\n",
       "</div>"
      ],
      "text/plain": [
       "                            scores  p_values   nan\n",
       "exercised_stock_options  24.815080  0.000002  0.29\n",
       "total_stock_value        24.182899  0.000002  0.13\n",
       "salary                   18.289684  0.000035  0.34\n",
       "total_income             17.808791  0.000044  0.25\n",
       "restricted_stock          9.212811  0.002863  0.24\n",
       "total_payments            8.772778  0.003589  0.14\n",
       "expenses                  6.094173  0.014758  0.34\n",
       "other                     4.187478  0.042582  0.36"
      ]
     },
     "execution_count": 103,
     "metadata": {},
     "output_type": "execute_result"
    }
   ],
   "source": [
    "# Features with p_value lower than alpha and nan lower than 0.40\n",
    "complete_feature"
   ]
  },
  {
   "cell_type": "markdown",
   "metadata": {},
   "source": [
    "##### Feature List\n",
    "\n",
    "I have ended up choosing the set of features with the engineered features, but along the project, I have used both sets of features to make a comparison of performance."
   ]
  },
  {
   "cell_type": "code",
   "execution_count": 104,
   "metadata": {},
   "outputs": [
    {
     "data": {
      "text/plain": [
       "['poi',\n",
       " 'exercised_stock_options',\n",
       " 'total_stock_value',\n",
       " 'salary',\n",
       " 'total_income',\n",
       " 'restricted_stock',\n",
       " 'total_payments',\n",
       " 'expenses',\n",
       " 'other']"
      ]
     },
     "execution_count": 104,
     "metadata": {},
     "output_type": "execute_result"
    }
   ],
   "source": [
    "# The Feature List\n",
    "feature_list"
   ]
  },
  {
   "cell_type": "markdown",
   "metadata": {},
   "source": [
    "##### Scale\n",
    "\n",
    "Due to the existence of features with different scales (millions of USD, thousands of USD, a few numbers of emails, etc.) I have identified the necessity of scale the features to avoid any feature dominant over the other. I have also noticed the necessity to scale the features to run the SVM classifier because if not the algorithm take too long to run the experiment."
   ]
  },
  {
   "cell_type": "markdown",
   "metadata": {},
   "source": [
    ">## Question 3 \n",
    ">What algorithm did you end up using? What other one(s) did you try? How did model performance differ between algorithms?  [relevant rubric item: “pick an algorithm”]"
   ]
  },
  {
   "cell_type": "markdown",
   "metadata": {},
   "source": [
    "Although I have chosen the **Decision Trees** as my final algorithm, I have also tested other 5 classifiers. The reason to test many classifiers is the curiosity to see its performance and eager to learn. Table 6 show the outcome of each classifier after run the `.test_classifier()`.\n",
    "\n",
    "<strong><center>Table 6 - Accuracy, Precision, and Recall from `tester.py` using the `feature_list`.</center></strong>\n",
    "\n",
    "|Classifier|Accuracy|Precision|Recall|F1|\n",
    "|:-:|:-:|:-:|:-:|:-:|\n",
    "|Naïve Bayes|0.84927|0.37342|0.19250|0.25404|\n",
    "|AdaBoost|0.85313|0.43327|0.32950|0.37433|\n",
    "|K-Nearest Neighbor|0.80993|0.26216|0.23450|0.24756|\n",
    "|Decision Trees|0.80647|0.39237|0.82300|0.53140|\n",
    "|Random Forest|0.76500|0.31307|0.63850|0.42013|\n",
    "\n",
    "AdaBoost and Random Forest also has outperformed the threshold of 0.3 of recall and precision.\n",
    "\n",
    "Have in mind, I did not run the `test_classifier` in the SVM classifier because it did not reach the threshold of 0.3 in recall and precision."
   ]
  },
  {
   "cell_type": "markdown",
   "metadata": {},
   "source": [
    ">## Question 4 \n",
    ">What does it mean to tune the parameters of an algorithm, and what can happen if you don’t do this well?  How did you tune the parameters of your particular algorithm? What parameters did you tune? (Some algorithms do not have parameters that you need to tune -- if this is the case for the one you picked, identify and briefly explain how you would have done it for the model that was not your final choice or a different model that does utilize parameter tuning, e.g. a decision tree classifier).  [relevant rubric items: “discuss parameter tuning”, “tune the algorithm”]\n"
   ]
  },
  {
   "cell_type": "markdown",
   "metadata": {},
   "source": [
    "The tuning process is a fine adjustment of each classifiers' parameters and the objective of tuning is to improve/enhance the metrics (Accuracy, Recall, and Precision). The problem underlying the tuning process is not an optimized predictor.\n",
    "\n",
    "This process could be very painful due to the no number of simulations necessary to adjust everything. Luckily, the Scikit Learn has the module `GridSearchCV`, which automatize several steps of the tuning process, given a list of parameters to evaluate this method make a combination of all parameters and run repeatedly the model. The output of the function is a dictionary with all results combinations.\n",
    "\n",
    "The Naïve Bayes is the simplest one because it does not have parameters, on the other hand, Decision Trees and Random Forest has a lot of parameters.\n",
    "\n",
    "* Support Vector Machine: kernel, C, Degree, and Gamma;\n",
    "* AdaBoost: n_estimators and learning_rate;\n",
    "* K-Nearest Neighbors: n_neighbors, alogirthm, leaf_size, and p;\n",
    "* Decision Trees: class_weight, criterion, max_depth, splitter, max_leaf_nodes, min_samples_leaf, and min_samples_split;\n",
    "* Random Forest: class_weight, criterion, max_depth, splitter, max_leaf_nodes, min_samples_leaf, and min_samples_split;\n",
    "\n",
    "For all simulations using `GridSearchCV`, I have used the `StratifiedShuffleSplit` as a cross-validation module."
   ]
  },
  {
   "cell_type": "markdown",
   "metadata": {},
   "source": [
    ">## Question 5\n",
    ">What is validation, and what’s a classic mistake you can make if you do it wrong? How did you validate your analysis?  [relevant rubric items: “discuss validation”, “validation strategy”]\n"
   ]
  },
  {
   "cell_type": "markdown",
   "metadata": {},
   "source": [
    "The classic mistake in cross-validation is the _overfitting_, and the symptoms is an outstanding performance using the training data and a huge difficult to generalize using an independent dataset or testing data. The Cross-validation is a process to evaluate the algorithm/model using metrics (Accuracy, Recall, Precision, F1, etc.). Using it is possible to evaluate if the model is \"suffering\" from overfitting or underfitting.\n",
    "\n",
    "In this project, I have ended up using the `StratifiedShuffleSplit` and `StratifiedKFolds`:\n",
    "\n",
    "* `StratifiedShuffleSplit`: I have used it in model selection because it is very good when the dataset has few observations (this is the ENRON case). The `GridSearchCV` has used the `StratifiedShuffleSplit` with 20 `n_splits`, I took the recall average to filter, which classifier I should discard or select;\n",
    "\n",
    "Bear in mind, both are `stratified`, which means it preserves the ratio/proportion of each label during the process of \"folding\" or \"splitting\". The ENRON Dataset is very unbalanced, so it is necessary to keep the ratio when the model is training or evaluating."
   ]
  },
  {
   "cell_type": "markdown",
   "metadata": {},
   "source": [
    ">## Question 6\n",
    ">Give at least 2 evaluation metrics and your average performance for each of them.  Explain an interpretation of your metrics that says something human-understandable about your algorithm’s performance. [relevant rubric item: “usage of evaluation metrics”]"
   ]
  },
  {
   "cell_type": "markdown",
   "metadata": {},
   "source": [
    "Along the project, I have tracked the performance of accuracy, recall, and precision. These metrics are all about the model is committing an error (or not), like classifying something like 0 when in a reality it is 1, or vice-versa.\n",
    "\n",
    "* **Precision:** When the classification of a positive observation is correctly classified as positive. Have in mind, sometimes I can mark an observation as positive but it is not, this kind of error is the so-called false positive. This metric try to measure how well the model is marking/flagging the positive class;\n",
    "\n",
    "$$\\text{Recall} = \\frac{\\text{True Positives}}{\\text{True Positives + False Negatives}}$$\n",
    "\n",
    "\n",
    "* **Recall:** When an observation is not marked as positive when it should be marked as positive. It means I have miss-classified a positive value marking it as negative. It is also known as false negative. This metric try to measure how well the model is marking/flagging the real positives observations;\n",
    "\n",
    "$$\\text{Precision} = \\frac{\\text{True Positives}}{\\text{True Positives + False Positives}}$$\n",
    "\n",
    "* **Accuracy:** The proportion of correct classification overall number of os observations.\n",
    "\n",
    "Recall the table 6.\n",
    "\n",
    "<strong><center>Table 6 - Classifiers Metrics after `.test_classifier()`.</center></strong>\n",
    "\n",
    "|Classifier   |Accuracy|Precision|Recall |\n",
    "|:-:          |:-:     |:-:      |:-:    |\n",
    "|AdaBoost     |0.85721 |0.50032  |0.38900|\n",
    "|Naïve Bayes  |0.78757|0.27495|0.29750|\n",
    "|KNN|0.84064|0.34783|0.13200|\n",
    "|Decision Trees|0.68021|0.26468|0.69650|\n",
    "|Random Forest|0.71393|0.25375|0.51650|\n",
    "\n"
   ]
  },
  {
   "cell_type": "markdown",
   "metadata": {},
   "source": [
    "The Decision Trees classifier has the greater value of Recall, which I could interpret as the model can identify almost 70% of all real positives observations, however, only 26.4% of all observation marked as positives are real positives.\n",
    "\n",
    "In contrast, the AdaBoost classifier has 38.9% in the recall metric, but the precision is almost 50%, which means that all observations marked as positive is real positive in 50% of the cases.\n",
    "\n",
    "Generally, exist a kind of trade-off between recall and precision, and I must chose which one I more critical to my model.\n",
    "\n",
    "For my understanding, the recall metric is the most important because I want to find POI and I do not want to miss anyone that is truly POI."
   ]
  },
  {
   "cell_type": "markdown",
   "metadata": {},
   "source": [
    "***"
   ]
  },
  {
   "cell_type": "markdown",
   "metadata": {},
   "source": [
    "# References <a id='references'></a>\n",
    "\n",
    "\n",
    "\n",
    "* Feature Selection using LASSO [PDF][ref_01];\n",
    "* Feature selection for “final” model when performing cross-validation in machine learning, Cross Validation thread, [website][ref_02];\n",
    "* Perform feature normalization before or within model validation?, Cross Validation thread, [website][ref_03];\n",
    "* Right order of doing feature selection, PCA and normalization?, Stack Overflow thread, [website][ref_04];\n",
    "* How does SelectKBest work?, Stack Exchange thread, [website][ref_05];\n",
    "* What's the meaning of p-values which produced by feature selection (i.e. chi2 method)?, Stack Overflow thread, [website][ref_06];\n",
    "* Batista, D. S., Hyperparameter optimization across multiple models in scikit-learn, Blog, [website][ref_07];\n",
    "* Faces recognition example using eigenfaces and SVMs, Scikit Learn Documentation, Example, [website][ref_08]; \n",
    "* Precision and Recall, Scikit Learn Documentation, [website][ref_09];\n",
    "* Add new keys to a dictionary?, Stack Overflow thread, [website][ref_10];\n",
    "* A fast and elitist multiobjective genetic algorithm: NSGA-II, IEEE Xplorer, [website][ref_11];\n",
    "* Multi-Objective Optimization using Evolutionary Algorithms, Kalyanmoy Deb, Wiley;\n",
    "* Use sklearn's GridSearchCV with a pipeline, preprocessing just once, Stack Overflow thread, [website][ref_12];\n",
    "* Putting it all together, Scikit Learn Example, [website][ref_13];\n",
    "* Choosing the Right Metric for Evaluating Machine Learning Models — Part 2, Swalin, A. , Medium Blog, [website][ref_14];\n",
    "* Why use stratified cross validation? Why does this not damage variance related benefit?, Cross Validation thread, [website][ref_15];\n",
    "* Data Leakage in Machine Learning, Brownlee, J., Blog, [website][ref_16];\n",
    "\n",
    "\n",
    "\n",
    "\n",
    "[ref_01]: https://beta.vu.nl/nl/Images/werkstuk-fonti_tcm235-836234.pdf\n",
    "[ref_02]: https://stats.stackexchange.com/questions/2306/feature-selection-for-final-model-when-performing-cross-validation-in-machine\n",
    "[ref_03]: https://stats.stackexchange.com/questions/77350/perform-feature-normalization-before-or-within-model-validation\n",
    "[ref_04]: https://stackoverflow.com/questions/46062679/right-order-of-doing-feature-selection-pca-and-normalization\n",
    "[ref_05]: https://datascience.stackexchange.com/questions/10773/how-does-selectkbest-work\n",
    "[ref_06]: https://stackoverflow.com/questions/23677734/whats-the-meaning-of-p-values-which-produced-by-feature-selection-i-e-chi2-me\n",
    "[ref_07]: http://www.davidsbatista.net/blog/2018/02/23/model_optimization/\n",
    "[ref_08]: https://scikit-learn.org/stable/auto_examples/applications/plot_face_recognition.html#sphx-glr-auto-examples-applications-plot-face-recognition-py\n",
    "[ref_09]: https://scikit-learn.org/stable/auto_examples/model_selection/plot_precision_recall.html\n",
    "[ref_10]: https://stackoverflow.com/questions/1024847/add-new-keys-to-a-dictionary\n",
    "[ref_11]: https://ieeexplore.ieee.org/document/996017\n",
    "[ref_12]: https://stackoverflow.com/questions/43366561/use-sklearns-gridsearchcv-with-a-pipeline-preprocessing-just-once/43366811\n",
    "[ref_13]: https://scikit-learn.org/stable/tutorial/statistical_inference/putting_together.html\n",
    "[ref_14]: https://medium.com/usf-msds/choosing-the-right-metric-for-evaluating-machine-learning-models-part-2-86d5649a5428\n",
    "[ref_15]:https://stats.stackexchange.com/questions/117643/why-use-stratified-cross-validation-why-does-this-not-damage-variance-related-b\n",
    "[ref_16]: https://machinelearningmastery.com/data-leakage-machine-learning/\n",
    "\n",
    "\n",
    "\n",
    "\n",
    "##### Scikit Learn\n",
    "\n",
    "* F1 Score, [Website][scikit_learn_f1_score];\n",
    "* Selected k Best, [Website][scikit_learn_selectedkbest];\n",
    "* Feature Selection Module, [Website][scikit_learn_feat_select]\n",
    "* f_classif from Feature Selection module, [Website][scikit_learn_f_classif];\n",
    "* Lasso, [Website][scikit_learn_lasso];\n",
    "* MinMaxScaler, [Website][scikit_learn_minmaxscaler]\n",
    "* Recall Score from Metrics, [Website][scikit_learn_recall] \n",
    "* Precision Score from Metrics, [Website][scikit_learn_precision] \n",
    "\n",
    "\n",
    "\n",
    "[scikit_learn_f1_score]: https://scikit-learn.org/stable/modules/generated/sklearn.metrics.f1_score.html\n",
    "[scikit_learn_selectedkbest]: https://scikit-learn.org/stable/modules/generated/sklearn.feature_selection.SelectKBest.html\n",
    "[scikit_learn_f_classif]: https://scikit-learn.org/stable/modules/generated/sklearn.feature_selection.f_classif.html#sklearn.feature_selection.f_classif\n",
    "[scikit_learn_lasso]: https://scikit-learn.org/stable/modules/generated/sklearn.linear_model.Lasso.html\n",
    "[scikit_learn_feat_select]: https://scikit-learn.org/stable/modules/feature_selection.html\n",
    "[scikit_learn_minmaxscaler]: https://scikit-learn.org/stable/modules/generated/sklearn.preprocessing.MinMaxScaler.html\n",
    "[scikit_learn_recall]:https://scikit-learn.org/stable/modules/generated/sklearn.metrics.recall_score.html\n",
    "[scikit_learn_precision]: https://scikit-learn.org/stable/modules/generated/sklearn.metrics.precision_score.html\n",
    "\n",
    "\n",
    "***"
   ]
  },
  {
   "cell_type": "markdown",
   "metadata": {},
   "source": [
    "# Appendix <a id='appendix'></a>\n",
    "\n",
    "## A.1. Given Code <a id='code'></a>\n",
    "\n",
    "### A.1.1. `poi_id.py`\n",
    "\n",
    "```py\n",
    "#!/usr/bin/python\n",
    "\n",
    "import sys\n",
    "import pickle\n",
    "sys.path.append(\"../tools/\")\n",
    "\n",
    "from feature_format import featureFormat, targetFeatureSplit\n",
    "from tester import dump_classifier_and_data\n",
    "\n",
    "### Task 1: Select what features you'll use.\n",
    "### features_list is a list of strings, each of which is a feature name.\n",
    "### The first feature must be \"poi\".\n",
    "features_list = ['poi','salary'] # You will need to use more features\n",
    "\n",
    "### Load the dictionary containing the dataset\n",
    "with open(\"final_project_dataset.pkl\", \"r\") as data_file:\n",
    "    data_dict = pickle.load(data_file)\n",
    "\n",
    "### Task 2: Remove outliers\n",
    "### Task 3: Create new feature(s)\n",
    "### Store to my_dataset for easy export below.\n",
    "my_dataset = data_dict\n",
    "\n",
    "### Extract features and labels from dataset for local testing\n",
    "data = featureFormat(my_dataset, features_list, sort_keys = True)\n",
    "labels, features = targetFeatureSplit(data)\n",
    "\n",
    "### Task 4: Try a varity of classifiers\n",
    "### Please name your classifier clf for easy export below.\n",
    "### Note that if you want to do PCA or other multi-stage operations,\n",
    "### you'll need to use Pipelines. For more info:\n",
    "### http://scikit-learn.org/stable/modules/pipeline.html\n",
    "\n",
    "# Provided to give you a starting point. Try a variety of classifiers.\n",
    "from sklearn.naive_bayes import GaussianNB\n",
    "clf = GaussianNB()\n",
    "\n",
    "### Task 5: Tune your classifier to achieve better than .3 precision and recall \n",
    "### using our testing script. Check the tester.py script in the final project\n",
    "### folder for details on the evaluation method, especially the test_classifier\n",
    "### function. Because of the small size of the dataset, the script uses\n",
    "### stratified shuffle split cross validation. For more info: \n",
    "### http://scikit-learn.org/stable/modules/generated/sklearn.cross_validation.StratifiedShuffleSplit.html\n",
    "\n",
    "# Example starting point. Try investigating other evaluation techniques!\n",
    "from sklearn.cross_validation import train_test_split\n",
    "features_train, features_test, labels_train, labels_test = \\\n",
    "    train_test_split(features, labels, test_size=0.3, random_state=42)\n",
    "\n",
    "### Task 6: Dump your classifier, dataset, and features_list so anyone can\n",
    "### check your results. You do not need to change anything below, but make sure\n",
    "### that the version of poi_id.py that you submit can be run on its own and\n",
    "### generates the necessary .pkl files for validating your results.\n",
    "\n",
    "dump_classifier_and_data(clf, my_dataset, features_list)\n",
    "```"
   ]
  },
  {
   "cell_type": "markdown",
   "metadata": {},
   "source": [
    "### A.1.2. `tester.py`\n",
    "\n",
    "\n",
    "```py\n",
    "#!/usr/bin/pickle\n",
    "\n",
    "\"\"\" a basic script for importing student's POI identifier,\n",
    "    and checking the results that they get from it \n",
    " \n",
    "    requires that the algorithm, dataset, and features list\n",
    "    be written to my_classifier.pkl, my_dataset.pkl, and\n",
    "    my_feature_list.pkl, respectively\n",
    "\n",
    "    that process should happen at the end of poi_id.py\n",
    "\"\"\"\n",
    "\n",
    "import pickle\n",
    "import sys\n",
    "from sklearn.cross_validation import StratifiedShuffleSplit\n",
    "sys.path.append(\"../tools/\")\n",
    "from feature_format import featureFormat, targetFeatureSplit\n",
    "\n",
    "PERF_FORMAT_STRING = \"\\\n",
    "\\tAccuracy: {:>0.{display_precision}f}\\tPrecision: {:>0.{display_precision}f}\\t\\\n",
    "Recall: {:>0.{display_precision}f}\\tF1: {:>0.{display_precision}f}\\tF2: {:>0.{display_precision}f}\"\n",
    "RESULTS_FORMAT_STRING = \"\\tTotal predictions: {:4d}\\tTrue positives: {:4d}\\tFalse positives: {:4d}\\\n",
    "\\tFalse negatives: {:4d}\\tTrue negatives: {:4d}\"\n",
    "\n",
    "def test_classifier(clf, dataset, feature_list, folds = 1000):\n",
    "    data = featureFormat(dataset, feature_list, sort_keys = True)\n",
    "    labels, features = targetFeatureSplit(data)\n",
    "    cv = StratifiedShuffleSplit(labels, folds, random_state = 42)\n",
    "    true_negatives = 0\n",
    "    false_negatives = 0\n",
    "    true_positives = 0\n",
    "    false_positives = 0\n",
    "    \n",
    "    \n",
    "    for train_idx, test_idx in cv: \n",
    "        features_train = []\n",
    "        features_test  = []\n",
    "        labels_train   = []\n",
    "        labels_test    = []\n",
    "        for ii in train_idx:\n",
    "            features_train.append( features[ii] )\n",
    "            labels_train.append( labels[ii] )\n",
    "        for jj in test_idx:\n",
    "            features_test.append( features[jj] )\n",
    "            labels_test.append( labels[jj] )\n",
    "        \n",
    "        ### fit the classifier using training set, and test on test set\n",
    "        clf.fit(features_train, labels_train)\n",
    "        predictions = clf.predict(features_test)\n",
    "        for prediction, truth in zip(predictions, labels_test):\n",
    "            if prediction == 0 and truth == 0:\n",
    "                true_negatives += 1\n",
    "            elif prediction == 0 and truth == 1:\n",
    "                false_negatives += 1\n",
    "            elif prediction == 1 and truth == 0:\n",
    "                false_positives += 1\n",
    "            elif prediction == 1 and truth == 1:\n",
    "                true_positives += 1\n",
    "            else:\n",
    "                print \"Warning: Found a predicted label not == 0 or 1.\"\n",
    "                print \"All predictions should take value 0 or 1.\"\n",
    "                print \"Evaluating performance for processed predictions:\"\n",
    "                break\n",
    "    try:\n",
    "        total_predictions = true_negatives + false_negatives + false_positives + true_positives\n",
    "        accuracy = 1.0*(true_positives + true_negatives)/total_predictions\n",
    "        precision = 1.0*true_positives/(true_positives+false_positives)\n",
    "        recall = 1.0*true_positives/(true_positives+false_negatives)\n",
    "        f1 = 2.0 * true_positives/(2*true_positives + false_positives+false_negatives)\n",
    "        f2 = (1+2.0*2.0) * precision*recall/(4*precision + recall)\n",
    "        print clf\n",
    "        print PERF_FORMAT_STRING.format(accuracy, precision, recall, f1, f2, display_precision = 5)\n",
    "        print RESULTS_FORMAT_STRING.format(total_predictions, true_positives, false_positives, false_negatives, true_negatives)\n",
    "        print \"\"\n",
    "    except:\n",
    "        print \"Got a divide by zero when trying out:\", clf\n",
    "        print \"Precision or recall may be undefined due to a lack of true positive predicitons.\"\n",
    "\n",
    "CLF_PICKLE_FILENAME = \"my_classifier.pkl\"\n",
    "DATASET_PICKLE_FILENAME = \"my_dataset.pkl\"\n",
    "FEATURE_LIST_FILENAME = \"my_feature_list.pkl\"\n",
    "\n",
    "def dump_classifier_and_data(clf, dataset, feature_list):\n",
    "    with open(CLF_PICKLE_FILENAME, \"w\") as clf_outfile:\n",
    "        pickle.dump(clf, clf_outfile)\n",
    "    with open(DATASET_PICKLE_FILENAME, \"w\") as dataset_outfile:\n",
    "        pickle.dump(dataset, dataset_outfile)\n",
    "    with open(FEATURE_LIST_FILENAME, \"w\") as featurelist_outfile:\n",
    "        pickle.dump(feature_list, featurelist_outfile)\n",
    "\n",
    "def load_classifier_and_data():\n",
    "    with open(CLF_PICKLE_FILENAME, \"r\") as clf_infile:\n",
    "        clf = pickle.load(clf_infile)\n",
    "    with open(DATASET_PICKLE_FILENAME, \"r\") as dataset_infile:\n",
    "        dataset = pickle.load(dataset_infile)\n",
    "    with open(FEATURE_LIST_FILENAME, \"r\") as featurelist_infile:\n",
    "        feature_list = pickle.load(featurelist_infile)\n",
    "    return clf, dataset, feature_list\n",
    "\n",
    "def main():\n",
    "    ### load up student's classifier, dataset, and feature_list\n",
    "    clf, dataset, feature_list = load_classifier_and_data()\n",
    "    ### Run testing script\n",
    "    test_classifier(clf, dataset, feature_list)\n",
    "\n",
    "if __name__ == '__main__':\n",
    "    main()\n",
    "```"
   ]
  }
 ],
 "metadata": {
  "kernelspec": {
   "display_name": "Python 2",
   "language": "python",
   "name": "python2"
  },
  "language_info": {
   "codemirror_mode": {
    "name": "ipython",
    "version": 2
   },
   "file_extension": ".py",
   "mimetype": "text/x-python",
   "name": "python",
   "nbconvert_exporter": "python",
   "pygments_lexer": "ipython2",
   "version": "2.7.15"
  }
 },
 "nbformat": 4,
 "nbformat_minor": 2
}
