{
 "cells": [
  {
   "cell_type": "markdown",
   "metadata": {},
   "source": [
    "# Project 04 - Identify Fraud from Enron Email\n",
    "\n",
    "##### Student Tags\n",
    "\n",
    "Author: Anderson Hitoshi Uyekita    \n",
    "Project: Identify Fraud from Enron Email    \n",
    "Course: Data Science - Foundations II  \n",
    "COD: ND111  \n",
    "Date: 28/01/2019    \n",
    "Version: 1.0\n",
    "\n",
    "***"
   ]
  },
  {
   "cell_type": "markdown",
   "metadata": {},
   "source": [
    "# Synopsis\n",
    "\n",
    "\n",
    "\n",
    "\n",
    "\n",
    "\n",
    "***"
   ]
  },
  {
   "cell_type": "markdown",
   "metadata": {},
   "source": [
    "## Table of Contents\n",
    "- [1. Introduction](#intro)\n",
    "- [2. Data Wrangling](#wrangling)\n",
    "    - [2.1. Data Gathering](#gathering)\n",
    "    - [2.2. Data Assessing](#assessing)\n",
    "        - [**Task 1** - Feature List](#task1)\n",
    "    - [2.3. Data Cleaning](#cleaning)\n",
    "        - [**Task 2** - Removing Outliers](#task2)    \n",
    "    - [2.4. Exporing to JSON](#exporting)\n",
    "- [3. Exploratory Data Analysis](#eda)\n",
    "    - [3.1. Tableau Public](#story)\n",
    "    - [3.2. Feature Engineering](#feature_engineering)\n",
    "        - [**Task 3** - Creating new features](#task3)    \n",
    "    - [3.3. Feature Scaling](#scaling)\n",
    "    - [3.4. Feature Selection](#selection)\n",
    "        - [**Task 4** - Try a varity of classifiers](#task4)    \n",
    "    - [3.5. Dimension Reduce](#pca)        \n",
    "- [4. Predicting](#ml)\n",
    "- [5. Conclusions](#conclusions)\n",
    "- [6. Questions](#questions)\n",
    "- [References](#references)\n",
    "- [Appendix](#appendix)\n",
    "    - [Given code](#code)\n",
    "\n",
    "\n",
    "\n",
    "***"
   ]
  },
  {
   "cell_type": "markdown",
   "metadata": {},
   "source": [
    "# 1. Introduction <a id='intro'></a>\n",
    "\n",
    "I have decided to use the Jupyter Notebook due to several reasons:\n",
    "\n",
    "* Record the data manipulation;\n",
    "* Data Wrangling;\n",
    "* Data Visualization, and;\n",
    "* Perform a Reproducible Research.\n",
    "\n",
    "The original file (`poi_id.py`) was used in several pieces spread all over this document.\n",
    "\n",
    "### 1.1. Reproducibility\n",
    "\n",
    "I have written this report using the Jupyter Notebook, which would allow anyone to reproduce this document in a local computer. I have made a great effort to document every step to turn this document understandable.\n",
    "\n",
    "#### Work envinronment\n",
    "\n",
    "I have performed this project using:\n",
    "\n",
    "* Dell Notebook Inspiron 7348;\n",
    "* Intel(R) Core(TM) i7-5500U CPU @ 2.40GHz 2.40GHz;\n",
    "* 8.00 GB, and;\n",
    "* Windows 10 Pro 64-bits.\n",
    "\n",
    "#### Softwares\n",
    "\n",
    "This report has written using four software:\n",
    "\n",
    "* Python (version 2.7.15);\n",
    "* Jupyter Notebook (version 5.6.0);\n",
    "* Tableau Desktop Public (version 2018.3.2 - 20183.18.1219.1533 - 64-bits);\n",
    "* Opera (version 58.0.3135.47), and;\n",
    "* Atom (version 1.34.1 ia32).\n",
    "\n",
    "I have used the Atom to push to Github repository and to visualize some files, and nothing more than this.\n",
    "\n",
    "#### Packages\n",
    "\n",
    "I kindly ask you to install each of this packages before you run the next steps.\n",
    "\n",
    "* pandas (version 0.23.4);\n",
    "* numpy (version 1.16.0);\n",
    "\n",
    "This list of packages and version was generate by the [version_information][version_information_github] package.\n",
    "\n",
    "[version_information_github]: https://github.com/jrjohansson/version_information\n",
    "\n",
    "#### Repository\n",
    "\n",
    "You can access all files of this report in this repository:\n",
    "\n",
    "* https://github.com/AndersonUyekita/ND111_data_science_foundations_02\n",
    "\n",
    "#### Path\n",
    "\n",
    "I have written this report inside of the `ud120-projects/final_project` folder.\n",
    "\n",
    "### 1.2. Modifications\n",
    "\n",
    "I have changed all instances of `cross_validation` to `model_selection`.\n",
    "\n",
    "* `tester.py`, and;\n",
    "* `poi_id.py`.\n",
    "\n",
    "I have opted to change the original code because I did not downgraded my Scikit Learn.\n",
    "\n",
    "\n",
    "### 1.3. Importing Libraries\n",
    "\n",
    "For this project I will use some libraries to manage data frames, download file, Twitter API Client code, etc.. Let's import this packages to the Jupyter Notebook environment."
   ]
  },
  {
   "cell_type": "code",
   "execution_count": 1,
   "metadata": {},
   "outputs": [],
   "source": [
    "import pandas as pd\n",
    "\n",
    "import numpy as np\n",
    "\n",
    "import sklearn\n",
    "\n",
    "import sys\n",
    "\n",
    "import pickle\n",
    "\n",
    "sys.path.append(\"../tools/\")\n",
    "from feature_format import featureFormat, targetFeatureSplit\n",
    "from tester import dump_classifier_and_data\n",
    "\n",
    "from sklearn.naive_bayes import GaussianNB\n",
    "\n",
    "#from sklearn.cross_validation import train_test_split\n",
    "from sklearn.model_selection import train_test_split\n",
    "\n",
    "import matplotlib.pylab as plt\n",
    "%matplotlib inline\n",
    "\n",
    "import seaborn as sns\n",
    "\n",
    "import json\n",
    "\n",
    "from time import time\n",
    "\n",
    "from sklearn.pipeline import Pipeline\n",
    "from sklearn.naive_bayes import GaussianNB\n",
    "from sklearn.metrics import accuracy_score\n",
    "from sklearn.svm import SVC\n",
    "from sklearn import tree\n",
    "from sklearn.ensemble import AdaBoostClassifier\n",
    "\n",
    "from sklearn.metrics import recall_score\n",
    "from sklearn.metrics import precision_score\n",
    "\n",
    "# Importing the K Nearest Neighbors from Scikit learn package.\n",
    "from sklearn.neighbors import KNeighborsClassifier\n",
    "\n",
    "# Importing the AdaBoost from Scikit learn package.\n",
    "from sklearn.ensemble import AdaBoostClassifier\n",
    "\n",
    "# Importing the Random Forest from Scikit learn package.\n",
    "from sklearn.ensemble import RandomForestClassifier\n",
    "\n",
    "from sklearn.decomposition import PCA"
   ]
  },
  {
   "cell_type": "markdown",
   "metadata": {},
   "source": [
    "### 1.4. Questions\n",
    "\n",
    "Founded on the instructions, I will guide my Jupyter Notebook following the questions posed in the document hosted [here][q_link].\n",
    "\n",
    "### 1.5. Rubric\n",
    "\n",
    "Also following the instructions, I will keep in mind to atend all the requirement pointed out in the [rubric][rubric]  \n",
    "\n",
    "[q_link]: https://docs.google.com/document/d/1NDgi1PrNJP7WTbfSUuRUnz8yzs5nGVTSzpO7oeNTEWA/pub?embedded=true\n",
    "[rubric]: https://review.udacity.com/#!/rubrics/27/view\n",
    "\n",
    "***"
   ]
  },
  {
   "cell_type": "markdown",
   "metadata": {},
   "source": [
    "## 2. Data Wrangling  <a id='wrangling'></a>\n",
    "\n",
    "I have divided the Data Wrangling process into three smaller steps:\n",
    "\n",
    "* Data Gathering;\n",
    "* Data Assesing, and;\n",
    "* Data Cleaning.\n",
    "\n",
    "### 2.1. Data Gathering <a id='gathering'></a>\n",
    "\n",
    "All data from this project I was forked from the Udacity Github repository. Most part of the gathering process is already made by the instructor. For this reason, the only task I have was to load the pickle file."
   ]
  },
  {
   "cell_type": "code",
   "execution_count": 2,
   "metadata": {},
   "outputs": [
    {
     "data": {
      "text/plain": [
       "dict"
      ]
     },
     "execution_count": 2,
     "metadata": {},
     "output_type": "execute_result"
    }
   ],
   "source": [
    "# Task 1: Select what features you'll use.  \n",
    "# features_list is a list of strings, each of which is a feature name.  \n",
    "# The first feature must be \"poi\". \n",
    "features_list = ['poi','salary'] # You will need to use more features\n",
    "\n",
    "### Load the dictionary containing the dataset\n",
    "with open(\"final_project_dataset.pkl\", \"r\") as data_file:\n",
    "    data_dict = pickle.load(data_file)\n",
    "    \n",
    "# Data type.\n",
    "type(data_dict)"
   ]
  },
  {
   "cell_type": "markdown",
   "metadata": {},
   "source": [
    "The `data_dict` is a dictionary which has all information about the POI and non-POI employee from Enron.\n",
    "\n",
    "Fourtunately, dictionary is easy converted to Data Frame."
   ]
  },
  {
   "cell_type": "markdown",
   "metadata": {},
   "source": [
    "### 2.2. Data Assessing <a id='assessing'></a>\n",
    "\n",
    "The first step here is to realize what kind of information this dictionary has. So let's extract the keys of this dictionary and later print the content of each key."
   ]
  },
  {
   "cell_type": "code",
   "execution_count": 3,
   "metadata": {},
   "outputs": [
    {
     "data": {
      "text/plain": [
       "['METTS MARK',\n",
       " 'BAXTER JOHN C',\n",
       " 'ELLIOTT STEVEN',\n",
       " 'CORDES WILLIAM R',\n",
       " 'HANNON KEVIN P']"
      ]
     },
     "execution_count": 3,
     "metadata": {},
     "output_type": "execute_result"
    }
   ],
   "source": [
    "# Initialization of list.\n",
    "names_key = []\n",
    "\n",
    "# Loop to gather the keys of this dictionary.\n",
    "for index in data_dict:\n",
    "    names_key.append(index)\n",
    "\n",
    "# Print the first 5 names_key from data_dict.\n",
    "names_key[:5]"
   ]
  },
  {
   "cell_type": "markdown",
   "metadata": {},
   "source": [
    "The keys are names.\n",
    "\n",
    ">How many names are in this dictionary?"
   ]
  },
  {
   "cell_type": "code",
   "execution_count": 4,
   "metadata": {},
   "outputs": [
    {
     "name": "stdout",
     "output_type": "stream",
     "text": [
      "Number of names:  146\n"
     ]
    }
   ],
   "source": [
    "print \"Number of names: \", len(names_key)"
   ]
  },
  {
   "cell_type": "markdown",
   "metadata": {},
   "source": [
    "Now, I want to investigate the value associate to the first key ('METTS MARK')."
   ]
  },
  {
   "cell_type": "code",
   "execution_count": 5,
   "metadata": {
    "scrolled": false
   },
   "outputs": [
    {
     "data": {
      "text/plain": [
       "{'bonus': 600000,\n",
       " 'deferral_payments': 'NaN',\n",
       " 'deferred_income': 'NaN',\n",
       " 'director_fees': 'NaN',\n",
       " 'email_address': 'mark.metts@enron.com',\n",
       " 'exercised_stock_options': 'NaN',\n",
       " 'expenses': 94299,\n",
       " 'from_messages': 29,\n",
       " 'from_poi_to_this_person': 38,\n",
       " 'from_this_person_to_poi': 1,\n",
       " 'loan_advances': 'NaN',\n",
       " 'long_term_incentive': 'NaN',\n",
       " 'other': 1740,\n",
       " 'poi': False,\n",
       " 'restricted_stock': 585062,\n",
       " 'restricted_stock_deferred': 'NaN',\n",
       " 'salary': 365788,\n",
       " 'shared_receipt_with_poi': 702,\n",
       " 'to_messages': 807,\n",
       " 'total_payments': 1061827,\n",
       " 'total_stock_value': 585062}"
      ]
     },
     "execution_count": 5,
     "metadata": {},
     "output_type": "execute_result"
    }
   ],
   "source": [
    "# Value associated to the names_key.\n",
    "data_dict['METTS MARK']"
   ]
  },
  {
   "cell_type": "markdown",
   "metadata": {},
   "source": [
    "As you can see, there are several variable avaiable to a further study. I will create a dataframe with all information."
   ]
  },
  {
   "cell_type": "code",
   "execution_count": 6,
   "metadata": {},
   "outputs": [
    {
     "data": {
      "text/html": [
       "<div>\n",
       "<style scoped>\n",
       "    .dataframe tbody tr th:only-of-type {\n",
       "        vertical-align: middle;\n",
       "    }\n",
       "\n",
       "    .dataframe tbody tr th {\n",
       "        vertical-align: top;\n",
       "    }\n",
       "\n",
       "    .dataframe thead th {\n",
       "        text-align: right;\n",
       "    }\n",
       "</style>\n",
       "<table border=\"1\" class=\"dataframe\">\n",
       "  <thead>\n",
       "    <tr style=\"text-align: right;\">\n",
       "      <th></th>\n",
       "      <th>bonus</th>\n",
       "      <th>deferral_payments</th>\n",
       "      <th>deferred_income</th>\n",
       "      <th>director_fees</th>\n",
       "      <th>email_address</th>\n",
       "      <th>exercised_stock_options</th>\n",
       "      <th>expenses</th>\n",
       "      <th>from_messages</th>\n",
       "      <th>from_poi_to_this_person</th>\n",
       "      <th>from_this_person_to_poi</th>\n",
       "      <th>...</th>\n",
       "      <th>long_term_incentive</th>\n",
       "      <th>other</th>\n",
       "      <th>poi</th>\n",
       "      <th>restricted_stock</th>\n",
       "      <th>restricted_stock_deferred</th>\n",
       "      <th>salary</th>\n",
       "      <th>shared_receipt_with_poi</th>\n",
       "      <th>to_messages</th>\n",
       "      <th>total_payments</th>\n",
       "      <th>total_stock_value</th>\n",
       "    </tr>\n",
       "  </thead>\n",
       "  <tbody>\n",
       "    <tr>\n",
       "      <th>ALLEN PHILLIP K</th>\n",
       "      <td>4175000</td>\n",
       "      <td>2869717</td>\n",
       "      <td>-3081055</td>\n",
       "      <td>NaN</td>\n",
       "      <td>phillip.allen@enron.com</td>\n",
       "      <td>1729541</td>\n",
       "      <td>13868</td>\n",
       "      <td>2195</td>\n",
       "      <td>47</td>\n",
       "      <td>65</td>\n",
       "      <td>...</td>\n",
       "      <td>304805</td>\n",
       "      <td>152</td>\n",
       "      <td>False</td>\n",
       "      <td>126027</td>\n",
       "      <td>-126027</td>\n",
       "      <td>201955</td>\n",
       "      <td>1407</td>\n",
       "      <td>2902</td>\n",
       "      <td>4484442</td>\n",
       "      <td>1729541</td>\n",
       "    </tr>\n",
       "    <tr>\n",
       "      <th>BADUM JAMES P</th>\n",
       "      <td>NaN</td>\n",
       "      <td>178980</td>\n",
       "      <td>NaN</td>\n",
       "      <td>NaN</td>\n",
       "      <td>NaN</td>\n",
       "      <td>257817</td>\n",
       "      <td>3486</td>\n",
       "      <td>NaN</td>\n",
       "      <td>NaN</td>\n",
       "      <td>NaN</td>\n",
       "      <td>...</td>\n",
       "      <td>NaN</td>\n",
       "      <td>NaN</td>\n",
       "      <td>False</td>\n",
       "      <td>NaN</td>\n",
       "      <td>NaN</td>\n",
       "      <td>NaN</td>\n",
       "      <td>NaN</td>\n",
       "      <td>NaN</td>\n",
       "      <td>182466</td>\n",
       "      <td>257817</td>\n",
       "    </tr>\n",
       "    <tr>\n",
       "      <th>BANNANTINE JAMES M</th>\n",
       "      <td>NaN</td>\n",
       "      <td>NaN</td>\n",
       "      <td>-5104</td>\n",
       "      <td>NaN</td>\n",
       "      <td>james.bannantine@enron.com</td>\n",
       "      <td>4046157</td>\n",
       "      <td>56301</td>\n",
       "      <td>29</td>\n",
       "      <td>39</td>\n",
       "      <td>0</td>\n",
       "      <td>...</td>\n",
       "      <td>NaN</td>\n",
       "      <td>864523</td>\n",
       "      <td>False</td>\n",
       "      <td>1757552</td>\n",
       "      <td>-560222</td>\n",
       "      <td>477</td>\n",
       "      <td>465</td>\n",
       "      <td>566</td>\n",
       "      <td>916197</td>\n",
       "      <td>5243487</td>\n",
       "    </tr>\n",
       "    <tr>\n",
       "      <th>BAXTER JOHN C</th>\n",
       "      <td>1200000</td>\n",
       "      <td>1295738</td>\n",
       "      <td>-1386055</td>\n",
       "      <td>NaN</td>\n",
       "      <td>NaN</td>\n",
       "      <td>6680544</td>\n",
       "      <td>11200</td>\n",
       "      <td>NaN</td>\n",
       "      <td>NaN</td>\n",
       "      <td>NaN</td>\n",
       "      <td>...</td>\n",
       "      <td>1586055</td>\n",
       "      <td>2660303</td>\n",
       "      <td>False</td>\n",
       "      <td>3942714</td>\n",
       "      <td>NaN</td>\n",
       "      <td>267102</td>\n",
       "      <td>NaN</td>\n",
       "      <td>NaN</td>\n",
       "      <td>5634343</td>\n",
       "      <td>10623258</td>\n",
       "    </tr>\n",
       "    <tr>\n",
       "      <th>BAY FRANKLIN R</th>\n",
       "      <td>400000</td>\n",
       "      <td>260455</td>\n",
       "      <td>-201641</td>\n",
       "      <td>NaN</td>\n",
       "      <td>frank.bay@enron.com</td>\n",
       "      <td>NaN</td>\n",
       "      <td>129142</td>\n",
       "      <td>NaN</td>\n",
       "      <td>NaN</td>\n",
       "      <td>NaN</td>\n",
       "      <td>...</td>\n",
       "      <td>NaN</td>\n",
       "      <td>69</td>\n",
       "      <td>False</td>\n",
       "      <td>145796</td>\n",
       "      <td>-82782</td>\n",
       "      <td>239671</td>\n",
       "      <td>NaN</td>\n",
       "      <td>NaN</td>\n",
       "      <td>827696</td>\n",
       "      <td>63014</td>\n",
       "    </tr>\n",
       "  </tbody>\n",
       "</table>\n",
       "<p>5 rows × 21 columns</p>\n",
       "</div>"
      ],
      "text/plain": [
       "                      bonus deferral_payments deferred_income director_fees  \\\n",
       "ALLEN PHILLIP K     4175000           2869717        -3081055           NaN   \n",
       "BADUM JAMES P           NaN            178980             NaN           NaN   \n",
       "BANNANTINE JAMES M      NaN               NaN           -5104           NaN   \n",
       "BAXTER JOHN C       1200000           1295738        -1386055           NaN   \n",
       "BAY FRANKLIN R       400000            260455         -201641           NaN   \n",
       "\n",
       "                                 email_address exercised_stock_options  \\\n",
       "ALLEN PHILLIP K        phillip.allen@enron.com                 1729541   \n",
       "BADUM JAMES P                              NaN                  257817   \n",
       "BANNANTINE JAMES M  james.bannantine@enron.com                 4046157   \n",
       "BAXTER JOHN C                              NaN                 6680544   \n",
       "BAY FRANKLIN R             frank.bay@enron.com                     NaN   \n",
       "\n",
       "                   expenses from_messages from_poi_to_this_person  \\\n",
       "ALLEN PHILLIP K       13868          2195                      47   \n",
       "BADUM JAMES P          3486           NaN                     NaN   \n",
       "BANNANTINE JAMES M    56301            29                      39   \n",
       "BAXTER JOHN C         11200           NaN                     NaN   \n",
       "BAY FRANKLIN R       129142           NaN                     NaN   \n",
       "\n",
       "                   from_this_person_to_poi        ...         \\\n",
       "ALLEN PHILLIP K                         65        ...          \n",
       "BADUM JAMES P                          NaN        ...          \n",
       "BANNANTINE JAMES M                       0        ...          \n",
       "BAXTER JOHN C                          NaN        ...          \n",
       "BAY FRANKLIN R                         NaN        ...          \n",
       "\n",
       "                   long_term_incentive    other    poi restricted_stock  \\\n",
       "ALLEN PHILLIP K                 304805      152  False           126027   \n",
       "BADUM JAMES P                      NaN      NaN  False              NaN   \n",
       "BANNANTINE JAMES M                 NaN   864523  False          1757552   \n",
       "BAXTER JOHN C                  1586055  2660303  False          3942714   \n",
       "BAY FRANKLIN R                     NaN       69  False           145796   \n",
       "\n",
       "                   restricted_stock_deferred  salary shared_receipt_with_poi  \\\n",
       "ALLEN PHILLIP K                      -126027  201955                    1407   \n",
       "BADUM JAMES P                            NaN     NaN                     NaN   \n",
       "BANNANTINE JAMES M                   -560222     477                     465   \n",
       "BAXTER JOHN C                            NaN  267102                     NaN   \n",
       "BAY FRANKLIN R                        -82782  239671                     NaN   \n",
       "\n",
       "                   to_messages total_payments total_stock_value  \n",
       "ALLEN PHILLIP K           2902        4484442           1729541  \n",
       "BADUM JAMES P              NaN         182466            257817  \n",
       "BANNANTINE JAMES M         566         916197           5243487  \n",
       "BAXTER JOHN C              NaN        5634343          10623258  \n",
       "BAY FRANKLIN R             NaN         827696             63014  \n",
       "\n",
       "[5 rows x 21 columns]"
      ]
     },
     "execution_count": 6,
     "metadata": {},
     "output_type": "execute_result"
    }
   ],
   "source": [
    "# Converting dictionary in dataframe.\n",
    "df_dict = pd.DataFrame(data_dict).transpose()\n",
    "\n",
    "# Printing the first 5 rows.\n",
    "df_dict.head()"
   ]
  },
  {
   "cell_type": "markdown",
   "metadata": {},
   "source": [
    ">How many variable available?"
   ]
  },
  {
   "cell_type": "code",
   "execution_count": 7,
   "metadata": {},
   "outputs": [
    {
     "name": "stdout",
     "output_type": "stream",
     "text": [
      "Variables:  21\n"
     ]
    }
   ],
   "source": [
    "# Are there how many variables?\n",
    "print \"Variables: \", df_dict.shape[1]"
   ]
  },
  {
   "cell_type": "markdown",
   "metadata": {},
   "source": [
    ">How many observations available?"
   ]
  },
  {
   "cell_type": "code",
   "execution_count": 8,
   "metadata": {},
   "outputs": [
    {
     "name": "stdout",
     "output_type": "stream",
     "text": [
      "Observations:  146\n"
     ]
    }
   ],
   "source": [
    "# Are there how many observations?\n",
    "print \"Observations: \", df_dict.shape[0]"
   ]
  },
  {
   "cell_type": "markdown",
   "metadata": {},
   "source": [
    ">What are the variables?"
   ]
  },
  {
   "cell_type": "code",
   "execution_count": 9,
   "metadata": {},
   "outputs": [
    {
     "data": {
      "text/plain": [
       "['bonus',\n",
       " 'deferral_payments',\n",
       " 'deferred_income',\n",
       " 'director_fees',\n",
       " 'email_address',\n",
       " 'exercised_stock_options',\n",
       " 'expenses',\n",
       " 'from_messages',\n",
       " 'from_poi_to_this_person',\n",
       " 'from_this_person_to_poi',\n",
       " 'loan_advances',\n",
       " 'long_term_incentive',\n",
       " 'other',\n",
       " 'poi',\n",
       " 'restricted_stock',\n",
       " 'restricted_stock_deferred',\n",
       " 'salary',\n",
       " 'shared_receipt_with_poi',\n",
       " 'to_messages',\n",
       " 'total_payments',\n",
       " 'total_stock_value']"
      ]
     },
     "execution_count": 9,
     "metadata": {},
     "output_type": "execute_result"
    }
   ],
   "source": [
    "# All variables available to choose.\n",
    "original_feat = ['poi', 'bonus', 'deferral_payments', 'deferred_income', 'director_fees', 'exercised_stock_options',\n",
    "                 'expenses', 'from_messages', 'from_poi_to_this_person', 'from_this_person_to_poi', 'loan_advances',\n",
    "                 'long_term_incentive', 'other', 'restricted_stock', 'restricted_stock_deferred', 'salary',\n",
    "                 'shared_receipt_with_poi', 'to_messages', 'total_payments', 'total_stock_value']\n",
    "\n",
    "# Priting all variables.\n",
    "df_dict.columns.tolist()"
   ]
  },
  {
   "cell_type": "markdown",
   "metadata": {},
   "source": [
    "These features could be divided into:\n",
    "\n",
    "\n",
    "**Other:**\n",
    "* POI.\n",
    "\n",
    "**Email Features:**\n",
    "* email_address;\n",
    "* from_messages;\n",
    "* to_messages;\n",
    "* from_poi_to_this_person;\n",
    "* from_this_person_to_poi, and;\n",
    "* shared_receipt_with_poi.\n",
    "\n",
    "**Financial Features:**\n",
    "* bonus;\n",
    "* deferral_payments;\n",
    "* deferred_income;\n",
    "* director_fees;\n",
    "* exercised_stock_options;\n",
    "* expenses;\n",
    "* loan_advances;\n",
    "* long_term_incentive;\n",
    "* other;\n",
    "* restricted_stock;\n",
    "* restricted_stock_deferred;\n",
    "* salary;\n",
    "* total_payments, and;\n",
    "* total_stock_value.\n",
    "\n",
    "Clearly, this dataframe has a lot of NaN, and for this reason I will select additional features according to the availability."
   ]
  },
  {
   "cell_type": "code",
   "execution_count": 10,
   "metadata": {},
   "outputs": [
    {
     "data": {
      "text/html": [
       "<div>\n",
       "<style scoped>\n",
       "    .dataframe tbody tr th:only-of-type {\n",
       "        vertical-align: middle;\n",
       "    }\n",
       "\n",
       "    .dataframe tbody tr th {\n",
       "        vertical-align: top;\n",
       "    }\n",
       "\n",
       "    .dataframe thead th {\n",
       "        text-align: right;\n",
       "    }\n",
       "</style>\n",
       "<table border=\"1\" class=\"dataframe\">\n",
       "  <thead>\n",
       "    <tr style=\"text-align: right;\">\n",
       "      <th></th>\n",
       "      <th>NaN [%]</th>\n",
       "    </tr>\n",
       "  </thead>\n",
       "  <tbody>\n",
       "    <tr>\n",
       "      <th>poi</th>\n",
       "      <td>0.00</td>\n",
       "    </tr>\n",
       "    <tr>\n",
       "      <th>total_stock_value</th>\n",
       "      <td>13.70</td>\n",
       "    </tr>\n",
       "    <tr>\n",
       "      <th>total_payments</th>\n",
       "      <td>14.38</td>\n",
       "    </tr>\n",
       "    <tr>\n",
       "      <th>email_address</th>\n",
       "      <td>23.97</td>\n",
       "    </tr>\n",
       "    <tr>\n",
       "      <th>restricted_stock</th>\n",
       "      <td>24.66</td>\n",
       "    </tr>\n",
       "    <tr>\n",
       "      <th>exercised_stock_options</th>\n",
       "      <td>30.14</td>\n",
       "    </tr>\n",
       "    <tr>\n",
       "      <th>salary</th>\n",
       "      <td>34.93</td>\n",
       "    </tr>\n",
       "    <tr>\n",
       "      <th>expenses</th>\n",
       "      <td>34.93</td>\n",
       "    </tr>\n",
       "    <tr>\n",
       "      <th>other</th>\n",
       "      <td>36.30</td>\n",
       "    </tr>\n",
       "    <tr>\n",
       "      <th>from_poi_to_this_person</th>\n",
       "      <td>41.10</td>\n",
       "    </tr>\n",
       "    <tr>\n",
       "      <th>from_messages</th>\n",
       "      <td>41.10</td>\n",
       "    </tr>\n",
       "    <tr>\n",
       "      <th>from_this_person_to_poi</th>\n",
       "      <td>41.10</td>\n",
       "    </tr>\n",
       "    <tr>\n",
       "      <th>to_messages</th>\n",
       "      <td>41.10</td>\n",
       "    </tr>\n",
       "    <tr>\n",
       "      <th>shared_receipt_with_poi</th>\n",
       "      <td>41.10</td>\n",
       "    </tr>\n",
       "    <tr>\n",
       "      <th>bonus</th>\n",
       "      <td>43.84</td>\n",
       "    </tr>\n",
       "    <tr>\n",
       "      <th>long_term_incentive</th>\n",
       "      <td>54.79</td>\n",
       "    </tr>\n",
       "    <tr>\n",
       "      <th>deferred_income</th>\n",
       "      <td>66.44</td>\n",
       "    </tr>\n",
       "    <tr>\n",
       "      <th>deferral_payments</th>\n",
       "      <td>73.29</td>\n",
       "    </tr>\n",
       "    <tr>\n",
       "      <th>restricted_stock_deferred</th>\n",
       "      <td>87.67</td>\n",
       "    </tr>\n",
       "    <tr>\n",
       "      <th>director_fees</th>\n",
       "      <td>88.36</td>\n",
       "    </tr>\n",
       "    <tr>\n",
       "      <th>loan_advances</th>\n",
       "      <td>97.26</td>\n",
       "    </tr>\n",
       "  </tbody>\n",
       "</table>\n",
       "</div>"
      ],
      "text/plain": [
       "                           NaN [%]\n",
       "poi                           0.00\n",
       "total_stock_value            13.70\n",
       "total_payments               14.38\n",
       "email_address                23.97\n",
       "restricted_stock             24.66\n",
       "exercised_stock_options      30.14\n",
       "salary                       34.93\n",
       "expenses                     34.93\n",
       "other                        36.30\n",
       "from_poi_to_this_person      41.10\n",
       "from_messages                41.10\n",
       "from_this_person_to_poi      41.10\n",
       "to_messages                  41.10\n",
       "shared_receipt_with_poi      41.10\n",
       "bonus                        43.84\n",
       "long_term_incentive          54.79\n",
       "deferred_income              66.44\n",
       "deferral_payments            73.29\n",
       "restricted_stock_deferred    87.67\n",
       "director_fees                88.36\n",
       "loan_advances                97.26"
      ]
     },
     "execution_count": 10,
     "metadata": {},
     "output_type": "execute_result"
    }
   ],
   "source": [
    "# Initializing a dictionary to store the NaN proportion.\n",
    "nan_proportion = dict()\n",
    "\n",
    "# Loop to create the proportion of NaN per variable.\n",
    "for index in df_dict.columns.tolist():\n",
    "    nan_proportion[index] = round(100 * sum(df_dict[index] == 'NaN')/float(len(df_dict[index])), 2)\n",
    "    \n",
    "# Converting in pandas DataFrame.\n",
    "nan_proportion = pd.DataFrame.from_dict(nan_proportion, orient='index', columns = ['NaN [%]'])\n",
    "\n",
    "# Sorting to show the variables with less NaN in the first rows.\n",
    "nan_proportion.sort_values('NaN [%]')"
   ]
  },
  {
   "cell_type": "markdown",
   "metadata": {},
   "source": [
    "There are some variable with a high rate of 'NaN', but this is totally acceptable because neither all employee has `director_fees`, `long_term_incentive`, etc. All definition of these variables could be found in the `enron61702insiderpay.pdf`, this document is available in the repository project (`ud120-projects/final_project`).\n",
    "\n",
    "The definition of two main variables:\n",
    "\n",
    "* `total_payments`, and;\n",
    "* `total_stock_value`.\n",
    "\n",
    "The `total_payments` is a summation of:\n",
    "\n",
    "* salary;\n",
    "* bonus;\n",
    "* long_term_incentive;\n",
    "* deferred_income;\n",
    "* deferral_payments;\n",
    "* loan_advances;\n",
    "* others;\n",
    "* expenses, and;\n",
    "* director_fees.\n",
    "\n",
    "Figure 1 shows a fragment of the `enron61702insiderpay.pdf` document.  \n",
    "\n",
    "<br>\n",
    "<center>\n",
    "<img src=\"01-img/nd111_project_04_01.png\" alt=\"Figure 1 - Total Payments Composition\" width=\"80%;\" />\n",
    "<em>Figure 1 - Total Payment composition.\n",
    "</em>\n",
    "</center>\n",
    "\n",
    "\n",
    "The `total_stock_value` is a summation of:\n",
    "\n",
    "* exercised_stock_options;\n",
    "* restricted_stock, and;\n",
    "* retricted_stock_deferred.\n",
    "\n",
    "Figure 1 shows a fragment of the `enron61702insiderpay.pdf` document.  \n",
    "\n",
    "<br>\n",
    "<center>\n",
    "<img src=\"01-img/nd111_project_04_02.png\" alt=\"Figure 2 - Total Stock Value Composition\" width=\"40%;\" />\n",
    "<em>Figure 2 - Total Stock Value.\n",
    "</em>\n",
    "</center>"
   ]
  },
  {
   "cell_type": "markdown",
   "metadata": {},
   "source": [
    "I will select `total_payments` and `total_stock_value` to be part of the `features_list`. I have some concerns about adding more features from the finance part due to a greater chance to add colinearity.\n",
    "\n",
    "As you can see, there are 7 variables without relation with `enron61702insiderpay.pdf`.\n",
    "\n",
    "* poi;\n",
    "* email_address;\n",
    "* from_poi_to_this_person;\n",
    "* from_messages;\n",
    "* from_this_person_to_poi;\n",
    "* to_messages, and;\n",
    "* shared_receipt_with_poi.\n",
    "\n",
    "From these 7 features, I will use:\n",
    "\n",
    "* from_poi_to_this_person;\n",
    "* from_this_person_to_poi;\n",
    "* shared_receipt_with_poi;\n",
    "* from_messages, and;\n",
    "* to_messages.\n",
    "\n",
    "For this reason, I will update the `features_list` adding those new features."
   ]
  },
  {
   "cell_type": "code",
   "execution_count": 11,
   "metadata": {},
   "outputs": [
    {
     "data": {
      "text/plain": [
       "['poi',\n",
       " 'salary',\n",
       " 'total_payments',\n",
       " 'total_stock_value',\n",
       " 'from_poi_to_this_person',\n",
       " 'from_this_person_to_poi',\n",
       " 'shared_receipt_with_poi',\n",
       " 'from_messages',\n",
       " 'to_messages']"
      ]
     },
     "execution_count": 11,
     "metadata": {},
     "output_type": "execute_result"
    }
   ],
   "source": [
    "# Adding the additional features.\n",
    "features_list.append('total_payments')\n",
    "features_list.append('total_stock_value')\n",
    "features_list.append('from_poi_to_this_person')\n",
    "features_list.append('from_this_person_to_poi')\n",
    "features_list.append('shared_receipt_with_poi')\n",
    "features_list.append('from_messages')\n",
    "features_list.append('to_messages')\n",
    "\n",
    "# Printing the new list of feature.\n",
    "features_list"
   ]
  },
  {
   "cell_type": "markdown",
   "metadata": {},
   "source": [
    "Let's have a look in the features selected plotting a straightforward scatter plot of `total_payments` and `salary`."
   ]
  },
  {
   "cell_type": "code",
   "execution_count": 12,
   "metadata": {},
   "outputs": [
    {
     "data": {
      "image/png": "[encoded data removed]",
      "text/plain": [
       "<Figure size 1008x432 with 1 Axes>"
      ]
     },
     "metadata": {
      "needs_background": "light"
     },
     "output_type": "display_data"
    }
   ],
   "source": [
    "# Visualizing the data.\n",
    "\n",
    "plt.figure(figsize = [14,6]);                 # Defining the figure size.\n",
    "sns.scatterplot(x = df_dict.salary,           # X axis feature.\n",
    "                y = df_dict.total_payments,   # Y axis feature.\n",
    "                alpha = 0.8);                 # Points transparency.\n",
    "plt.xlabel('Salary [USD]',                    # X axis label.\n",
    "           fontsize = 14);                    \n",
    "plt.ylabel('Total Payments [USD]',            # X axis label.\n",
    "           fontsize = 14);\n",
    "plt.title('Graphic 1 - Salary vs Total Payments', # Graphic Title.\n",
    "          fontsize = 20);"
   ]
  },
  {
   "cell_type": "markdown",
   "metadata": {},
   "source": [
    "Notable, there is a strange point far from the others, it is possible as outlier. Sorting the dataframe by the `salary` it is a good way to understand it."
   ]
  },
  {
   "cell_type": "code",
   "execution_count": 13,
   "metadata": {},
   "outputs": [
    {
     "data": {
      "text/html": [
       "<div>\n",
       "<style scoped>\n",
       "    .dataframe tbody tr th:only-of-type {\n",
       "        vertical-align: middle;\n",
       "    }\n",
       "\n",
       "    .dataframe tbody tr th {\n",
       "        vertical-align: top;\n",
       "    }\n",
       "\n",
       "    .dataframe thead th {\n",
       "        text-align: right;\n",
       "    }\n",
       "</style>\n",
       "<table border=\"1\" class=\"dataframe\">\n",
       "  <thead>\n",
       "    <tr style=\"text-align: right;\">\n",
       "      <th></th>\n",
       "      <th>salary</th>\n",
       "    </tr>\n",
       "  </thead>\n",
       "  <tbody>\n",
       "    <tr>\n",
       "      <th>TOTAL</th>\n",
       "      <td>26704229</td>\n",
       "    </tr>\n",
       "    <tr>\n",
       "      <th>SKILLING JEFFREY K</th>\n",
       "      <td>1111258</td>\n",
       "    </tr>\n",
       "    <tr>\n",
       "      <th>LAY KENNETH L</th>\n",
       "      <td>1072321</td>\n",
       "    </tr>\n",
       "    <tr>\n",
       "      <th>FREVERT MARK A</th>\n",
       "      <td>1060932</td>\n",
       "    </tr>\n",
       "    <tr>\n",
       "      <th>PICKERING MARK R</th>\n",
       "      <td>655037</td>\n",
       "    </tr>\n",
       "  </tbody>\n",
       "</table>\n",
       "</div>"
      ],
      "text/plain": [
       "                      salary\n",
       "TOTAL               26704229\n",
       "SKILLING JEFFREY K   1111258\n",
       "LAY KENNETH L        1072321\n",
       "FREVERT MARK A       1060932\n",
       "PICKERING MARK R      655037"
      ]
     },
     "execution_count": 13,
     "metadata": {},
     "output_type": "execute_result"
    }
   ],
   "source": [
    "# Sorting the salary, only the first 5 rows.\n",
    "df_dict.query('salary != \"NaN\"').sort_values('salary', ascending = False)[['salary']].head()"
   ]
  },
  {
   "cell_type": "markdown",
   "metadata": {},
   "source": [
    "Bear in mind, one of this observation is the `TOTAL`, which I should remove from the dataframe, because it is not an observation, it is an aggregate value.\n",
    "\n",
    "Table 1 show the problems to be fixed in Data Cleaning.\n",
    "\n",
    "<br><center><strong>Table 1 - Table of Issues.</strong>\n",
    "\n",
    "|Issue ID|Issue Type|Dimension|Method|Description|\n",
    "|:-:|:-:|:-:|:-:|:-:|\n",
    "|1|Quality|Validity|Visual|Remove the `TOTAL` observation because it is a aggregate information|\n",
    "\n",
    "</center>"
   ]
  },
  {
   "cell_type": "markdown",
   "metadata": {},
   "source": [
    "I will check all features from each employee to compute how many NaN are. If any the number of NaN reach 20 means that there are no information record for given employee."
   ]
  },
  {
   "cell_type": "code",
   "execution_count": 14,
   "metadata": {},
   "outputs": [],
   "source": [
    "# List to store the values of NaN for each employee. \n",
    "employee_nan = []\n",
    "\n",
    "for index in df_dict.transpose():\n",
    "    employee_nan.append([index, sum(df_dict.transpose()[index] == 'NaN')])"
   ]
  },
  {
   "cell_type": "code",
   "execution_count": 15,
   "metadata": {},
   "outputs": [
    {
     "data": {
      "text/html": [
       "<div>\n",
       "<style scoped>\n",
       "    .dataframe tbody tr th:only-of-type {\n",
       "        vertical-align: middle;\n",
       "    }\n",
       "\n",
       "    .dataframe tbody tr th {\n",
       "        vertical-align: top;\n",
       "    }\n",
       "\n",
       "    .dataframe thead th {\n",
       "        text-align: right;\n",
       "    }\n",
       "</style>\n",
       "<table border=\"1\" class=\"dataframe\">\n",
       "  <thead>\n",
       "    <tr style=\"text-align: right;\">\n",
       "      <th></th>\n",
       "      <th>Employee</th>\n",
       "      <th># NaN</th>\n",
       "    </tr>\n",
       "  </thead>\n",
       "  <tbody>\n",
       "    <tr>\n",
       "      <th>84</th>\n",
       "      <td>LOCKHART EUGENE E</td>\n",
       "      <td>20</td>\n",
       "    </tr>\n",
       "    <tr>\n",
       "      <th>138</th>\n",
       "      <td>WHALEY DAVID A</td>\n",
       "      <td>18</td>\n",
       "    </tr>\n",
       "    <tr>\n",
       "      <th>56</th>\n",
       "      <td>GRAMM WENDY L</td>\n",
       "      <td>18</td>\n",
       "    </tr>\n",
       "    <tr>\n",
       "      <th>127</th>\n",
       "      <td>THE TRAVEL AGENCY IN THE PARK</td>\n",
       "      <td>18</td>\n",
       "    </tr>\n",
       "    <tr>\n",
       "      <th>143</th>\n",
       "      <td>WROBEL BRUCE</td>\n",
       "      <td>18</td>\n",
       "    </tr>\n",
       "    <tr>\n",
       "      <th>53</th>\n",
       "      <td>GILLIS JOHN</td>\n",
       "      <td>17</td>\n",
       "    </tr>\n",
       "    <tr>\n",
       "      <th>142</th>\n",
       "      <td>WODRASKA JOHN</td>\n",
       "      <td>17</td>\n",
       "    </tr>\n",
       "    <tr>\n",
       "      <th>25</th>\n",
       "      <td>CLINE KENNETH W</td>\n",
       "      <td>17</td>\n",
       "    </tr>\n",
       "    <tr>\n",
       "      <th>133</th>\n",
       "      <td>WAKEHAM JOHN</td>\n",
       "      <td>17</td>\n",
       "    </tr>\n",
       "    <tr>\n",
       "      <th>114</th>\n",
       "      <td>SAVAGE FRANK</td>\n",
       "      <td>17</td>\n",
       "    </tr>\n",
       "  </tbody>\n",
       "</table>\n",
       "</div>"
      ],
      "text/plain": [
       "                          Employee  # NaN\n",
       "84               LOCKHART EUGENE E     20\n",
       "138                 WHALEY DAVID A     18\n",
       "56                   GRAMM WENDY L     18\n",
       "127  THE TRAVEL AGENCY IN THE PARK     18\n",
       "143                   WROBEL BRUCE     18\n",
       "53                     GILLIS JOHN     17\n",
       "142                  WODRASKA JOHN     17\n",
       "25                 CLINE KENNETH W     17\n",
       "133                   WAKEHAM JOHN     17\n",
       "114                   SAVAGE FRANK     17"
      ]
     },
     "execution_count": 15,
     "metadata": {},
     "output_type": "execute_result"
    }
   ],
   "source": [
    "# Converting the List in DataFrame.\n",
    "employee_nan = pd.DataFrame(employee_nan, columns = ['Employee','# NaN']).sort_values('# NaN', ascending = False)\n",
    "\n",
    "# Printing the first 10 rows.\n",
    "employee_nan.head(10)"
   ]
  },
  {
   "cell_type": "markdown",
   "metadata": {},
   "source": [
    "Without no doubt the employee `LOCKHART EUGENE E` do not have any information."
   ]
  },
  {
   "cell_type": "code",
   "execution_count": 16,
   "metadata": {},
   "outputs": [
    {
     "data": {
      "text/html": [
       "<div>\n",
       "<style scoped>\n",
       "    .dataframe tbody tr th:only-of-type {\n",
       "        vertical-align: middle;\n",
       "    }\n",
       "\n",
       "    .dataframe tbody tr th {\n",
       "        vertical-align: top;\n",
       "    }\n",
       "\n",
       "    .dataframe thead th {\n",
       "        text-align: right;\n",
       "    }\n",
       "</style>\n",
       "<table border=\"1\" class=\"dataframe\">\n",
       "  <thead>\n",
       "    <tr style=\"text-align: right;\">\n",
       "      <th></th>\n",
       "      <th>bonus</th>\n",
       "      <th>deferral_payments</th>\n",
       "      <th>deferred_income</th>\n",
       "      <th>director_fees</th>\n",
       "      <th>email_address</th>\n",
       "      <th>exercised_stock_options</th>\n",
       "      <th>expenses</th>\n",
       "      <th>from_messages</th>\n",
       "      <th>from_poi_to_this_person</th>\n",
       "      <th>from_this_person_to_poi</th>\n",
       "      <th>...</th>\n",
       "      <th>long_term_incentive</th>\n",
       "      <th>other</th>\n",
       "      <th>poi</th>\n",
       "      <th>restricted_stock</th>\n",
       "      <th>restricted_stock_deferred</th>\n",
       "      <th>salary</th>\n",
       "      <th>shared_receipt_with_poi</th>\n",
       "      <th>to_messages</th>\n",
       "      <th>total_payments</th>\n",
       "      <th>total_stock_value</th>\n",
       "    </tr>\n",
       "  </thead>\n",
       "  <tbody>\n",
       "    <tr>\n",
       "      <th>LOCKHART EUGENE E</th>\n",
       "      <td>NaN</td>\n",
       "      <td>NaN</td>\n",
       "      <td>NaN</td>\n",
       "      <td>NaN</td>\n",
       "      <td>NaN</td>\n",
       "      <td>NaN</td>\n",
       "      <td>NaN</td>\n",
       "      <td>NaN</td>\n",
       "      <td>NaN</td>\n",
       "      <td>NaN</td>\n",
       "      <td>...</td>\n",
       "      <td>NaN</td>\n",
       "      <td>NaN</td>\n",
       "      <td>False</td>\n",
       "      <td>NaN</td>\n",
       "      <td>NaN</td>\n",
       "      <td>NaN</td>\n",
       "      <td>NaN</td>\n",
       "      <td>NaN</td>\n",
       "      <td>NaN</td>\n",
       "      <td>NaN</td>\n",
       "    </tr>\n",
       "  </tbody>\n",
       "</table>\n",
       "<p>1 rows × 21 columns</p>\n",
       "</div>"
      ],
      "text/plain": [
       "                  bonus deferral_payments deferred_income director_fees  \\\n",
       "LOCKHART EUGENE E   NaN               NaN             NaN           NaN   \n",
       "\n",
       "                  email_address exercised_stock_options expenses  \\\n",
       "LOCKHART EUGENE E           NaN                     NaN      NaN   \n",
       "\n",
       "                  from_messages from_poi_to_this_person  \\\n",
       "LOCKHART EUGENE E           NaN                     NaN   \n",
       "\n",
       "                  from_this_person_to_poi        ...         \\\n",
       "LOCKHART EUGENE E                     NaN        ...          \n",
       "\n",
       "                  long_term_incentive other    poi restricted_stock  \\\n",
       "LOCKHART EUGENE E                 NaN   NaN  False              NaN   \n",
       "\n",
       "                  restricted_stock_deferred salary shared_receipt_with_poi  \\\n",
       "LOCKHART EUGENE E                       NaN    NaN                     NaN   \n",
       "\n",
       "                  to_messages total_payments total_stock_value  \n",
       "LOCKHART EUGENE E         NaN            NaN               NaN  \n",
       "\n",
       "[1 rows x 21 columns]"
      ]
     },
     "execution_count": 16,
     "metadata": {},
     "output_type": "execute_result"
    }
   ],
   "source": [
    "# Printing the info from LOCKHART EUGENE E.\n",
    "df_dict.loc[['LOCKHART EUGENE E']]"
   ]
  },
  {
   "cell_type": "markdown",
   "metadata": {},
   "source": [
    "Probably the `THE TRAVEL AGENCY IN THE PARK` is not a employee, and for this reason I also will remove it.\n",
    "\n",
    "There are some employees, which needs some further investigation as you can see in the query below."
   ]
  },
  {
   "cell_type": "code",
   "execution_count": 17,
   "metadata": {},
   "outputs": [
    {
     "data": {
      "text/html": [
       "<div>\n",
       "<style scoped>\n",
       "    .dataframe tbody tr th:only-of-type {\n",
       "        vertical-align: middle;\n",
       "    }\n",
       "\n",
       "    .dataframe tbody tr th {\n",
       "        vertical-align: top;\n",
       "    }\n",
       "\n",
       "    .dataframe thead th {\n",
       "        text-align: right;\n",
       "    }\n",
       "</style>\n",
       "<table border=\"1\" class=\"dataframe\">\n",
       "  <thead>\n",
       "    <tr style=\"text-align: right;\">\n",
       "      <th></th>\n",
       "      <th>bonus</th>\n",
       "      <th>deferral_payments</th>\n",
       "      <th>deferred_income</th>\n",
       "      <th>director_fees</th>\n",
       "      <th>email_address</th>\n",
       "      <th>exercised_stock_options</th>\n",
       "      <th>expenses</th>\n",
       "      <th>from_messages</th>\n",
       "      <th>from_poi_to_this_person</th>\n",
       "      <th>from_this_person_to_poi</th>\n",
       "      <th>...</th>\n",
       "      <th>long_term_incentive</th>\n",
       "      <th>other</th>\n",
       "      <th>poi</th>\n",
       "      <th>restricted_stock</th>\n",
       "      <th>restricted_stock_deferred</th>\n",
       "      <th>salary</th>\n",
       "      <th>shared_receipt_with_poi</th>\n",
       "      <th>to_messages</th>\n",
       "      <th>total_payments</th>\n",
       "      <th>total_stock_value</th>\n",
       "    </tr>\n",
       "  </thead>\n",
       "  <tbody>\n",
       "    <tr>\n",
       "      <th>LOCKHART EUGENE E</th>\n",
       "      <td>NaN</td>\n",
       "      <td>NaN</td>\n",
       "      <td>NaN</td>\n",
       "      <td>NaN</td>\n",
       "      <td>NaN</td>\n",
       "      <td>NaN</td>\n",
       "      <td>NaN</td>\n",
       "      <td>NaN</td>\n",
       "      <td>NaN</td>\n",
       "      <td>NaN</td>\n",
       "      <td>...</td>\n",
       "      <td>NaN</td>\n",
       "      <td>NaN</td>\n",
       "      <td>False</td>\n",
       "      <td>NaN</td>\n",
       "      <td>NaN</td>\n",
       "      <td>NaN</td>\n",
       "      <td>NaN</td>\n",
       "      <td>NaN</td>\n",
       "      <td>NaN</td>\n",
       "      <td>NaN</td>\n",
       "    </tr>\n",
       "    <tr>\n",
       "      <th>GRAMM WENDY L</th>\n",
       "      <td>NaN</td>\n",
       "      <td>NaN</td>\n",
       "      <td>NaN</td>\n",
       "      <td>119292</td>\n",
       "      <td>NaN</td>\n",
       "      <td>NaN</td>\n",
       "      <td>NaN</td>\n",
       "      <td>NaN</td>\n",
       "      <td>NaN</td>\n",
       "      <td>NaN</td>\n",
       "      <td>...</td>\n",
       "      <td>NaN</td>\n",
       "      <td>NaN</td>\n",
       "      <td>False</td>\n",
       "      <td>NaN</td>\n",
       "      <td>NaN</td>\n",
       "      <td>NaN</td>\n",
       "      <td>NaN</td>\n",
       "      <td>NaN</td>\n",
       "      <td>119292</td>\n",
       "      <td>NaN</td>\n",
       "    </tr>\n",
       "    <tr>\n",
       "      <th>THE TRAVEL AGENCY IN THE PARK</th>\n",
       "      <td>NaN</td>\n",
       "      <td>NaN</td>\n",
       "      <td>NaN</td>\n",
       "      <td>NaN</td>\n",
       "      <td>NaN</td>\n",
       "      <td>NaN</td>\n",
       "      <td>NaN</td>\n",
       "      <td>NaN</td>\n",
       "      <td>NaN</td>\n",
       "      <td>NaN</td>\n",
       "      <td>...</td>\n",
       "      <td>NaN</td>\n",
       "      <td>362096</td>\n",
       "      <td>False</td>\n",
       "      <td>NaN</td>\n",
       "      <td>NaN</td>\n",
       "      <td>NaN</td>\n",
       "      <td>NaN</td>\n",
       "      <td>NaN</td>\n",
       "      <td>362096</td>\n",
       "      <td>NaN</td>\n",
       "    </tr>\n",
       "    <tr>\n",
       "      <th>WODRASKA JOHN</th>\n",
       "      <td>NaN</td>\n",
       "      <td>NaN</td>\n",
       "      <td>NaN</td>\n",
       "      <td>NaN</td>\n",
       "      <td>john.wodraska@enron.com</td>\n",
       "      <td>NaN</td>\n",
       "      <td>NaN</td>\n",
       "      <td>NaN</td>\n",
       "      <td>NaN</td>\n",
       "      <td>NaN</td>\n",
       "      <td>...</td>\n",
       "      <td>NaN</td>\n",
       "      <td>189583</td>\n",
       "      <td>False</td>\n",
       "      <td>NaN</td>\n",
       "      <td>NaN</td>\n",
       "      <td>NaN</td>\n",
       "      <td>NaN</td>\n",
       "      <td>NaN</td>\n",
       "      <td>189583</td>\n",
       "      <td>NaN</td>\n",
       "    </tr>\n",
       "    <tr>\n",
       "      <th>WAKEHAM JOHN</th>\n",
       "      <td>NaN</td>\n",
       "      <td>NaN</td>\n",
       "      <td>NaN</td>\n",
       "      <td>109298</td>\n",
       "      <td>NaN</td>\n",
       "      <td>NaN</td>\n",
       "      <td>103773</td>\n",
       "      <td>NaN</td>\n",
       "      <td>NaN</td>\n",
       "      <td>NaN</td>\n",
       "      <td>...</td>\n",
       "      <td>NaN</td>\n",
       "      <td>NaN</td>\n",
       "      <td>False</td>\n",
       "      <td>NaN</td>\n",
       "      <td>NaN</td>\n",
       "      <td>NaN</td>\n",
       "      <td>NaN</td>\n",
       "      <td>NaN</td>\n",
       "      <td>213071</td>\n",
       "      <td>NaN</td>\n",
       "    </tr>\n",
       "    <tr>\n",
       "      <th>SAVAGE FRANK</th>\n",
       "      <td>NaN</td>\n",
       "      <td>NaN</td>\n",
       "      <td>-121284</td>\n",
       "      <td>125034</td>\n",
       "      <td>NaN</td>\n",
       "      <td>NaN</td>\n",
       "      <td>NaN</td>\n",
       "      <td>NaN</td>\n",
       "      <td>NaN</td>\n",
       "      <td>NaN</td>\n",
       "      <td>...</td>\n",
       "      <td>NaN</td>\n",
       "      <td>NaN</td>\n",
       "      <td>False</td>\n",
       "      <td>NaN</td>\n",
       "      <td>NaN</td>\n",
       "      <td>NaN</td>\n",
       "      <td>NaN</td>\n",
       "      <td>NaN</td>\n",
       "      <td>3750</td>\n",
       "      <td>NaN</td>\n",
       "    </tr>\n",
       "  </tbody>\n",
       "</table>\n",
       "<p>6 rows × 21 columns</p>\n",
       "</div>"
      ],
      "text/plain": [
       "                              bonus deferral_payments deferred_income  \\\n",
       "LOCKHART EUGENE E               NaN               NaN             NaN   \n",
       "GRAMM WENDY L                   NaN               NaN             NaN   \n",
       "THE TRAVEL AGENCY IN THE PARK   NaN               NaN             NaN   \n",
       "WODRASKA JOHN                   NaN               NaN             NaN   \n",
       "WAKEHAM JOHN                    NaN               NaN             NaN   \n",
       "SAVAGE FRANK                    NaN               NaN         -121284   \n",
       "\n",
       "                              director_fees            email_address  \\\n",
       "LOCKHART EUGENE E                       NaN                      NaN   \n",
       "GRAMM WENDY L                        119292                      NaN   \n",
       "THE TRAVEL AGENCY IN THE PARK           NaN                      NaN   \n",
       "WODRASKA JOHN                           NaN  john.wodraska@enron.com   \n",
       "WAKEHAM JOHN                         109298                      NaN   \n",
       "SAVAGE FRANK                         125034                      NaN   \n",
       "\n",
       "                              exercised_stock_options expenses from_messages  \\\n",
       "LOCKHART EUGENE E                                 NaN      NaN           NaN   \n",
       "GRAMM WENDY L                                     NaN      NaN           NaN   \n",
       "THE TRAVEL AGENCY IN THE PARK                     NaN      NaN           NaN   \n",
       "WODRASKA JOHN                                     NaN      NaN           NaN   \n",
       "WAKEHAM JOHN                                      NaN   103773           NaN   \n",
       "SAVAGE FRANK                                      NaN      NaN           NaN   \n",
       "\n",
       "                              from_poi_to_this_person from_this_person_to_poi  \\\n",
       "LOCKHART EUGENE E                                 NaN                     NaN   \n",
       "GRAMM WENDY L                                     NaN                     NaN   \n",
       "THE TRAVEL AGENCY IN THE PARK                     NaN                     NaN   \n",
       "WODRASKA JOHN                                     NaN                     NaN   \n",
       "WAKEHAM JOHN                                      NaN                     NaN   \n",
       "SAVAGE FRANK                                      NaN                     NaN   \n",
       "\n",
       "                                     ...        long_term_incentive   other  \\\n",
       "LOCKHART EUGENE E                    ...                        NaN     NaN   \n",
       "GRAMM WENDY L                        ...                        NaN     NaN   \n",
       "THE TRAVEL AGENCY IN THE PARK        ...                        NaN  362096   \n",
       "WODRASKA JOHN                        ...                        NaN  189583   \n",
       "WAKEHAM JOHN                         ...                        NaN     NaN   \n",
       "SAVAGE FRANK                         ...                        NaN     NaN   \n",
       "\n",
       "                                 poi restricted_stock  \\\n",
       "LOCKHART EUGENE E              False              NaN   \n",
       "GRAMM WENDY L                  False              NaN   \n",
       "THE TRAVEL AGENCY IN THE PARK  False              NaN   \n",
       "WODRASKA JOHN                  False              NaN   \n",
       "WAKEHAM JOHN                   False              NaN   \n",
       "SAVAGE FRANK                   False              NaN   \n",
       "\n",
       "                              restricted_stock_deferred salary  \\\n",
       "LOCKHART EUGENE E                                   NaN    NaN   \n",
       "GRAMM WENDY L                                       NaN    NaN   \n",
       "THE TRAVEL AGENCY IN THE PARK                       NaN    NaN   \n",
       "WODRASKA JOHN                                       NaN    NaN   \n",
       "WAKEHAM JOHN                                        NaN    NaN   \n",
       "SAVAGE FRANK                                        NaN    NaN   \n",
       "\n",
       "                              shared_receipt_with_poi to_messages  \\\n",
       "LOCKHART EUGENE E                                 NaN         NaN   \n",
       "GRAMM WENDY L                                     NaN         NaN   \n",
       "THE TRAVEL AGENCY IN THE PARK                     NaN         NaN   \n",
       "WODRASKA JOHN                                     NaN         NaN   \n",
       "WAKEHAM JOHN                                      NaN         NaN   \n",
       "SAVAGE FRANK                                      NaN         NaN   \n",
       "\n",
       "                              total_payments total_stock_value  \n",
       "LOCKHART EUGENE E                        NaN               NaN  \n",
       "GRAMM WENDY L                         119292               NaN  \n",
       "THE TRAVEL AGENCY IN THE PARK         362096               NaN  \n",
       "WODRASKA JOHN                         189583               NaN  \n",
       "WAKEHAM JOHN                          213071               NaN  \n",
       "SAVAGE FRANK                            3750               NaN  \n",
       "\n",
       "[6 rows x 21 columns]"
      ]
     },
     "execution_count": 17,
     "metadata": {},
     "output_type": "execute_result"
    }
   ],
   "source": [
    "# Employees without salary and total_stock_value.\n",
    "df_dict.loc[employee_nan.Employee[:10].tolist()].query('salary == \"NaN\"').query('total_stock_value == \"NaN\"')"
   ]
  },
  {
   "cell_type": "markdown",
   "metadata": {},
   "source": [
    "I do not have any strong reason to remove them, although the most information is NaN I can not discard it.\n",
    "\n",
    "Table 2 shows all the issues I have found in the dataset.\n",
    "\n",
    "<br><center><strong>Table 2 - Table of Issues.</strong>\n",
    "\n",
    "|Issue ID|Issue Type|Dimension|Method|Description|\n",
    "|:-:|:-:|:-:|:-:|:-:|\n",
    "|1|Quality|Validity|Visual|Remove the `TOTAL` observation because it is a aggregate information.|\n",
    "|2|Quality|Validity|Programmatic|Remove the `LOCKHART EUGENE E` observation because it only have NaN.|\n",
    "|3|Quality|Validity|Programmatic|Remove the `THE TRAVEL AGENCY IN THE PARK` observation because it is not a employee.|\n",
    "\n",
    "</center>"
   ]
  },
  {
   "cell_type": "markdown",
   "metadata": {},
   "source": [
    "### 2.3. Data Cleaning <a id='cleaning'></a>\n",
    "\n",
    "Fortunately, there is only one problem pointed out in the Data Assessing.\n",
    "\n",
    "#### Issue ID 1\n",
    "\n",
    ">**Issue:** Remove the observation TOTAL.\n",
    "\n",
    "**Define**\n",
    "\n",
    "* Remove from the `data_dict` the key `TOTAL`.\n",
    "\n",
    "**Code**"
   ]
  },
  {
   "cell_type": "code",
   "execution_count": 18,
   "metadata": {},
   "outputs": [],
   "source": [
    "# Copying the original dictionary.\n",
    "data_dict_clean = data_dict.copy()\n",
    "\n",
    "# Removing the key TOTAL.\n",
    "data_dict_clean.pop('TOTAL');"
   ]
  },
  {
   "cell_type": "markdown",
   "metadata": {},
   "source": [
    "**Test**"
   ]
  },
  {
   "cell_type": "markdown",
   "metadata": {},
   "source": [
    "Visualy I can assure the `TOTAL` removal plotting the `salary` by `total_payments`."
   ]
  },
  {
   "cell_type": "code",
   "execution_count": 19,
   "metadata": {},
   "outputs": [
    {
     "data": {
      "image/png": "[encoded data removed]",
      "text/plain": [
       "<Figure size 1008x432 with 1 Axes>"
      ]
     },
     "metadata": {
      "needs_background": "light"
     },
     "output_type": "display_data"
    }
   ],
   "source": [
    "# Creating a dataframe to be used to plot the graphic. This is a temporaly variable.\n",
    "df_clean = pd.DataFrame(data_dict_clean).transpose()\n",
    "\n",
    "# Visualizing the data.\n",
    "\n",
    "plt.figure(figsize = [14,6]);                 # Defining the figure size.\n",
    "sns.scatterplot(x = df_clean.salary,           # X axis feature.\n",
    "                y = df_clean.total_payments,   # Y axis feature.\n",
    "                alpha = 0.8);                 # Points transparency.\n",
    "plt.xlabel('Salary [USD]',                    # X axis label.\n",
    "           fontsize = 14);                    \n",
    "plt.ylabel('Total Payments [USD]',            # X axis label.\n",
    "           fontsize = 14);\n",
    "plt.title('Graphic 2 - Salary vs Total Payments without Outlier', # Graphic Title.\n",
    "          fontsize = 20);"
   ]
  },
  {
   "cell_type": "markdown",
   "metadata": {},
   "source": [
    "Programmaticly I can confirm the exclusion of the `TOTAL` checking the existency in the index."
   ]
  },
  {
   "cell_type": "code",
   "execution_count": 20,
   "metadata": {},
   "outputs": [
    {
     "data": {
      "text/plain": [
       "0"
      ]
     },
     "execution_count": 20,
     "metadata": {},
     "output_type": "execute_result"
    }
   ],
   "source": [
    "# Confirming the exclusion of TOTAL from the dataframe.\n",
    "sum(df_clean.index == 'TOTAL') # 0: removed; 1: Not removed"
   ]
  },
  {
   "cell_type": "markdown",
   "metadata": {},
   "source": [
    "#### Issue ID 2\n",
    "\n",
    ">**Issue:** Remove the observation LOCKHART EUGENE E.\n",
    "\n",
    "**Define**\n",
    "\n",
    "* Remove from the `data_dict` the key `LOCKHART EUGENE E`.\n",
    "\n",
    "**Code**"
   ]
  },
  {
   "cell_type": "code",
   "execution_count": 21,
   "metadata": {},
   "outputs": [],
   "source": [
    "# Removing the key LOCKHART EUGENE E.\n",
    "data_dict_clean.pop('LOCKHART EUGENE E');"
   ]
  },
  {
   "cell_type": "markdown",
   "metadata": {},
   "source": [
    "**Test**"
   ]
  },
  {
   "cell_type": "code",
   "execution_count": 22,
   "metadata": {},
   "outputs": [
    {
     "data": {
      "text/plain": [
       "0"
      ]
     },
     "execution_count": 22,
     "metadata": {},
     "output_type": "execute_result"
    }
   ],
   "source": [
    "# Temporaly variable only to justify this test.\n",
    "df_clean = pd.DataFrame(data_dict_clean).transpose()\n",
    "\n",
    "# Confirming the exclusion of TOTAL from the dataframe.\n",
    "sum(df_clean.index == 'LOCKHART EUGENE E') # 0: removed; 1: Not removed"
   ]
  },
  {
   "cell_type": "markdown",
   "metadata": {},
   "source": [
    "#### Issue ID 3\n",
    "\n",
    ">**Issue:** Remove the observation THE TRAVEL AGENCY IN THE PARK.\n",
    "\n",
    "**Define**\n",
    "\n",
    "* Remove from the `data_dict` the key `THE TRAVEL AGENCY IN THE PARK`.\n",
    "\n",
    "**Code**"
   ]
  },
  {
   "cell_type": "code",
   "execution_count": 23,
   "metadata": {},
   "outputs": [],
   "source": [
    "# Removing the key THE TRAVEL AGENCY IN THE PARK.\n",
    "data_dict_clean.pop('THE TRAVEL AGENCY IN THE PARK');"
   ]
  },
  {
   "cell_type": "markdown",
   "metadata": {},
   "source": [
    "**Test**"
   ]
  },
  {
   "cell_type": "code",
   "execution_count": 24,
   "metadata": {},
   "outputs": [
    {
     "data": {
      "text/plain": [
       "0"
      ]
     },
     "execution_count": 24,
     "metadata": {},
     "output_type": "execute_result"
    }
   ],
   "source": [
    "# Temporaly variable only to justify this test.\n",
    "df_clean = pd.DataFrame(data_dict_clean).transpose()\n",
    "\n",
    "# Confirming the exclusion of TOTAL from the dataframe.\n",
    "sum(df_clean.index == 'THE TRAVEL AGENCY IN THE PARK') # 0: removed; 1: Not removed"
   ]
  },
  {
   "cell_type": "markdown",
   "metadata": {},
   "source": [
    "#### Checking Dataframe\n",
    "\n",
    "Lastly, I have removed 3 keys due to different reasons.\n",
    "\n",
    "Initially, the dataframe had 146 observations and I expect 143 after the cleaning process."
   ]
  },
  {
   "cell_type": "code",
   "execution_count": 25,
   "metadata": {},
   "outputs": [
    {
     "name": "stdout",
     "output_type": "stream",
     "text": [
      "Number of observations:  143\n"
     ]
    }
   ],
   "source": [
    "# Number of valid observations. \n",
    "print \"Number of observations: \", df_clean.shape[0]"
   ]
  },
  {
   "cell_type": "markdown",
   "metadata": {},
   "source": [
    "### Task 2 - Removing Outliers <a id='task2'></a>\n",
    "\n",
    ">**Remove outliers**\n",
    "\n",
    "I have removed the `TOTAL` observation because it is a aggregation. The reason to keep the extreme values from LAY KENNETH L, LAVORATO JOHN J, SKILLING JEFFREY K, and other are due to removing I them I will lose information, and it still valid points.\n",
    "\n",
    "I also have removed `LOCKHART EUGENE E` and `THE TRAVEL AGENCY IN THE PARK` because they were not good observations and only will insert noise. The latter has only NaN and the former is not a employee."
   ]
  },
  {
   "cell_type": "markdown",
   "metadata": {},
   "source": [
    "### 2.4. Exporting to JSON <a id='exporting'></a>\n",
    "\n",
    "I have decided to export the `data_dict_clean` dictionary to a JSON file to use it in the [Tableau Public][tableau_public_url].\n",
    "\n",
    "[tableau_public_url]: https://public.tableau.com/en-us/s/"
   ]
  },
  {
   "cell_type": "code",
   "execution_count": 26,
   "metadata": {},
   "outputs": [],
   "source": [
    "# Copying\n",
    "df_export = df_clean.copy()\n",
    "\n",
    "# Converting features to float. \n",
    "df_export.deferral_payments = df_clean.deferral_payments.astype(float)\n",
    "df_export.deferred_income = df_clean.deferred_income.astype(float)\n",
    "df_export.director_fees = df_clean.director_fees.astype(float)\n",
    "df_export.exercised_stock_options = df_clean.exercised_stock_options.astype(float)\n",
    "df_export.loan_advances= df_clean.loan_advances.astype(float)\n",
    "df_export.long_term_incentive= df_clean.long_term_incentive.astype(float)\n",
    "df_export.restricted_stock_deferred= df_clean.restricted_stock_deferred.astype(float)\n",
    "\n",
    "# Adding an extra columns with names.\n",
    "df_export['name'] = df_export.index\n",
    "\n",
    "# Creating a dictionary.\n",
    "dict_export = df_export.to_json(orient='records')\n",
    "\n",
    "# Writing the df_dict_clean.json in the root folder.\n",
    "with open('df_dict_clean.json', mode = 'w') as file:\n",
    "    file.write(dict_export)"
   ]
  },
  {
   "cell_type": "markdown",
   "metadata": {},
   "source": [
    "***"
   ]
  },
  {
   "cell_type": "markdown",
   "metadata": {},
   "source": [
    "## 3. Exploratory Data Analysis  <a id='eda'></a>\n",
    "\n",
    "In consonance with the Part 6 Data Visualisation of this course, I will perform the EDA using the [Tableau Public][tableau_public_url], although this is not a requirement I will push myself to use this project as an opportunity put it in pratice.\n",
    "\n",
    "[tableau_public_url]: https://public.tableau.com/en-us/s/\n",
    "\n",
    "The file `df_dict_clean.json` exported in [2.4. Exporting to JSON](#exporting) was used as input of Tableau Public.\n",
    "\n",
    "### 3.1. Tableau Public <a id='story'></a>\n",
    "\n",
    "I have created a Story to explain the EDA process."
   ]
  },
  {
   "cell_type": "code",
   "execution_count": 27,
   "metadata": {},
   "outputs": [
    {
     "data": {
      "text/html": [
       "<div class='tableauPlaceholder' id='viz1548537594428' style='position: relative'><noscript><a href='#'><img alt=' ' src='https:&#47;&#47;public.tableau.com&#47;static&#47;images&#47;nd&#47;nd111_project_04&#47;EDA&#47;1_rss.png' style='border: none' /></a></noscript><object class='tableauViz'  style='display:none;'><param name='host_url' value='https%3A%2F%2Fpublic.tableau.com%2F' /> <param name='embed_code_version' value='3' /> <param name='site_root' value='' /><param name='name' value='nd111_project_04&#47;EDA' /><param name='tabs' value='no' /><param name='toolbar' value='yes' /><param name='static_image' value='https:&#47;&#47;public.tableau.com&#47;static&#47;images&#47;nd&#47;nd111_project_04&#47;EDA&#47;1.png' /> <param name='animate_transition' value='yes' /><param name='display_static_image' value='yes' /><param name='display_spinner' value='yes' /><param name='display_overlay' value='yes' /><param name='display_count' value='yes' /></object></div>                <script type='text/javascript'>                    var divElement = document.getElementById('viz1548537594428');                    var vizElement = divElement.getElementsByTagName('object')[0];                    vizElement.style.width='100%';vizElement.style.height=(divElement.offsetWidth*0.75)+'px';                    var scriptElement = document.createElement('script');                    scriptElement.src = 'https://public.tableau.com/javascripts/api/viz_v1.js';                    vizElement.parentNode.insertBefore(scriptElement, vizElement);                </script>"
      ],
      "text/plain": [
       "<IPython.core.display.HTML object>"
      ]
     },
     "metadata": {},
     "output_type": "display_data"
    }
   ],
   "source": [
    "%%HTML\n",
    "<div class='tableauPlaceholder' id='viz1548537594428' style='position: relative'><noscript><a href='#'><img alt=' ' src='https:&#47;&#47;public.tableau.com&#47;static&#47;images&#47;nd&#47;nd111_project_04&#47;EDA&#47;1_rss.png' style='border: none' /></a></noscript><object class='tableauViz'  style='display:none;'><param name='host_url' value='https%3A%2F%2Fpublic.tableau.com%2F' /> <param name='embed_code_version' value='3' /> <param name='site_root' value='' /><param name='name' value='nd111_project_04&#47;EDA' /><param name='tabs' value='no' /><param name='toolbar' value='yes' /><param name='static_image' value='https:&#47;&#47;public.tableau.com&#47;static&#47;images&#47;nd&#47;nd111_project_04&#47;EDA&#47;1.png' /> <param name='animate_transition' value='yes' /><param name='display_static_image' value='yes' /><param name='display_spinner' value='yes' /><param name='display_overlay' value='yes' /><param name='display_count' value='yes' /></object></div>                <script type='text/javascript'>                    var divElement = document.getElementById('viz1548537594428');                    var vizElement = divElement.getElementsByTagName('object')[0];                    vizElement.style.width='100%';vizElement.style.height=(divElement.offsetWidth*0.75)+'px';                    var scriptElement = document.createElement('script');                    scriptElement.src = 'https://public.tableau.com/javascripts/api/viz_v1.js';                    vizElement.parentNode.insertBefore(scriptElement, vizElement);                </script>"
   ]
  },
  {
   "cell_type": "markdown",
   "metadata": {},
   "source": [
    "### 3.2. Feature Engineering <a id='feature_engineering'></a>\n",
    "\n",
    "Founded on the principle of create new features to enhance the model, I will create 4 features:\n",
    "\n",
    "* **ratio_to_from:**\n",
    "\n",
    "$$\\text{ratio_to_from} = \\frac{\\text{to_messages}}{\\text{from_messages}} \\tag{1}$$\n",
    "\n",
    "* **ratio_from_poi:**\n",
    "\n",
    "$$\\text{ratio_from_poi} = \\frac{\\text{from_poi_to_this_person}}{\\text{from_messages}} \\tag{2}$$\n",
    "\n",
    "* **ratio_to_poi:**\n",
    "\n",
    "$$\\text{ratio_to_poi} = \\frac{\\text{from_this_person_to_poi}}{\\text{to_messages}} \\tag{3}$$\n",
    "\n",
    "* **ratio_from_poi_share:**\n",
    "\n",
    "$$\\text{ratio_from_poi_share} = \\frac{\\text{shared_receipt_with_poi}}{\\text{from_messages}} \\tag{4}$$\n",
    "\n",
    "Later in Feature Selection item, I will analise each of these new features, if it is relevant to the model I will use it, if not I just need to drop out. "
   ]
  },
  {
   "cell_type": "code",
   "execution_count": 28,
   "metadata": {},
   "outputs": [],
   "source": [
    "# Copying the df_clean, because I need a backup.\n",
    "df_eda = df_clean.copy()"
   ]
  },
  {
   "cell_type": "code",
   "execution_count": 29,
   "metadata": {},
   "outputs": [],
   "source": [
    "# Defining a function to create the feature engineering.\n",
    "def feature_engineering(df, ratio_name, variable_numerator, variable_denominator):\n",
    "    \"\"\"\n",
    "    +--------------------------------------------------------------------------------------------------+\n",
    "    |DESCRIPTION:                                                                                      |\n",
    "    |                                                                                                  |\n",
    "    |    This function creates the ratio between two variables and store to a dataframe.               |\n",
    "    |                                                                                                  |\n",
    "    +--------------------------------------------------------------------------------------------------+\n",
    "    |INPUT:                                                                                            |\n",
    "    |                                                                                                  |\n",
    "    |    VARIABLE:                                                                                     |\n",
    "    |                                                                                                  |\n",
    "    |    df: Dataframe to insert the new ratio.                                                        |\n",
    "    |                                                                                                  |\n",
    "    |    ratio_name: Ratio's name.                                                                     |\n",
    "    |                                                                                                  |\n",
    "    |    variable_numerator: The feature to be divided by the numerator.                               |\n",
    "    |                                                                                                  |\n",
    "    |    variable_denominator: The feature to divide the denominator.                                  |\n",
    "    |                                                                                                  |\n",
    "    +--------------------------------------------------------------------------------------------------+\n",
    "    |OUTPUT:                                                                                           |\n",
    "    |                                                                                                  |\n",
    "    |    VARIABLE:                                                                                     |\n",
    "    |                                                                                                  |\n",
    "    |    df: Dataframe with the ratio stored as a new column.                                          |\n",
    "    |                                                                                                  |\n",
    "    +--------------------------------------------------------------------------------------------------+\n",
    "    \"\"\"\n",
    "    # Temporaly variable.\n",
    "    temp = []\n",
    "    \n",
    "    # Loop to create the ratio.\n",
    "    for num,den in zip(variable_numerator, variable_denominator):\n",
    "        # For each value will analise if is a NaN or not.\n",
    "        if den == 0:\n",
    "            temp.append(0.)\n",
    "        elif (num != 'NaN') & (den != 'NaN'):\n",
    "            temp.append(num/float(den))\n",
    "        else:\n",
    "            temp.append(0.)\n",
    "\n",
    "    # Adding the new column.\n",
    "    df[str(ratio_name)] = temp\n",
    "    \n",
    "    return df"
   ]
  },
  {
   "cell_type": "markdown",
   "metadata": {},
   "source": [
    "### Task 3 - Creating new features <a id='task3'></a>\n",
    "\n",
    ">**Create new feature(s)**\n",
    "\n",
    "Based on equations (1), (2), (3) and (4) and using the function `feature_engineering`, I will add to the dataset three new features."
   ]
  },
  {
   "cell_type": "code",
   "execution_count": 30,
   "metadata": {},
   "outputs": [],
   "source": [
    "# Adding the ratio_from_poi.\n",
    "feature_engineering(df = df_eda,\n",
    "                    ratio_name = 'ratio_from_poi',\n",
    "                    variable_numerator = df_eda.from_poi_to_this_person,\n",
    "                    variable_denominator = df_eda.from_messages);"
   ]
  },
  {
   "cell_type": "code",
   "execution_count": 31,
   "metadata": {},
   "outputs": [],
   "source": [
    "# Adding the ratio_to_poi.\n",
    "feature_engineering(df = df_eda,\n",
    "                    ratio_name = 'ratio_to_poi',\n",
    "                    variable_numerator = df_eda.from_this_person_to_poi,\n",
    "                    variable_denominator = df_eda.to_messages);"
   ]
  },
  {
   "cell_type": "code",
   "execution_count": 32,
   "metadata": {},
   "outputs": [],
   "source": [
    "# Adding the ratio_to_from.\n",
    "feature_engineering(df = df_eda,\n",
    "                    ratio_name = 'ratio_to_from',\n",
    "                    variable_numerator = df_eda.to_messages,\n",
    "                    variable_denominator = df_eda.from_messages);"
   ]
  },
  {
   "cell_type": "code",
   "execution_count": 33,
   "metadata": {},
   "outputs": [],
   "source": [
    "# Adding the ratio_from_poi_share.\n",
    "feature_engineering(df = df_eda,\n",
    "                    ratio_name = 'ratio_from_poi_share',\n",
    "                    variable_numerator = df_eda.shared_receipt_with_poi,\n",
    "                    variable_denominator = df_eda.from_messages);"
   ]
  },
  {
   "cell_type": "code",
   "execution_count": 34,
   "metadata": {},
   "outputs": [],
   "source": [
    "# Adding the ratio_from_poi_share.\n",
    "feature_engineering(df = df_eda,\n",
    "                    ratio_name = 'ratio_salary_total_payments',\n",
    "                    variable_numerator = df_eda.salary,\n",
    "                    variable_denominator = df_eda.total_payments);"
   ]
  },
  {
   "cell_type": "markdown",
   "metadata": {},
   "source": [
    "I have created 5 news features.\n",
    "\n",
    "* ratio_from_poi;\n",
    "* ratio_to_poi;\n",
    "* ratio_to_from;\n",
    "* ratio_from_poi_share, and;\n",
    "* ratio_salary_total_payments"
   ]
  },
  {
   "cell_type": "code",
   "execution_count": 35,
   "metadata": {},
   "outputs": [],
   "source": [
    "# Storing the list of engineered features.\n",
    "engineered_features = ['ratio_from_poi', 'ratio_to_poi', 'ratio_to_from', 'ratio_from_poi_share', 'ratio_salary_total_payments']"
   ]
  },
  {
   "cell_type": "markdown",
   "metadata": {},
   "source": [
    "### Task 1 - Feature List <a id='task1'></a>\n",
    "\n",
    ">**Select what features you'll use.**"
   ]
  },
  {
   "cell_type": "code",
   "execution_count": 36,
   "metadata": {},
   "outputs": [
    {
     "data": {
      "text/plain": [
       "['poi',\n",
       " 'salary',\n",
       " 'total_payments',\n",
       " 'total_stock_value',\n",
       " 'from_poi_to_this_person',\n",
       " 'from_this_person_to_poi',\n",
       " 'shared_receipt_with_poi',\n",
       " 'from_messages',\n",
       " 'to_messages']"
      ]
     },
     "execution_count": 36,
     "metadata": {},
     "output_type": "execute_result"
    }
   ],
   "source": [
    "features_list"
   ]
  },
  {
   "cell_type": "code",
   "execution_count": 37,
   "metadata": {},
   "outputs": [
    {
     "data": {
      "text/html": [
       "<div>\n",
       "<style scoped>\n",
       "    .dataframe tbody tr th:only-of-type {\n",
       "        vertical-align: middle;\n",
       "    }\n",
       "\n",
       "    .dataframe tbody tr th {\n",
       "        vertical-align: top;\n",
       "    }\n",
       "\n",
       "    .dataframe thead th {\n",
       "        text-align: right;\n",
       "    }\n",
       "</style>\n",
       "<table border=\"1\" class=\"dataframe\">\n",
       "  <thead>\n",
       "    <tr style=\"text-align: right;\">\n",
       "      <th></th>\n",
       "      <th>to_messages</th>\n",
       "      <th>from_messages</th>\n",
       "      <th>shared_receipt_with_poi</th>\n",
       "      <th>ratio_from_poi</th>\n",
       "      <th>ratio_to_poi</th>\n",
       "      <th>ratio_to_from</th>\n",
       "      <th>ratio_from_poi_share</th>\n",
       "    </tr>\n",
       "  </thead>\n",
       "  <tbody>\n",
       "    <tr>\n",
       "      <th>ALLEN PHILLIP K</th>\n",
       "      <td>2902</td>\n",
       "      <td>2195</td>\n",
       "      <td>1407</td>\n",
       "      <td>0.021412</td>\n",
       "      <td>0.022398</td>\n",
       "      <td>1.322096</td>\n",
       "      <td>0.641002</td>\n",
       "    </tr>\n",
       "    <tr>\n",
       "      <th>BADUM JAMES P</th>\n",
       "      <td>NaN</td>\n",
       "      <td>NaN</td>\n",
       "      <td>NaN</td>\n",
       "      <td>0.000000</td>\n",
       "      <td>0.000000</td>\n",
       "      <td>0.000000</td>\n",
       "      <td>0.000000</td>\n",
       "    </tr>\n",
       "    <tr>\n",
       "      <th>BANNANTINE JAMES M</th>\n",
       "      <td>566</td>\n",
       "      <td>29</td>\n",
       "      <td>465</td>\n",
       "      <td>1.344828</td>\n",
       "      <td>0.000000</td>\n",
       "      <td>19.517241</td>\n",
       "      <td>16.034483</td>\n",
       "    </tr>\n",
       "    <tr>\n",
       "      <th>BAXTER JOHN C</th>\n",
       "      <td>NaN</td>\n",
       "      <td>NaN</td>\n",
       "      <td>NaN</td>\n",
       "      <td>0.000000</td>\n",
       "      <td>0.000000</td>\n",
       "      <td>0.000000</td>\n",
       "      <td>0.000000</td>\n",
       "    </tr>\n",
       "    <tr>\n",
       "      <th>BAY FRANKLIN R</th>\n",
       "      <td>NaN</td>\n",
       "      <td>NaN</td>\n",
       "      <td>NaN</td>\n",
       "      <td>0.000000</td>\n",
       "      <td>0.000000</td>\n",
       "      <td>0.000000</td>\n",
       "      <td>0.000000</td>\n",
       "    </tr>\n",
       "    <tr>\n",
       "      <th>BAZELIDES PHILIP J</th>\n",
       "      <td>NaN</td>\n",
       "      <td>NaN</td>\n",
       "      <td>NaN</td>\n",
       "      <td>0.000000</td>\n",
       "      <td>0.000000</td>\n",
       "      <td>0.000000</td>\n",
       "      <td>0.000000</td>\n",
       "    </tr>\n",
       "    <tr>\n",
       "      <th>BECK SALLY W</th>\n",
       "      <td>7315</td>\n",
       "      <td>4343</td>\n",
       "      <td>2639</td>\n",
       "      <td>0.033157</td>\n",
       "      <td>0.052768</td>\n",
       "      <td>1.684320</td>\n",
       "      <td>0.607644</td>\n",
       "    </tr>\n",
       "    <tr>\n",
       "      <th>BELDEN TIMOTHY N</th>\n",
       "      <td>7991</td>\n",
       "      <td>484</td>\n",
       "      <td>5521</td>\n",
       "      <td>0.471074</td>\n",
       "      <td>0.013515</td>\n",
       "      <td>16.510331</td>\n",
       "      <td>11.407025</td>\n",
       "    </tr>\n",
       "    <tr>\n",
       "      <th>BELFER ROBERT</th>\n",
       "      <td>NaN</td>\n",
       "      <td>NaN</td>\n",
       "      <td>NaN</td>\n",
       "      <td>0.000000</td>\n",
       "      <td>0.000000</td>\n",
       "      <td>0.000000</td>\n",
       "      <td>0.000000</td>\n",
       "    </tr>\n",
       "    <tr>\n",
       "      <th>BERBERIAN DAVID</th>\n",
       "      <td>NaN</td>\n",
       "      <td>NaN</td>\n",
       "      <td>NaN</td>\n",
       "      <td>0.000000</td>\n",
       "      <td>0.000000</td>\n",
       "      <td>0.000000</td>\n",
       "      <td>0.000000</td>\n",
       "    </tr>\n",
       "  </tbody>\n",
       "</table>\n",
       "</div>"
      ],
      "text/plain": [
       "                   to_messages from_messages shared_receipt_with_poi  \\\n",
       "ALLEN PHILLIP K           2902          2195                    1407   \n",
       "BADUM JAMES P              NaN           NaN                     NaN   \n",
       "BANNANTINE JAMES M         566            29                     465   \n",
       "BAXTER JOHN C              NaN           NaN                     NaN   \n",
       "BAY FRANKLIN R             NaN           NaN                     NaN   \n",
       "BAZELIDES PHILIP J         NaN           NaN                     NaN   \n",
       "BECK SALLY W              7315          4343                    2639   \n",
       "BELDEN TIMOTHY N          7991           484                    5521   \n",
       "BELFER ROBERT              NaN           NaN                     NaN   \n",
       "BERBERIAN DAVID            NaN           NaN                     NaN   \n",
       "\n",
       "                    ratio_from_poi  ratio_to_poi  ratio_to_from  \\\n",
       "ALLEN PHILLIP K           0.021412      0.022398       1.322096   \n",
       "BADUM JAMES P             0.000000      0.000000       0.000000   \n",
       "BANNANTINE JAMES M        1.344828      0.000000      19.517241   \n",
       "BAXTER JOHN C             0.000000      0.000000       0.000000   \n",
       "BAY FRANKLIN R            0.000000      0.000000       0.000000   \n",
       "BAZELIDES PHILIP J        0.000000      0.000000       0.000000   \n",
       "BECK SALLY W              0.033157      0.052768       1.684320   \n",
       "BELDEN TIMOTHY N          0.471074      0.013515      16.510331   \n",
       "BELFER ROBERT             0.000000      0.000000       0.000000   \n",
       "BERBERIAN DAVID           0.000000      0.000000       0.000000   \n",
       "\n",
       "                    ratio_from_poi_share  \n",
       "ALLEN PHILLIP K                 0.641002  \n",
       "BADUM JAMES P                   0.000000  \n",
       "BANNANTINE JAMES M             16.034483  \n",
       "BAXTER JOHN C                   0.000000  \n",
       "BAY FRANKLIN R                  0.000000  \n",
       "BAZELIDES PHILIP J              0.000000  \n",
       "BECK SALLY W                    0.607644  \n",
       "BELDEN TIMOTHY N               11.407025  \n",
       "BELFER ROBERT                   0.000000  \n",
       "BERBERIAN DAVID                 0.000000  "
      ]
     },
     "execution_count": 37,
     "metadata": {},
     "output_type": "execute_result"
    }
   ],
   "source": [
    "# Printing some features from df_clean. First 10 rows.\n",
    "df_eda[['to_messages','from_messages','shared_receipt_with_poi','ratio_from_poi','ratio_to_poi','ratio_to_from','ratio_from_poi_share']].head(10)"
   ]
  },
  {
   "cell_type": "markdown",
   "metadata": {},
   "source": [
    "I have noticed the necessity to convert the NaN value to zero. There are two kinds of NaN:\n",
    "\n",
    "* Strings NaN, and;\n",
    "* Float NaN.\n",
    "\n",
    "The function `str_nan_to_0` will deal with the string one."
   ]
  },
  {
   "cell_type": "code",
   "execution_count": 38,
   "metadata": {},
   "outputs": [],
   "source": [
    "def str_nan_to_0(df, variable):\n",
    "    \"\"\"\n",
    "    +--------------------------------------------------------------------------------------------------+\n",
    "    |DESCRIPTION:                                                                                      |\n",
    "    |                                                                                                  |\n",
    "    |    This function converts the string NaN to zero.                                                |\n",
    "    |                                                                                                  |\n",
    "    +--------------------------------------------------------------------------------------------------+\n",
    "    |INPUT:                                                                                            |\n",
    "    |                                                                                                  |\n",
    "    |    VARIABLE:                                                                                     |\n",
    "    |                                                                                                  |\n",
    "    |    df: Dataframe to perform the conversion.                                                      |\n",
    "    |                                                                                                  |\n",
    "    |    variable: The columns name to be converted.                                                   |\n",
    "    |                                                                                                  |\n",
    "    +--------------------------------------------------------------------------------------------------+\n",
    "    |OUTPUT:                                                                                           |\n",
    "    |                                                                                                  |\n",
    "    |    VARIABLE:                                                                                     |\n",
    "    |                                                                                                  |\n",
    "    |    df: Dataframe with the converted columns.                                                     |\n",
    "    |                                                                                                  |\n",
    "    +--------------------------------------------------------------------------------------------------+\n",
    "    \"\"\"\n",
    "    # Temporaly list\n",
    "    temp = []\n",
    "\n",
    "    # When the NaN is a string.\n",
    "    # Loop to fix the NaN values.\n",
    "    for index in df[variable]:\n",
    "        if index == 'NaN':\n",
    "            temp.append(0)\n",
    "        else:\n",
    "            temp.append(float(index))\n",
    "            \n",
    "    # Updatind the columns with NaN with list with 0.\n",
    "    df[variable] = temp\n",
    "    \n",
    "    return df"
   ]
  },
  {
   "cell_type": "markdown",
   "metadata": {},
   "source": [
    "Let's convert all the NaN to zero."
   ]
  },
  {
   "cell_type": "code",
   "execution_count": 39,
   "metadata": {},
   "outputs": [],
   "source": [
    "# Loop to convert all columns from df_eda.\n",
    "for index in df_eda:\n",
    "    # These two features do not need this conversion.\n",
    "    if index in ['email_address']:\n",
    "        continue\n",
    "    else:\n",
    "        # Convert String NaN to 0.\n",
    "        str_nan_to_0(df = df_eda, variable = index);\n",
    "        \n",
    "        # Convert float NaN to 0.\n",
    "        df_eda[index] = df_eda[index].fillna(0)"
   ]
  },
  {
   "cell_type": "code",
   "execution_count": 40,
   "metadata": {},
   "outputs": [],
   "source": [
    "# Saving the dataset in dictionary type.\n",
    "dict_eda = df_eda.to_dict(orient = 'index')"
   ]
  },
  {
   "cell_type": "markdown",
   "metadata": {},
   "source": [
    "### 3.3. `featureFormat` and `targetFeatureSplit`\n",
    "\n",
    "These two functions are given from the project template. I have coded a function to bundle them."
   ]
  },
  {
   "cell_type": "code",
   "execution_count": 41,
   "metadata": {},
   "outputs": [],
   "source": [
    "# Following the instructions.\n",
    "my_dataset = dict_eda\n",
    "\n",
    "# This is\n",
    "def wrapper_featureformatsplit(my_dataset, features_list):\n",
    "    \"\"\"\n",
    "    +--------------------------------------------------------------------------------------------------+\n",
    "    |DESCRIPTION:                                                                                      |\n",
    "    |                                                                                                  |\n",
    "    |    This function runs two scripts: featureFormat and targetFeatureSplit.                         |\n",
    "    |                                                                                                  |\n",
    "    +--------------------------------------------------------------------------------------------------+\n",
    "    |INPUT:                                                                                            |\n",
    "    |                                                                                                  |\n",
    "    |    VARIABLE:                                                                                     |\n",
    "    |                                                                                                  |\n",
    "    |    my_dataset: This is a dictionary.                                                             |\n",
    "    |                                                                                                  |\n",
    "    |    features_list: List of variable to be gathered from my_dataset.                               |\n",
    "    |                                                                                                  |\n",
    "    +--------------------------------------------------------------------------------------------------+\n",
    "    |OUTPUT:                                                                                           |\n",
    "    |                                                                                                  |\n",
    "    |    VARIABLE:                                                                                     |\n",
    "    |                                                                                                  |\n",
    "    |    labels: This is the POI feature from my_dataset.                                              |\n",
    "    |                                                                                                  |\n",
    "    |    features: This is an array with the features_list values.                                     |\n",
    "    |                                                                                                  |\n",
    "    +--------------------------------------------------------------------------------------------------+\n",
    "    \"\"\"\n",
    "    # Creating data ACCORDING to the features_list, which is input of targetFeatureSplit.\n",
    "    data = featureFormat(my_dataset, features_list, sort_keys = True)\n",
    "\n",
    "    # Using data to create labels and features.\n",
    "    labels, features = targetFeatureSplit(data)\n",
    "    \n",
    "    # Returning the labels and features.\n",
    "    return labels, features"
   ]
  },
  {
   "cell_type": "code",
   "execution_count": 42,
   "metadata": {},
   "outputs": [],
   "source": [
    "# Using the defined wrapper_feat_form_split function.\n",
    "labels, features = wrapper_featureformatsplit(my_dataset, original_feat)"
   ]
  },
  {
   "cell_type": "markdown",
   "metadata": {},
   "source": [
    "The `labels` are the values `POI` and `non-POI`. This is what I want to predict."
   ]
  },
  {
   "cell_type": "code",
   "execution_count": 43,
   "metadata": {},
   "outputs": [
    {
     "data": {
      "text/plain": [
       "[0.0, 0.0, 0.0, 0.0, 0.0]"
      ]
     },
     "execution_count": 43,
     "metadata": {},
     "output_type": "execute_result"
    }
   ],
   "source": [
    "# Printing the first labels.\n",
    "labels[:5]"
   ]
  },
  {
   "cell_type": "markdown",
   "metadata": {},
   "source": [
    "The `features` is a list where most of variables from dict_eda a stored in a nested list.\n",
    "\n",
    "$$features = [observation_1, \\dots, observation_n]$$\n",
    "\n",
    "Where:\n",
    "\n",
    "$$observation_1 = [variable_1, variable_2, \\dots, variable_{m}] $$\n",
    "\n",
    "Have in mind, the length of the observation is according to the `features_list`."
   ]
  },
  {
   "cell_type": "code",
   "execution_count": 44,
   "metadata": {},
   "outputs": [
    {
     "data": {
      "text/plain": [
       "array([ 4.175000e+06,  2.869717e+06, -3.081055e+06,  0.000000e+00,\n",
       "        1.729541e+06,  1.386800e+04,  2.195000e+03,  4.700000e+01,\n",
       "        6.500000e+01,  0.000000e+00,  3.048050e+05,  1.520000e+02,\n",
       "        1.260270e+05, -1.260270e+05,  2.019550e+05,  1.407000e+03,\n",
       "        2.902000e+03,  4.484442e+06,  1.729541e+06])"
      ]
     },
     "execution_count": 44,
     "metadata": {},
     "output_type": "execute_result"
    }
   ],
   "source": [
    "# Printing the first row of features.\n",
    "features[0]"
   ]
  },
  {
   "cell_type": "markdown",
   "metadata": {},
   "source": [
    "### 3.3. Feature Scaling <a id='scaling'></a>\n",
    "\n",
    "Due to the financial values varying from zero to millons dollar, this values could be dominant over the number of emails. For this reason, it is necessary to scale all features. I will use the MinMaxScaler, because this is the one used during the class."
   ]
  },
  {
   "cell_type": "code",
   "execution_count": 45,
   "metadata": {},
   "outputs": [],
   "source": [
    "# Function to scale.\n",
    "def feat_scale(feat):\n",
    "    \"\"\"\n",
    "    \"\"\"\n",
    "    # Importing library.\n",
    "    from sklearn.preprocessing import MinMaxScaler\n",
    "\n",
    "    # Creating the classifier to scale.\n",
    "    #scaler = MinMaxScaler()\n",
    "    scaler = MinMaxScaler(feature_range=(-1, 1))\n",
    "\n",
    "    \n",
    "    # Fitting the classifier.\n",
    "    scaler.fit(feat)\n",
    "\n",
    "    # Transform the data. It means: Scale the data.\n",
    "    feat = scaler.transform(feat)\n",
    "\n",
    "    # Printing the scaled data.\n",
    "    return feat"
   ]
  },
  {
   "cell_type": "code",
   "execution_count": 46,
   "metadata": {},
   "outputs": [
    {
     "data": {
      "text/plain": [
       "array([ 0.04375   , -0.0896021 , -0.75839933, -1.        , -0.89929419,\n",
       "       -0.87875662, -0.69445991, -0.8219697 , -0.7865353 , -1.        ,\n",
       "       -0.88152409, -0.99997066, -0.68553633, -0.80730865, -0.63652905,\n",
       "       -0.49030973, -0.6168724 , -0.91339415, -0.92783384])"
      ]
     },
     "execution_count": 46,
     "metadata": {},
     "output_type": "execute_result"
    }
   ],
   "source": [
    "# Scaling the features dataframe.\n",
    "features = feat_scale(features)\n",
    "\n",
    "# Printing the first row of features.\n",
    "features[0]"
   ]
  },
  {
   "cell_type": "markdown",
   "metadata": {},
   "source": [
    "### 3.4. Feature Selection <a id='selection'></a>\n",
    "\n",
    "Due to the several features available, and to decrease the number of it, I have decided to use the `SelectKBest` from Scikit Learn package to perform the Feature Selection.\n",
    "\n",
    "The reasons to opt to feature selection:\n",
    "\n",
    "* Remove reduntat features;\n",
    "* Reduce the overfitting, and;\n",
    "* Reduce the computational processing time due to a simpler model, it is also provide a easier model to interpret.\n",
    "\n",
    "_Read more about it in this reference:_ [Feature Selection][lasso]\n",
    "\n",
    "[lasso]: https://beta.vu.nl/nl/Images/werkstuk-fonti_tcm235-836234.pdf\n",
    "\n",
    "\n",
    "The function below will calculate the K Best Features."
   ]
  },
  {
   "cell_type": "code",
   "execution_count": 47,
   "metadata": {},
   "outputs": [],
   "source": [
    "# General purpose function.\n",
    "def feat_selection(k , f_classif = 'f_classif', feat = features, lab = labels, feat_list = features_list):\n",
    "    \"\"\"\n",
    "    \"\"\"\n",
    "    # Importing the modules SelectKBest and f_classif\n",
    "    from sklearn.feature_selection import SelectKBest, f_classif\n",
    "\n",
    "    # Creating the classifier.\n",
    "    selector = SelectKBest(f_classif, k = k)\n",
    "\n",
    "    # Fitting the data.\n",
    "    selector.fit(feat, lab)\n",
    "\n",
    "    # Printing the scores.\n",
    "    selector.scores_ \n",
    "    \n",
    "    # Create a DataFrame to ease the Comparison.\n",
    "    comparison = pd.DataFrame(zip(feat_list[1:],selector.scores_,selector.pvalues_), columns = ['feature','scores','p_values'])\n",
    "    \n",
    "    # Sorting the DataFrame by scores.\n",
    "    comparison.sort_values('scores', ascending = False, inplace = True)\n",
    "    \n",
    "    # Multiple values to return.\n",
    "    return comparison"
   ]
  },
  {
   "cell_type": "markdown",
   "metadata": {},
   "source": [
    "I will use, for this example, all features available in data_dict.\n",
    "\n",
    "The `wrapper_featureformatsplit` function will create the labels and features."
   ]
  },
  {
   "cell_type": "code",
   "execution_count": 48,
   "metadata": {},
   "outputs": [
    {
     "data": {
      "text/html": [
       "<div>\n",
       "<style scoped>\n",
       "    .dataframe tbody tr th:only-of-type {\n",
       "        vertical-align: middle;\n",
       "    }\n",
       "\n",
       "    .dataframe tbody tr th {\n",
       "        vertical-align: top;\n",
       "    }\n",
       "\n",
       "    .dataframe thead th {\n",
       "        text-align: right;\n",
       "    }\n",
       "</style>\n",
       "<table border=\"1\" class=\"dataframe\">\n",
       "  <thead>\n",
       "    <tr style=\"text-align: right;\">\n",
       "      <th></th>\n",
       "      <th>feature</th>\n",
       "      <th>scores</th>\n",
       "      <th>p_values</th>\n",
       "    </tr>\n",
       "  </thead>\n",
       "  <tbody>\n",
       "    <tr>\n",
       "      <th>4</th>\n",
       "      <td>exercised_stock_options</td>\n",
       "      <td>24.815080</td>\n",
       "      <td>0.000002</td>\n",
       "    </tr>\n",
       "    <tr>\n",
       "      <th>18</th>\n",
       "      <td>total_stock_value</td>\n",
       "      <td>24.182899</td>\n",
       "      <td>0.000002</td>\n",
       "    </tr>\n",
       "    <tr>\n",
       "      <th>0</th>\n",
       "      <td>bonus</td>\n",
       "      <td>20.792252</td>\n",
       "      <td>0.000011</td>\n",
       "    </tr>\n",
       "    <tr>\n",
       "      <th>14</th>\n",
       "      <td>salary</td>\n",
       "      <td>18.289684</td>\n",
       "      <td>0.000035</td>\n",
       "    </tr>\n",
       "    <tr>\n",
       "      <th>2</th>\n",
       "      <td>deferred_income</td>\n",
       "      <td>11.458477</td>\n",
       "      <td>0.000922</td>\n",
       "    </tr>\n",
       "    <tr>\n",
       "      <th>10</th>\n",
       "      <td>long_term_incentive</td>\n",
       "      <td>9.922186</td>\n",
       "      <td>0.001994</td>\n",
       "    </tr>\n",
       "    <tr>\n",
       "      <th>12</th>\n",
       "      <td>restricted_stock</td>\n",
       "      <td>9.212811</td>\n",
       "      <td>0.002863</td>\n",
       "    </tr>\n",
       "    <tr>\n",
       "      <th>17</th>\n",
       "      <td>total_payments</td>\n",
       "      <td>8.772778</td>\n",
       "      <td>0.003589</td>\n",
       "    </tr>\n",
       "    <tr>\n",
       "      <th>15</th>\n",
       "      <td>shared_receipt_with_poi</td>\n",
       "      <td>8.589421</td>\n",
       "      <td>0.003946</td>\n",
       "    </tr>\n",
       "    <tr>\n",
       "      <th>9</th>\n",
       "      <td>loan_advances</td>\n",
       "      <td>7.184056</td>\n",
       "      <td>0.008232</td>\n",
       "    </tr>\n",
       "    <tr>\n",
       "      <th>5</th>\n",
       "      <td>expenses</td>\n",
       "      <td>6.094173</td>\n",
       "      <td>0.014758</td>\n",
       "    </tr>\n",
       "    <tr>\n",
       "      <th>7</th>\n",
       "      <td>from_poi_to_this_person</td>\n",
       "      <td>5.243450</td>\n",
       "      <td>0.023514</td>\n",
       "    </tr>\n",
       "    <tr>\n",
       "      <th>11</th>\n",
       "      <td>other</td>\n",
       "      <td>4.187478</td>\n",
       "      <td>0.042582</td>\n",
       "    </tr>\n",
       "  </tbody>\n",
       "</table>\n",
       "</div>"
      ],
      "text/plain": [
       "                    feature     scores  p_values\n",
       "4   exercised_stock_options  24.815080  0.000002\n",
       "18        total_stock_value  24.182899  0.000002\n",
       "0                     bonus  20.792252  0.000011\n",
       "14                   salary  18.289684  0.000035\n",
       "2           deferred_income  11.458477  0.000922\n",
       "10      long_term_incentive   9.922186  0.001994\n",
       "12         restricted_stock   9.212811  0.002863\n",
       "17           total_payments   8.772778  0.003589\n",
       "15  shared_receipt_with_poi   8.589421  0.003946\n",
       "9             loan_advances   7.184056  0.008232\n",
       "5                  expenses   6.094173  0.014758\n",
       "7   from_poi_to_this_person   5.243450  0.023514\n",
       "11                    other   4.187478  0.042582"
      ]
     },
     "execution_count": 48,
     "metadata": {},
     "output_type": "execute_result"
    }
   ],
   "source": [
    "# Creating the label vector and features dataframe.\n",
    "lab_example, feat_example = wrapper_featureformatsplit(my_dataset = my_dataset, features_list = original_feat)\n",
    "\n",
    "# Using the function feat_selection() and show the first 5 best scored variables.\n",
    "feat_sel_results = feat_selection(k = 5, feat = feat_example, lab = lab_example, feat_list = original_feat)\n",
    "\n",
    "# Printing.\n",
    "feat_sel_results.query('p_values < 0.05')"
   ]
  },
  {
   "cell_type": "code",
   "execution_count": 49,
   "metadata": {},
   "outputs": [
    {
     "data": {
      "image/png": "[encoded data removed]",
      "text/plain": [
       "<Figure size 1008x432 with 1 Axes>"
      ]
     },
     "metadata": {
      "needs_background": "light"
     },
     "output_type": "display_data"
    }
   ],
   "source": [
    "# Adding the hue to be comparable to the next graphic.\n",
    "feat_sel_results['hue'] = 'Original'\n",
    "\n",
    "# Ploting the graphic.\n",
    "plt.figure(figsize = [14, 6])\n",
    "ax = sns.barplot(x = feat_sel_results.query('p_values < 0.05').feature,\n",
    "                 y = feat_sel_results.query('p_values < 0.05').scores,\n",
    "                 hue = feat_sel_results.hue);\n",
    "plt.title('Graphic 3 - Original variables with p-values lower than 5%, excluding Engineered Features.', fontsize = 20)\n",
    "plt.ylabel('Score', fontsize = 14)\n",
    "plt.xlabel('Features', fontsize = 14)\n",
    "plt.legend();\n",
    "plt.setp(ax.get_xticklabels(), rotation=45,  # 45 degrees labels on X axis\n",
    "         ha=\"right\", rotation_mode=\"anchor\")\n",
    "plt.show()"
   ]
  },
  {
   "cell_type": "markdown",
   "metadata": {},
   "source": [
    "Assuming the $\\alpha$ equal to 0.05, there are 13 features with p-values lower than $\\alpha$, which means there are relevancy to the model.\n",
    "\n",
    "\n",
    "I have not aggregated the features engineered."
   ]
  },
  {
   "cell_type": "code",
   "execution_count": 50,
   "metadata": {},
   "outputs": [
    {
     "data": {
      "text/plain": [
       "['poi',\n",
       " 'bonus',\n",
       " 'deferral_payments',\n",
       " 'deferred_income',\n",
       " 'director_fees',\n",
       " 'exercised_stock_options',\n",
       " 'expenses',\n",
       " 'from_messages',\n",
       " 'from_poi_to_this_person',\n",
       " 'from_this_person_to_poi',\n",
       " 'loan_advances',\n",
       " 'long_term_incentive',\n",
       " 'other',\n",
       " 'restricted_stock',\n",
       " 'restricted_stock_deferred',\n",
       " 'salary',\n",
       " 'shared_receipt_with_poi',\n",
       " 'to_messages',\n",
       " 'total_payments',\n",
       " 'total_stock_value',\n",
       " 'ratio_from_poi',\n",
       " 'ratio_to_poi',\n",
       " 'ratio_to_from',\n",
       " 'ratio_from_poi_share',\n",
       " 'ratio_salary_total_payments']"
      ]
     },
     "execution_count": 50,
     "metadata": {},
     "output_type": "execute_result"
    }
   ],
   "source": [
    "# Adding to the original_feat list the engineered features.\n",
    "complete_feat = original_feat + engineered_features\n",
    "\n",
    "# Printing.\n",
    "complete_feat"
   ]
  },
  {
   "cell_type": "code",
   "execution_count": 51,
   "metadata": {},
   "outputs": [
    {
     "data": {
      "text/html": [
       "<div>\n",
       "<style scoped>\n",
       "    .dataframe tbody tr th:only-of-type {\n",
       "        vertical-align: middle;\n",
       "    }\n",
       "\n",
       "    .dataframe tbody tr th {\n",
       "        vertical-align: top;\n",
       "    }\n",
       "\n",
       "    .dataframe thead th {\n",
       "        text-align: right;\n",
       "    }\n",
       "</style>\n",
       "<table border=\"1\" class=\"dataframe\">\n",
       "  <thead>\n",
       "    <tr style=\"text-align: right;\">\n",
       "      <th></th>\n",
       "      <th>feature</th>\n",
       "      <th>scores</th>\n",
       "      <th>p_values</th>\n",
       "    </tr>\n",
       "  </thead>\n",
       "  <tbody>\n",
       "    <tr>\n",
       "      <th>4</th>\n",
       "      <td>exercised_stock_options</td>\n",
       "      <td>24.815080</td>\n",
       "      <td>0.000002</td>\n",
       "    </tr>\n",
       "    <tr>\n",
       "      <th>18</th>\n",
       "      <td>total_stock_value</td>\n",
       "      <td>24.182899</td>\n",
       "      <td>0.000002</td>\n",
       "    </tr>\n",
       "    <tr>\n",
       "      <th>0</th>\n",
       "      <td>bonus</td>\n",
       "      <td>20.792252</td>\n",
       "      <td>0.000011</td>\n",
       "    </tr>\n",
       "    <tr>\n",
       "      <th>14</th>\n",
       "      <td>salary</td>\n",
       "      <td>18.289684</td>\n",
       "      <td>0.000035</td>\n",
       "    </tr>\n",
       "    <tr>\n",
       "      <th>2</th>\n",
       "      <td>deferred_income</td>\n",
       "      <td>11.458477</td>\n",
       "      <td>0.000922</td>\n",
       "    </tr>\n",
       "    <tr>\n",
       "      <th>10</th>\n",
       "      <td>long_term_incentive</td>\n",
       "      <td>9.922186</td>\n",
       "      <td>0.001994</td>\n",
       "    </tr>\n",
       "    <tr>\n",
       "      <th>12</th>\n",
       "      <td>restricted_stock</td>\n",
       "      <td>9.212811</td>\n",
       "      <td>0.002863</td>\n",
       "    </tr>\n",
       "    <tr>\n",
       "      <th>17</th>\n",
       "      <td>total_payments</td>\n",
       "      <td>8.772778</td>\n",
       "      <td>0.003589</td>\n",
       "    </tr>\n",
       "    <tr>\n",
       "      <th>15</th>\n",
       "      <td>shared_receipt_with_poi</td>\n",
       "      <td>8.589421</td>\n",
       "      <td>0.003946</td>\n",
       "    </tr>\n",
       "    <tr>\n",
       "      <th>9</th>\n",
       "      <td>loan_advances</td>\n",
       "      <td>7.184056</td>\n",
       "      <td>0.008232</td>\n",
       "    </tr>\n",
       "    <tr>\n",
       "      <th>5</th>\n",
       "      <td>expenses</td>\n",
       "      <td>6.094173</td>\n",
       "      <td>0.014758</td>\n",
       "    </tr>\n",
       "    <tr>\n",
       "      <th>22</th>\n",
       "      <td>ratio_from_poi_share</td>\n",
       "      <td>5.689969</td>\n",
       "      <td>0.018391</td>\n",
       "    </tr>\n",
       "    <tr>\n",
       "      <th>21</th>\n",
       "      <td>ratio_to_from</td>\n",
       "      <td>5.443842</td>\n",
       "      <td>0.021051</td>\n",
       "    </tr>\n",
       "    <tr>\n",
       "      <th>7</th>\n",
       "      <td>from_poi_to_this_person</td>\n",
       "      <td>5.243450</td>\n",
       "      <td>0.023514</td>\n",
       "    </tr>\n",
       "    <tr>\n",
       "      <th>19</th>\n",
       "      <td>ratio_from_poi</td>\n",
       "      <td>5.123946</td>\n",
       "      <td>0.025125</td>\n",
       "    </tr>\n",
       "    <tr>\n",
       "      <th>11</th>\n",
       "      <td>other</td>\n",
       "      <td>4.187478</td>\n",
       "      <td>0.042582</td>\n",
       "    </tr>\n",
       "    <tr>\n",
       "      <th>20</th>\n",
       "      <td>ratio_to_poi</td>\n",
       "      <td>4.094653</td>\n",
       "      <td>0.044909</td>\n",
       "    </tr>\n",
       "  </tbody>\n",
       "</table>\n",
       "</div>"
      ],
      "text/plain": [
       "                    feature     scores  p_values\n",
       "4   exercised_stock_options  24.815080  0.000002\n",
       "18        total_stock_value  24.182899  0.000002\n",
       "0                     bonus  20.792252  0.000011\n",
       "14                   salary  18.289684  0.000035\n",
       "2           deferred_income  11.458477  0.000922\n",
       "10      long_term_incentive   9.922186  0.001994\n",
       "12         restricted_stock   9.212811  0.002863\n",
       "17           total_payments   8.772778  0.003589\n",
       "15  shared_receipt_with_poi   8.589421  0.003946\n",
       "9             loan_advances   7.184056  0.008232\n",
       "5                  expenses   6.094173  0.014758\n",
       "22     ratio_from_poi_share   5.689969  0.018391\n",
       "21            ratio_to_from   5.443842  0.021051\n",
       "7   from_poi_to_this_person   5.243450  0.023514\n",
       "19           ratio_from_poi   5.123946  0.025125\n",
       "11                    other   4.187478  0.042582\n",
       "20             ratio_to_poi   4.094653  0.044909"
      ]
     },
     "execution_count": 51,
     "metadata": {},
     "output_type": "execute_result"
    }
   ],
   "source": [
    "# Creating the label vector and features dataframe.\n",
    "lab_example, feat_example = wrapper_featureformatsplit(my_dataset = my_dataset, features_list = complete_feat)\n",
    "\n",
    "# Using the function feat_selection() and show the first 5 best scored variables.\n",
    "feat_sel_results_complete = feat_selection(k = 5, feat = feat_example, lab = lab_example, feat_list = complete_feat)\n",
    "\n",
    "# Printing.\n",
    "feat_sel_results_complete.query('p_values < 0.05')"
   ]
  },
  {
   "cell_type": "code",
   "execution_count": 52,
   "metadata": {},
   "outputs": [
    {
     "data": {
      "image/png": "[encoded data removed]",
      "text/plain": [
       "<Figure size 1008x432 with 1 Axes>"
      ]
     },
     "metadata": {
      "needs_background": "light"
     },
     "output_type": "display_data"
    }
   ],
   "source": [
    "# Adding a new columns to use as hue in the graphic.\n",
    "\n",
    "# Temporaly variable only to store if this is a feature engineered or not.\n",
    "my_hue = []\n",
    "\n",
    "# Loop to check it.\n",
    "for feat_name in feat_sel_results_complete.feature:\n",
    "    if feat_name in engineered_features:\n",
    "        my_hue.append('Created')\n",
    "    else:\n",
    "        my_hue.append('Original')\n",
    "\n",
    "feat_sel_results_complete['hue'] = my_hue\n",
    "        \n",
    "# Ploting the graphic.\n",
    "plt.figure(figsize = [14, 6])\n",
    "ax = sns.barplot(x = feat_sel_results_complete.query('p_values < 0.05').feature,\n",
    "                 y = feat_sel_results_complete.query('p_values < 0.05').scores,\n",
    "                 hue = feat_sel_results_complete.hue, dodge = False);\n",
    "plt.title('Graphic 4 - All Variables with p-values lower than 5%, including Engineered Features.', fontsize = 20)\n",
    "plt.ylabel('Score', fontsize = 14)\n",
    "plt.xlabel('Features', fontsize = 14)\n",
    "plt.legend();\n",
    "plt.setp(ax.get_xticklabels(), rotation=45,  # 45 degrees labels on X axis\n",
    "         ha=\"right\", rotation_mode=\"anchor\")\n",
    "plt.show()"
   ]
  },
  {
   "cell_type": "markdown",
   "metadata": {},
   "source": [
    "As you can see, there are very strong varibles to consider in the model, and the engineered features do not have a good performance, but let's give a try using the to predict."
   ]
  },
  {
   "cell_type": "code",
   "execution_count": 53,
   "metadata": {},
   "outputs": [],
   "source": [
    "# Saving the lists of features.\n",
    "features_significant_original = feat_sel_results.query('p_values < 0.05').feature.tolist()\n",
    "features_significant_complete = feat_sel_results_complete.query('p_values < 0.05').feature.tolist()"
   ]
  },
  {
   "cell_type": "markdown",
   "metadata": {},
   "source": [
    "Let's plot the correlation map for the `features_significant_original`."
   ]
  },
  {
   "cell_type": "code",
   "execution_count": 54,
   "metadata": {},
   "outputs": [],
   "source": [
    "# Creating a function to calculate the correlation between variables.\n",
    "def calc_correlation(df, feat_list):\n",
    "    \"\"\"\n",
    "    \"\"\"\n",
    "    # Temporaly variable. List to store the columns values.\n",
    "    temp = []\n",
    "\n",
    "    # Loop to subset the dataframe.\n",
    "    for index in feat_list:\n",
    "        temp.append(df[index])\n",
    "\n",
    "    # Correlation Calculation.\n",
    "    return pd.DataFrame(np.corrcoef(temp), columns = feat_list, index = feat_list)"
   ]
  },
  {
   "cell_type": "code",
   "execution_count": 55,
   "metadata": {},
   "outputs": [],
   "source": [
    "# Creating a function to plot a heatmap.\n",
    "def heatmap(df_corr):\n",
    "    \"\"\"\n",
    "    \"\"\"\n",
    "    plt.figure(figsize = [8,6])                  # Graph/Figure size\n",
    "    ax = sns.heatmap(df_corr, linewidth=0.5)     # Heatmap\n",
    "    ax.set_xticklabels(df_corr.index)            # X ticks labels\n",
    "    ax.set_yticklabels(df_corr.columns)          # Y ticks labels\n",
    "    plt.setp(ax.get_xticklabels(), rotation=45,  # 45 degrees labels on X axis\n",
    "             ha=\"right\", rotation_mode=\"anchor\")\n",
    "    plt.setp(ax.get_yticklabels(), rotation=0,   # 0 degree labels on Y axis\n",
    "             ha=\"right\", rotation_mode=\"anchor\")\n",
    "    plt.show()"
   ]
  },
  {
   "cell_type": "markdown",
   "metadata": {},
   "source": [
    "Although this is not a requirement of this project, I feel necessity to plot the correlation between features. Just to understand a bit more about the correlation of the variables. I am afraid about adding too many variables and consequently add colinearity."
   ]
  },
  {
   "cell_type": "code",
   "execution_count": 56,
   "metadata": {},
   "outputs": [
    {
     "data": {
      "image/png": "[encoded data removed]",
      "text/plain": [
       "<Figure size 576x432 with 2 Axes>"
      ]
     },
     "metadata": {
      "needs_background": "light"
     },
     "output_type": "display_data"
    }
   ],
   "source": [
    "# Priting the heatmap.\n",
    "heatmap(calc_correlation(df_eda, feat_list = features_significant_original))"
   ]
  },
  {
   "cell_type": "markdown",
   "metadata": {},
   "source": [
    "As you can see, there are variables with high correlation such as:\n",
    "\n",
    "* `total_stock_value` and `total_payments`;\n",
    "* `shared_receipt_with_poi` and `from_poi_to_this_person.`, and;\n",
    "* `deferred_income`which do not have any relationship with any variable."
   ]
  },
  {
   "cell_type": "markdown",
   "metadata": {},
   "source": [
    "#### 3.4.1. Evaluating the Classifiers\n",
    "\n",
    "Let's evaluate the lists of features `features_significant_original`, `features_significant_complete`, and others using standards configuration of several classifiers.\n",
    "\n",
    "The reason to do it is to make a sensible analysis of features selected to the final model."
   ]
  },
  {
   "cell_type": "code",
   "execution_count": 57,
   "metadata": {},
   "outputs": [],
   "source": [
    "# Adding the 'poi' in the list and adding as first element as preconized by the code.\n",
    "features_significant_original = ['poi'] + features_significant_original\n",
    "features_significant_complete = ['poi'] + features_significant_complete"
   ]
  },
  {
   "cell_type": "markdown",
   "metadata": {},
   "source": [
    "I have created a function to bundle code lines because it could be repeativily."
   ]
  },
  {
   "cell_type": "code",
   "execution_count": 58,
   "metadata": {},
   "outputs": [],
   "source": [
    "# Function to create the dataset of features according to the features selected.\n",
    "def create_traintest(my_data_dict, feat_list):\n",
    "    \"\"\"\n",
    "    This function apply the function wrapper_featureformatsplit to create the\n",
    "    labels vector and features matrix, then scale it and finally create the training\n",
    "    and testing dataframes.\n",
    "    \"\"\"\n",
    "    from sklearn.model_selection import train_test_split\n",
    "    \n",
    "    # Create the Labels vector and Features Matrix.\n",
    "    lab, feat = wrapper_featureformatsplit(my_dataset = my_data_dict, features_list = feat_list)\n",
    "    \n",
    "    # Scaling the Feature Matrix due to the extreme values.\n",
    "    #feat = feat_scale(feat)\n",
    "    \n",
    "    # Spliting the data into training and testing.\n",
    "    features_train, features_test, labels_train, labels_test = train_test_split(feat, lab, test_size=0.3, random_state=42)\n",
    "    \n",
    "    # Returning a list.\n",
    "    return features_train, features_test, labels_train, labels_test"
   ]
  },
  {
   "cell_type": "markdown",
   "metadata": {},
   "source": [
    "Unfortunately, I have to antecipate the classifier construction from the Predict chapter to this point of the code. This function is a straightforward way to evaluate each list of selected features."
   ]
  },
  {
   "cell_type": "code",
   "execution_count": 59,
   "metadata": {},
   "outputs": [],
   "source": [
    "def select_fit_evaluate(classifier, train_test_data):\n",
    "    \"\"\"\n",
    "    \"\"\"\n",
    "    # Unzipping the list from the create_traintest funciton.\n",
    "    feat_train, feat_test, lab_train, lab_test = train_test_data\n",
    "    \n",
    "    # List of Classifier and parameters.\n",
    "    list_class = {'ada':('ada', AdaBoostClassifier(n_estimators=100)),\n",
    "                  'svc':('svc', SVC(gamma='auto')),\n",
    "                  'tree':('tree', tree.DecisionTreeClassifier()),\n",
    "                  'gauss':('gauss', GaussianNB()),\n",
    "                  'knn':('knn', KNeighborsClassifier(n_neighbors=5)),\n",
    "                  'random':('rand', RandomForestClassifier(n_estimators = 100))}\n",
    "    \n",
    "    # Creating the Pipeline.\n",
    "    pipeline_ = Pipeline([list_class[classifier]])\n",
    "    \n",
    "    # Fitting.\n",
    "    pipeline_.fit(feat_train,lab_train)\n",
    "\n",
    "    # Predicting.\n",
    "    pred_t = pipeline_.predict(feat_test)\n",
    "    \n",
    "    # Calculating the accuracy.\n",
    "    acc = accuracy_score(lab_test, pred_t)\n",
    "    \n",
    "    # Calculating the recall. It is an array of (recall non-POI, recall POI)\n",
    "    recall = recall_score(y_true = lab_test, y_pred = pred_t, average = None)\n",
    "\n",
    "    # Calculating the precision. It is an array of (precision non-POI, precision POI)\n",
    "    precision = precision_score(y_true = lab_test, y_pred = pred_t, average = None)\n",
    "    \n",
    "    # Return the accuracy.\n",
    "    return acc, recall.tolist(), precision.tolist()"
   ]
  },
  {
   "cell_type": "markdown",
   "metadata": {},
   "source": [
    "So far I have created 4 lists of features."
   ]
  },
  {
   "cell_type": "code",
   "execution_count": 60,
   "metadata": {},
   "outputs": [],
   "source": [
    "# All list I have created so far.\n",
    "all_list = [original_feat, complete_feat, features_significant_original, features_significant_complete]"
   ]
  },
  {
   "cell_type": "markdown",
   "metadata": {},
   "source": [
    "The follow function will create a table of comparison of a given list of features."
   ]
  },
  {
   "cell_type": "code",
   "execution_count": 61,
   "metadata": {},
   "outputs": [],
   "source": [
    "# Creates a table of comparison.\n",
    "def comparison_metrics(classifier, list_of_list):\n",
    "    # Temporaly variables to store the values of accuracy, recall and precision.\n",
    "    acc = [] # Accuracy\n",
    "    recall = [] # recall from poi and non-poi\n",
    "    precision = [] # precision from poi and non-poi\n",
    "\n",
    "    # Loop to calculate for each list of features the accuracy, precision and recall.\n",
    "    for index in list_of_list:\n",
    "        # Unloading the values calculated by select_fit_evaluate function. \n",
    "        i_acc, i_recall, i_precision = select_fit_evaluate(classifier = classifier,\n",
    "                                                           train_test_data = create_traintest(my_dataset,\n",
    "                                                                                              feat_list = index))\n",
    "        # Appending the values in the list.\n",
    "        acc.append(i_acc)\n",
    "        recall.append(i_recall)\n",
    "        precision.append(i_precision)\n",
    "\n",
    "    # Converting to DataFrame.\n",
    "    acc = pd.DataFrame(acc, columns = ['accuracy'])\n",
    "    recall = pd.DataFrame(recall, columns = ['recall_non_poi','recal_poi'])\n",
    "    precision = pd.DataFrame(precision, columns = ['precision_non_poi','precision_poi'])\n",
    "\n",
    "    # Merging.\n",
    "    comparison = acc.join(recall).join(precision)\n",
    "\n",
    "    # Renaming the rows.\n",
    "    comparison.index = ['original_feat','complete_feat','features_significant_original','features_significant_complete']\n",
    "\n",
    "    # Printing the results.\n",
    "    return comparison"
   ]
  },
  {
   "cell_type": "markdown",
   "metadata": {},
   "source": [
    "Let's compare using different algorithms classifiers.\n",
    "\n",
    "### Task 4 - Try a varity of classifiers <a id='task4'></a>\n",
    "\n",
    ">**Try a varity of classifiers**"
   ]
  },
  {
   "cell_type": "code",
   "execution_count": 62,
   "metadata": {},
   "outputs": [
    {
     "data": {
      "text/html": [
       "<div>\n",
       "<style scoped>\n",
       "    .dataframe tbody tr th:only-of-type {\n",
       "        vertical-align: middle;\n",
       "    }\n",
       "\n",
       "    .dataframe tbody tr th {\n",
       "        vertical-align: top;\n",
       "    }\n",
       "\n",
       "    .dataframe thead th {\n",
       "        text-align: right;\n",
       "    }\n",
       "</style>\n",
       "<table border=\"1\" class=\"dataframe\">\n",
       "  <thead>\n",
       "    <tr style=\"text-align: right;\">\n",
       "      <th></th>\n",
       "      <th>accuracy</th>\n",
       "      <th>recall_non_poi</th>\n",
       "      <th>recal_poi</th>\n",
       "      <th>precision_non_poi</th>\n",
       "      <th>precision_poi</th>\n",
       "    </tr>\n",
       "  </thead>\n",
       "  <tbody>\n",
       "    <tr>\n",
       "      <th>original_feat</th>\n",
       "      <td>0.883721</td>\n",
       "      <td>0.947368</td>\n",
       "      <td>0.4</td>\n",
       "      <td>0.923077</td>\n",
       "      <td>0.5</td>\n",
       "    </tr>\n",
       "    <tr>\n",
       "      <th>complete_feat</th>\n",
       "      <td>0.883721</td>\n",
       "      <td>0.947368</td>\n",
       "      <td>0.4</td>\n",
       "      <td>0.923077</td>\n",
       "      <td>0.5</td>\n",
       "    </tr>\n",
       "    <tr>\n",
       "      <th>features_significant_original</th>\n",
       "      <td>0.860465</td>\n",
       "      <td>0.921053</td>\n",
       "      <td>0.4</td>\n",
       "      <td>0.921053</td>\n",
       "      <td>0.4</td>\n",
       "    </tr>\n",
       "    <tr>\n",
       "      <th>features_significant_complete</th>\n",
       "      <td>0.860465</td>\n",
       "      <td>0.921053</td>\n",
       "      <td>0.4</td>\n",
       "      <td>0.921053</td>\n",
       "      <td>0.4</td>\n",
       "    </tr>\n",
       "  </tbody>\n",
       "</table>\n",
       "</div>"
      ],
      "text/plain": [
       "                               accuracy  recall_non_poi  recal_poi  \\\n",
       "original_feat                  0.883721        0.947368        0.4   \n",
       "complete_feat                  0.883721        0.947368        0.4   \n",
       "features_significant_original  0.860465        0.921053        0.4   \n",
       "features_significant_complete  0.860465        0.921053        0.4   \n",
       "\n",
       "                               precision_non_poi  precision_poi  \n",
       "original_feat                           0.923077            0.5  \n",
       "complete_feat                           0.923077            0.5  \n",
       "features_significant_original           0.921053            0.4  \n",
       "features_significant_complete           0.921053            0.4  "
      ]
     },
     "execution_count": 62,
     "metadata": {},
     "output_type": "execute_result"
    }
   ],
   "source": [
    "comparison_metrics(classifier = 'gauss', list_of_list = all_list)"
   ]
  },
  {
   "cell_type": "code",
   "execution_count": 63,
   "metadata": {},
   "outputs": [
    {
     "data": {
      "text/html": [
       "<div>\n",
       "<style scoped>\n",
       "    .dataframe tbody tr th:only-of-type {\n",
       "        vertical-align: middle;\n",
       "    }\n",
       "\n",
       "    .dataframe tbody tr th {\n",
       "        vertical-align: top;\n",
       "    }\n",
       "\n",
       "    .dataframe thead th {\n",
       "        text-align: right;\n",
       "    }\n",
       "</style>\n",
       "<table border=\"1\" class=\"dataframe\">\n",
       "  <thead>\n",
       "    <tr style=\"text-align: right;\">\n",
       "      <th></th>\n",
       "      <th>accuracy</th>\n",
       "      <th>recall_non_poi</th>\n",
       "      <th>recal_poi</th>\n",
       "      <th>precision_non_poi</th>\n",
       "      <th>precision_poi</th>\n",
       "    </tr>\n",
       "  </thead>\n",
       "  <tbody>\n",
       "    <tr>\n",
       "      <th>original_feat</th>\n",
       "      <td>0.906977</td>\n",
       "      <td>1.000000</td>\n",
       "      <td>0.2</td>\n",
       "      <td>0.904762</td>\n",
       "      <td>1.0</td>\n",
       "    </tr>\n",
       "    <tr>\n",
       "      <th>complete_feat</th>\n",
       "      <td>0.930233</td>\n",
       "      <td>1.000000</td>\n",
       "      <td>0.4</td>\n",
       "      <td>0.926829</td>\n",
       "      <td>1.0</td>\n",
       "    </tr>\n",
       "    <tr>\n",
       "      <th>features_significant_original</th>\n",
       "      <td>0.883721</td>\n",
       "      <td>0.973684</td>\n",
       "      <td>0.2</td>\n",
       "      <td>0.902439</td>\n",
       "      <td>0.5</td>\n",
       "    </tr>\n",
       "    <tr>\n",
       "      <th>features_significant_complete</th>\n",
       "      <td>0.906977</td>\n",
       "      <td>1.000000</td>\n",
       "      <td>0.2</td>\n",
       "      <td>0.904762</td>\n",
       "      <td>1.0</td>\n",
       "    </tr>\n",
       "  </tbody>\n",
       "</table>\n",
       "</div>"
      ],
      "text/plain": [
       "                               accuracy  recall_non_poi  recal_poi  \\\n",
       "original_feat                  0.906977        1.000000        0.2   \n",
       "complete_feat                  0.930233        1.000000        0.4   \n",
       "features_significant_original  0.883721        0.973684        0.2   \n",
       "features_significant_complete  0.906977        1.000000        0.2   \n",
       "\n",
       "                               precision_non_poi  precision_poi  \n",
       "original_feat                           0.904762            1.0  \n",
       "complete_feat                           0.926829            1.0  \n",
       "features_significant_original           0.902439            0.5  \n",
       "features_significant_complete           0.904762            1.0  "
      ]
     },
     "execution_count": 63,
     "metadata": {},
     "output_type": "execute_result"
    }
   ],
   "source": [
    "comparison_metrics(classifier = 'random', list_of_list = all_list)"
   ]
  },
  {
   "cell_type": "code",
   "execution_count": 64,
   "metadata": {},
   "outputs": [
    {
     "data": {
      "text/html": [
       "<div>\n",
       "<style scoped>\n",
       "    .dataframe tbody tr th:only-of-type {\n",
       "        vertical-align: middle;\n",
       "    }\n",
       "\n",
       "    .dataframe tbody tr th {\n",
       "        vertical-align: top;\n",
       "    }\n",
       "\n",
       "    .dataframe thead th {\n",
       "        text-align: right;\n",
       "    }\n",
       "</style>\n",
       "<table border=\"1\" class=\"dataframe\">\n",
       "  <thead>\n",
       "    <tr style=\"text-align: right;\">\n",
       "      <th></th>\n",
       "      <th>accuracy</th>\n",
       "      <th>recall_non_poi</th>\n",
       "      <th>recal_poi</th>\n",
       "      <th>precision_non_poi</th>\n",
       "      <th>precision_poi</th>\n",
       "    </tr>\n",
       "  </thead>\n",
       "  <tbody>\n",
       "    <tr>\n",
       "      <th>original_feat</th>\n",
       "      <td>0.813953</td>\n",
       "      <td>0.894737</td>\n",
       "      <td>0.2</td>\n",
       "      <td>0.894737</td>\n",
       "      <td>0.200000</td>\n",
       "    </tr>\n",
       "    <tr>\n",
       "      <th>complete_feat</th>\n",
       "      <td>0.860465</td>\n",
       "      <td>0.947368</td>\n",
       "      <td>0.2</td>\n",
       "      <td>0.900000</td>\n",
       "      <td>0.333333</td>\n",
       "    </tr>\n",
       "    <tr>\n",
       "      <th>features_significant_original</th>\n",
       "      <td>0.860465</td>\n",
       "      <td>0.947368</td>\n",
       "      <td>0.2</td>\n",
       "      <td>0.900000</td>\n",
       "      <td>0.333333</td>\n",
       "    </tr>\n",
       "    <tr>\n",
       "      <th>features_significant_complete</th>\n",
       "      <td>0.837209</td>\n",
       "      <td>0.921053</td>\n",
       "      <td>0.2</td>\n",
       "      <td>0.897436</td>\n",
       "      <td>0.250000</td>\n",
       "    </tr>\n",
       "  </tbody>\n",
       "</table>\n",
       "</div>"
      ],
      "text/plain": [
       "                               accuracy  recall_non_poi  recal_poi  \\\n",
       "original_feat                  0.813953        0.894737        0.2   \n",
       "complete_feat                  0.860465        0.947368        0.2   \n",
       "features_significant_original  0.860465        0.947368        0.2   \n",
       "features_significant_complete  0.837209        0.921053        0.2   \n",
       "\n",
       "                               precision_non_poi  precision_poi  \n",
       "original_feat                           0.894737       0.200000  \n",
       "complete_feat                           0.900000       0.333333  \n",
       "features_significant_original           0.900000       0.333333  \n",
       "features_significant_complete           0.897436       0.250000  "
      ]
     },
     "execution_count": 64,
     "metadata": {},
     "output_type": "execute_result"
    }
   ],
   "source": [
    "comparison_metrics(classifier = 'ada', list_of_list = all_list)"
   ]
  },
  {
   "cell_type": "code",
   "execution_count": 65,
   "metadata": {},
   "outputs": [
    {
     "data": {
      "text/html": [
       "<div>\n",
       "<style scoped>\n",
       "    .dataframe tbody tr th:only-of-type {\n",
       "        vertical-align: middle;\n",
       "    }\n",
       "\n",
       "    .dataframe tbody tr th {\n",
       "        vertical-align: top;\n",
       "    }\n",
       "\n",
       "    .dataframe thead th {\n",
       "        text-align: right;\n",
       "    }\n",
       "</style>\n",
       "<table border=\"1\" class=\"dataframe\">\n",
       "  <thead>\n",
       "    <tr style=\"text-align: right;\">\n",
       "      <th></th>\n",
       "      <th>accuracy</th>\n",
       "      <th>recall_non_poi</th>\n",
       "      <th>recal_poi</th>\n",
       "      <th>precision_non_poi</th>\n",
       "      <th>precision_poi</th>\n",
       "    </tr>\n",
       "  </thead>\n",
       "  <tbody>\n",
       "    <tr>\n",
       "      <th>original_feat</th>\n",
       "      <td>0.860465</td>\n",
       "      <td>0.947368</td>\n",
       "      <td>0.2</td>\n",
       "      <td>0.900000</td>\n",
       "      <td>0.333333</td>\n",
       "    </tr>\n",
       "    <tr>\n",
       "      <th>complete_feat</th>\n",
       "      <td>0.813953</td>\n",
       "      <td>0.921053</td>\n",
       "      <td>0.0</td>\n",
       "      <td>0.875000</td>\n",
       "      <td>0.000000</td>\n",
       "    </tr>\n",
       "    <tr>\n",
       "      <th>features_significant_original</th>\n",
       "      <td>0.813953</td>\n",
       "      <td>0.894737</td>\n",
       "      <td>0.2</td>\n",
       "      <td>0.894737</td>\n",
       "      <td>0.200000</td>\n",
       "    </tr>\n",
       "    <tr>\n",
       "      <th>features_significant_complete</th>\n",
       "      <td>0.813953</td>\n",
       "      <td>0.894737</td>\n",
       "      <td>0.2</td>\n",
       "      <td>0.894737</td>\n",
       "      <td>0.200000</td>\n",
       "    </tr>\n",
       "  </tbody>\n",
       "</table>\n",
       "</div>"
      ],
      "text/plain": [
       "                               accuracy  recall_non_poi  recal_poi  \\\n",
       "original_feat                  0.860465        0.947368        0.2   \n",
       "complete_feat                  0.813953        0.921053        0.0   \n",
       "features_significant_original  0.813953        0.894737        0.2   \n",
       "features_significant_complete  0.813953        0.894737        0.2   \n",
       "\n",
       "                               precision_non_poi  precision_poi  \n",
       "original_feat                           0.900000       0.333333  \n",
       "complete_feat                           0.875000       0.000000  \n",
       "features_significant_original           0.894737       0.200000  \n",
       "features_significant_complete           0.894737       0.200000  "
      ]
     },
     "execution_count": 65,
     "metadata": {},
     "output_type": "execute_result"
    }
   ],
   "source": [
    "comparison_metrics(classifier = 'tree', list_of_list = all_list)"
   ]
  },
  {
   "cell_type": "code",
   "execution_count": 66,
   "metadata": {},
   "outputs": [
    {
     "name": "stderr",
     "output_type": "stream",
     "text": [
      "C:\\Python27\\lib\\site-packages\\sklearn\\metrics\\classification.py:1143: UndefinedMetricWarning: Precision is ill-defined and being set to 0.0 in labels with no predicted samples.\n",
      "  'precision', 'predicted', average, warn_for)\n",
      "C:\\Python27\\lib\\site-packages\\sklearn\\metrics\\classification.py:1143: UndefinedMetricWarning: Precision is ill-defined and being set to 0.0 in labels with no predicted samples.\n",
      "  'precision', 'predicted', average, warn_for)\n",
      "C:\\Python27\\lib\\site-packages\\sklearn\\metrics\\classification.py:1143: UndefinedMetricWarning: Precision is ill-defined and being set to 0.0 in labels with no predicted samples.\n",
      "  'precision', 'predicted', average, warn_for)\n",
      "C:\\Python27\\lib\\site-packages\\sklearn\\metrics\\classification.py:1143: UndefinedMetricWarning: Precision is ill-defined and being set to 0.0 in labels with no predicted samples.\n",
      "  'precision', 'predicted', average, warn_for)\n"
     ]
    },
    {
     "data": {
      "text/html": [
       "<div>\n",
       "<style scoped>\n",
       "    .dataframe tbody tr th:only-of-type {\n",
       "        vertical-align: middle;\n",
       "    }\n",
       "\n",
       "    .dataframe tbody tr th {\n",
       "        vertical-align: top;\n",
       "    }\n",
       "\n",
       "    .dataframe thead th {\n",
       "        text-align: right;\n",
       "    }\n",
       "</style>\n",
       "<table border=\"1\" class=\"dataframe\">\n",
       "  <thead>\n",
       "    <tr style=\"text-align: right;\">\n",
       "      <th></th>\n",
       "      <th>accuracy</th>\n",
       "      <th>recall_non_poi</th>\n",
       "      <th>recal_poi</th>\n",
       "      <th>precision_non_poi</th>\n",
       "      <th>precision_poi</th>\n",
       "    </tr>\n",
       "  </thead>\n",
       "  <tbody>\n",
       "    <tr>\n",
       "      <th>original_feat</th>\n",
       "      <td>0.883721</td>\n",
       "      <td>1.0</td>\n",
       "      <td>0.0</td>\n",
       "      <td>0.883721</td>\n",
       "      <td>0.0</td>\n",
       "    </tr>\n",
       "    <tr>\n",
       "      <th>complete_feat</th>\n",
       "      <td>0.883721</td>\n",
       "      <td>1.0</td>\n",
       "      <td>0.0</td>\n",
       "      <td>0.883721</td>\n",
       "      <td>0.0</td>\n",
       "    </tr>\n",
       "    <tr>\n",
       "      <th>features_significant_original</th>\n",
       "      <td>0.883721</td>\n",
       "      <td>1.0</td>\n",
       "      <td>0.0</td>\n",
       "      <td>0.883721</td>\n",
       "      <td>0.0</td>\n",
       "    </tr>\n",
       "    <tr>\n",
       "      <th>features_significant_complete</th>\n",
       "      <td>0.883721</td>\n",
       "      <td>1.0</td>\n",
       "      <td>0.0</td>\n",
       "      <td>0.883721</td>\n",
       "      <td>0.0</td>\n",
       "    </tr>\n",
       "  </tbody>\n",
       "</table>\n",
       "</div>"
      ],
      "text/plain": [
       "                               accuracy  recall_non_poi  recal_poi  \\\n",
       "original_feat                  0.883721             1.0        0.0   \n",
       "complete_feat                  0.883721             1.0        0.0   \n",
       "features_significant_original  0.883721             1.0        0.0   \n",
       "features_significant_complete  0.883721             1.0        0.0   \n",
       "\n",
       "                               precision_non_poi  precision_poi  \n",
       "original_feat                           0.883721            0.0  \n",
       "complete_feat                           0.883721            0.0  \n",
       "features_significant_original           0.883721            0.0  \n",
       "features_significant_complete           0.883721            0.0  "
      ]
     },
     "execution_count": 66,
     "metadata": {},
     "output_type": "execute_result"
    }
   ],
   "source": [
    "comparison_metrics(classifier = 'knn', list_of_list = all_list)"
   ]
  },
  {
   "cell_type": "code",
   "execution_count": 67,
   "metadata": {},
   "outputs": [
    {
     "name": "stderr",
     "output_type": "stream",
     "text": [
      "C:\\Python27\\lib\\site-packages\\sklearn\\metrics\\classification.py:1143: UndefinedMetricWarning: Precision is ill-defined and being set to 0.0 in labels with no predicted samples.\n",
      "  'precision', 'predicted', average, warn_for)\n",
      "C:\\Python27\\lib\\site-packages\\sklearn\\metrics\\classification.py:1143: UndefinedMetricWarning: Precision is ill-defined and being set to 0.0 in labels with no predicted samples.\n",
      "  'precision', 'predicted', average, warn_for)\n",
      "C:\\Python27\\lib\\site-packages\\sklearn\\metrics\\classification.py:1143: UndefinedMetricWarning: Precision is ill-defined and being set to 0.0 in labels with no predicted samples.\n",
      "  'precision', 'predicted', average, warn_for)\n",
      "C:\\Python27\\lib\\site-packages\\sklearn\\metrics\\classification.py:1143: UndefinedMetricWarning: Precision is ill-defined and being set to 0.0 in labels with no predicted samples.\n",
      "  'precision', 'predicted', average, warn_for)\n"
     ]
    },
    {
     "data": {
      "text/html": [
       "<div>\n",
       "<style scoped>\n",
       "    .dataframe tbody tr th:only-of-type {\n",
       "        vertical-align: middle;\n",
       "    }\n",
       "\n",
       "    .dataframe tbody tr th {\n",
       "        vertical-align: top;\n",
       "    }\n",
       "\n",
       "    .dataframe thead th {\n",
       "        text-align: right;\n",
       "    }\n",
       "</style>\n",
       "<table border=\"1\" class=\"dataframe\">\n",
       "  <thead>\n",
       "    <tr style=\"text-align: right;\">\n",
       "      <th></th>\n",
       "      <th>accuracy</th>\n",
       "      <th>recall_non_poi</th>\n",
       "      <th>recal_poi</th>\n",
       "      <th>precision_non_poi</th>\n",
       "      <th>precision_poi</th>\n",
       "    </tr>\n",
       "  </thead>\n",
       "  <tbody>\n",
       "    <tr>\n",
       "      <th>original_feat</th>\n",
       "      <td>0.883721</td>\n",
       "      <td>1.0</td>\n",
       "      <td>0.0</td>\n",
       "      <td>0.883721</td>\n",
       "      <td>0.0</td>\n",
       "    </tr>\n",
       "    <tr>\n",
       "      <th>complete_feat</th>\n",
       "      <td>0.883721</td>\n",
       "      <td>1.0</td>\n",
       "      <td>0.0</td>\n",
       "      <td>0.883721</td>\n",
       "      <td>0.0</td>\n",
       "    </tr>\n",
       "    <tr>\n",
       "      <th>features_significant_original</th>\n",
       "      <td>0.883721</td>\n",
       "      <td>1.0</td>\n",
       "      <td>0.0</td>\n",
       "      <td>0.883721</td>\n",
       "      <td>0.0</td>\n",
       "    </tr>\n",
       "    <tr>\n",
       "      <th>features_significant_complete</th>\n",
       "      <td>0.883721</td>\n",
       "      <td>1.0</td>\n",
       "      <td>0.0</td>\n",
       "      <td>0.883721</td>\n",
       "      <td>0.0</td>\n",
       "    </tr>\n",
       "  </tbody>\n",
       "</table>\n",
       "</div>"
      ],
      "text/plain": [
       "                               accuracy  recall_non_poi  recal_poi  \\\n",
       "original_feat                  0.883721             1.0        0.0   \n",
       "complete_feat                  0.883721             1.0        0.0   \n",
       "features_significant_original  0.883721             1.0        0.0   \n",
       "features_significant_complete  0.883721             1.0        0.0   \n",
       "\n",
       "                               precision_non_poi  precision_poi  \n",
       "original_feat                           0.883721            0.0  \n",
       "complete_feat                           0.883721            0.0  \n",
       "features_significant_original           0.883721            0.0  \n",
       "features_significant_complete           0.883721            0.0  "
      ]
     },
     "execution_count": 67,
     "metadata": {},
     "output_type": "execute_result"
    }
   ],
   "source": [
    "comparison_metrics(classifier = 'svc', list_of_list = all_list)"
   ]
  },
  {
   "cell_type": "markdown",
   "metadata": {},
   "source": [
    "Without any tunning the Gauss, AdaBoost, and Random Forest are performed the better results.\n",
    "\n",
    "The `original_feat` and `complete_feat` are calculated only as reference to the `features_significant_original` and `features_significant_complete`.\n",
    "\n",
    "Have in mind, from the lists `features_significant_original` and `features_significant_complete`, I will refine the right number of features to use for further study, because both list have only features with statistical significance. Recall, the combination possible using or not each features:\n",
    "\n",
    "* `features_significant_original` has 14 features, which means 16,384 combinations, and;\n",
    "* `features_significant_complete` has 18 features, which means 262,144 combinations.\n",
    "\n",
    "Clearly, it is possible to find the global optimal due to the few number of combinations, but I will use a different approach using a Multiobjective Genetic Algorithm."
   ]
  },
  {
   "cell_type": "markdown",
   "metadata": {},
   "source": [
    "#### 3.4.1. Algorithm to Select the Features"
   ]
  },
  {
   "cell_type": "code",
   "execution_count": 68,
   "metadata": {},
   "outputs": [],
   "source": [
    "metrics = ['accuracy', 'precision_non_poi', 'precision_poi', 'recall_non_poi', 'recall_poi', 'qty_features']"
   ]
  },
  {
   "cell_type": "code",
   "execution_count": 69,
   "metadata": {},
   "outputs": [],
   "source": [
    "def individual(genes):\n",
    "    \"\"\"\n",
    "    This function creates a vector that minetizes the cromossome, each\n",
    "    gene is a feature selected (1: selected, 0: not selected).\n",
    "    \"\"\"\n",
    "    return np.random.choice([0, 1], genes, 0.5)"
   ]
  },
  {
   "cell_type": "code",
   "execution_count": 70,
   "metadata": {},
   "outputs": [],
   "source": [
    "def population(n, genes):\n",
    "    \"\"\"\n",
    "    This functions creates a population using several times the individual() function.\n",
    "    \"\"\"\n",
    "    df = []\n",
    "\n",
    "    for index in range(0,n):\n",
    "        df.append(individual(genes))\n",
    "    \n",
    "    return pd.DataFrame(df).transpose()"
   ]
  },
  {
   "cell_type": "code",
   "execution_count": 71,
   "metadata": {},
   "outputs": [],
   "source": [
    "def crossing_over(ind_1, ind_2):\n",
    "    \"\"\"\n",
    "    \n",
    "    \"\"\"\n",
    "    cross = np.random.choice(range(1,len(ind_1)),1)\n",
    "\n",
    "    crossed_1 = ind_1[:cross[0]] + ind_2[cross[0]:]\n",
    "    crossed_2 = ind_2[:cross[0]] + ind_1[cross[0]:]\n",
    "    \n",
    "    return pd.DataFrame([crossed_1, crossed_2], index = ['crossed_1', 'crossed_2']).transpose()"
   ]
  },
  {
   "cell_type": "code",
   "execution_count": 72,
   "metadata": {},
   "outputs": [],
   "source": [
    "def random_picker(df, n):\n",
    "    \"\"\"\n",
    "    This function will be used to random draw individuals from the current population.\n",
    "    \"\"\"\n",
    "    return df.sample(n, axis = 1)"
   ]
  },
  {
   "cell_type": "code",
   "execution_count": 73,
   "metadata": {},
   "outputs": [],
   "source": [
    "def reproduction(df, n):\n",
    "    \"\"\"\n",
    "    This function control the reproduction given a random_picker population.\n",
    "    \"\"\"\n",
    "    temp = pd.DataFrame()\n",
    "\n",
    "    for index in range(0, n+1):\n",
    "        draw_individual = random_picker(df, 2)\n",
    "        new_individuals = crossing_over(draw_individual.iloc[:,0].tolist(),\n",
    "                                        draw_individual.iloc[:,1].tolist())\n",
    "        if index == 1:\n",
    "            temp = new_individuals\n",
    "            temp.columns = range(0, temp.shape[1])\n",
    "        else:\n",
    "            temp = temp.join(new_individuals)\n",
    "            temp.columns = range(0, temp.shape[1])\n",
    "    \n",
    "    # Renaming to avoid problem with joining.\n",
    "    temp.columns = map(lambda x : 'x' + str(x), temp.columns)\n",
    "    \n",
    "    return temp"
   ]
  },
  {
   "cell_type": "code",
   "execution_count": 74,
   "metadata": {},
   "outputs": [],
   "source": [
    "def mutation_gene(ind):\n",
    "    \"\"\"\n",
    "    This function perform the gene mutation.\n",
    "    \"\"\"\n",
    "    gen = np.random.choice(range(0,len(ind)),1)\n",
    "\n",
    "    if ind[gen[0]] == 0:\n",
    "        ind[gen[0]] = 1\n",
    "    else:\n",
    "        ind[gen[0]] = 0\n",
    "\n",
    "    return ind"
   ]
  },
  {
   "cell_type": "code",
   "execution_count": 75,
   "metadata": {},
   "outputs": [],
   "source": [
    "def mutation_pop(pop_to_mutate):\n",
    "    \"\"\"\n",
    "    This function creates the mutates person from the given population.\n",
    "    \"\"\"\n",
    "    \n",
    "    temp = []\n",
    "\n",
    "    for index in pop_to_mutate:\n",
    "        temp.append(mutation_gene(pop_to_mutate.loc[:,index].tolist()))\n",
    "\n",
    "    temp = pd.DataFrame(temp).transpose()\n",
    "\n",
    "    temp.columns = map(lambda x : 'm' + str(x), temp.columns)\n",
    "\n",
    "    return temp"
   ]
  },
  {
   "cell_type": "code",
   "execution_count": 76,
   "metadata": {},
   "outputs": [],
   "source": [
    "def cost_function(df, list_feat):\n",
    "    \"\"\"\n",
    "    \"\"\"\n",
    "    # Reseting the index.\n",
    "    df.columns = range(0, df.shape[1])\n",
    "    \n",
    "    # Dictionary to store temporaly data.\n",
    "    my_test_dict = {}\n",
    "\n",
    "    # Loop: For each column I will use to \"filter\" my features.\n",
    "    for value in df.columns:\n",
    "        # Converting 0/1 vector in boolean.\n",
    "        select = df.iloc[:,value].astype(bool).tolist()\n",
    "\n",
    "        # Removing the first element. POI\n",
    "        work_list = list_feat[1:] \n",
    "\n",
    "        # Converting to DataFrame to easy the use.\n",
    "        work_list_df = pd.DataFrame(work_list, columns = ['feat'])\n",
    "\n",
    "        # Selecting the desired features and adding the 'poi' feature.\n",
    "        work_list_updated = ['poi'] + work_list_df[select].feat.tolist()\n",
    "\n",
    "        # Calculating the values of accuracy, recall, and precision.\n",
    "        acc, recall, precision = select_fit_evaluate('gauss', create_traintest(my_dataset, feat_list = work_list_updated))\n",
    "\n",
    "        # Unloading the list.\n",
    "        #print \"recall:\", recall\n",
    "        recall_non_poi, recall_poi = recall\n",
    "        \n",
    "        #print \"precision:\", precision\n",
    "        precision_non_poi, precision_poi = precision\n",
    "\n",
    "        # Adding values to a dictionary.\n",
    "        my_test_dict[value] = {'accuracy':acc,\n",
    "                               'recall_non_poi':recall_non_poi,\n",
    "                               'recall_poi':recall_poi,\n",
    "                               'precision_non_poi':precision_non_poi,\n",
    "                               'precision_poi':precision_poi}\n",
    "\n",
    "    # Returning as DataFrame.\n",
    "    return pd.DataFrame(my_test_dict).transpose()"
   ]
  },
  {
   "cell_type": "code",
   "execution_count": 77,
   "metadata": {},
   "outputs": [],
   "source": [
    "def dominance_observation(df,row, metrics = metrics):\n",
    "    \"\"\"\n",
    "    \"\"\"\n",
    "    # Counter to keep track the for.\n",
    "    counter = 0\n",
    "\n",
    "    # Comparison: Greater or not.\n",
    "    results = []\n",
    "\n",
    "    # Metrics in my dafatframe.\n",
    "    #metrics = ['accuracy', 'precision_non_poi', 'precision_poi', 'recall_non_poi', 'recall_poi']\n",
    "\n",
    "    # Loop to compare each observation with all features.\n",
    "    for feat in metrics:\n",
    "        if counter == 0:\n",
    "            results = (df[feat] >= df[feat][row])\n",
    "        else:\n",
    "            results = results & (df[feat] >= df[feat][row])\n",
    "        \n",
    "        counter += 1\n",
    "        \n",
    "    return sum(results.tolist())"
   ]
  },
  {
   "cell_type": "code",
   "execution_count": 78,
   "metadata": {},
   "outputs": [],
   "source": [
    "def qty_features(df, pop, list_feat):\n",
    "    \"\"\"\n",
    "    \"\"\"\n",
    "    # Temporaly variable to store the number of features by observation.\n",
    "    qty_feat = []\n",
    "\n",
    "    # Loop to calculate each number of features.\n",
    "    for i in pop.columns:\n",
    "        # Insert value in a list.\n",
    "        qty_feat.append(len(list_feat) - 1 - int(sum(pop.loc[:,i])))\n",
    "\n",
    "    # Adding a new column.\n",
    "    df['qty_features'] = qty_feat\n",
    "    \n",
    "    return df"
   ]
  },
  {
   "cell_type": "code",
   "execution_count": 79,
   "metadata": {},
   "outputs": [],
   "source": [
    "#qty_features(df_metrics_final, pop_final, features_significant_original)"
   ]
  },
  {
   "cell_type": "code",
   "execution_count": 80,
   "metadata": {},
   "outputs": [],
   "source": [
    "def dominancy(df):\n",
    "    \"\"\"\n",
    "    \"\"\"\n",
    "    \n",
    "    # Temporaly variable to store the dominancies values of each individual.\n",
    "    dom = []\n",
    "    \n",
    "    # Loop to calculate the dominance.\n",
    "    for row in df.index:\n",
    "        \n",
    "        # Appending the dominance to a list.\n",
    "        dom.append(dominance_observation(df,row))\n",
    "    \n",
    "    # Adding a new column called dominancy and assign it the dominace values.\n",
    "    df['dominancy'] = dom\n",
    "    \n",
    "    return df"
   ]
  },
  {
   "cell_type": "code",
   "execution_count": 81,
   "metadata": {},
   "outputs": [],
   "source": [
    "def elitism(df, df_pop, elitism_level = 50, pop_size = 200):\n",
    "    \"\"\"\n",
    "    This functions aims to select the dominant frontiers defined by elitism_level.\n",
    "    \"\"\"\n",
    "    # If the filter is too much restrict.\n",
    "    if df.query('dominancy < {}'.format(elitism_level)).shape[0] < pop_size:\n",
    "        \n",
    "        df_elit = df.sort_values('dominancy')[:pop_size]\n",
    "    \n",
    "        df_non_elit = df.sort_values('dominancy')[pop_size:]\n",
    "    \n",
    "    else:\n",
    "        \n",
    "        # Filtering the elitism_level. ATENTION: METRICS not POPULATION.\n",
    "        df_elit = df.query('dominancy < {}'.format(elitism_level))\n",
    "    \n",
    "        # Filtering the non elitims.\n",
    "        df_non_elit = df.query('dominancy >= {}'.format(elitism_level))\n",
    "\n",
    "    # Gathering the index to filter the population.\n",
    "    elit = df_elit.index\n",
    "\n",
    "    # Filtering the population using the elit vector.\n",
    "    pop_elit = df_pop.loc[:,elit]\n",
    "\n",
    "    # Returning 3 dataframes. 1) Elitism, 2) Non-elitism, 3) Elit Population.\n",
    "    return df_elit, df_non_elit, pop_elit        "
   ]
  },
  {
   "cell_type": "code",
   "execution_count": 82,
   "metadata": {},
   "outputs": [],
   "source": [
    "def crow_dist_feat(df, feat):\n",
    "    \"\"\"\n",
    "    \"\"\"\n",
    "    # Temporaly variable to store the values of crowding distance for a given feature feat.\n",
    "    temp = []\n",
    "    \n",
    "    # Subsetting the given dataframe. I need to sort the dataframe.\n",
    "    df_copy = df.sort_values(feat, ascending = False)\n",
    "\n",
    "    # Counter to keep track the index of the dataframe.\n",
    "    counter = 0\n",
    "\n",
    "    # Loop \"calculate\" the crowding distance according to the conditions.\n",
    "    for ind in df_copy.index:\n",
    "        \n",
    "        # Repeated higher values. If TRUE the boundary values are repeated.\n",
    "        repeat_higher = (df_copy.iloc[[counter]][feat].tolist()[0] == df_copy[feat].max())\n",
    "    \n",
    "        # Repeated lower values. If TRUE the boundary values are repeated.\n",
    "        repeat_lower = (df_copy.iloc[[counter]][feat].tolist()[0] == df_copy[feat].min())    \n",
    "        \n",
    "        # 1: First and last elements of the frontier always 10**9\n",
    "        if (counter == 0) | (counter == len(df_copy.index)):\n",
    "            temp.append(1000000000)\n",
    "        \n",
    "        else:\n",
    "            if repeat_higher | repeat_lower:\n",
    "                temp.append(1000000000)\n",
    "            else:\n",
    "                numerator = df_copy.iloc[[counter - 1]][feat].tolist()[0] - df_copy.iloc[[counter + 1]][feat].tolist()[0]\n",
    "                denominator = df_copy[feat].max() - df_copy[feat].min()\n",
    "                temp.append(numerator/float(denominator))\n",
    "        \n",
    "        # Updating the counter\n",
    "        counter += 1\n",
    "    \n",
    "    # Adding the crowding distance for one varible to the dataframe. I want the index.\n",
    "    df_copy['crow_dist'] = temp\n",
    "    \n",
    "    # Sorting by index to return.\n",
    "    df_copy = df_copy.sort_index()\n",
    "    \n",
    "    # Returning only indexes and crowding distance for one variable.\n",
    "    return df_copy[['crow_dist']]"
   ]
  },
  {
   "cell_type": "code",
   "execution_count": 83,
   "metadata": {},
   "outputs": [],
   "source": [
    "def crow_dist_frontier(df, feat):\n",
    "    \"\"\"\n",
    "    \"\"\"\n",
    "    \n",
    "    counter = 0\n",
    "\n",
    "    lista_nova = []\n",
    "\n",
    "    for i in df.dominancy.unique().tolist():\n",
    "        if counter == 0:\n",
    "            lista_nova = crow_dist_feat(df.query('dominancy == {}'.format(i)), feat)\n",
    "        else:\n",
    "            lista_nova = lista_nova.append(crow_dist_feat(df.query('dominancy == {}'.format(i)), feat))\n",
    "\n",
    "        counter += 1\n",
    "\n",
    "    return lista_nova.sort_index()"
   ]
  },
  {
   "cell_type": "code",
   "execution_count": 84,
   "metadata": {},
   "outputs": [],
   "source": [
    "def crowding_distance(df, metrics = metrics):\n",
    "    \"\"\"\n",
    "    \"\"\"\n",
    "    counter = 0\n",
    "    \n",
    "    df['crow_dist'] = 0\n",
    "    \n",
    "    #metrics = ['accuracy' ,'precision_non_poi' ,'precision_poi' ,'recall_non_poi' ,'recall_poi']\n",
    "    \n",
    "    for metric in metrics:\n",
    "        if counter == 0:\n",
    "            df['crow_dist'] = crow_dist_frontier(df, metric)\n",
    "        else:\n",
    "            df['crow_dist'] = df[['crow_dist']] + crow_dist_frontier(df, metric)\n",
    "        \n",
    "        counter += 1\n",
    "    \n",
    "    return df"
   ]
  },
  {
   "cell_type": "code",
   "execution_count": 85,
   "metadata": {},
   "outputs": [],
   "source": [
    "def choose_parents(parent, population):\n",
    "    \"\"\"\n",
    "    This function choose the crossing over mother/father.\n",
    "    Criterias to select:\n",
    "       1. Lowest Dominacy\n",
    "       2. Highest Crowding Distance\n",
    "    \"\"\"\n",
    "    # Situations\n",
    "    \n",
    "    # 1. When both individuals have the same dominance.\n",
    "    parents_equal_dominance = parent['dominancy'].tolist()[0] == parent['dominancy'].tolist()[1]\n",
    "    \n",
    "    # 2. When both individuals have the same crowding distance \n",
    "    parents_equal_crowding_distance = parent['crow_dist'].tolist()[0] == parent['crow_dist'].tolist()[1]\n",
    "\n",
    "    # First criteria to select the winner is dominance.\n",
    "    # If the dominance is equal.\n",
    "    if parents_equal_dominance:\n",
    "        # Second criteria to select the winner is crowding distance.\n",
    "        # If the crowding distance is equal.\n",
    "        if parents_equal_crowding_distance:\n",
    "            # If both dominance and crowding distance are equal. Random choice.\n",
    "            mother = np.random.choice(parent.index.tolist(), 1).tolist()[0]\n",
    "        else:\n",
    "            # Winner = Highest crowding distance.\n",
    "            mother = parent[['crow_dist']].sort_values('crow_dist', ascending = False).index[0]\n",
    "    else:\n",
    "        # Winner = Lowest dominance\n",
    "        mother = parent[['dominancy']].sort_values('dominancy').index[0]\n",
    "    \n",
    "    # Return the winner.\n",
    "    return population.loc[:,[mother]]"
   ]
  },
  {
   "cell_type": "code",
   "execution_count": 86,
   "metadata": {},
   "outputs": [],
   "source": [
    "def tournament(df, population):\n",
    "    \"\"\"\n",
    "    \n",
    "    \"\"\"\n",
    "    # Random draw of 4 postulants to be father/mother\n",
    "    pool = df.sample(4, axis = 0)\n",
    "\n",
    "    # Selecting the first 2 lines as first combat (tournament).\n",
    "    combat_1 = pool.iloc[:2]\n",
    "    \n",
    "    # The function choose_parents select the winner. \n",
    "    parente_1 = choose_parents(combat_1, population)\n",
    "\n",
    "    # Selecting the last 2 lines as second combat (tournament).\n",
    "    combat_2 = pool.iloc[2:]\n",
    "    \n",
    "    # The function choose_parents select the winner.\n",
    "    parente_2 = choose_parents(combat_2, population)\n",
    "    \n",
    "    # Creating a DataFrame to return it.\n",
    "    parente_1[str(parente_2.columns[0])] = parente_2\n",
    "\n",
    "    return parente_1"
   ]
  },
  {
   "cell_type": "code",
   "execution_count": 87,
   "metadata": {},
   "outputs": [],
   "source": [
    "def reproduction_v2(df, population, n):\n",
    "    \"\"\"\n",
    "    This function control the reproduction given a tournament.\n",
    "    \"\"\"\n",
    "    temp = pd.DataFrame()\n",
    "\n",
    "    for index in range(0, n+1):\n",
    "        draw_individual = tournament(df, population)\n",
    "        new_individuals = crossing_over(draw_individual.iloc[:,0].tolist(),\n",
    "                                        draw_individual.iloc[:,1].tolist())\n",
    "        if index == 1:\n",
    "            temp = new_individuals\n",
    "            temp.columns = range(0, temp.shape[1])\n",
    "        else:\n",
    "            temp = temp.join(new_individuals)\n",
    "            temp.columns = range(0, temp.shape[1])\n",
    "    \n",
    "    # Renaming to avoid problem with joining.\n",
    "    temp.columns = map(lambda x : 'x' + str(x), temp.columns)\n",
    "    \n",
    "    return temp"
   ]
  },
  {
   "cell_type": "code",
   "execution_count": 88,
   "metadata": {},
   "outputs": [],
   "source": [
    "def rm_duplicated(df, pop):\n",
    "    \"\"\"\n",
    "    \"\"\"\n",
    "    # Selection vector. I will use it to select the duplicated individuals.\n",
    "    selection = pop.T.duplicated()\n",
    "    print \"Duplicated cromossomes:\", sum(selection)\n",
    "\n",
    "    # Dropping the Duplicated.\n",
    "    pop = pop.T[np.logical_not(selection)].T\n",
    "\n",
    "    # Removing the same individuals from df_metrics.\n",
    "    df = df.loc[pop.T.index]\n",
    "    \n",
    "    return df, pop"
   ]
  },
  {
   "cell_type": "code",
   "execution_count": 89,
   "metadata": {},
   "outputs": [],
   "source": [
    "def NSGA2(generation, pop_size, feat_list, mutation_rate = 0.1):\n",
    "    \"\"\"\n",
    "    \"\"\"\n",
    "    import warnings\n",
    "    warnings.filterwarnings(\"ignore\")\n",
    "\n",
    "    import time\n",
    "    \n",
    "    # Keep the time elapse.\n",
    "    t0 = time.time()\n",
    "    \n",
    "    # Counter to coount the number of generations.\n",
    "    counter = 0\n",
    "    \n",
    "    # Number of Cromossomes to be mutate.\n",
    "    x_rate = pop_size * mutation_rate\n",
    "\n",
    "    print \"=========== Initializing the Population ===========\"\n",
    "    \n",
    "    # Initial Population\n",
    "    pop_work = population(pop_size, len(feat_list) - 1)\n",
    "    print \"Population Size:\", pop_work.shape[1]\n",
    "\n",
    "    # Calculating the accuracy, recall, and precision\n",
    "    print \"Calculating Accuracy, Precision, and Recall.\"\n",
    "    df_metrics = cost_function(pop_work, feat_list)\n",
    "\n",
    "    # Number of Features.\n",
    "    df_metrics = qty_features(df_metrics, pop_work, features_significant_original)\n",
    "    \n",
    "    # Calculating the Dominance.\n",
    "    print \"Calculating Dominancy.\"\n",
    "    df_metrics = dominancy(df_metrics)\n",
    "\n",
    "    # Calculating the Crowding Distance.\n",
    "    print \"Calculating Crowding Distance.\"\n",
    "    df_metrics = crowding_distance(df_metrics)\n",
    "\n",
    "    print \"\\n============== Aging the Population ===============\"\n",
    "        \n",
    "    while(counter <= generation):\n",
    "        \n",
    "        print \"\\nGeneration:\", counter\n",
    "        print \"----------\"\n",
    "        \n",
    "        # Number of offspring to reach 2N (2 * pop_size)\n",
    "        offspring = (2 * pop_size  - df_metrics.shape[0])/2\n",
    "                \n",
    "        # Crossing Over.\n",
    "        pop_work = pop_work.join(reproduction_v2(df_metrics,pop_work, offspring))\n",
    "        print \"Population after Crossing Over:\", pop_work.shape[1]\n",
    "\n",
    "        # Mutation\n",
    "        pop_work = pop_work.join(mutation_pop(random_picker(pop_work, int(x_rate) )))\n",
    "        print \"Population after Mutation:\", pop_work.shape[1]\n",
    "        \n",
    "        # Calculating the accuracy, recall, and precision\n",
    "        print \"Calculating Accuracy, Precision, and Recall.\"\n",
    "        df_metrics = cost_function(pop_work, features_significant_original)\n",
    "        \n",
    "        # Number of Features.\n",
    "        df_metrics = qty_features(df_metrics, pop_work, features_significant_original)     \n",
    "        \n",
    "        # Calculating the Dominancy.\n",
    "        print \"Calculating Dominancy.\"\n",
    "        df_metrics = dominancy(df_metrics)\n",
    "        \n",
    "        # Calculating the Crowding Distance.\n",
    "        print \"Calculating Crowding Distance.\"\n",
    "        df_metrics = crowding_distance(df_metrics)\n",
    "\n",
    "        # Removing duplicated\n",
    "        df_metrics, pop_work = rm_duplicated(df_metrics, pop_work)\n",
    "        print \"Removing Duplicated Cromossomes.\"\n",
    "        \n",
    "        # Elitism\n",
    "        print \"Filtering using Elitism.\"\n",
    "        df_metrics, _, pop_work = elitism(df_metrics, pop_work, 30, pop_size)\n",
    "        \n",
    "        print \"Population after Elitism and removing duplicated:\", pop_work.shape[1]\n",
    "\n",
    "        # Update counter.\n",
    "        counter += 1\n",
    "    \n",
    "    print \"\\n=================== FINISH! =======================\"\n",
    "    \n",
    "    print \"\\n\\nDuration:\", round((time.time() - t0)/60, 2), \"minutes\"\n",
    "    \n",
    "    return df_metrics, pop_work"
   ]
  },
  {
   "cell_type": "code",
   "execution_count": 94,
   "metadata": {},
   "outputs": [
    {
     "name": "stdout",
     "output_type": "stream",
     "text": [
      "=========== Initializing the Population ===========\n",
      "Population Size: 500\n",
      "Calculating Accuracy, Precision, and Recall.\n",
      "Calculating Dominancy.\n",
      "Calculating Crowding Distance.\n",
      "\n",
      "============== Aging the Population ===============\n",
      "\n",
      "Generation: 0\n",
      "----------\n",
      "Population after Crossing Over: 1000\n",
      "Population after Mutation: 1100\n",
      "Calculating Accuracy, Precision, and Recall.\n",
      "Calculating Dominancy.\n",
      "Calculating Crowding Distance.\n",
      "Duplicated cromossomes: 132\n",
      "Removing Duplicated Cromossomes.\n",
      "Filtering using Elitism.\n",
      "Population after Elitism and removing duplicated: 500\n",
      "\n",
      "Generation: 1\n",
      "----------\n",
      "Population after Crossing Over: 1000\n",
      "Population after Mutation: 1100\n",
      "Calculating Accuracy, Precision, and Recall.\n",
      "Calculating Dominancy.\n",
      "Calculating Crowding Distance.\n",
      "Duplicated cromossomes: 214\n",
      "Removing Duplicated Cromossomes.\n",
      "Filtering using Elitism.\n",
      "Population after Elitism and removing duplicated: 500\n",
      "\n",
      "Generation: 2\n",
      "----------\n",
      "Population after Crossing Over: 1000\n",
      "Population after Mutation: 1100\n",
      "Calculating Accuracy, Precision, and Recall.\n"
     ]
    },
    {
     "ename": "ValueError",
     "evalue": "Expected 2D array, got 1D array instead:\narray=[].\nReshape your data either using array.reshape(-1, 1) if your data has a single feature or array.reshape(1, -1) if it contains a single sample.",
     "output_type": "error",
     "traceback": [
      "\u001b[1;31m---------------------------------------------------------------------------\u001b[0m",
      "\u001b[1;31mValueError\u001b[0m                                Traceback (most recent call last)",
      "\u001b[1;32m<ipython-input-94-84ba255fa865>\u001b[0m in \u001b[0;36m<module>\u001b[1;34m()\u001b[0m\n\u001b[0;32m      1\u001b[0m \u001b[0mnp\u001b[0m\u001b[1;33m.\u001b[0m\u001b[0mrandom\u001b[0m\u001b[1;33m.\u001b[0m\u001b[0mseed\u001b[0m\u001b[1;33m(\u001b[0m\u001b[1;36m42\u001b[0m\u001b[1;33m)\u001b[0m\u001b[1;33m\u001b[0m\u001b[0m\n\u001b[0;32m      2\u001b[0m \u001b[1;33m\u001b[0m\u001b[0m\n\u001b[1;32m----> 3\u001b[1;33m \u001b[0mdf_metrics_final\u001b[0m\u001b[1;33m,\u001b[0m \u001b[0mpop_final\u001b[0m \u001b[1;33m=\u001b[0m \u001b[0mNSGA2\u001b[0m\u001b[1;33m(\u001b[0m\u001b[1;36m5\u001b[0m\u001b[1;33m,\u001b[0m \u001b[1;36m500\u001b[0m\u001b[1;33m,\u001b[0m \u001b[0mfeatures_significant_original\u001b[0m\u001b[1;33m,\u001b[0m \u001b[1;36m0.2\u001b[0m\u001b[1;33m)\u001b[0m\u001b[1;33m\u001b[0m\u001b[0m\n\u001b[0m",
      "\u001b[1;32m<ipython-input-89-b25f74a81e17>\u001b[0m in \u001b[0;36mNSGA2\u001b[1;34m(generation, pop_size, feat_list, mutation_rate)\u001b[0m\n\u001b[0;32m     57\u001b[0m         \u001b[1;31m# Calculating the accuracy, recall, and precision\u001b[0m\u001b[1;33m\u001b[0m\u001b[1;33m\u001b[0m\u001b[0m\n\u001b[0;32m     58\u001b[0m         \u001b[1;32mprint\u001b[0m \u001b[1;34m\"Calculating Accuracy, Precision, and Recall.\"\u001b[0m\u001b[1;33m\u001b[0m\u001b[0m\n\u001b[1;32m---> 59\u001b[1;33m         \u001b[0mdf_metrics\u001b[0m \u001b[1;33m=\u001b[0m \u001b[0mcost_function\u001b[0m\u001b[1;33m(\u001b[0m\u001b[0mpop_work\u001b[0m\u001b[1;33m,\u001b[0m \u001b[0mfeatures_significant_original\u001b[0m\u001b[1;33m)\u001b[0m\u001b[1;33m\u001b[0m\u001b[0m\n\u001b[0m\u001b[0;32m     60\u001b[0m \u001b[1;33m\u001b[0m\u001b[0m\n\u001b[0;32m     61\u001b[0m         \u001b[1;31m# Number of Features.\u001b[0m\u001b[1;33m\u001b[0m\u001b[1;33m\u001b[0m\u001b[0m\n",
      "\u001b[1;32m<ipython-input-76-da4c6960e567>\u001b[0m in \u001b[0;36mcost_function\u001b[1;34m(df, list_feat)\u001b[0m\n\u001b[0;32m     23\u001b[0m \u001b[1;33m\u001b[0m\u001b[0m\n\u001b[0;32m     24\u001b[0m         \u001b[1;31m# Calculating the values of accuracy, recall, and precision.\u001b[0m\u001b[1;33m\u001b[0m\u001b[1;33m\u001b[0m\u001b[0m\n\u001b[1;32m---> 25\u001b[1;33m         \u001b[0macc\u001b[0m\u001b[1;33m,\u001b[0m \u001b[0mrecall\u001b[0m\u001b[1;33m,\u001b[0m \u001b[0mprecision\u001b[0m \u001b[1;33m=\u001b[0m \u001b[0mselect_fit_evaluate\u001b[0m\u001b[1;33m(\u001b[0m\u001b[1;34m'gauss'\u001b[0m\u001b[1;33m,\u001b[0m \u001b[0mcreate_traintest\u001b[0m\u001b[1;33m(\u001b[0m\u001b[0mmy_dataset\u001b[0m\u001b[1;33m,\u001b[0m \u001b[0mfeat_list\u001b[0m \u001b[1;33m=\u001b[0m \u001b[0mwork_list_updated\u001b[0m\u001b[1;33m)\u001b[0m\u001b[1;33m)\u001b[0m\u001b[1;33m\u001b[0m\u001b[0m\n\u001b[0m\u001b[0;32m     26\u001b[0m \u001b[1;33m\u001b[0m\u001b[0m\n\u001b[0;32m     27\u001b[0m         \u001b[1;31m# Unloading the list.\u001b[0m\u001b[1;33m\u001b[0m\u001b[1;33m\u001b[0m\u001b[0m\n",
      "\u001b[1;32m<ipython-input-59-82792d2e90fb>\u001b[0m in \u001b[0;36mselect_fit_evaluate\u001b[1;34m(classifier, train_test_data)\u001b[0m\n\u001b[0;32m     17\u001b[0m \u001b[1;33m\u001b[0m\u001b[0m\n\u001b[0;32m     18\u001b[0m     \u001b[1;31m# Fitting.\u001b[0m\u001b[1;33m\u001b[0m\u001b[1;33m\u001b[0m\u001b[0m\n\u001b[1;32m---> 19\u001b[1;33m     \u001b[0mpipeline_\u001b[0m\u001b[1;33m.\u001b[0m\u001b[0mfit\u001b[0m\u001b[1;33m(\u001b[0m\u001b[0mfeat_train\u001b[0m\u001b[1;33m,\u001b[0m\u001b[0mlab_train\u001b[0m\u001b[1;33m)\u001b[0m\u001b[1;33m\u001b[0m\u001b[0m\n\u001b[0m\u001b[0;32m     20\u001b[0m \u001b[1;33m\u001b[0m\u001b[0m\n\u001b[0;32m     21\u001b[0m     \u001b[1;31m# Predicting.\u001b[0m\u001b[1;33m\u001b[0m\u001b[1;33m\u001b[0m\u001b[0m\n",
      "\u001b[1;32mC:\\Python27\\lib\\site-packages\\sklearn\\pipeline.pyc\u001b[0m in \u001b[0;36mfit\u001b[1;34m(self, X, y, **fit_params)\u001b[0m\n\u001b[0;32m    265\u001b[0m         \u001b[0mXt\u001b[0m\u001b[1;33m,\u001b[0m \u001b[0mfit_params\u001b[0m \u001b[1;33m=\u001b[0m \u001b[0mself\u001b[0m\u001b[1;33m.\u001b[0m\u001b[0m_fit\u001b[0m\u001b[1;33m(\u001b[0m\u001b[0mX\u001b[0m\u001b[1;33m,\u001b[0m \u001b[0my\u001b[0m\u001b[1;33m,\u001b[0m \u001b[1;33m**\u001b[0m\u001b[0mfit_params\u001b[0m\u001b[1;33m)\u001b[0m\u001b[1;33m\u001b[0m\u001b[0m\n\u001b[0;32m    266\u001b[0m         \u001b[1;32mif\u001b[0m \u001b[0mself\u001b[0m\u001b[1;33m.\u001b[0m\u001b[0m_final_estimator\u001b[0m \u001b[1;32mis\u001b[0m \u001b[1;32mnot\u001b[0m \u001b[0mNone\u001b[0m\u001b[1;33m:\u001b[0m\u001b[1;33m\u001b[0m\u001b[0m\n\u001b[1;32m--> 267\u001b[1;33m             \u001b[0mself\u001b[0m\u001b[1;33m.\u001b[0m\u001b[0m_final_estimator\u001b[0m\u001b[1;33m.\u001b[0m\u001b[0mfit\u001b[0m\u001b[1;33m(\u001b[0m\u001b[0mXt\u001b[0m\u001b[1;33m,\u001b[0m \u001b[0my\u001b[0m\u001b[1;33m,\u001b[0m \u001b[1;33m**\u001b[0m\u001b[0mfit_params\u001b[0m\u001b[1;33m)\u001b[0m\u001b[1;33m\u001b[0m\u001b[0m\n\u001b[0m\u001b[0;32m    268\u001b[0m         \u001b[1;32mreturn\u001b[0m \u001b[0mself\u001b[0m\u001b[1;33m\u001b[0m\u001b[0m\n\u001b[0;32m    269\u001b[0m \u001b[1;33m\u001b[0m\u001b[0m\n",
      "\u001b[1;32mC:\\Python27\\lib\\site-packages\\sklearn\\naive_bayes.pyc\u001b[0m in \u001b[0;36mfit\u001b[1;34m(self, X, y, sample_weight)\u001b[0m\n\u001b[0;32m    188\u001b[0m         \u001b[0mself\u001b[0m \u001b[1;33m:\u001b[0m \u001b[0mobject\u001b[0m\u001b[1;33m\u001b[0m\u001b[0m\n\u001b[0;32m    189\u001b[0m         \"\"\"\n\u001b[1;32m--> 190\u001b[1;33m         \u001b[0mX\u001b[0m\u001b[1;33m,\u001b[0m \u001b[0my\u001b[0m \u001b[1;33m=\u001b[0m \u001b[0mcheck_X_y\u001b[0m\u001b[1;33m(\u001b[0m\u001b[0mX\u001b[0m\u001b[1;33m,\u001b[0m \u001b[0my\u001b[0m\u001b[1;33m)\u001b[0m\u001b[1;33m\u001b[0m\u001b[0m\n\u001b[0m\u001b[0;32m    191\u001b[0m         return self._partial_fit(X, y, np.unique(y), _refit=True,\n\u001b[0;32m    192\u001b[0m                                  sample_weight=sample_weight)\n",
      "\u001b[1;32mC:\\Python27\\lib\\site-packages\\sklearn\\utils\\validation.pyc\u001b[0m in \u001b[0;36mcheck_X_y\u001b[1;34m(X, y, accept_sparse, accept_large_sparse, dtype, order, copy, force_all_finite, ensure_2d, allow_nd, multi_output, ensure_min_samples, ensure_min_features, y_numeric, warn_on_dtype, estimator)\u001b[0m\n\u001b[0;32m    754\u001b[0m                     \u001b[0mensure_min_features\u001b[0m\u001b[1;33m=\u001b[0m\u001b[0mensure_min_features\u001b[0m\u001b[1;33m,\u001b[0m\u001b[1;33m\u001b[0m\u001b[0m\n\u001b[0;32m    755\u001b[0m                     \u001b[0mwarn_on_dtype\u001b[0m\u001b[1;33m=\u001b[0m\u001b[0mwarn_on_dtype\u001b[0m\u001b[1;33m,\u001b[0m\u001b[1;33m\u001b[0m\u001b[0m\n\u001b[1;32m--> 756\u001b[1;33m                     estimator=estimator)\n\u001b[0m\u001b[0;32m    757\u001b[0m     \u001b[1;32mif\u001b[0m \u001b[0mmulti_output\u001b[0m\u001b[1;33m:\u001b[0m\u001b[1;33m\u001b[0m\u001b[0m\n\u001b[0;32m    758\u001b[0m         y = check_array(y, 'csr', force_all_finite=True, ensure_2d=False,\n",
      "\u001b[1;32mC:\\Python27\\lib\\site-packages\\sklearn\\utils\\validation.pyc\u001b[0m in \u001b[0;36mcheck_array\u001b[1;34m(array, accept_sparse, accept_large_sparse, dtype, order, copy, force_all_finite, ensure_2d, allow_nd, ensure_min_samples, ensure_min_features, warn_on_dtype, estimator)\u001b[0m\n\u001b[0;32m    550\u001b[0m                     \u001b[1;34m\"Reshape your data either using array.reshape(-1, 1) if \"\u001b[0m\u001b[1;33m\u001b[0m\u001b[0m\n\u001b[0;32m    551\u001b[0m                     \u001b[1;34m\"your data has a single feature or array.reshape(1, -1) \"\u001b[0m\u001b[1;33m\u001b[0m\u001b[0m\n\u001b[1;32m--> 552\u001b[1;33m                     \"if it contains a single sample.\".format(array))\n\u001b[0m\u001b[0;32m    553\u001b[0m \u001b[1;33m\u001b[0m\u001b[0m\n\u001b[0;32m    554\u001b[0m         \u001b[1;31m# in the future np.flexible dtypes will be handled like object dtypes\u001b[0m\u001b[1;33m\u001b[0m\u001b[1;33m\u001b[0m\u001b[0m\n",
      "\u001b[1;31mValueError\u001b[0m: Expected 2D array, got 1D array instead:\narray=[].\nReshape your data either using array.reshape(-1, 1) if your data has a single feature or array.reshape(1, -1) if it contains a single sample."
     ]
    }
   ],
   "source": [
    "np.random.seed(42)\n",
    "\n",
    "df_metrics_final, pop_final = NSGA2(5, 500, features_significant_original, 0.2)"
   ]
  },
  {
   "cell_type": "code",
   "execution_count": null,
   "metadata": {
    "scrolled": true
   },
   "outputs": [],
   "source": [
    "df_metrics_final.sort_values('dominancy').query('dominancy == 2')"
   ]
  },
  {
   "cell_type": "code",
   "execution_count": null,
   "metadata": {},
   "outputs": [],
   "source": [
    "dominancy(df_metrics_final).head()"
   ]
  },
  {
   "cell_type": "code",
   "execution_count": null,
   "metadata": {},
   "outputs": [],
   "source": [
    "df_metrics_final.iloc[1] == df_metrics_final.iloc[0]"
   ]
  },
  {
   "cell_type": "code",
   "execution_count": null,
   "metadata": {},
   "outputs": [],
   "source": []
  },
  {
   "cell_type": "code",
   "execution_count": null,
   "metadata": {
    "scrolled": false
   },
   "outputs": [],
   "source": [
    "plt.figure(figsize = [14,6])\n",
    "sns.scatterplot(x = df_metrics_final.precision_poi,\n",
    "                y = df_metrics_final.recall_poi,\n",
    "                hue = df_metrics_final.dominancy)"
   ]
  },
  {
   "cell_type": "code",
   "execution_count": null,
   "metadata": {},
   "outputs": [],
   "source": [
    "df_metrics_final.sort_values('dominancy').head()"
   ]
  },
  {
   "cell_type": "code",
   "execution_count": null,
   "metadata": {},
   "outputs": [],
   "source": [
    "qty_feat = []\n",
    "\n",
    "for i in pop_final.columns:\n",
    "    qty_feat.append(int(sum(pop_final.loc[:,i])))\n",
    "    \n",
    "df_metrics_final['qty_features'] = qty_feat"
   ]
  },
  {
   "cell_type": "code",
   "execution_count": null,
   "metadata": {},
   "outputs": [],
   "source": [
    "df_metrics_final"
   ]
  },
  {
   "cell_type": "code",
   "execution_count": null,
   "metadata": {},
   "outputs": [],
   "source": [
    "df_metrics_final"
   ]
  },
  {
   "cell_type": "code",
   "execution_count": null,
   "metadata": {},
   "outputs": [],
   "source": [
    "    # Initial Population\n",
    "pop_work = population(400, len(features_significant_original) - 1)\n",
    "\n",
    "    # Calculating the accuracy, recall, and precision\n",
    "df_metrics = cost_function(pop_work, features_significant_original)\n",
    "\n",
    "\n",
    "df_metrics = qty_features(df_metrics, pop_work)\n",
    "\n",
    "    # Calculating the Dominance.\n",
    "df_metrics_g1 = dominancy(df_metrics)\n",
    "\n",
    "    # Calculating the Crowding Distance.\n",
    "df_metrics_g1 = crowding_distance(df_metrics_g1)"
   ]
  },
  {
   "cell_type": "code",
   "execution_count": null,
   "metadata": {},
   "outputs": [],
   "source": [
    "df_metrics_g1"
   ]
  },
  {
   "cell_type": "code",
   "execution_count": null,
   "metadata": {},
   "outputs": [],
   "source": []
  },
  {
   "cell_type": "code",
   "execution_count": null,
   "metadata": {},
   "outputs": [],
   "source": []
  },
  {
   "cell_type": "code",
   "execution_count": null,
   "metadata": {},
   "outputs": [],
   "source": []
  },
  {
   "cell_type": "code",
   "execution_count": null,
   "metadata": {},
   "outputs": [],
   "source": []
  },
  {
   "cell_type": "code",
   "execution_count": null,
   "metadata": {},
   "outputs": [],
   "source": []
  },
  {
   "cell_type": "code",
   "execution_count": null,
   "metadata": {},
   "outputs": [],
   "source": []
  },
  {
   "cell_type": "code",
   "execution_count": null,
   "metadata": {},
   "outputs": [],
   "source": []
  },
  {
   "cell_type": "code",
   "execution_count": null,
   "metadata": {},
   "outputs": [],
   "source": []
  },
  {
   "cell_type": "code",
   "execution_count": null,
   "metadata": {},
   "outputs": [],
   "source": []
  },
  {
   "cell_type": "code",
   "execution_count": null,
   "metadata": {},
   "outputs": [],
   "source": []
  },
  {
   "cell_type": "code",
   "execution_count": null,
   "metadata": {},
   "outputs": [],
   "source": []
  },
  {
   "cell_type": "code",
   "execution_count": null,
   "metadata": {},
   "outputs": [],
   "source": [
    "pca = PCA(n_components=2)\n",
    "cc = pca.fit_transform(bb);\n",
    "\n",
    "cc = pd.DataFrame(cc, columns = ['pca_1','pca_2'])\n",
    "\n",
    "plt.scatter(x = cc.pca_1, y = cc.pca_2)"
   ]
  },
  {
   "cell_type": "code",
   "execution_count": null,
   "metadata": {},
   "outputs": [],
   "source": []
  },
  {
   "cell_type": "markdown",
   "metadata": {},
   "source": [
    "### 3.5. Dimension Reduction <a id='pca'></a>\n"
   ]
  },
  {
   "cell_type": "code",
   "execution_count": null,
   "metadata": {},
   "outputs": [],
   "source": [
    "from sklearn.decomposition import PCA"
   ]
  },
  {
   "cell_type": "code",
   "execution_count": null,
   "metadata": {},
   "outputs": [],
   "source": [
    "len(features[0])"
   ]
  },
  {
   "cell_type": "code",
   "execution_count": null,
   "metadata": {},
   "outputs": [],
   "source": [
    "pca = PCA(n_components=2)\n",
    "pca.fit(features);\n",
    "\n",
    "#pd.DataFrame([pca.components_[0],pca.components_[1]], index = ['first_component','second_component'], columns = features_list[1:]).transpose()\n",
    "\n",
    "pd.DataFrame(pca.components_).transpose()"
   ]
  },
  {
   "cell_type": "code",
   "execution_count": null,
   "metadata": {},
   "outputs": [],
   "source": []
  },
  {
   "cell_type": "code",
   "execution_count": null,
   "metadata": {},
   "outputs": [],
   "source": []
  },
  {
   "cell_type": "code",
   "execution_count": null,
   "metadata": {},
   "outputs": [],
   "source": []
  },
  {
   "cell_type": "code",
   "execution_count": null,
   "metadata": {},
   "outputs": [],
   "source": []
  },
  {
   "cell_type": "markdown",
   "metadata": {},
   "source": [
    "### 3.6. Piping"
   ]
  },
  {
   "cell_type": "code",
   "execution_count": null,
   "metadata": {},
   "outputs": [],
   "source": [
    "from sklearn.model_selection import train_test_split\n",
    "features_train, features_test, labels_train, labels_test = \\\n",
    "    train_test_split(features, labels, test_size=0.3, random_state=42)"
   ]
  },
  {
   "cell_type": "code",
   "execution_count": null,
   "metadata": {},
   "outputs": [],
   "source": [
    "from sklearn.pipeline import Pipeline\n",
    "from sklearn.naive_bayes import GaussianNB\n",
    "from sklearn.metrics import accuracy_score\n",
    "from sklearn.svm import SVC\n",
    "from sklearn import tree\n",
    "from sklearn.ensemble import AdaBoostClassifier\n",
    "\n",
    "from sklearn.metrics import recall_score\n",
    "from sklearn.metrics import precision_score"
   ]
  },
  {
   "cell_type": "code",
   "execution_count": null,
   "metadata": {},
   "outputs": [],
   "source": [
    "pipeline = Pipeline([('gauss',GaussianNB())])\n",
    "\n",
    "pipeline.fit(features_train,labels_train)\n",
    "\n",
    "pred = pipeline.predict(features_test)\n",
    "\n",
    "accuracy_score(labels_test, pred)"
   ]
  },
  {
   "cell_type": "code",
   "execution_count": null,
   "metadata": {},
   "outputs": [],
   "source": [
    "pipeline2 = Pipeline([('tre',tree.DecisionTreeClassifier())])\n",
    "\n",
    "pipeline2.fit(features_train,labels_train)\n",
    "\n",
    "pred2 = pipeline2.predict(features_test)\n",
    "\n",
    "accuracy_score(labels_test, pred2)"
   ]
  },
  {
   "cell_type": "code",
   "execution_count": null,
   "metadata": {},
   "outputs": [],
   "source": [
    "pipeline3 = Pipeline([('svc',SVC(gamma='auto'))])\n",
    "\n",
    "pipeline3.fit(features_train,labels_train)\n",
    "\n",
    "pred3 = pipeline3.predict(features_test)\n",
    "\n",
    "accuracy_score(labels_test, pred3)"
   ]
  },
  {
   "cell_type": "code",
   "execution_count": null,
   "metadata": {},
   "outputs": [],
   "source": [
    "pipeline4 = Pipeline([('ada',AdaBoostClassifier(n_estimators=100))])\n",
    "\n",
    "pipeline4.fit(features_train,labels_train)\n",
    "\n",
    "pred4 = pipeline4.predict(features_test)\n",
    "\n",
    "accuracy_score(labels_test, pred4)"
   ]
  },
  {
   "cell_type": "code",
   "execution_count": null,
   "metadata": {},
   "outputs": [],
   "source": [
    "select_fit_evaluate(classifier = 'gauss',\n",
    "                    train_test_data = create_traintest(my_dataset,\n",
    "                                                       feat_list = features_significant_complete))"
   ]
  },
  {
   "cell_type": "code",
   "execution_count": null,
   "metadata": {},
   "outputs": [],
   "source": [
    "select_fit_evaluate(classifier = 'gauss',\n",
    "                    train_test_data = create_traintest(my_dataset,\n",
    "                                                       feat_list = original_featall_feat))"
   ]
  },
  {
   "cell_type": "code",
   "execution_count": null,
   "metadata": {},
   "outputs": [],
   "source": [
    "features_significant_complete"
   ]
  },
  {
   "cell_type": "code",
   "execution_count": null,
   "metadata": {},
   "outputs": [],
   "source": [
    "def select_fit_evaluate(classifier, train_test_data):\n",
    "    \"\"\"\n",
    "    \"\"\"\n",
    "    feat_train, feat_test, lab_train, lab_test = train_test_data\n",
    "    \n",
    "    # List of Classifier and parameters.\n",
    "    list_class = {'ada':('ada',AdaBoostClassifier(n_estimators=100)),\n",
    "                  'svc':('svc',SVC(gamma='auto')),\n",
    "                  'tree':('tree',tree.DecisionTreeClassifier()),\n",
    "                  'gauss':('gauss',GaussianNB())\n",
    "                 }\n",
    "    \n",
    "    # Creating the Pipeline.\n",
    "    pipeline_ = Pipeline([list_class[classifier]])\n",
    "    \n",
    "    # Fitting.\n",
    "    pipeline_.fit(feat_train,lab_train)\n",
    "\n",
    "    # Predicting.\n",
    "    pred_t = pipeline_.predict(feat_test)\n",
    "\n",
    "    # Calculating the accuracy.\n",
    "    acc = accuracy_score(lab_test, pred_t)\n",
    "    \n",
    "    # Calculating the recall. It is an array of (recall non-POI, recall POI)\n",
    "    recall = recall_score(y_true = lab_test, y_pred = pred_t, average = None)\n",
    "    \n",
    "    # Calculating the precision. It is an array of (precision non-POI, precision POI)\n",
    "    precision = precision_score(y_true = lab_test, y_pred = pred_t, average = None)\n",
    "    \n",
    "    # Return the accuracy.\n",
    "    return acc, recall.tolist(), precision.tolist()"
   ]
  },
  {
   "cell_type": "code",
   "execution_count": null,
   "metadata": {},
   "outputs": [],
   "source": [
    "select_fit_evaluate(classifier = 'ada',\n",
    "            feat_train = features_train,\n",
    "            lab_train = labels_train,\n",
    "            feat_test = features_test,\n",
    "            lab_test = labels_test)"
   ]
  },
  {
   "cell_type": "code",
   "execution_count": null,
   "metadata": {},
   "outputs": [],
   "source": [
    "minha_linda_lista = ['ada','svc','gauss','tree']\n",
    "\n",
    "for index in minha_linda_lista:\n",
    "    print select_fit_evaluate(classifier = index,\n",
    "            feat_train = features_train,\n",
    "            lab_train = labels_train,\n",
    "            feat_test = features_test,\n",
    "            lab_test = labels_test)\n"
   ]
  },
  {
   "cell_type": "code",
   "execution_count": null,
   "metadata": {},
   "outputs": [],
   "source": [
    "from sklearn.metrics import confusion_matrix"
   ]
  },
  {
   "cell_type": "code",
   "execution_count": null,
   "metadata": {},
   "outputs": [],
   "source": [
    "confusion_matrix(y_true = labels_test, y_pred = pred)"
   ]
  },
  {
   "cell_type": "code",
   "execution_count": null,
   "metadata": {},
   "outputs": [],
   "source": [
    "#pipeline = Pipeline([('gauss',GaussianNB())])\n",
    "pipeline = Pipeline([('tre',tree.DecisionTreeClassifier())])\n",
    "\n",
    "\n",
    "\n",
    "pipeline.fit(features_train,labels_train)\n",
    "\n",
    "pred4 = pipeline.predict(features_test)\n",
    "\n",
    "acc = accuracy_score(labels_test, pred4)\n",
    "\n",
    "recall = recall_score(y_true = labels_test, y_pred = pred4)\n",
    "    \n",
    "precision = precision_score(y_true = labels_test, y_pred = pred4)\n",
    "\n",
    "tn, fp, fn, tp = confusion_matrix(labels_test, pred4).ravel()\n",
    "\n",
    "acc, (recall, float(tp) / (tp + fn)), (precision, float(tp) / (tp + fp))"
   ]
  },
  {
   "cell_type": "code",
   "execution_count": null,
   "metadata": {},
   "outputs": [],
   "source": [
    "confusion_matrix(y_true = labels_test, y_pred = pred4)"
   ]
  },
  {
   "cell_type": "code",
   "execution_count": null,
   "metadata": {},
   "outputs": [],
   "source": [
    "recall_score(y_true = labels_test, y_pred = pred4, average = None)"
   ]
  },
  {
   "cell_type": "code",
   "execution_count": null,
   "metadata": {},
   "outputs": [],
   "source": [
    "precision_score(y_true = labels_test, y_pred = pred4, average = None)"
   ]
  },
  {
   "cell_type": "code",
   "execution_count": null,
   "metadata": {},
   "outputs": [],
   "source": [
    "tn, fp, fn, tp = confusion_matrix(y_true = labels_test, y_pred = pred4).ravel()"
   ]
  },
  {
   "cell_type": "code",
   "execution_count": null,
   "metadata": {},
   "outputs": [],
   "source": [
    "# recall\n",
    "float(tp) / (tp + fn)"
   ]
  },
  {
   "cell_type": "code",
   "execution_count": null,
   "metadata": {},
   "outputs": [],
   "source": [
    "# precision\n",
    "float(tp) / (tp + fp)"
   ]
  },
  {
   "cell_type": "code",
   "execution_count": null,
   "metadata": {},
   "outputs": [],
   "source": [
    "sum(labels_test)"
   ]
  },
  {
   "cell_type": "code",
   "execution_count": null,
   "metadata": {},
   "outputs": [],
   "source": [
    "bosta = pd.DataFrame([labels_test,pred4.tolist()], index = ['verdade','pred']).transpose()"
   ]
  },
  {
   "cell_type": "code",
   "execution_count": null,
   "metadata": {},
   "outputs": [],
   "source": [
    "bosta.query('verdade == 0').query('pred == 0').count()"
   ]
  },
  {
   "cell_type": "code",
   "execution_count": null,
   "metadata": {},
   "outputs": [],
   "source": [
    "from sklearn.metrics import classification_report"
   ]
  },
  {
   "cell_type": "code",
   "execution_count": null,
   "metadata": {},
   "outputs": [],
   "source": [
    "print classification_report(y_true = labels_test, y_pred = pred4)"
   ]
  },
  {
   "cell_type": "markdown",
   "metadata": {},
   "source": [
    "# 4. Predicting <a id='ml'></a>\n"
   ]
  },
  {
   "cell_type": "code",
   "execution_count": null,
   "metadata": {},
   "outputs": [],
   "source": []
  },
  {
   "cell_type": "code",
   "execution_count": null,
   "metadata": {},
   "outputs": [],
   "source": []
  },
  {
   "cell_type": "code",
   "execution_count": null,
   "metadata": {},
   "outputs": [],
   "source": []
  },
  {
   "cell_type": "markdown",
   "metadata": {},
   "source": [
    "# 5. Conclusions <a id='conclusions'></a>\n"
   ]
  },
  {
   "cell_type": "code",
   "execution_count": null,
   "metadata": {},
   "outputs": [],
   "source": []
  },
  {
   "cell_type": "code",
   "execution_count": null,
   "metadata": {},
   "outputs": [],
   "source": []
  },
  {
   "cell_type": "code",
   "execution_count": null,
   "metadata": {},
   "outputs": [],
   "source": [
    "import numpy as np\n",
    "X = np.array([[-1, -1], [-2, -1], [-3, -2], [1, 1], [2, 1], [3, 2]])\n",
    "Y = np.array([1, 1, 1, 2, 2, 2])\n",
    "from sklearn.naive_bayes import GaussianNB\n",
    "clf = GaussianNB()\n",
    "clf.fit(X, Y)\n",
    "\n",
    "print(clf.predict([[-0.8, -1]]))\n",
    "\n",
    "clf_pf = GaussianNB()\n",
    "clf_pf.partial_fit(X, Y, np.unique(Y))\n",
    "\n",
    "print(clf_pf.predict([[-0.8, -1]]))"
   ]
  },
  {
   "cell_type": "code",
   "execution_count": null,
   "metadata": {},
   "outputs": [],
   "source": []
  },
  {
   "cell_type": "markdown",
   "metadata": {},
   "source": [
    "# 6. Questions <a id='questions'></a>\n"
   ]
  },
  {
   "cell_type": "markdown",
   "metadata": {},
   "source": [
    ">1. Summarize for us the goal of this project and how machine learning is useful in trying to accomplish it. As part of your answer, give some background on the dataset and how it can be used to answer the project question. Were there any outliers in the data when you got it, and how did you handle those?  [relevant rubric items: “data exploration”, “outlier investigation”]"
   ]
  },
  {
   "cell_type": "code",
   "execution_count": null,
   "metadata": {},
   "outputs": [],
   "source": [
    "ax = sns.heatmap(hola, linewidth=0.5)\n",
    "ax.set_xticklabels(hola.index)\n",
    "ax.set_yticklabels(hola.columns)\n",
    "plt.setp(ax.get_xticklabels(), rotation=45, ha=\"right\",\n",
    "         rotation_mode=\"anchor\")\n",
    "plt.setp(ax.get_yticklabels(), rotation=0, ha=\"right\",\n",
    "         rotation_mode=\"anchor\")\n",
    "plt.show()"
   ]
  },
  {
   "cell_type": "code",
   "execution_count": null,
   "metadata": {},
   "outputs": [],
   "source": [
    "teste = np.corrcoef([df_eda.bonus,\n",
    "                     df_eda.salary,\n",
    "                     df_eda.total_payments,\n",
    "                     df_eda.total_stock_value,\n",
    "                     df_eda.shared_receipt_with_poi,\n",
    "                     df_eda.to_messages,\n",
    "                     df_eda.from_messages,\n",
    "                     df_eda.from_this_person_to_poi,\n",
    "                     df_eda.from_poi_to_this_person])"
   ]
  },
  {
   "cell_type": "code",
   "execution_count": null,
   "metadata": {},
   "outputs": [],
   "source": [
    "ax = sns.heatmap(teste, linewidth=0.5)\n",
    "ax.set_xticklabels(['bonus','salary','total_payments','total_stock_value',\n",
    "                    'shared_receipt_with_poi','to_messages','from_messages',\n",
    "                    'from_this_person_to_poi','from_poi_to_this_person'])\n",
    "ax.set_yticklabels(['bonus','salary','total_payments','total_stock_value',\n",
    "                    'shared_receipt_with_poi','to_messages','from_messages',\n",
    "                    'from_this_person_to_poi','from_poi_to_this_person'])\n",
    "plt.setp(ax.get_xticklabels(), rotation=45, ha=\"right\",\n",
    "         rotation_mode=\"anchor\")\n",
    "plt.setp(ax.get_yticklabels(), rotation=0, ha=\"right\",\n",
    "         rotation_mode=\"anchor\")\n",
    "plt.show()"
   ]
  },
  {
   "cell_type": "markdown",
   "metadata": {},
   "source": [
    ">2. What features did you end up using in your POI identifier, and what selection process did you use to pick them? Did you have to do any scaling? Why or why not? As part of the assignment, you should attempt to engineer your own feature that does not come ready-made in the dataset -- explain what feature you tried to make, and the rationale behind it. (You do not necessarily have to use it in the final analysis, only engineer and test it.) In your feature selection step, if you used an algorithm like a decision tree, please also give the feature importances of the features that you use, and if you used an automated feature selection function like SelectKBest, please report the feature scores and reasons for your choice of parameter values.  [relevant rubric items: “create new features”, “intelligently select features”, “properly scale features”]\n"
   ]
  },
  {
   "cell_type": "markdown",
   "metadata": {},
   "source": [
    ">3. What algorithm did you end up using? What other one(s) did you try? How did model performance differ between algorithms?  [relevant rubric item: “pick an algorithm”]"
   ]
  },
  {
   "cell_type": "markdown",
   "metadata": {},
   "source": [
    ">4. What does it mean to tune the parameters of an algorithm, and what can happen if you don’t do this well?  How did you tune the parameters of your particular algorithm? What parameters did you tune? (Some algorithms do not have parameters that you need to tune -- if this is the case for the one you picked, identify and briefly explain how you would have done it for the model that was not your final choice or a different model that does utilize parameter tuning, e.g. a decision tree classifier).  [relevant rubric items: “discuss parameter tuning”, “tune the algorithm”]\n"
   ]
  },
  {
   "cell_type": "code",
   "execution_count": null,
   "metadata": {},
   "outputs": [],
   "source": [
    "features_list2 = ['poi',\n",
    " 'total_payments',\n",
    " 'total_stock_value',\n",
    " 'from_poi_to_this_person',\n",
    " 'from_this_person_to_poi',\n",
    " 'shared_receipt_with_poi',\n",
    " 'from_messages',\n",
    " 'to_messages','salary','ratio_from_poi','ratio_to_poi','ratio_to_from','ratio_from_poi_share','bonus',\n",
    "                'other','director_fees','expenses','long_term_incentive','exercised_stock_options']"
   ]
  },
  {
   "cell_type": "code",
   "execution_count": null,
   "metadata": {},
   "outputs": [],
   "source": [
    "# Using the defined wrapper_feat_form_split function.\n",
    "labels2, features2 = wrapper_feat_form_split(my_dataset, features_list2)\n",
    "\n",
    "# Scaling the features dataframe.\n",
    "features2 = feat_scale(feat = features2)\n",
    "\n",
    "# Using the function feat_selection().\n",
    "feat_selection(k = 'all', feat = features2, lab = labels2, features_list = features_list2)[0]"
   ]
  },
  {
   "cell_type": "markdown",
   "metadata": {},
   "source": [
    ">5. What is validation, and what’s a classic mistake you can make if you do it wrong? How did you validate your analysis?  [relevant rubric items: “discuss validation”, “validation strategy”]\n"
   ]
  },
  {
   "cell_type": "markdown",
   "metadata": {},
   "source": [
    ">6. Give at least 2 evaluation metrics and your average performance for each of them.  Explain an interpretation of your metrics that says something human-understandable about your algorithm’s performance. [relevant rubric item: “usage of evaluation metrics”]\n"
   ]
  },
  {
   "cell_type": "markdown",
   "metadata": {},
   "source": [
    "***"
   ]
  },
  {
   "cell_type": "markdown",
   "metadata": {},
   "source": [
    "# References <a id='references'></a>\n",
    "\n",
    "\n",
    "\n",
    "* Feature Selection using LASSO [PDF][ref_01];\n",
    "* Feature selection for “final” model when performing cross-validation in machine learning, Cross Validation thread, [website][ref_02];\n",
    "* Perform feature normalization before or within model validation?, Cross Validation thread, [website][ref_03];\n",
    "* Right order of doing feature selection, PCA and normalization?, Stack Overflow thread, [website][ref_04];\n",
    "* How does SelectKBest work?, Stack Exchange thread, [website][ref_05];\n",
    "* What's the meaning of p-values which produced by feature selection (i.e. chi2 method)?, Stack Overflow thread, [website][ref_06];\n",
    "* Batista, D. S., Hyperparameter optimization across multiple models in scikit-learn, Blog, [website][ref_07];\n",
    "* Faces recognition example using eigenfaces and SVMs, Scikit Learn Documentation, Example, [website][ref_08]; \n",
    "* Precision and Recall, Scikit Learn Documentation, [website][ref_09];\n",
    "* Add new keys to a dictionary?, Stack Overflow thread, [website][ref_10];\n",
    "\n",
    "\n",
    "[ref_01]: https://beta.vu.nl/nl/Images/werkstuk-fonti_tcm235-836234.pdf\n",
    "[ref_02]: https://stats.stackexchange.com/questions/2306/feature-selection-for-final-model-when-performing-cross-validation-in-machine\n",
    "[ref_03]: https://stats.stackexchange.com/questions/77350/perform-feature-normalization-before-or-within-model-validation\n",
    "[ref_04]: https://stackoverflow.com/questions/46062679/right-order-of-doing-feature-selection-pca-and-normalization\n",
    "[ref_05]: https://datascience.stackexchange.com/questions/10773/how-does-selectkbest-work\n",
    "[ref_06]: https://stackoverflow.com/questions/23677734/whats-the-meaning-of-p-values-which-produced-by-feature-selection-i-e-chi2-me\n",
    "[ref_07]: http://www.davidsbatista.net/blog/2018/02/23/model_optimization/\n",
    "[ref_08]: https://scikit-learn.org/stable/auto_examples/applications/plot_face_recognition.html#sphx-glr-auto-examples-applications-plot-face-recognition-py\n",
    "[ref_09]: https://scikit-learn.org/stable/auto_examples/model_selection/plot_precision_recall.html\n",
    "[ref_10]: https://stackoverflow.com/questions/1024847/add-new-keys-to-a-dictionary\n",
    "\n",
    "\n",
    "##### Scikit Learn\n",
    "\n",
    "* F1 Score, [Website][scikit_learn_f1_score];\n",
    "* Selected k Best, [Website][scikit_learn_selectedkbest];\n",
    "* Feature Selection Module, [Website][scikit_learn_feat_select]\n",
    "* f_classif from Feature Selection module, [Website][scikit_learn_f_classif];\n",
    "* Lasso, [Website][scikit_learn_lasso];\n",
    "* MinMaxScaler, [Website][scikit_learn_minmaxscaler]\n",
    "* Recall Score from Metrics, [Website][scikit_learn_recall] \n",
    "* Precision Score from Metrics, [Website][scikit_learn_precision] \n",
    "\n",
    "\n",
    "\n",
    "[scikit_learn_f1_score]: https://scikit-learn.org/stable/modules/generated/sklearn.metrics.f1_score.html\n",
    "[scikit_learn_selectedkbest]: https://scikit-learn.org/stable/modules/generated/sklearn.feature_selection.SelectKBest.html\n",
    "[scikit_learn_f_classif]: https://scikit-learn.org/stable/modules/generated/sklearn.feature_selection.f_classif.html#sklearn.feature_selection.f_classif\n",
    "[scikit_learn_lasso]: https://scikit-learn.org/stable/modules/generated/sklearn.linear_model.Lasso.html\n",
    "[scikit_learn_feat_select]: https://scikit-learn.org/stable/modules/feature_selection.html\n",
    "[scikit_learn_minmaxscaler]: https://scikit-learn.org/stable/modules/generated/sklearn.preprocessing.MinMaxScaler.html\n",
    "[scikit_learn_recall]:https://scikit-learn.org/stable/modules/generated/sklearn.metrics.recall_score.html\n",
    "[scikit_learn_precision]: https://scikit-learn.org/stable/modules/generated/sklearn.metrics.precision_score.html\n",
    "\n",
    "\n",
    "***"
   ]
  },
  {
   "cell_type": "code",
   "execution_count": null,
   "metadata": {},
   "outputs": [],
   "source": [
    "%load_ext version_information\n",
    "%version_information pandas, numpy, pickle, platform, version_information, sklearn"
   ]
  },
  {
   "cell_type": "markdown",
   "metadata": {},
   "source": [
    "# Appendix <a id='appendix'></a>\n",
    "\n",
    "## A.1. Given Code <a id='code'></a>\n",
    "\n",
    "### A.1.1. `poi_id.py`\n",
    "\n",
    "```py\n",
    "#!/usr/bin/python\n",
    "\n",
    "import sys\n",
    "import pickle\n",
    "sys.path.append(\"../tools/\")\n",
    "\n",
    "from feature_format import featureFormat, targetFeatureSplit\n",
    "from tester import dump_classifier_and_data\n",
    "\n",
    "### Task 1: Select what features you'll use.\n",
    "### features_list is a list of strings, each of which is a feature name.\n",
    "### The first feature must be \"poi\".\n",
    "features_list = ['poi','salary'] # You will need to use more features\n",
    "\n",
    "### Load the dictionary containing the dataset\n",
    "with open(\"final_project_dataset.pkl\", \"r\") as data_file:\n",
    "    data_dict = pickle.load(data_file)\n",
    "\n",
    "### Task 2: Remove outliers\n",
    "### Task 3: Create new feature(s)\n",
    "### Store to my_dataset for easy export below.\n",
    "my_dataset = data_dict\n",
    "\n",
    "### Extract features and labels from dataset for local testing\n",
    "data = featureFormat(my_dataset, features_list, sort_keys = True)\n",
    "labels, features = targetFeatureSplit(data)\n",
    "\n",
    "### Task 4: Try a varity of classifiers\n",
    "### Please name your classifier clf for easy export below.\n",
    "### Note that if you want to do PCA or other multi-stage operations,\n",
    "### you'll need to use Pipelines. For more info:\n",
    "### http://scikit-learn.org/stable/modules/pipeline.html\n",
    "\n",
    "# Provided to give you a starting point. Try a variety of classifiers.\n",
    "from sklearn.naive_bayes import GaussianNB\n",
    "clf = GaussianNB()\n",
    "\n",
    "### Task 5: Tune your classifier to achieve better than .3 precision and recall \n",
    "### using our testing script. Check the tester.py script in the final project\n",
    "### folder for details on the evaluation method, especially the test_classifier\n",
    "### function. Because of the small size of the dataset, the script uses\n",
    "### stratified shuffle split cross validation. For more info: \n",
    "### http://scikit-learn.org/stable/modules/generated/sklearn.cross_validation.StratifiedShuffleSplit.html\n",
    "\n",
    "# Example starting point. Try investigating other evaluation techniques!\n",
    "from sklearn.cross_validation import train_test_split\n",
    "features_train, features_test, labels_train, labels_test = \\\n",
    "    train_test_split(features, labels, test_size=0.3, random_state=42)\n",
    "\n",
    "### Task 6: Dump your classifier, dataset, and features_list so anyone can\n",
    "### check your results. You do not need to change anything below, but make sure\n",
    "### that the version of poi_id.py that you submit can be run on its own and\n",
    "### generates the necessary .pkl files for validating your results.\n",
    "\n",
    "dump_classifier_and_data(clf, my_dataset, features_list)\n",
    "```"
   ]
  },
  {
   "cell_type": "code",
   "execution_count": null,
   "metadata": {},
   "outputs": [],
   "source": [
    "def choose_alg(alg):\n",
    "    bit_3, bit_2, bit_1 = alg\n",
    "\n",
    "    dec = 4 * bit_3 + 2 * bit_2 + 1 * bit_1\n",
    "\n",
    "    dictionary_classifier = {'1': ['DT()','blabla'],\n",
    "                             '2': ['Naive()','blabla']}\n",
    "    return dictionary_classifier[str(1)]"
   ]
  }
 ],
 "metadata": {
  "kernelspec": {
   "display_name": "Python 2",
   "language": "python",
   "name": "python2"
  },
  "language_info": {
   "codemirror_mode": {
    "name": "ipython",
    "version": 2
   },
   "file_extension": ".py",
   "mimetype": "text/x-python",
   "name": "python",
   "nbconvert_exporter": "python",
   "pygments_lexer": "ipython2",
   "version": "2.7.15"
  }
 },
 "nbformat": 4,
 "nbformat_minor": 2
}
