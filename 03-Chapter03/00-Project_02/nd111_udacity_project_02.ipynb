{
 "cells": [
  {
   "cell_type": "markdown",
   "metadata": {},
   "source": [
    "# Project 02 - Wrangle and Analyze Data\n",
    "\n",
    "##### Student Tags\n",
    "\n",
    "Author: Anderson Hitoshi Uyekita    \n",
    "Project: Wrangle and Analyze Data  \n",
    "Course: Data Science - Foundation II  \n",
    "COD: ND111  \n",
    "Date: 26/12/2018    \n",
    "Version: 1.0\n",
    "\n",
    "***\n",
    "\n",
    "## Table of Contents\n",
    "<ul>\n",
    "<li><a href=\"#intro\">1. Introduction</a></li>\n",
    "<li><a href=\"#gathering\">2. Data Gathering</a></li>\n",
    "<li><a href=\"#assesing\">3. Data Assessing</a></li>\n",
    "<li><a href=\"#cleaning\">4. Data Cleaning</a></li>\n",
    "<li><a href=\"#appendix_a\">Appendix</a></li>\n",
    "<li><a href=\"#references\">References</a></li>\n",
    "</ul>\n",
    "\n",
    "***"
   ]
  },
  {
   "cell_type": "markdown",
   "metadata": {},
   "source": [
    "## Synopsis\n",
    "\n",
    "\n",
    "***"
   ]
  },
  {
   "cell_type": "markdown",
   "metadata": {},
   "source": [
    "## 1. Introduction  <a id='intro'></a>\n",
    "\n",
    "This Jupyter Notebook aims to document the process of Gathering, Assessing, and Cleaning of Data Science Foundations II Nanodegree Program Project 02.\n"
   ]
  },
  {
   "cell_type": "markdown",
   "metadata": {},
   "source": [
    "### 1.1. Reproducibility\n",
    "\n",
    "I have written this report using the Jupyter Notebook, which allow anyone to reproduce this document in a local computer. I have made a great effort to document every step.\n",
    "\n",
    "#### Work envinronment\n",
    "\n",
    "I have performed this project using:\n",
    "\n",
    "* Dell Notebook Inspiron 7348;\n",
    "* Intel(R) Core(TM) i7-5500U CPU @ 2.40GHz 2.40GHz;\n",
    "* 8.00 GB;\n",
    "* Windows 10 Pro 64-bits.\n",
    "\n",
    "#### Softwares\n",
    "\n",
    "There are few requirements to reproduce this project, which could be regular web Browser. I have written the Jupyter Notebook using Opera.\n",
    "\n",
    "* Python (version 3.7.0);\n",
    "* Jupyter Notebook (version 5.6.0);\n",
    "* Opera (version 57.0.3098.106);\n",
    "* Atom (version 1.33.1 ia32).\n",
    "\n",
    "I have used the Atom to push to Github repository and to visualize some files, and nothing more than this.\n",
    "\n",
    "#### Packages\n",
    "\n",
    "I kindly ask you to install each of this packages before you run the next steps.\n",
    "\n",
    "* Pandas (version 0.23.4);\n",
    "* requests (version 2.20.1);\n",
    "* tweepy (version 3.7.0).\n",
    "\n",
    "#### Repository\n",
    "\n",
    "You can access all files of this report in this repository:\n",
    "\n",
    "* https://github.com/AndersonUyekita/ND111_data_science_foundations_02\n",
    "\n",
    "\n",
    "### 1.2. Importing Libraries\n",
    "\n",
    "For this project I will use some libraries to manage data frames, download file, Twitter API Client code, etc.. Let's import this packages to the Jupyter Notebook environment."
   ]
  },
  {
   "cell_type": "code",
   "execution_count": 1,
   "metadata": {},
   "outputs": [],
   "source": [
    "# Importing Library.\n",
    "import pandas as pd\n",
    "\n",
    "# Importing OS package to write and open files.\n",
    "import os\n",
    "\n",
    "# Importing the requests to create a object from a given URL.\n",
    "import requests\n",
    "\n",
    "# Importing the Client Code to use the Twitter API.\n",
    "import tweepy"
   ]
  },
  {
   "cell_type": "markdown",
   "metadata": {},
   "source": [
    "***"
   ]
  },
  {
   "cell_type": "markdown",
   "metadata": {},
   "source": [
    "## 2. Data Gathering <a id='gathering'></a>\n",
    "\n",
    "There are three (3) files hosted in Udacity website that I must have to gather.\n",
    "\n",
    "* `image-predictions-3.tsv`;\n",
    "* `twitter-archive-enhanced-2.csv`, and;\n",
    "* `tweet-json`.\n",
    "\n",
    "Later, I will access the Twitter API to gather additional data.\n",
    "\n",
    "### 2.2. Downloading Files\n",
    "\n",
    "First, I will create a folder to store the data and later I will download each file."
   ]
  },
  {
   "cell_type": "code",
   "execution_count": 2,
   "metadata": {},
   "outputs": [],
   "source": [
    "# Creating a folder to store the files.\n",
    "folder = \"01-Dataset\"                    # Folder's name.\n",
    "\n",
    "# Checking if the folder already exist.\n",
    "if not folder in os.listdir():\n",
    "    os.mkdir(folder)                     # Creating the folder when 01-Dataset do not exist.\n",
    "\n",
    "# List of files.\n",
    "list_url = ['https://s3.amazonaws.com/video.udacity-data.com/topher/2018/November/5bf60c1e_twitter-archive-enhanced-2/twitter-archive-enhanced-2.csv',\n",
    "            'https://s3.amazonaws.com/video.udacity-data.com/topher/2018/November/5bf60c69_image-predictions-3/image-predictions-3.tsv',\n",
    "            'https://s3.amazonaws.com/video.udacity-data.com/topher/2018/November/5bf60cc8_tweet-json/tweet-json']\n",
    "\n",
    "# Loop to download the three files hosted in Udacity website.\n",
    "for url in list_url:\n",
    "    if not url.split('/')[-1] in os.listdir(folder):                              # Check if the files already exist.\n",
    "    response = requests.get(url)                                                  # Creating an object of the given URL.\n",
    "        with open(os.path.join(folder,url.split('/')[-1]), mode = 'wb' ) as file: # Defining the file name.\n",
    "            file.write(response.content)                                          # Saving the object."
   ]
  },
  {
   "cell_type": "markdown",
   "metadata": {},
   "source": [
    "### 2.3. Twitter API\n",
    "\n",
    "One of the Project requirements is to access the Twitter API to complete the table `XXXX.csv`. I will use the `tweepy` package client code to access the Twitter API.\n",
    "\n",
    "#### Sensible Data\n",
    "\n",
    "Please, fill with your own `consumer_key`, `consumer_secret`, `access_token` and `access_secret`."
   ]
  },
  {
   "cell_type": "code",
   "execution_count": 3,
   "metadata": {},
   "outputs": [],
   "source": [
    "# Complete with your own keys and secretes.\n",
    "consumer_key = ''                               # API key\n",
    "consumer_secret = ''   # API secret key\n",
    "access_token = '-kGwIzRwVv99tExXXFDe80kolvbyvGi'      # Access token\n",
    "access_secret = ''          # Access token secret"
   ]
  },
  {
   "cell_type": "markdown",
   "metadata": {},
   "source": []
  },
  {
   "cell_type": "code",
   "execution_count": 4,
   "metadata": {},
   "outputs": [],
   "source": [
    "auth = tweepy.OAuthHandler(consumer_key, consumer_secret)\n",
    "auth.set_access_token(access_token, access_secret)\n",
    "\n",
    "api = tweepy.API(auth)"
   ]
  },
  {
   "cell_type": "code",
   "execution_count": 9,
   "metadata": {},
   "outputs": [
    {
     "data": {
      "text/plain": [
       "'3.7.0'"
      ]
     },
     "execution_count": 9,
     "metadata": {},
     "output_type": "execute_result"
    }
   ],
   "source": [
    "tweepy.__version__"
   ]
  }
 ],
 "metadata": {
  "kernelspec": {
   "display_name": "Python 3",
   "language": "python",
   "name": "python3"
  },
  "language_info": {
   "codemirror_mode": {
    "name": "ipython",
    "version": 3
   },
   "file_extension": ".py",
   "mimetype": "text/x-python",
   "name": "python",
   "nbconvert_exporter": "python",
   "pygments_lexer": "ipython3",
   "version": "3.7.1"
  }
 },
 "nbformat": 4,
 "nbformat_minor": 2
}
