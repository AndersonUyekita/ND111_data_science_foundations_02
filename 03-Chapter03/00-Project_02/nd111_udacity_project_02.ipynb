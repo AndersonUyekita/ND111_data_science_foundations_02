{
 "cells": [
  {
   "cell_type": "markdown",
   "metadata": {},
   "source": [
    "# Project 02 - Wrangle and Analyze Data\n",
    "\n",
    "##### Student Tags\n",
    "\n",
    "Author: Anderson Hitoshi Uyekita    \n",
    "Project: Wrangle and Analyze Data  \n",
    "Course: Data Science - Foundation II  \n",
    "COD: ND111  \n",
    "Date: 26/12/2018    \n",
    "Version: 1.0\n",
    "\n",
    "***\n",
    "\n",
    "## Table of Contents\n",
    "<ul>\n",
    "<li><a href=\"#intro\">Introduction</a></li>\n",
    "<li><a href=\"#wrangling\">Data Wrangling</a></li>\n",
    "<li><a href=\"#eda\">Exploratory Data Analysis</a></li>\n",
    "<li><a href=\"#conclusions\">Conclusions</a></li>\n",
    "<li><a href=\"#appendix_a\">Appendix</a></li>\n",
    "<li><a href=\"#references\">References</a></li>\n",
    "</ul>\n",
    "\n",
    "***"
   ]
  },
  {
   "cell_type": "markdown",
   "metadata": {},
   "source": [
    "## Introduction  <a id='intro'></a>\n",
    "\n",
    "This Jupyter Notebook aims to document the process of Gathering, Assessing, and Cleaning\n",
    "\n",
    "\n"
   ]
  },
  {
   "cell_type": "code",
   "execution_count": 1,
   "metadata": {},
   "outputs": [],
   "source": [
    "# Importing Library.\n",
    "import pandas as pd\n",
    "\n",
    "# Importing to Unzip file.\n",
    "import zipfile\n",
    "\n",
    "# Importing the Client Code to use the Twitter API.\n",
    "import tweepy"
   ]
  },
  {
   "cell_type": "markdown",
   "metadata": {},
   "source": [
    "### Sensible Data\n",
    "\n",
    "Please fill with your own `consumer_key`, `consumer_secret`, `access_token` and `access_secret`."
   ]
  },
  {
   "cell_type": "code",
   "execution_count": 2,
   "metadata": {},
   "outputs": [],
   "source": [
    "# Complete with your own keys and secretes.\n",
    "consumer_key = 'ehsa07tcfcoYwLc0jVFzPgKWp '                              # API key\n",
    "consumer_secret = 'O5ki4Y5fUFLx0x3B1IDGxPykIIeJuog3RFjCd5JlQyAie3SYy3 '  # API secret key\n",
    "access_token = '1077890267062194181-kGwIzRwVv99tExXXFDe80kolvbyvGi'      # Access token\n",
    "access_secret = 'NbEpRgi7IvLYeXopY9vAjYFRXmqWlSD1iSRej2geBMUiT'          # Access token secret"
   ]
  },
  {
   "cell_type": "markdown",
   "metadata": {},
   "source": []
  },
  {
   "cell_type": "code",
   "execution_count": 3,
   "metadata": {},
   "outputs": [],
   "source": [
    "auth = tweepy.OAuthHandler(consumer_key, consumer_secret)\n",
    "auth.set_access_token(access_token, access_secret)\n",
    "\n",
    "api = tweepy.API(auth)"
   ]
  }
 ],
 "metadata": {
  "kernelspec": {
   "display_name": "Python 3",
   "language": "python",
   "name": "python3"
  },
  "language_info": {
   "codemirror_mode": {
    "name": "ipython",
    "version": 3
   },
   "file_extension": ".py",
   "mimetype": "text/x-python",
   "name": "python",
   "nbconvert_exporter": "python",
   "pygments_lexer": "ipython3",
   "version": "3.7.1"
  }
 },
 "nbformat": 4,
 "nbformat_minor": 2
}
